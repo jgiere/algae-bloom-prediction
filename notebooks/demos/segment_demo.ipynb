{
 "cells": [
  {
   "cell_type": "code",
   "execution_count": 1,
   "metadata": {},
   "outputs": [
    {
     "name": "stderr",
     "output_type": "stream",
     "text": [
      "C:\\Users\\mccomackjp\\AppData\\Local\\Continuum\\anaconda3\\lib\\site-packages\\h5py\\__init__.py:36: FutureWarning: Conversion of the second argument of issubdtype from `float` to `np.floating` is deprecated. In future, it will be treated as `np.float64 == np.dtype(float).type`.\n",
      "  from ._conv import register_converters as _register_converters\n",
      "Using TensorFlow backend.\n"
     ]
    }
   ],
   "source": [
    "import pandas as pd\n",
    "import tensorflow as tf\n",
    "import keras as ks\n",
    "import numpy as np\n",
    "from sklearn.metrics import recall_score, precision_score, confusion_matrix\n",
    "from sklearn.preprocessing import MinMaxScaler\n",
    "from sklearn.model_selection import train_test_split\n",
    "import datetime\n",
    "import time\n",
    "from math import floor\n",
    "from keras.models import Sequential\n",
    "from keras.layers import Dense, Dropout, Conv2D, Flatten, Activation, MaxPooling2D\n",
    "import matplotlib.pylab as plt\n",
    "import seaborn as sns"
   ]
  },
  {
   "cell_type": "code",
   "execution_count": 2,
   "metadata": {},
   "outputs": [
    {
     "name": "stdout",
     "output_type": "stream",
     "text": [
      "C:\\git\\senior_design\\pannts-ml\\notebooks\n"
     ]
    }
   ],
   "source": [
    "%cd ..\n",
    "import models.scripts.logistic_regression_functions as lrf\n",
    "import models.scripts.helper_functions as hf"
   ]
  },
  {
   "cell_type": "code",
   "execution_count": null,
   "metadata": {},
   "outputs": [],
   "source": []
  },
  {
   "cell_type": "code",
   "execution_count": 3,
   "metadata": {},
   "outputs": [
    {
     "data": {
      "text/plain": [
       "Date (mm.dd.yyyy)       object\n",
       "Time 24hr               object\n",
       "Temp C                 float64\n",
       "Sp Cond (uS/cm)          int64\n",
       "pH (mV)                float64\n",
       "pH                     float64\n",
       "Turbidity (NTU)        float64\n",
       "Chlorophyll (ug/L)     float64\n",
       "Chlorophyll RFU        float64\n",
       "ODOSat%                float64\n",
       "ODO (mg/L)             float64\n",
       "BGA-Phycocyanin RFU    float64\n",
       "dtype: object"
      ]
     },
     "execution_count": 3,
     "metadata": {},
     "output_type": "execute_result"
    }
   ],
   "source": [
    "# Load the data\n",
    "df = pd.read_csv('../data/cleaned/utah_2017_vineyard.csv')\n",
    "target_col = 'BGA-Phycocyanin RFU'\n",
    "df.dtypes"
   ]
  },
  {
   "cell_type": "code",
   "execution_count": 4,
   "metadata": {},
   "outputs": [
    {
     "data": {
      "text/plain": [
       "timestamp              datetime64[ns]\n",
       "pH                            float64\n",
       "BGA-Phycocyanin RFU           float64\n",
       "temp                            int64\n",
       "dtype: object"
      ]
     },
     "execution_count": 4,
     "metadata": {},
     "output_type": "execute_result"
    }
   ],
   "source": [
    "# Create a single datetime column from the strings provided in our csv's\n",
    "# (We're already doing this bit for our models)\n",
    "\n",
    "timestamp = df['Date (mm.dd.yyyy)'] + ' '+ df['Time 24hr']\n",
    "timestamp = pd.to_datetime(timestamp)\n",
    "df['timestamp'] = timestamp\n",
    "\n",
    "# I'll drop the other columns for simple demo purposes\n",
    "df = df[['timestamp', 'pH', 'BGA-Phycocyanin RFU']]\n",
    "df['temp'] = [x for x in range(0, df.shape[0])]\n",
    "\n",
    "df.dtypes"
   ]
  },
  {
   "cell_type": "code",
   "execution_count": 5,
   "metadata": {},
   "outputs": [
    {
     "data": {
      "text/plain": [
       "pH                            float64\n",
       "BGA-Phycocyanin RFU           float64\n",
       "temp                            int64\n",
       "datetime               datetime64[ns]\n",
       "dtype: object"
      ]
     },
     "execution_count": 5,
     "metadata": {},
     "output_type": "execute_result"
    }
   ],
   "source": [
    "# Now we set our datetime to be the index of the df for awesome indexing options\n",
    "# Note, the column is removed, so it might be good to keep a copy by another\n",
    "# name for feature engineering.\n",
    "df['datetime'] = df['timestamp']\n",
    "df = df.set_index('timestamp')\n",
    "df.dtypes\n"
   ]
  },
  {
   "cell_type": "code",
   "execution_count": 6,
   "metadata": {},
   "outputs": [
    {
     "data": {
      "text/html": [
       "<div>\n",
       "<style scoped>\n",
       "    .dataframe tbody tr th:only-of-type {\n",
       "        vertical-align: middle;\n",
       "    }\n",
       "\n",
       "    .dataframe tbody tr th {\n",
       "        vertical-align: top;\n",
       "    }\n",
       "\n",
       "    .dataframe thead th {\n",
       "        text-align: right;\n",
       "    }\n",
       "</style>\n",
       "<table border=\"1\" class=\"dataframe\">\n",
       "  <thead>\n",
       "    <tr style=\"text-align: right;\">\n",
       "      <th></th>\n",
       "      <th>pH</th>\n",
       "      <th>BGA-Phycocyanin RFU</th>\n",
       "      <th>temp</th>\n",
       "      <th>datetime</th>\n",
       "    </tr>\n",
       "    <tr>\n",
       "      <th>timestamp</th>\n",
       "      <th></th>\n",
       "      <th></th>\n",
       "      <th></th>\n",
       "      <th></th>\n",
       "    </tr>\n",
       "  </thead>\n",
       "  <tbody>\n",
       "    <tr>\n",
       "      <th>2017-05-05 00:15:00</th>\n",
       "      <td>8.36</td>\n",
       "      <td>0.4</td>\n",
       "      <td>1</td>\n",
       "      <td>2017-05-05 00:15:00</td>\n",
       "    </tr>\n",
       "    <tr>\n",
       "      <th>2017-05-05 00:30:00</th>\n",
       "      <td>8.36</td>\n",
       "      <td>0.4</td>\n",
       "      <td>2</td>\n",
       "      <td>2017-05-05 00:30:00</td>\n",
       "    </tr>\n",
       "    <tr>\n",
       "      <th>2017-05-05 00:45:00</th>\n",
       "      <td>8.36</td>\n",
       "      <td>0.4</td>\n",
       "      <td>3</td>\n",
       "      <td>2017-05-05 00:45:00</td>\n",
       "    </tr>\n",
       "  </tbody>\n",
       "</table>\n",
       "</div>"
      ],
      "text/plain": [
       "                       pH  BGA-Phycocyanin RFU  temp            datetime\n",
       "timestamp                                                               \n",
       "2017-05-05 00:15:00  8.36                  0.4     1 2017-05-05 00:15:00\n",
       "2017-05-05 00:30:00  8.36                  0.4     2 2017-05-05 00:30:00\n",
       "2017-05-05 00:45:00  8.36                  0.4     3 2017-05-05 00:45:00"
      ]
     },
     "execution_count": 6,
     "metadata": {},
     "output_type": "execute_result"
    }
   ],
   "source": [
    "# Index into a range of dates\n",
    "df['2017-05-05 00:15:00':'2017-05-05 00:45:00']"
   ]
  },
  {
   "cell_type": "code",
   "execution_count": 7,
   "metadata": {},
   "outputs": [
    {
     "name": "stdout",
     "output_type": "stream",
     "text": [
      "start: 2017-05-05 00:00:00\n",
      "0 days 01:00:00\n"
     ]
    },
    {
     "data": {
      "text/html": [
       "<div>\n",
       "<style scoped>\n",
       "    .dataframe tbody tr th:only-of-type {\n",
       "        vertical-align: middle;\n",
       "    }\n",
       "\n",
       "    .dataframe tbody tr th {\n",
       "        vertical-align: top;\n",
       "    }\n",
       "\n",
       "    .dataframe thead th {\n",
       "        text-align: right;\n",
       "    }\n",
       "</style>\n",
       "<table border=\"1\" class=\"dataframe\">\n",
       "  <thead>\n",
       "    <tr style=\"text-align: right;\">\n",
       "      <th></th>\n",
       "      <th>pH</th>\n",
       "      <th>BGA-Phycocyanin RFU</th>\n",
       "      <th>temp</th>\n",
       "      <th>datetime</th>\n",
       "    </tr>\n",
       "    <tr>\n",
       "      <th>timestamp</th>\n",
       "      <th></th>\n",
       "      <th></th>\n",
       "      <th></th>\n",
       "      <th></th>\n",
       "    </tr>\n",
       "  </thead>\n",
       "  <tbody>\n",
       "    <tr>\n",
       "      <th>2017-05-05 00:00:00</th>\n",
       "      <td>8.36</td>\n",
       "      <td>0.4</td>\n",
       "      <td>0</td>\n",
       "      <td>2017-05-05 00:00:00</td>\n",
       "    </tr>\n",
       "    <tr>\n",
       "      <th>2017-05-05 00:15:00</th>\n",
       "      <td>8.36</td>\n",
       "      <td>0.4</td>\n",
       "      <td>1</td>\n",
       "      <td>2017-05-05 00:15:00</td>\n",
       "    </tr>\n",
       "    <tr>\n",
       "      <th>2017-05-05 00:30:00</th>\n",
       "      <td>8.36</td>\n",
       "      <td>0.4</td>\n",
       "      <td>2</td>\n",
       "      <td>2017-05-05 00:30:00</td>\n",
       "    </tr>\n",
       "    <tr>\n",
       "      <th>2017-05-05 00:45:00</th>\n",
       "      <td>8.36</td>\n",
       "      <td>0.4</td>\n",
       "      <td>3</td>\n",
       "      <td>2017-05-05 00:45:00</td>\n",
       "    </tr>\n",
       "    <tr>\n",
       "      <th>2017-05-05 01:00:00</th>\n",
       "      <td>8.36</td>\n",
       "      <td>0.4</td>\n",
       "      <td>4</td>\n",
       "      <td>2017-05-05 01:00:00</td>\n",
       "    </tr>\n",
       "  </tbody>\n",
       "</table>\n",
       "</div>"
      ],
      "text/plain": [
       "                       pH  BGA-Phycocyanin RFU  temp            datetime\n",
       "timestamp                                                               \n",
       "2017-05-05 00:00:00  8.36                  0.4     0 2017-05-05 00:00:00\n",
       "2017-05-05 00:15:00  8.36                  0.4     1 2017-05-05 00:15:00\n",
       "2017-05-05 00:30:00  8.36                  0.4     2 2017-05-05 00:30:00\n",
       "2017-05-05 00:45:00  8.36                  0.4     3 2017-05-05 00:45:00\n",
       "2017-05-05 01:00:00  8.36                  0.4     4 2017-05-05 01:00:00"
      ]
     },
     "execution_count": 7,
     "metadata": {},
     "output_type": "execute_result"
    }
   ],
   "source": [
    "# Index with an offset\n",
    "start = df['datetime'][0]\n",
    "delta = pd.Timedelta(1, unit='h')\n",
    "print(\"start:\", start)\n",
    "print(delta)\n",
    "offset = pd.Timedelta(1, 'm')\n",
    "# grab a slice over 1 hour\n",
    "df[start:start + delta]"
   ]
  },
  {
   "cell_type": "code",
   "execution_count": 8,
   "metadata": {},
   "outputs": [
    {
     "data": {
      "text/html": [
       "<div>\n",
       "<style scoped>\n",
       "    .dataframe tbody tr th:only-of-type {\n",
       "        vertical-align: middle;\n",
       "    }\n",
       "\n",
       "    .dataframe tbody tr th {\n",
       "        vertical-align: top;\n",
       "    }\n",
       "\n",
       "    .dataframe thead th {\n",
       "        text-align: right;\n",
       "    }\n",
       "</style>\n",
       "<table border=\"1\" class=\"dataframe\">\n",
       "  <thead>\n",
       "    <tr style=\"text-align: right;\">\n",
       "      <th></th>\n",
       "      <th>pH</th>\n",
       "      <th>BGA-Phycocyanin RFU</th>\n",
       "      <th>temp</th>\n",
       "      <th>datetime</th>\n",
       "    </tr>\n",
       "    <tr>\n",
       "      <th>timestamp</th>\n",
       "      <th></th>\n",
       "      <th></th>\n",
       "      <th></th>\n",
       "      <th></th>\n",
       "    </tr>\n",
       "  </thead>\n",
       "  <tbody>\n",
       "    <tr>\n",
       "      <th>2017-05-05 01:15:00</th>\n",
       "      <td>8.36</td>\n",
       "      <td>0.4</td>\n",
       "      <td>5</td>\n",
       "      <td>2017-05-05 01:15:00</td>\n",
       "    </tr>\n",
       "    <tr>\n",
       "      <th>2017-05-05 01:30:00</th>\n",
       "      <td>8.36</td>\n",
       "      <td>0.4</td>\n",
       "      <td>6</td>\n",
       "      <td>2017-05-05 01:30:00</td>\n",
       "    </tr>\n",
       "    <tr>\n",
       "      <th>2017-05-05 01:45:00</th>\n",
       "      <td>8.36</td>\n",
       "      <td>0.4</td>\n",
       "      <td>7</td>\n",
       "      <td>2017-05-05 01:45:00</td>\n",
       "    </tr>\n",
       "    <tr>\n",
       "      <th>2017-05-05 02:00:00</th>\n",
       "      <td>8.36</td>\n",
       "      <td>0.4</td>\n",
       "      <td>8</td>\n",
       "      <td>2017-05-05 02:00:00</td>\n",
       "    </tr>\n",
       "  </tbody>\n",
       "</table>\n",
       "</div>"
      ],
      "text/plain": [
       "                       pH  BGA-Phycocyanin RFU  temp            datetime\n",
       "timestamp                                                               \n",
       "2017-05-05 01:15:00  8.36                  0.4     5 2017-05-05 01:15:00\n",
       "2017-05-05 01:30:00  8.36                  0.4     6 2017-05-05 01:30:00\n",
       "2017-05-05 01:45:00  8.36                  0.4     7 2017-05-05 01:45:00\n",
       "2017-05-05 02:00:00  8.36                  0.4     8 2017-05-05 02:00:00"
      ]
     },
     "execution_count": 8,
     "metadata": {},
     "output_type": "execute_result"
    }
   ],
   "source": [
    "df[start+delta+offset: start+delta+delta]"
   ]
  },
  {
   "cell_type": "code",
   "execution_count": 9,
   "metadata": {},
   "outputs": [
    {
     "data": {
      "text/html": [
       "<div>\n",
       "<style scoped>\n",
       "    .dataframe tbody tr th:only-of-type {\n",
       "        vertical-align: middle;\n",
       "    }\n",
       "\n",
       "    .dataframe tbody tr th {\n",
       "        vertical-align: top;\n",
       "    }\n",
       "\n",
       "    .dataframe thead th {\n",
       "        text-align: right;\n",
       "    }\n",
       "</style>\n",
       "<table border=\"1\" class=\"dataframe\">\n",
       "  <thead>\n",
       "    <tr style=\"text-align: right;\">\n",
       "      <th></th>\n",
       "      <th>pH</th>\n",
       "      <th>BGA-Phycocyanin RFU</th>\n",
       "      <th>temp</th>\n",
       "    </tr>\n",
       "  </thead>\n",
       "  <tbody>\n",
       "    <tr>\n",
       "      <th>count</th>\n",
       "      <td>5.00</td>\n",
       "      <td>5.0</td>\n",
       "      <td>5.000000</td>\n",
       "    </tr>\n",
       "    <tr>\n",
       "      <th>mean</th>\n",
       "      <td>8.36</td>\n",
       "      <td>0.4</td>\n",
       "      <td>2.000000</td>\n",
       "    </tr>\n",
       "    <tr>\n",
       "      <th>std</th>\n",
       "      <td>0.00</td>\n",
       "      <td>0.0</td>\n",
       "      <td>1.581139</td>\n",
       "    </tr>\n",
       "    <tr>\n",
       "      <th>min</th>\n",
       "      <td>8.36</td>\n",
       "      <td>0.4</td>\n",
       "      <td>0.000000</td>\n",
       "    </tr>\n",
       "    <tr>\n",
       "      <th>25%</th>\n",
       "      <td>8.36</td>\n",
       "      <td>0.4</td>\n",
       "      <td>1.000000</td>\n",
       "    </tr>\n",
       "    <tr>\n",
       "      <th>50%</th>\n",
       "      <td>8.36</td>\n",
       "      <td>0.4</td>\n",
       "      <td>2.000000</td>\n",
       "    </tr>\n",
       "    <tr>\n",
       "      <th>75%</th>\n",
       "      <td>8.36</td>\n",
       "      <td>0.4</td>\n",
       "      <td>3.000000</td>\n",
       "    </tr>\n",
       "    <tr>\n",
       "      <th>max</th>\n",
       "      <td>8.36</td>\n",
       "      <td>0.4</td>\n",
       "      <td>4.000000</td>\n",
       "    </tr>\n",
       "  </tbody>\n",
       "</table>\n",
       "</div>"
      ],
      "text/plain": [
       "         pH  BGA-Phycocyanin RFU      temp\n",
       "count  5.00                  5.0  5.000000\n",
       "mean   8.36                  0.4  2.000000\n",
       "std    0.00                  0.0  1.581139\n",
       "min    8.36                  0.4  0.000000\n",
       "25%    8.36                  0.4  1.000000\n",
       "50%    8.36                  0.4  2.000000\n",
       "75%    8.36                  0.4  3.000000\n",
       "max    8.36                  0.4  4.000000"
      ]
     },
     "execution_count": 9,
     "metadata": {},
     "output_type": "execute_result"
    }
   ],
   "source": [
    "df[start:start + delta].describe()"
   ]
  },
  {
   "cell_type": "code",
   "execution_count": 10,
   "metadata": {},
   "outputs": [
    {
     "data": {
      "text/plain": [
       "Timestamp('2017-05-05 00:30:00')"
      ]
     },
     "execution_count": 10,
     "metadata": {},
     "output_type": "execute_result"
    }
   ],
   "source": [
    "df[start:start + delta].quantile(.5, numeric_only=False)['datetime']"
   ]
  },
  {
   "cell_type": "code",
   "execution_count": 11,
   "metadata": {},
   "outputs": [
    {
     "name": "stdout",
     "output_type": "stream",
     "text": [
      "0% 0.0\n",
      "25% 1.0\n",
      "50% 2.0\n",
      "75% 3.0\n",
      "100% 4.0\n"
     ]
    },
    {
     "data": {
      "text/html": [
       "<div>\n",
       "<style scoped>\n",
       "    .dataframe tbody tr th:only-of-type {\n",
       "        vertical-align: middle;\n",
       "    }\n",
       "\n",
       "    .dataframe tbody tr th {\n",
       "        vertical-align: top;\n",
       "    }\n",
       "\n",
       "    .dataframe thead th {\n",
       "        text-align: right;\n",
       "    }\n",
       "</style>\n",
       "<table border=\"1\" class=\"dataframe\">\n",
       "  <thead>\n",
       "    <tr style=\"text-align: right;\">\n",
       "      <th></th>\n",
       "      <th>pH</th>\n",
       "      <th>BGA-Phycocyanin RFU</th>\n",
       "      <th>temp</th>\n",
       "    </tr>\n",
       "  </thead>\n",
       "  <tbody>\n",
       "    <tr>\n",
       "      <th>count</th>\n",
       "      <td>5.00</td>\n",
       "      <td>5.0</td>\n",
       "      <td>5.000000</td>\n",
       "    </tr>\n",
       "    <tr>\n",
       "      <th>mean</th>\n",
       "      <td>8.36</td>\n",
       "      <td>0.4</td>\n",
       "      <td>2.000000</td>\n",
       "    </tr>\n",
       "    <tr>\n",
       "      <th>std</th>\n",
       "      <td>0.00</td>\n",
       "      <td>0.0</td>\n",
       "      <td>1.581139</td>\n",
       "    </tr>\n",
       "    <tr>\n",
       "      <th>min</th>\n",
       "      <td>8.36</td>\n",
       "      <td>0.4</td>\n",
       "      <td>0.000000</td>\n",
       "    </tr>\n",
       "    <tr>\n",
       "      <th>25%</th>\n",
       "      <td>8.36</td>\n",
       "      <td>0.4</td>\n",
       "      <td>1.000000</td>\n",
       "    </tr>\n",
       "    <tr>\n",
       "      <th>50%</th>\n",
       "      <td>8.36</td>\n",
       "      <td>0.4</td>\n",
       "      <td>2.000000</td>\n",
       "    </tr>\n",
       "    <tr>\n",
       "      <th>75%</th>\n",
       "      <td>8.36</td>\n",
       "      <td>0.4</td>\n",
       "      <td>3.000000</td>\n",
       "    </tr>\n",
       "    <tr>\n",
       "      <th>max</th>\n",
       "      <td>8.36</td>\n",
       "      <td>0.4</td>\n",
       "      <td>4.000000</td>\n",
       "    </tr>\n",
       "  </tbody>\n",
       "</table>\n",
       "</div>"
      ],
      "text/plain": [
       "         pH  BGA-Phycocyanin RFU      temp\n",
       "count  5.00                  5.0  5.000000\n",
       "mean   8.36                  0.4  2.000000\n",
       "std    0.00                  0.0  1.581139\n",
       "min    8.36                  0.4  0.000000\n",
       "25%    8.36                  0.4  1.000000\n",
       "50%    8.36                  0.4  2.000000\n",
       "75%    8.36                  0.4  3.000000\n",
       "max    8.36                  0.4  4.000000"
      ]
     },
     "execution_count": 11,
     "metadata": {},
     "output_type": "execute_result"
    }
   ],
   "source": [
    "test = df[start:start + delta]['temp']\n",
    "print(\"0%\", test.quantile(0.0))\n",
    "print(\"25%\", test.quantile(0.25))\n",
    "print(\"50%\", test.quantile(0.5))\n",
    "print(\"75%\", test.quantile(0.75))\n",
    "print(\"100%\", test.quantile(1))\n",
    "df[start:start + delta].describe()"
   ]
  },
  {
   "cell_type": "code",
   "execution_count": 12,
   "metadata": {},
   "outputs": [],
   "source": [
    "temp = df[start:start + delta]\n",
    "a = temp[0:0]\n",
    "a = a.append(temp.quantile(.5, numeric_only=False))"
   ]
  },
  {
   "cell_type": "code",
   "execution_count": 13,
   "metadata": {},
   "outputs": [],
   "source": [
    "dfs = [df[start:start + delta], df[start+delta+offset: start+delta+delta]]\n"
   ]
  },
  {
   "cell_type": "code",
   "execution_count": 14,
   "metadata": {},
   "outputs": [],
   "source": [
    "# extracted = dfs[0][0:0] # start with a blank data frame with the same setup\n",
    "extracted = pd.DataFrame()\n",
    "for d in dfs:\n",
    "    extracted = extracted.append(d.quantile(.5, numeric_only=False))\n",
    "extracted['datetimeIndex'] = extracted['datetime']\n",
    "extracted = extracted.set_index('datetimeIndex')"
   ]
  },
  {
   "cell_type": "code",
   "execution_count": 15,
   "metadata": {},
   "outputs": [
    {
     "data": {
      "text/html": [
       "<div>\n",
       "<style scoped>\n",
       "    .dataframe tbody tr th:only-of-type {\n",
       "        vertical-align: middle;\n",
       "    }\n",
       "\n",
       "    .dataframe tbody tr th {\n",
       "        vertical-align: top;\n",
       "    }\n",
       "\n",
       "    .dataframe thead th {\n",
       "        text-align: right;\n",
       "    }\n",
       "</style>\n",
       "<table border=\"1\" class=\"dataframe\">\n",
       "  <thead>\n",
       "    <tr style=\"text-align: right;\">\n",
       "      <th></th>\n",
       "      <th>BGA-Phycocyanin RFU</th>\n",
       "      <th>datetime</th>\n",
       "      <th>pH</th>\n",
       "      <th>temp</th>\n",
       "    </tr>\n",
       "    <tr>\n",
       "      <th>datetimeIndex</th>\n",
       "      <th></th>\n",
       "      <th></th>\n",
       "      <th></th>\n",
       "      <th></th>\n",
       "    </tr>\n",
       "  </thead>\n",
       "  <tbody>\n",
       "    <tr>\n",
       "      <th>2017-05-05 00:30:00</th>\n",
       "      <td>0.4</td>\n",
       "      <td>2017-05-05 00:30:00</td>\n",
       "      <td>8.36</td>\n",
       "      <td>2.0</td>\n",
       "    </tr>\n",
       "    <tr>\n",
       "      <th>2017-05-05 01:37:30</th>\n",
       "      <td>0.4</td>\n",
       "      <td>2017-05-05 01:37:30</td>\n",
       "      <td>8.36</td>\n",
       "      <td>6.5</td>\n",
       "    </tr>\n",
       "  </tbody>\n",
       "</table>\n",
       "</div>"
      ],
      "text/plain": [
       "                     BGA-Phycocyanin RFU            datetime    pH  temp\n",
       "datetimeIndex                                                           \n",
       "2017-05-05 00:30:00                  0.4 2017-05-05 00:30:00  8.36   2.0\n",
       "2017-05-05 01:37:30                  0.4 2017-05-05 01:37:30  8.36   6.5"
      ]
     },
     "execution_count": 15,
     "metadata": {},
     "output_type": "execute_result"
    }
   ],
   "source": [
    "extracted"
   ]
  },
  {
   "cell_type": "code",
   "execution_count": 16,
   "metadata": {},
   "outputs": [
    {
     "data": {
      "text/plain": [
       "DatetimeIndex(['2018-01-01', '2018-01-02', '2018-01-03', '2018-01-04',\n",
       "               '2018-01-05', '2018-01-06', '2018-01-07', '2018-01-08',\n",
       "               '2018-01-09', '2018-01-10'],\n",
       "              dtype='datetime64[ns]', freq='D')"
      ]
     },
     "execution_count": 16,
     "metadata": {},
     "output_type": "execute_result"
    }
   ],
   "source": [
    "pd.date_range(start='2018-01-01', periods=10, freq='d')"
   ]
  },
  {
   "cell_type": "code",
   "execution_count": 17,
   "metadata": {},
   "outputs": [
    {
     "data": {
      "text/plain": [
       "Timestamp('2017-11-18 08:30:00')"
      ]
     },
     "execution_count": 17,
     "metadata": {},
     "output_type": "execute_result"
    }
   ],
   "source": [
    "df['datetime'][len(df['datetime'])-1]"
   ]
  },
  {
   "cell_type": "code",
   "execution_count": 18,
   "metadata": {},
   "outputs": [
    {
     "data": {
      "text/html": [
       "<div>\n",
       "<style scoped>\n",
       "    .dataframe tbody tr th:only-of-type {\n",
       "        vertical-align: middle;\n",
       "    }\n",
       "\n",
       "    .dataframe tbody tr th {\n",
       "        vertical-align: top;\n",
       "    }\n",
       "\n",
       "    .dataframe thead th {\n",
       "        text-align: right;\n",
       "    }\n",
       "</style>\n",
       "<table border=\"1\" class=\"dataframe\">\n",
       "  <thead>\n",
       "    <tr style=\"text-align: right;\">\n",
       "      <th></th>\n",
       "      <th>pH</th>\n",
       "      <th>BGA-Phycocyanin RFU</th>\n",
       "      <th>temp</th>\n",
       "      <th>datetime</th>\n",
       "    </tr>\n",
       "    <tr>\n",
       "      <th>timestamp</th>\n",
       "      <th></th>\n",
       "      <th></th>\n",
       "      <th></th>\n",
       "      <th></th>\n",
       "    </tr>\n",
       "  </thead>\n",
       "  <tbody>\n",
       "    <tr>\n",
       "      <th>2017-05-05</th>\n",
       "      <td>8.36</td>\n",
       "      <td>0.4</td>\n",
       "      <td>0</td>\n",
       "      <td>2017-05-05</td>\n",
       "    </tr>\n",
       "  </tbody>\n",
       "</table>\n",
       "</div>"
      ],
      "text/plain": [
       "              pH  BGA-Phycocyanin RFU  temp   datetime\n",
       "timestamp                                             \n",
       "2017-05-05  8.36                  0.4     0 2017-05-05"
      ]
     },
     "execution_count": 18,
     "metadata": {},
     "output_type": "execute_result"
    }
   ],
   "source": [
    "start = df['datetime'][0]\n",
    "df[start:start + pd.Timedelta(1, 'm')]"
   ]
  },
  {
   "cell_type": "code",
   "execution_count": 19,
   "metadata": {},
   "outputs": [
    {
     "data": {
      "text/html": [
       "<div>\n",
       "<style scoped>\n",
       "    .dataframe tbody tr th:only-of-type {\n",
       "        vertical-align: middle;\n",
       "    }\n",
       "\n",
       "    .dataframe tbody tr th {\n",
       "        vertical-align: top;\n",
       "    }\n",
       "\n",
       "    .dataframe thead th {\n",
       "        text-align: right;\n",
       "    }\n",
       "</style>\n",
       "<table border=\"1\" class=\"dataframe\">\n",
       "  <thead>\n",
       "    <tr style=\"text-align: right;\">\n",
       "      <th></th>\n",
       "      <th>pH</th>\n",
       "      <th>BGA-Phycocyanin RFU</th>\n",
       "      <th>temp</th>\n",
       "    </tr>\n",
       "  </thead>\n",
       "  <tbody>\n",
       "    <tr>\n",
       "      <th>count</th>\n",
       "      <td>18947.000000</td>\n",
       "      <td>18947.000000</td>\n",
       "      <td>18947.000000</td>\n",
       "    </tr>\n",
       "    <tr>\n",
       "      <th>mean</th>\n",
       "      <td>8.633415</td>\n",
       "      <td>0.979511</td>\n",
       "      <td>9473.000000</td>\n",
       "    </tr>\n",
       "    <tr>\n",
       "      <th>std</th>\n",
       "      <td>0.147231</td>\n",
       "      <td>0.731423</td>\n",
       "      <td>5469.672111</td>\n",
       "    </tr>\n",
       "    <tr>\n",
       "      <th>min</th>\n",
       "      <td>7.930000</td>\n",
       "      <td>0.000000</td>\n",
       "      <td>0.000000</td>\n",
       "    </tr>\n",
       "    <tr>\n",
       "      <th>25%</th>\n",
       "      <td>8.530000</td>\n",
       "      <td>0.500000</td>\n",
       "      <td>4736.500000</td>\n",
       "    </tr>\n",
       "    <tr>\n",
       "      <th>50%</th>\n",
       "      <td>8.650000</td>\n",
       "      <td>0.900000</td>\n",
       "      <td>9473.000000</td>\n",
       "    </tr>\n",
       "    <tr>\n",
       "      <th>75%</th>\n",
       "      <td>8.700000</td>\n",
       "      <td>1.200000</td>\n",
       "      <td>14209.500000</td>\n",
       "    </tr>\n",
       "    <tr>\n",
       "      <th>max</th>\n",
       "      <td>9.230000</td>\n",
       "      <td>16.100000</td>\n",
       "      <td>18946.000000</td>\n",
       "    </tr>\n",
       "  </tbody>\n",
       "</table>\n",
       "</div>"
      ],
      "text/plain": [
       "                 pH  BGA-Phycocyanin RFU          temp\n",
       "count  18947.000000         18947.000000  18947.000000\n",
       "mean       8.633415             0.979511   9473.000000\n",
       "std        0.147231             0.731423   5469.672111\n",
       "min        7.930000             0.000000      0.000000\n",
       "25%        8.530000             0.500000   4736.500000\n",
       "50%        8.650000             0.900000   9473.000000\n",
       "75%        8.700000             1.200000  14209.500000\n",
       "max        9.230000            16.100000  18946.000000"
      ]
     },
     "execution_count": 19,
     "metadata": {},
     "output_type": "execute_result"
    }
   ],
   "source": [
    "df.describe()"
   ]
  },
  {
   "cell_type": "code",
   "execution_count": 20,
   "metadata": {},
   "outputs": [
    {
     "data": {
      "text/plain": [
       "Index(['pH', 'BGA-Phycocyanin RFU', 'temp', 'datetime'], dtype='object')"
      ]
     },
     "execution_count": 20,
     "metadata": {},
     "output_type": "execute_result"
    }
   ],
   "source": [
    "df.columns"
   ]
  },
  {
   "cell_type": "code",
   "execution_count": 21,
   "metadata": {},
   "outputs": [
    {
     "name": "stdout",
     "output_type": "stream",
     "text": [
      "<class 'pandas.core.series.Series'>\n"
     ]
    },
    {
     "data": {
      "text/plain": [
       "Timestamp('2017-08-11 16:15:00')"
      ]
     },
     "execution_count": 21,
     "metadata": {},
     "output_type": "execute_result"
    }
   ],
   "source": [
    "print(type(df.quantile(.5)))\n",
    "df['datetime'].quantile(.5)"
   ]
  },
  {
   "cell_type": "code",
   "execution_count": 22,
   "metadata": {},
   "outputs": [],
   "source": [
    "def segment(df, time_col, x_win, y_win, shift):\n",
    "    segments = []\n",
    "    targets = []\n",
    "    start = df[time_col][0]\n",
    "    end = df[time_col][len(df[time_col])-1]\n",
    "    offset = pd.Timedelta(1, unit='s') # to remove overlap of x and y\n",
    "    while start + x_win + y_win <= end:\n",
    "        segments.append(df[start:start + x_win])\n",
    "        targets.append(df[start  + x_win + offset : start + x_win + y_win])\n",
    "        start += shift\n",
    "    return segments, targets\n",
    "        "
   ]
  },
  {
   "cell_type": "code",
   "execution_count": 23,
   "metadata": {},
   "outputs": [],
   "source": [
    "s, t = segment(df, \n",
    "               'datetime', \n",
    "               pd.Timedelta(2, unit='d'), pd.Timedelta(1, unit='d'),\n",
    "        pd.Timedelta(6, unit='h'))"
   ]
  },
  {
   "cell_type": "code",
   "execution_count": 24,
   "metadata": {},
   "outputs": [
    {
     "data": {
      "text/plain": [
       "4.5"
      ]
     },
     "execution_count": 24,
     "metadata": {},
     "output_type": "execute_result"
    }
   ],
   "source": [
    "sum(range(0,10))/10"
   ]
  },
  {
   "cell_type": "code",
   "execution_count": 25,
   "metadata": {},
   "outputs": [
    {
     "data": {
      "text/plain": [
       "[0, 1, 2, 3, 4, 5, 6, 7, 8, 9]"
      ]
     },
     "execution_count": 25,
     "metadata": {},
     "output_type": "execute_result"
    }
   ],
   "source": [
    "[i for i in range(0, 10)]"
   ]
  },
  {
   "cell_type": "markdown",
   "metadata": {},
   "source": [
    "## Segment tests"
   ]
  },
  {
   "cell_type": "code",
   "execution_count": 26,
   "metadata": {},
   "outputs": [
    {
     "name": "stdout",
     "output_type": "stream",
     "text": [
      "count     18947\n",
      "unique        7\n",
      "top          10\n",
      "freq       2976\n",
      "Name: month, dtype: int64\n",
      "pH                            float64\n",
      "BGA-Phycocyanin RFU           float64\n",
      "temp                            int64\n",
      "datetime               datetime64[ns]\n",
      "month                        category\n",
      "dtype: object\n",
      "{5: 2592, 6: 2880, 7: 2976, 8: 2976, 9: 2880, 10: 2976, 11: 1667}\n"
     ]
    }
   ],
   "source": [
    "df['month'] = df['datetime'].apply(lambda date: date.month).astype('category')\n",
    "print(df['month'].describe())\n",
    "print(df.dtypes)\n",
    "months = dict()\n",
    "for month in df['month'].values:\n",
    "    if month in months:\n",
    "        months[month] = months[month] + 1\n",
    "    else:\n",
    "        months[month] = 1\n",
    "print(months)"
   ]
  },
  {
   "cell_type": "markdown",
   "metadata": {},
   "source": [
    "### Segmenting categories"
   ]
  },
  {
   "cell_type": "code",
   "execution_count": 27,
   "metadata": {},
   "outputs": [
    {
     "data": {
      "text/html": [
       "<div>\n",
       "<style scoped>\n",
       "    .dataframe tbody tr th:only-of-type {\n",
       "        vertical-align: middle;\n",
       "    }\n",
       "\n",
       "    .dataframe tbody tr th {\n",
       "        vertical-align: top;\n",
       "    }\n",
       "\n",
       "    .dataframe thead th {\n",
       "        text-align: right;\n",
       "    }\n",
       "</style>\n",
       "<table border=\"1\" class=\"dataframe\">\n",
       "  <thead>\n",
       "    <tr style=\"text-align: right;\">\n",
       "      <th></th>\n",
       "      <th>pH</th>\n",
       "      <th>BGA-Phycocyanin RFU</th>\n",
       "      <th>temp</th>\n",
       "      <th>datetime</th>\n",
       "      <th>month</th>\n",
       "    </tr>\n",
       "    <tr>\n",
       "      <th>timestamp</th>\n",
       "      <th></th>\n",
       "      <th></th>\n",
       "      <th></th>\n",
       "      <th></th>\n",
       "      <th></th>\n",
       "    </tr>\n",
       "  </thead>\n",
       "  <tbody>\n",
       "    <tr>\n",
       "      <th>2017-05-05 00:00:00</th>\n",
       "      <td>8.36</td>\n",
       "      <td>0.4</td>\n",
       "      <td>0</td>\n",
       "      <td>2017-05-05 00:00:00</td>\n",
       "      <td>5</td>\n",
       "    </tr>\n",
       "    <tr>\n",
       "      <th>2017-05-05 00:15:00</th>\n",
       "      <td>8.36</td>\n",
       "      <td>0.4</td>\n",
       "      <td>1</td>\n",
       "      <td>2017-05-05 00:15:00</td>\n",
       "      <td>5</td>\n",
       "    </tr>\n",
       "    <tr>\n",
       "      <th>2017-05-05 00:30:00</th>\n",
       "      <td>8.36</td>\n",
       "      <td>0.4</td>\n",
       "      <td>2</td>\n",
       "      <td>2017-05-05 00:30:00</td>\n",
       "      <td>5</td>\n",
       "    </tr>\n",
       "    <tr>\n",
       "      <th>2017-05-05 00:45:00</th>\n",
       "      <td>8.36</td>\n",
       "      <td>0.4</td>\n",
       "      <td>3</td>\n",
       "      <td>2017-05-05 00:45:00</td>\n",
       "      <td>5</td>\n",
       "    </tr>\n",
       "    <tr>\n",
       "      <th>2017-05-05 01:00:00</th>\n",
       "      <td>8.36</td>\n",
       "      <td>0.4</td>\n",
       "      <td>4</td>\n",
       "      <td>2017-05-05 01:00:00</td>\n",
       "      <td>5</td>\n",
       "    </tr>\n",
       "  </tbody>\n",
       "</table>\n",
       "</div>"
      ],
      "text/plain": [
       "                       pH  BGA-Phycocyanin RFU  temp            datetime month\n",
       "timestamp                                                                     \n",
       "2017-05-05 00:00:00  8.36                  0.4     0 2017-05-05 00:00:00     5\n",
       "2017-05-05 00:15:00  8.36                  0.4     1 2017-05-05 00:15:00     5\n",
       "2017-05-05 00:30:00  8.36                  0.4     2 2017-05-05 00:30:00     5\n",
       "2017-05-05 00:45:00  8.36                  0.4     3 2017-05-05 00:45:00     5\n",
       "2017-05-05 01:00:00  8.36                  0.4     4 2017-05-05 01:00:00     5"
      ]
     },
     "execution_count": 27,
     "metadata": {},
     "output_type": "execute_result"
    }
   ],
   "source": [
    "s, t = hf.segment_dataset(df, 'datetime')\n",
    "s[0].head()"
   ]
  },
  {
   "cell_type": "code",
   "execution_count": 28,
   "metadata": {},
   "outputs": [
    {
     "data": {
      "text/plain": [
       "pH                         8.9\n",
       "BGA-Phycocyanin RFU        2.1\n",
       "temp                   17998.7\n",
       "Name: 0.95, dtype: float64"
      ]
     },
     "execution_count": 28,
     "metadata": {},
     "output_type": "execute_result"
    }
   ],
   "source": [
    "df.quantile(0.95)"
   ]
  },
  {
   "cell_type": "code",
   "execution_count": 29,
   "metadata": {},
   "outputs": [
    {
     "data": {
      "text/plain": [
       "Timestamp('2017-11-08 11:40:30')"
      ]
     },
     "execution_count": 29,
     "metadata": {},
     "output_type": "execute_result"
    }
   ],
   "source": [
    "df['datetime'].quantile(0.95)"
   ]
  },
  {
   "cell_type": "code",
   "execution_count": 30,
   "metadata": {},
   "outputs": [
    {
     "data": {
      "text/plain": [
       "11.0"
      ]
     },
     "execution_count": 30,
     "metadata": {},
     "output_type": "execute_result"
    }
   ],
   "source": [
    "# Should perform feature engineering and category manipulation after extraction.\n",
    "df['month'].quantile(0.95)"
   ]
  },
  {
   "cell_type": "code",
   "execution_count": 31,
   "metadata": {},
   "outputs": [
    {
     "data": {
      "text/plain": [
       "<matplotlib.axes._subplots.AxesSubplot at 0x17cd4d5a518>"
      ]
     },
     "execution_count": 31,
     "metadata": {},
     "output_type": "execute_result"
    },
    {
     "data": {
      "image/png": "[encoded data removed]",
      "text/plain": [
       "<Figure size 432x288 with 1 Axes>"
      ]
     },
     "metadata": {},
     "output_type": "display_data"
    }
   ],
   "source": [
    "# Prior to segmenting\n",
    "df[target_col].plot.line()"
   ]
  },
  {
   "cell_type": "code",
   "execution_count": 32,
   "metadata": {},
   "outputs": [
    {
     "data": {
      "text/plain": [
       "<matplotlib.axes._subplots.AxesSubplot at 0x17cd7b2e5c0>"
      ]
     },
     "execution_count": 32,
     "metadata": {},
     "output_type": "execute_result"
    },
    {
     "data": {
      "image/png": "[encoded data removed]",
      "text/plain": [
       "<Figure size 432x288 with 1 Axes>"
      ]
     },
     "metadata": {},
     "output_type": "display_data"
    }
   ],
   "source": [
    "# Shouldn't extract categorical data, we'll do feature engineering after \n",
    "segments, targets = hf.segment_dataset(df.drop(columns=['month']), 'datetime')\n",
    "x_df = hf.extract_percentile(segments, 'datetime')\n",
    "y_df = hf.extract_percentile(targets, 'datetime')\n",
    "x_df[target_col].plot.line()"
   ]
  },
  {
   "cell_type": "code",
   "execution_count": 33,
   "metadata": {},
   "outputs": [
    {
     "data": {
      "text/plain": [
       "<matplotlib.axes._subplots.AxesSubplot at 0x17cd7bbdda0>"
      ]
     },
     "execution_count": 33,
     "metadata": {},
     "output_type": "execute_result"
    },
    {
     "data": {
      "image/png": "[encoded data removed]",
      "text/plain": [
       "<Figure size 432x288 with 1 Axes>"
      ]
     },
     "metadata": {},
     "output_type": "display_data"
    }
   ],
   "source": [
    "y_df[target_col].plot.line()"
   ]
  },
  {
   "cell_type": "code",
   "execution_count": 34,
   "metadata": {},
   "outputs": [
    {
     "data": {
      "text/html": [
       "<div>\n",
       "<style scoped>\n",
       "    .dataframe tbody tr th:only-of-type {\n",
       "        vertical-align: middle;\n",
       "    }\n",
       "\n",
       "    .dataframe tbody tr th {\n",
       "        vertical-align: top;\n",
       "    }\n",
       "\n",
       "    .dataframe thead th {\n",
       "        text-align: right;\n",
       "    }\n",
       "</style>\n",
       "<table border=\"1\" class=\"dataframe\">\n",
       "  <thead>\n",
       "    <tr style=\"text-align: right;\">\n",
       "      <th></th>\n",
       "      <th>BGA-Phycocyanin RFU</th>\n",
       "      <th>pH</th>\n",
       "      <th>temp</th>\n",
       "    </tr>\n",
       "  </thead>\n",
       "  <tbody>\n",
       "    <tr>\n",
       "      <th>count</th>\n",
       "      <td>4665.000000</td>\n",
       "      <td>4665.000000</td>\n",
       "      <td>4665.000000</td>\n",
       "    </tr>\n",
       "    <tr>\n",
       "      <th>mean</th>\n",
       "      <td>1.366988</td>\n",
       "      <td>8.696669</td>\n",
       "      <td>9611.250000</td>\n",
       "    </tr>\n",
       "    <tr>\n",
       "      <th>std</th>\n",
       "      <td>1.175186</td>\n",
       "      <td>0.174359</td>\n",
       "      <td>5387.255331</td>\n",
       "    </tr>\n",
       "    <tr>\n",
       "      <th>min</th>\n",
       "      <td>0.100000</td>\n",
       "      <td>8.370000</td>\n",
       "      <td>283.250000</td>\n",
       "    </tr>\n",
       "    <tr>\n",
       "      <th>25%</th>\n",
       "      <td>0.700000</td>\n",
       "      <td>8.600000</td>\n",
       "      <td>4947.250000</td>\n",
       "    </tr>\n",
       "    <tr>\n",
       "      <th>50%</th>\n",
       "      <td>1.100000</td>\n",
       "      <td>8.680000</td>\n",
       "      <td>9611.250000</td>\n",
       "    </tr>\n",
       "    <tr>\n",
       "      <th>75%</th>\n",
       "      <td>1.600000</td>\n",
       "      <td>8.790000</td>\n",
       "      <td>14275.250000</td>\n",
       "    </tr>\n",
       "    <tr>\n",
       "      <th>max</th>\n",
       "      <td>7.925000</td>\n",
       "      <td>9.132500</td>\n",
       "      <td>18939.250000</td>\n",
       "    </tr>\n",
       "  </tbody>\n",
       "</table>\n",
       "</div>"
      ],
      "text/plain": [
       "       BGA-Phycocyanin RFU           pH          temp\n",
       "count          4665.000000  4665.000000   4665.000000\n",
       "mean              1.366988     8.696669   9611.250000\n",
       "std               1.175186     0.174359   5387.255331\n",
       "min               0.100000     8.370000    283.250000\n",
       "25%               0.700000     8.600000   4947.250000\n",
       "50%               1.100000     8.680000   9611.250000\n",
       "75%               1.600000     8.790000  14275.250000\n",
       "max               7.925000     9.132500  18939.250000"
      ]
     },
     "execution_count": 34,
     "metadata": {},
     "output_type": "execute_result"
    }
   ],
   "source": [
    "y_df.describe()"
   ]
  },
  {
   "cell_type": "code",
   "execution_count": 35,
   "metadata": {},
   "outputs": [
    {
     "data": {
      "text/plain": [
       "<matplotlib.axes._subplots.AxesSubplot at 0x17cd7c5c4e0>"
      ]
     },
     "execution_count": 35,
     "metadata": {},
     "output_type": "execute_result"
    },
    {
     "data": {
      "image/png": "[encoded data removed]",
      "text/plain": [
       "<Figure size 432x288 with 1 Axes>"
      ]
     },
     "metadata": {},
     "output_type": "display_data"
    }
   ],
   "source": [
    "combined = x_df\n",
    "combined[target_col] = y_df[target_col].values\n",
    "combined[target_col].plot.line()"
   ]
  },
  {
   "cell_type": "code",
   "execution_count": 36,
   "metadata": {},
   "outputs": [
    {
     "data": {
      "text/html": [
       "<div>\n",
       "<style scoped>\n",
       "    .dataframe tbody tr th:only-of-type {\n",
       "        vertical-align: middle;\n",
       "    }\n",
       "\n",
       "    .dataframe tbody tr th {\n",
       "        vertical-align: top;\n",
       "    }\n",
       "\n",
       "    .dataframe thead th {\n",
       "        text-align: right;\n",
       "    }\n",
       "</style>\n",
       "<table border=\"1\" class=\"dataframe\">\n",
       "  <thead>\n",
       "    <tr style=\"text-align: right;\">\n",
       "      <th></th>\n",
       "      <th>BGA-Phycocyanin RFU</th>\n",
       "      <th>datetime</th>\n",
       "      <th>pH</th>\n",
       "      <th>temp</th>\n",
       "    </tr>\n",
       "    <tr>\n",
       "      <th>datetimeIndex</th>\n",
       "      <th></th>\n",
       "      <th></th>\n",
       "      <th></th>\n",
       "      <th></th>\n",
       "    </tr>\n",
       "  </thead>\n",
       "  <tbody>\n",
       "    <tr>\n",
       "      <th>2017-05-06 21:36:00</th>\n",
       "      <td>0.625</td>\n",
       "      <td>2017-05-06 21:36:00</td>\n",
       "      <td>8.40</td>\n",
       "      <td>182.4</td>\n",
       "    </tr>\n",
       "    <tr>\n",
       "      <th>2017-05-06 22:36:00</th>\n",
       "      <td>0.625</td>\n",
       "      <td>2017-05-06 22:36:00</td>\n",
       "      <td>8.40</td>\n",
       "      <td>186.4</td>\n",
       "    </tr>\n",
       "    <tr>\n",
       "      <th>2017-05-06 23:36:00</th>\n",
       "      <td>0.625</td>\n",
       "      <td>2017-05-06 23:36:00</td>\n",
       "      <td>8.40</td>\n",
       "      <td>190.4</td>\n",
       "    </tr>\n",
       "    <tr>\n",
       "      <th>2017-05-07 00:36:00</th>\n",
       "      <td>0.625</td>\n",
       "      <td>2017-05-07 00:36:00</td>\n",
       "      <td>8.40</td>\n",
       "      <td>194.4</td>\n",
       "    </tr>\n",
       "    <tr>\n",
       "      <th>2017-05-07 01:36:00</th>\n",
       "      <td>0.625</td>\n",
       "      <td>2017-05-07 01:36:00</td>\n",
       "      <td>8.40</td>\n",
       "      <td>198.4</td>\n",
       "    </tr>\n",
       "    <tr>\n",
       "      <th>2017-05-07 02:36:00</th>\n",
       "      <td>0.625</td>\n",
       "      <td>2017-05-07 02:36:00</td>\n",
       "      <td>8.40</td>\n",
       "      <td>202.4</td>\n",
       "    </tr>\n",
       "    <tr>\n",
       "      <th>2017-05-07 03:36:00</th>\n",
       "      <td>0.600</td>\n",
       "      <td>2017-05-07 03:36:00</td>\n",
       "      <td>8.40</td>\n",
       "      <td>206.4</td>\n",
       "    </tr>\n",
       "    <tr>\n",
       "      <th>2017-05-07 04:36:00</th>\n",
       "      <td>0.600</td>\n",
       "      <td>2017-05-07 04:36:00</td>\n",
       "      <td>8.40</td>\n",
       "      <td>210.4</td>\n",
       "    </tr>\n",
       "    <tr>\n",
       "      <th>2017-05-07 05:36:00</th>\n",
       "      <td>0.600</td>\n",
       "      <td>2017-05-07 05:36:00</td>\n",
       "      <td>8.40</td>\n",
       "      <td>214.4</td>\n",
       "    </tr>\n",
       "    <tr>\n",
       "      <th>2017-05-07 06:36:00</th>\n",
       "      <td>0.600</td>\n",
       "      <td>2017-05-07 06:36:00</td>\n",
       "      <td>8.40</td>\n",
       "      <td>218.4</td>\n",
       "    </tr>\n",
       "    <tr>\n",
       "      <th>2017-05-07 07:36:00</th>\n",
       "      <td>0.600</td>\n",
       "      <td>2017-05-07 07:36:00</td>\n",
       "      <td>8.40</td>\n",
       "      <td>222.4</td>\n",
       "    </tr>\n",
       "    <tr>\n",
       "      <th>2017-05-07 08:36:00</th>\n",
       "      <td>0.600</td>\n",
       "      <td>2017-05-07 08:36:00</td>\n",
       "      <td>8.40</td>\n",
       "      <td>226.4</td>\n",
       "    </tr>\n",
       "    <tr>\n",
       "      <th>2017-05-07 09:36:00</th>\n",
       "      <td>0.600</td>\n",
       "      <td>2017-05-07 09:36:00</td>\n",
       "      <td>8.40</td>\n",
       "      <td>230.4</td>\n",
       "    </tr>\n",
       "    <tr>\n",
       "      <th>2017-05-07 10:36:00</th>\n",
       "      <td>0.600</td>\n",
       "      <td>2017-05-07 10:36:00</td>\n",
       "      <td>8.40</td>\n",
       "      <td>234.4</td>\n",
       "    </tr>\n",
       "    <tr>\n",
       "      <th>2017-05-07 11:36:00</th>\n",
       "      <td>0.600</td>\n",
       "      <td>2017-05-07 11:36:00</td>\n",
       "      <td>8.40</td>\n",
       "      <td>238.4</td>\n",
       "    </tr>\n",
       "    <tr>\n",
       "      <th>2017-05-07 12:36:00</th>\n",
       "      <td>0.500</td>\n",
       "      <td>2017-05-07 12:36:00</td>\n",
       "      <td>8.40</td>\n",
       "      <td>242.4</td>\n",
       "    </tr>\n",
       "    <tr>\n",
       "      <th>2017-05-07 13:36:00</th>\n",
       "      <td>0.500</td>\n",
       "      <td>2017-05-07 13:36:00</td>\n",
       "      <td>8.40</td>\n",
       "      <td>246.4</td>\n",
       "    </tr>\n",
       "    <tr>\n",
       "      <th>2017-05-07 14:36:00</th>\n",
       "      <td>0.500</td>\n",
       "      <td>2017-05-07 14:36:00</td>\n",
       "      <td>8.40</td>\n",
       "      <td>250.4</td>\n",
       "    </tr>\n",
       "    <tr>\n",
       "      <th>2017-05-07 15:36:00</th>\n",
       "      <td>0.500</td>\n",
       "      <td>2017-05-07 15:36:00</td>\n",
       "      <td>8.40</td>\n",
       "      <td>254.4</td>\n",
       "    </tr>\n",
       "    <tr>\n",
       "      <th>2017-05-07 16:36:00</th>\n",
       "      <td>0.600</td>\n",
       "      <td>2017-05-07 16:36:00</td>\n",
       "      <td>8.40</td>\n",
       "      <td>258.4</td>\n",
       "    </tr>\n",
       "    <tr>\n",
       "      <th>2017-05-07 17:36:00</th>\n",
       "      <td>0.600</td>\n",
       "      <td>2017-05-07 17:36:00</td>\n",
       "      <td>8.39</td>\n",
       "      <td>262.4</td>\n",
       "    </tr>\n",
       "    <tr>\n",
       "      <th>2017-05-07 18:36:00</th>\n",
       "      <td>0.600</td>\n",
       "      <td>2017-05-07 18:36:00</td>\n",
       "      <td>8.38</td>\n",
       "      <td>266.4</td>\n",
       "    </tr>\n",
       "    <tr>\n",
       "      <th>2017-05-07 19:36:00</th>\n",
       "      <td>0.600</td>\n",
       "      <td>2017-05-07 19:36:00</td>\n",
       "      <td>8.37</td>\n",
       "      <td>270.4</td>\n",
       "    </tr>\n",
       "    <tr>\n",
       "      <th>2017-05-07 20:36:00</th>\n",
       "      <td>0.600</td>\n",
       "      <td>2017-05-07 20:36:00</td>\n",
       "      <td>8.37</td>\n",
       "      <td>274.4</td>\n",
       "    </tr>\n",
       "    <tr>\n",
       "      <th>2017-05-07 21:36:00</th>\n",
       "      <td>0.600</td>\n",
       "      <td>2017-05-07 21:36:00</td>\n",
       "      <td>8.37</td>\n",
       "      <td>278.4</td>\n",
       "    </tr>\n",
       "    <tr>\n",
       "      <th>2017-05-07 22:36:00</th>\n",
       "      <td>0.600</td>\n",
       "      <td>2017-05-07 22:36:00</td>\n",
       "      <td>8.37</td>\n",
       "      <td>282.4</td>\n",
       "    </tr>\n",
       "    <tr>\n",
       "      <th>2017-05-07 23:36:00</th>\n",
       "      <td>0.600</td>\n",
       "      <td>2017-05-07 23:36:00</td>\n",
       "      <td>8.37</td>\n",
       "      <td>286.4</td>\n",
       "    </tr>\n",
       "    <tr>\n",
       "      <th>2017-05-08 00:36:00</th>\n",
       "      <td>0.600</td>\n",
       "      <td>2017-05-08 00:36:00</td>\n",
       "      <td>8.37</td>\n",
       "      <td>290.4</td>\n",
       "    </tr>\n",
       "    <tr>\n",
       "      <th>2017-05-08 01:36:00</th>\n",
       "      <td>0.600</td>\n",
       "      <td>2017-05-08 01:36:00</td>\n",
       "      <td>8.37</td>\n",
       "      <td>294.4</td>\n",
       "    </tr>\n",
       "    <tr>\n",
       "      <th>2017-05-08 02:36:00</th>\n",
       "      <td>0.600</td>\n",
       "      <td>2017-05-08 02:36:00</td>\n",
       "      <td>8.37</td>\n",
       "      <td>298.4</td>\n",
       "    </tr>\n",
       "    <tr>\n",
       "      <th>...</th>\n",
       "      <td>...</td>\n",
       "      <td>...</td>\n",
       "      <td>...</td>\n",
       "      <td>...</td>\n",
       "    </tr>\n",
       "    <tr>\n",
       "      <th>2017-11-16 00:36:00</th>\n",
       "      <td>1.600</td>\n",
       "      <td>2017-11-16 00:36:00</td>\n",
       "      <td>8.67</td>\n",
       "      <td>18722.4</td>\n",
       "    </tr>\n",
       "    <tr>\n",
       "      <th>2017-11-16 01:36:00</th>\n",
       "      <td>1.600</td>\n",
       "      <td>2017-11-16 01:36:00</td>\n",
       "      <td>8.67</td>\n",
       "      <td>18726.4</td>\n",
       "    </tr>\n",
       "    <tr>\n",
       "      <th>2017-11-16 02:36:00</th>\n",
       "      <td>1.600</td>\n",
       "      <td>2017-11-16 02:36:00</td>\n",
       "      <td>8.67</td>\n",
       "      <td>18730.4</td>\n",
       "    </tr>\n",
       "    <tr>\n",
       "      <th>2017-11-16 03:36:00</th>\n",
       "      <td>1.600</td>\n",
       "      <td>2017-11-16 03:36:00</td>\n",
       "      <td>8.67</td>\n",
       "      <td>18734.4</td>\n",
       "    </tr>\n",
       "    <tr>\n",
       "      <th>2017-11-16 04:36:00</th>\n",
       "      <td>1.600</td>\n",
       "      <td>2017-11-16 04:36:00</td>\n",
       "      <td>8.67</td>\n",
       "      <td>18738.4</td>\n",
       "    </tr>\n",
       "    <tr>\n",
       "      <th>2017-11-16 05:36:00</th>\n",
       "      <td>1.600</td>\n",
       "      <td>2017-11-16 05:36:00</td>\n",
       "      <td>8.67</td>\n",
       "      <td>18742.4</td>\n",
       "    </tr>\n",
       "    <tr>\n",
       "      <th>2017-11-16 06:36:00</th>\n",
       "      <td>1.600</td>\n",
       "      <td>2017-11-16 06:36:00</td>\n",
       "      <td>8.67</td>\n",
       "      <td>18746.4</td>\n",
       "    </tr>\n",
       "    <tr>\n",
       "      <th>2017-11-16 07:36:00</th>\n",
       "      <td>1.600</td>\n",
       "      <td>2017-11-16 07:36:00</td>\n",
       "      <td>8.67</td>\n",
       "      <td>18750.4</td>\n",
       "    </tr>\n",
       "    <tr>\n",
       "      <th>2017-11-16 08:36:00</th>\n",
       "      <td>1.600</td>\n",
       "      <td>2017-11-16 08:36:00</td>\n",
       "      <td>8.67</td>\n",
       "      <td>18754.4</td>\n",
       "    </tr>\n",
       "    <tr>\n",
       "      <th>2017-11-16 09:36:00</th>\n",
       "      <td>1.600</td>\n",
       "      <td>2017-11-16 09:36:00</td>\n",
       "      <td>8.67</td>\n",
       "      <td>18758.4</td>\n",
       "    </tr>\n",
       "    <tr>\n",
       "      <th>2017-11-16 10:36:00</th>\n",
       "      <td>1.600</td>\n",
       "      <td>2017-11-16 10:36:00</td>\n",
       "      <td>8.67</td>\n",
       "      <td>18762.4</td>\n",
       "    </tr>\n",
       "    <tr>\n",
       "      <th>2017-11-16 11:36:00</th>\n",
       "      <td>1.600</td>\n",
       "      <td>2017-11-16 11:36:00</td>\n",
       "      <td>8.67</td>\n",
       "      <td>18766.4</td>\n",
       "    </tr>\n",
       "    <tr>\n",
       "      <th>2017-11-16 12:36:00</th>\n",
       "      <td>1.600</td>\n",
       "      <td>2017-11-16 12:36:00</td>\n",
       "      <td>8.67</td>\n",
       "      <td>18770.4</td>\n",
       "    </tr>\n",
       "    <tr>\n",
       "      <th>2017-11-16 13:36:00</th>\n",
       "      <td>1.800</td>\n",
       "      <td>2017-11-16 13:36:00</td>\n",
       "      <td>8.67</td>\n",
       "      <td>18774.4</td>\n",
       "    </tr>\n",
       "    <tr>\n",
       "      <th>2017-11-16 14:36:00</th>\n",
       "      <td>1.800</td>\n",
       "      <td>2017-11-16 14:36:00</td>\n",
       "      <td>8.67</td>\n",
       "      <td>18778.4</td>\n",
       "    </tr>\n",
       "    <tr>\n",
       "      <th>2017-11-16 15:36:00</th>\n",
       "      <td>1.800</td>\n",
       "      <td>2017-11-16 15:36:00</td>\n",
       "      <td>8.67</td>\n",
       "      <td>18782.4</td>\n",
       "    </tr>\n",
       "    <tr>\n",
       "      <th>2017-11-16 16:36:00</th>\n",
       "      <td>1.800</td>\n",
       "      <td>2017-11-16 16:36:00</td>\n",
       "      <td>8.67</td>\n",
       "      <td>18786.4</td>\n",
       "    </tr>\n",
       "    <tr>\n",
       "      <th>2017-11-16 17:36:00</th>\n",
       "      <td>1.800</td>\n",
       "      <td>2017-11-16 17:36:00</td>\n",
       "      <td>8.67</td>\n",
       "      <td>18790.4</td>\n",
       "    </tr>\n",
       "    <tr>\n",
       "      <th>2017-11-16 18:36:00</th>\n",
       "      <td>1.800</td>\n",
       "      <td>2017-11-16 18:36:00</td>\n",
       "      <td>8.67</td>\n",
       "      <td>18794.4</td>\n",
       "    </tr>\n",
       "    <tr>\n",
       "      <th>2017-11-16 19:36:00</th>\n",
       "      <td>1.900</td>\n",
       "      <td>2017-11-16 19:36:00</td>\n",
       "      <td>8.67</td>\n",
       "      <td>18798.4</td>\n",
       "    </tr>\n",
       "    <tr>\n",
       "      <th>2017-11-16 20:36:00</th>\n",
       "      <td>1.900</td>\n",
       "      <td>2017-11-16 20:36:00</td>\n",
       "      <td>8.67</td>\n",
       "      <td>18802.4</td>\n",
       "    </tr>\n",
       "    <tr>\n",
       "      <th>2017-11-16 21:36:00</th>\n",
       "      <td>1.900</td>\n",
       "      <td>2017-11-16 21:36:00</td>\n",
       "      <td>8.67</td>\n",
       "      <td>18806.4</td>\n",
       "    </tr>\n",
       "    <tr>\n",
       "      <th>2017-11-16 22:36:00</th>\n",
       "      <td>1.900</td>\n",
       "      <td>2017-11-16 22:36:00</td>\n",
       "      <td>8.67</td>\n",
       "      <td>18810.4</td>\n",
       "    </tr>\n",
       "    <tr>\n",
       "      <th>2017-11-16 23:36:00</th>\n",
       "      <td>1.900</td>\n",
       "      <td>2017-11-16 23:36:00</td>\n",
       "      <td>8.67</td>\n",
       "      <td>18814.4</td>\n",
       "    </tr>\n",
       "    <tr>\n",
       "      <th>2017-11-17 00:36:00</th>\n",
       "      <td>1.900</td>\n",
       "      <td>2017-11-17 00:36:00</td>\n",
       "      <td>8.67</td>\n",
       "      <td>18818.4</td>\n",
       "    </tr>\n",
       "    <tr>\n",
       "      <th>2017-11-17 01:36:00</th>\n",
       "      <td>1.900</td>\n",
       "      <td>2017-11-17 01:36:00</td>\n",
       "      <td>8.67</td>\n",
       "      <td>18822.4</td>\n",
       "    </tr>\n",
       "    <tr>\n",
       "      <th>2017-11-17 02:36:00</th>\n",
       "      <td>1.900</td>\n",
       "      <td>2017-11-17 02:36:00</td>\n",
       "      <td>8.67</td>\n",
       "      <td>18826.4</td>\n",
       "    </tr>\n",
       "    <tr>\n",
       "      <th>2017-11-17 03:36:00</th>\n",
       "      <td>1.900</td>\n",
       "      <td>2017-11-17 03:36:00</td>\n",
       "      <td>8.67</td>\n",
       "      <td>18830.4</td>\n",
       "    </tr>\n",
       "    <tr>\n",
       "      <th>2017-11-17 04:36:00</th>\n",
       "      <td>1.900</td>\n",
       "      <td>2017-11-17 04:36:00</td>\n",
       "      <td>8.67</td>\n",
       "      <td>18834.4</td>\n",
       "    </tr>\n",
       "    <tr>\n",
       "      <th>2017-11-17 05:36:00</th>\n",
       "      <td>1.900</td>\n",
       "      <td>2017-11-17 05:36:00</td>\n",
       "      <td>8.67</td>\n",
       "      <td>18838.4</td>\n",
       "    </tr>\n",
       "  </tbody>\n",
       "</table>\n",
       "<p>4665 rows × 4 columns</p>\n",
       "</div>"
      ],
      "text/plain": [
       "                     BGA-Phycocyanin RFU            datetime    pH     temp\n",
       "datetimeIndex                                                              \n",
       "2017-05-06 21:36:00                0.625 2017-05-06 21:36:00  8.40    182.4\n",
       "2017-05-06 22:36:00                0.625 2017-05-06 22:36:00  8.40    186.4\n",
       "2017-05-06 23:36:00                0.625 2017-05-06 23:36:00  8.40    190.4\n",
       "2017-05-07 00:36:00                0.625 2017-05-07 00:36:00  8.40    194.4\n",
       "2017-05-07 01:36:00                0.625 2017-05-07 01:36:00  8.40    198.4\n",
       "2017-05-07 02:36:00                0.625 2017-05-07 02:36:00  8.40    202.4\n",
       "2017-05-07 03:36:00                0.600 2017-05-07 03:36:00  8.40    206.4\n",
       "2017-05-07 04:36:00                0.600 2017-05-07 04:36:00  8.40    210.4\n",
       "2017-05-07 05:36:00                0.600 2017-05-07 05:36:00  8.40    214.4\n",
       "2017-05-07 06:36:00                0.600 2017-05-07 06:36:00  8.40    218.4\n",
       "2017-05-07 07:36:00                0.600 2017-05-07 07:36:00  8.40    222.4\n",
       "2017-05-07 08:36:00                0.600 2017-05-07 08:36:00  8.40    226.4\n",
       "2017-05-07 09:36:00                0.600 2017-05-07 09:36:00  8.40    230.4\n",
       "2017-05-07 10:36:00                0.600 2017-05-07 10:36:00  8.40    234.4\n",
       "2017-05-07 11:36:00                0.600 2017-05-07 11:36:00  8.40    238.4\n",
       "2017-05-07 12:36:00                0.500 2017-05-07 12:36:00  8.40    242.4\n",
       "2017-05-07 13:36:00                0.500 2017-05-07 13:36:00  8.40    246.4\n",
       "2017-05-07 14:36:00                0.500 2017-05-07 14:36:00  8.40    250.4\n",
       "2017-05-07 15:36:00                0.500 2017-05-07 15:36:00  8.40    254.4\n",
       "2017-05-07 16:36:00                0.600 2017-05-07 16:36:00  8.40    258.4\n",
       "2017-05-07 17:36:00                0.600 2017-05-07 17:36:00  8.39    262.4\n",
       "2017-05-07 18:36:00                0.600 2017-05-07 18:36:00  8.38    266.4\n",
       "2017-05-07 19:36:00                0.600 2017-05-07 19:36:00  8.37    270.4\n",
       "2017-05-07 20:36:00                0.600 2017-05-07 20:36:00  8.37    274.4\n",
       "2017-05-07 21:36:00                0.600 2017-05-07 21:36:00  8.37    278.4\n",
       "2017-05-07 22:36:00                0.600 2017-05-07 22:36:00  8.37    282.4\n",
       "2017-05-07 23:36:00                0.600 2017-05-07 23:36:00  8.37    286.4\n",
       "2017-05-08 00:36:00                0.600 2017-05-08 00:36:00  8.37    290.4\n",
       "2017-05-08 01:36:00                0.600 2017-05-08 01:36:00  8.37    294.4\n",
       "2017-05-08 02:36:00                0.600 2017-05-08 02:36:00  8.37    298.4\n",
       "...                                  ...                 ...   ...      ...\n",
       "2017-11-16 00:36:00                1.600 2017-11-16 00:36:00  8.67  18722.4\n",
       "2017-11-16 01:36:00                1.600 2017-11-16 01:36:00  8.67  18726.4\n",
       "2017-11-16 02:36:00                1.600 2017-11-16 02:36:00  8.67  18730.4\n",
       "2017-11-16 03:36:00                1.600 2017-11-16 03:36:00  8.67  18734.4\n",
       "2017-11-16 04:36:00                1.600 2017-11-16 04:36:00  8.67  18738.4\n",
       "2017-11-16 05:36:00                1.600 2017-11-16 05:36:00  8.67  18742.4\n",
       "2017-11-16 06:36:00                1.600 2017-11-16 06:36:00  8.67  18746.4\n",
       "2017-11-16 07:36:00                1.600 2017-11-16 07:36:00  8.67  18750.4\n",
       "2017-11-16 08:36:00                1.600 2017-11-16 08:36:00  8.67  18754.4\n",
       "2017-11-16 09:36:00                1.600 2017-11-16 09:36:00  8.67  18758.4\n",
       "2017-11-16 10:36:00                1.600 2017-11-16 10:36:00  8.67  18762.4\n",
       "2017-11-16 11:36:00                1.600 2017-11-16 11:36:00  8.67  18766.4\n",
       "2017-11-16 12:36:00                1.600 2017-11-16 12:36:00  8.67  18770.4\n",
       "2017-11-16 13:36:00                1.800 2017-11-16 13:36:00  8.67  18774.4\n",
       "2017-11-16 14:36:00                1.800 2017-11-16 14:36:00  8.67  18778.4\n",
       "2017-11-16 15:36:00                1.800 2017-11-16 15:36:00  8.67  18782.4\n",
       "2017-11-16 16:36:00                1.800 2017-11-16 16:36:00  8.67  18786.4\n",
       "2017-11-16 17:36:00                1.800 2017-11-16 17:36:00  8.67  18790.4\n",
       "2017-11-16 18:36:00                1.800 2017-11-16 18:36:00  8.67  18794.4\n",
       "2017-11-16 19:36:00                1.900 2017-11-16 19:36:00  8.67  18798.4\n",
       "2017-11-16 20:36:00                1.900 2017-11-16 20:36:00  8.67  18802.4\n",
       "2017-11-16 21:36:00                1.900 2017-11-16 21:36:00  8.67  18806.4\n",
       "2017-11-16 22:36:00                1.900 2017-11-16 22:36:00  8.67  18810.4\n",
       "2017-11-16 23:36:00                1.900 2017-11-16 23:36:00  8.67  18814.4\n",
       "2017-11-17 00:36:00                1.900 2017-11-17 00:36:00  8.67  18818.4\n",
       "2017-11-17 01:36:00                1.900 2017-11-17 01:36:00  8.67  18822.4\n",
       "2017-11-17 02:36:00                1.900 2017-11-17 02:36:00  8.67  18826.4\n",
       "2017-11-17 03:36:00                1.900 2017-11-17 03:36:00  8.67  18830.4\n",
       "2017-11-17 04:36:00                1.900 2017-11-17 04:36:00  8.67  18834.4\n",
       "2017-11-17 05:36:00                1.900 2017-11-17 05:36:00  8.67  18838.4\n",
       "\n",
       "[4665 rows x 4 columns]"
      ]
     },
     "execution_count": 36,
     "metadata": {},
     "output_type": "execute_result"
    }
   ],
   "source": [
    "combined"
   ]
  }
 ],
 "metadata": {
  "kernelspec": {
   "display_name": "Python 3",
   "language": "python",
   "name": "python3"
  },
  "language_info": {
   "codemirror_mode": {
    "name": "ipython",
    "version": 3
   },
   "file_extension": ".py",
   "mimetype": "text/x-python",
   "name": "python",
   "nbconvert_exporter": "python",
   "pygments_lexer": "ipython3",
   "version": "3.6.4"
  }
 },
 "nbformat": 4,
 "nbformat_minor": 2
}

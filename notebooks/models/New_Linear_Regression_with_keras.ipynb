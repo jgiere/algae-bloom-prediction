{
 "cells": [
  {
   "cell_type": "code",
   "execution_count": 26,
   "metadata": {},
   "outputs": [],
   "source": [
    "import pandas as pd\n",
    "import tensorflow as tf\n",
    "import keras as ks\n",
    "import numpy as np\n",
    "import seaborn as sns\n",
    "from keras.layers import Dense, Dropout, Conv2D, Flatten, Activation\n",
    "from keras.models import Sequential\n",
    "\n",
    "from sklearn.linear_model import SGDRegressor\n",
    "from sklearn.metrics import mean_squared_error\n",
    "from sklearn.model_selection import train_test_split\n",
    "from sklearn.preprocessing import StandardScaler\n",
    "from sklearn.impute import SimpleImputer\n",
    "\n",
    "import matplotlib.pylab as plt"
   ]
  },
  {
   "cell_type": "code",
   "execution_count": 6,
   "metadata": {},
   "outputs": [
    {
     "data": {
      "text/html": [
       "<div>\n",
       "<style scoped>\n",
       "    .dataframe tbody tr th:only-of-type {\n",
       "        vertical-align: middle;\n",
       "    }\n",
       "\n",
       "    .dataframe tbody tr th {\n",
       "        vertical-align: top;\n",
       "    }\n",
       "\n",
       "    .dataframe thead th {\n",
       "        text-align: right;\n",
       "    }\n",
       "</style>\n",
       "<table border=\"1\" class=\"dataframe\">\n",
       "  <thead>\n",
       "    <tr style=\"text-align: right;\">\n",
       "      <th></th>\n",
       "      <th>date (mm.dd.yyyy)</th>\n",
       "      <th>Depth [m]</th>\n",
       "      <th>T [deg C]</th>\n",
       "      <th>DO [%]</th>\n",
       "      <th>SPC [micro S/cm]</th>\n",
       "      <th>NH4 [mg/l]</th>\n",
       "      <th>NO3 [mg/l]</th>\n",
       "      <th>PO4 [mg/l]</th>\n",
       "      <th>Chl tot [micro g/l]</th>\n",
       "      <th>Chl cyano [micro g/l]</th>\n",
       "      <th>Chl green Al. [micro g/l]</th>\n",
       "      <th>turb [FTU]</th>\n",
       "      <th>Secci Depth [m]</th>\n",
       "      <th>pH</th>\n",
       "    </tr>\n",
       "  </thead>\n",
       "  <tbody>\n",
       "    <tr>\n",
       "      <th>0</th>\n",
       "      <td>6/1/2016</td>\n",
       "      <td>0.0</td>\n",
       "      <td>20.8</td>\n",
       "      <td>127.3</td>\n",
       "      <td>748</td>\n",
       "      <td>0.877326755</td>\n",
       "      <td>0.162558848</td>\n",
       "      <td>0.012251796</td>\n",
       "      <td>39.8</td>\n",
       "      <td>3.2</td>\n",
       "      <td>36.6</td>\n",
       "      <td>5.1</td>\n",
       "      <td>0.8</td>\n",
       "      <td>8.63</td>\n",
       "    </tr>\n",
       "    <tr>\n",
       "      <th>1</th>\n",
       "      <td>6/1/2016</td>\n",
       "      <td>0.5</td>\n",
       "      <td>20.8</td>\n",
       "      <td>127.0</td>\n",
       "      <td>748</td>\n",
       "      <td>-</td>\n",
       "      <td>-</td>\n",
       "      <td>-</td>\n",
       "      <td>55.4</td>\n",
       "      <td>3.7</td>\n",
       "      <td>51.7</td>\n",
       "      <td>4.8</td>\n",
       "      <td>-</td>\n",
       "      <td>8.65</td>\n",
       "    </tr>\n",
       "    <tr>\n",
       "      <th>2</th>\n",
       "      <td>6/1/2016</td>\n",
       "      <td>1.0</td>\n",
       "      <td>20.4</td>\n",
       "      <td>131.4</td>\n",
       "      <td>756</td>\n",
       "      <td>-</td>\n",
       "      <td>-</td>\n",
       "      <td>-</td>\n",
       "      <td>45.6</td>\n",
       "      <td>3.0</td>\n",
       "      <td>42.6</td>\n",
       "      <td>4.9</td>\n",
       "      <td>-</td>\n",
       "      <td>8.66</td>\n",
       "    </tr>\n",
       "    <tr>\n",
       "      <th>3</th>\n",
       "      <td>6/1/2016</td>\n",
       "      <td>2.0</td>\n",
       "      <td>18.0</td>\n",
       "      <td>85.4</td>\n",
       "      <td>775</td>\n",
       "      <td>-</td>\n",
       "      <td>-</td>\n",
       "      <td>-</td>\n",
       "      <td>41.0</td>\n",
       "      <td>3.9</td>\n",
       "      <td>37.1</td>\n",
       "      <td>5.0</td>\n",
       "      <td>-</td>\n",
       "      <td>8.25</td>\n",
       "    </tr>\n",
       "    <tr>\n",
       "      <th>4</th>\n",
       "      <td>6/1/2016</td>\n",
       "      <td>3.0</td>\n",
       "      <td>15.8</td>\n",
       "      <td>4.0</td>\n",
       "      <td>786</td>\n",
       "      <td>1.050011213</td>\n",
       "      <td>0.270562171</td>\n",
       "      <td>0.031263202</td>\n",
       "      <td>54.6</td>\n",
       "      <td>5.8</td>\n",
       "      <td>48.8</td>\n",
       "      <td>5.8</td>\n",
       "      <td>-</td>\n",
       "      <td>7.89</td>\n",
       "    </tr>\n",
       "  </tbody>\n",
       "</table>\n",
       "</div>"
      ],
      "text/plain": [
       "  date (mm.dd.yyyy)  Depth [m]  T [deg C]  DO [%]  SPC [micro S/cm]  \\\n",
       "0          6/1/2016        0.0       20.8   127.3               748   \n",
       "1          6/1/2016        0.5       20.8   127.0               748   \n",
       "2          6/1/2016        1.0       20.4   131.4               756   \n",
       "3          6/1/2016        2.0       18.0    85.4               775   \n",
       "4          6/1/2016        3.0       15.8     4.0               786   \n",
       "\n",
       "    NH4 [mg/l]   NO3 [mg/l]   PO4 [mg/l]  Chl tot [micro g/l]  \\\n",
       "0  0.877326755  0.162558848  0.012251796                 39.8   \n",
       "1            -            -            -                 55.4   \n",
       "2            -            -            -                 45.6   \n",
       "3            -            -            -                 41.0   \n",
       "4  1.050011213  0.270562171  0.031263202                 54.6   \n",
       "\n",
       "   Chl cyano [micro g/l]  Chl green Al. [micro g/l]  turb [FTU]  \\\n",
       "0                    3.2                       36.6         5.1   \n",
       "1                    3.7                       51.7         4.8   \n",
       "2                    3.0                       42.6         4.9   \n",
       "3                    3.9                       37.1         5.0   \n",
       "4                    5.8                       48.8         5.8   \n",
       "\n",
       "  Secci Depth [m]    pH  \n",
       "0             0.8  8.63  \n",
       "1               -  8.65  \n",
       "2               -  8.66  \n",
       "3               -  8.25  \n",
       "4               -  7.89  "
      ]
     },
     "execution_count": 6,
     "metadata": {},
     "output_type": "execute_result"
    }
   ],
   "source": [
    "dataset = pd.read_csv('../../data/cleaned/site1_malin.csv')\n",
    "dataset.head()"
   ]
  },
  {
   "cell_type": "code",
   "execution_count": 7,
   "metadata": {},
   "outputs": [
    {
     "data": {
      "text/html": [
       "<div>\n",
       "<style scoped>\n",
       "    .dataframe tbody tr th:only-of-type {\n",
       "        vertical-align: middle;\n",
       "    }\n",
       "\n",
       "    .dataframe tbody tr th {\n",
       "        vertical-align: top;\n",
       "    }\n",
       "\n",
       "    .dataframe thead th {\n",
       "        text-align: right;\n",
       "    }\n",
       "</style>\n",
       "<table border=\"1\" class=\"dataframe\">\n",
       "  <thead>\n",
       "    <tr style=\"text-align: right;\">\n",
       "      <th></th>\n",
       "      <th>date (mm.dd.yyyy)</th>\n",
       "      <th>Depth [m]</th>\n",
       "      <th>T [deg C]</th>\n",
       "      <th>DO [%]</th>\n",
       "      <th>SPC [micro S/cm]</th>\n",
       "      <th>Chl tot [micro g/l]</th>\n",
       "      <th>Chl cyano [micro g/l]</th>\n",
       "      <th>Chl green Al. [micro g/l]</th>\n",
       "      <th>turb [FTU]</th>\n",
       "      <th>pH</th>\n",
       "    </tr>\n",
       "  </thead>\n",
       "  <tbody>\n",
       "    <tr>\n",
       "      <th>0</th>\n",
       "      <td>6/1/2016</td>\n",
       "      <td>0.0</td>\n",
       "      <td>20.8</td>\n",
       "      <td>127.3</td>\n",
       "      <td>748</td>\n",
       "      <td>39.8</td>\n",
       "      <td>3.2</td>\n",
       "      <td>36.6</td>\n",
       "      <td>5.1</td>\n",
       "      <td>8.63</td>\n",
       "    </tr>\n",
       "    <tr>\n",
       "      <th>1</th>\n",
       "      <td>6/1/2016</td>\n",
       "      <td>0.5</td>\n",
       "      <td>20.8</td>\n",
       "      <td>127.0</td>\n",
       "      <td>748</td>\n",
       "      <td>55.4</td>\n",
       "      <td>3.7</td>\n",
       "      <td>51.7</td>\n",
       "      <td>4.8</td>\n",
       "      <td>8.65</td>\n",
       "    </tr>\n",
       "    <tr>\n",
       "      <th>2</th>\n",
       "      <td>6/1/2016</td>\n",
       "      <td>1.0</td>\n",
       "      <td>20.4</td>\n",
       "      <td>131.4</td>\n",
       "      <td>756</td>\n",
       "      <td>45.6</td>\n",
       "      <td>3.0</td>\n",
       "      <td>42.6</td>\n",
       "      <td>4.9</td>\n",
       "      <td>8.66</td>\n",
       "    </tr>\n",
       "    <tr>\n",
       "      <th>3</th>\n",
       "      <td>6/1/2016</td>\n",
       "      <td>2.0</td>\n",
       "      <td>18.0</td>\n",
       "      <td>85.4</td>\n",
       "      <td>775</td>\n",
       "      <td>41.0</td>\n",
       "      <td>3.9</td>\n",
       "      <td>37.1</td>\n",
       "      <td>5.0</td>\n",
       "      <td>8.25</td>\n",
       "    </tr>\n",
       "    <tr>\n",
       "      <th>4</th>\n",
       "      <td>6/1/2016</td>\n",
       "      <td>3.0</td>\n",
       "      <td>15.8</td>\n",
       "      <td>4.0</td>\n",
       "      <td>786</td>\n",
       "      <td>54.6</td>\n",
       "      <td>5.8</td>\n",
       "      <td>48.8</td>\n",
       "      <td>5.8</td>\n",
       "      <td>7.89</td>\n",
       "    </tr>\n",
       "  </tbody>\n",
       "</table>\n",
       "</div>"
      ],
      "text/plain": [
       "  date (mm.dd.yyyy)  Depth [m]  T [deg C]  DO [%]  SPC [micro S/cm]  \\\n",
       "0          6/1/2016        0.0       20.8   127.3               748   \n",
       "1          6/1/2016        0.5       20.8   127.0               748   \n",
       "2          6/1/2016        1.0       20.4   131.4               756   \n",
       "3          6/1/2016        2.0       18.0    85.4               775   \n",
       "4          6/1/2016        3.0       15.8     4.0               786   \n",
       "\n",
       "   Chl tot [micro g/l]  Chl cyano [micro g/l]  Chl green Al. [micro g/l]  \\\n",
       "0                 39.8                    3.2                       36.6   \n",
       "1                 55.4                    3.7                       51.7   \n",
       "2                 45.6                    3.0                       42.6   \n",
       "3                 41.0                    3.9                       37.1   \n",
       "4                 54.6                    5.8                       48.8   \n",
       "\n",
       "   turb [FTU]    pH  \n",
       "0         5.1  8.63  \n",
       "1         4.8  8.65  \n",
       "2         4.9  8.66  \n",
       "3         5.0  8.25  \n",
       "4         5.8  7.89  "
      ]
     },
     "execution_count": 7,
     "metadata": {},
     "output_type": "execute_result"
    }
   ],
   "source": [
    "df = dataset.drop(columns=['NH4 [mg/l]', 'NO3 [mg/l]', 'PO4 [mg/l]', 'Secci Depth [m]'])\n",
    "df.head()"
   ]
  },
  {
   "cell_type": "code",
   "execution_count": 8,
   "metadata": {},
   "outputs": [
    {
     "data": {
      "text/plain": [
       "date (mm.dd.yyyy)             object\n",
       "Depth [m]                    float64\n",
       "T [deg C]                    float64\n",
       "DO [%]                       float64\n",
       "SPC [micro S/cm]               int64\n",
       "Chl tot [micro g/l]          float64\n",
       "Chl cyano [micro g/l]        float64\n",
       "Chl green Al. [micro g/l]    float64\n",
       "turb [FTU]                   float64\n",
       "pH                           float64\n",
       "dtype: object"
      ]
     },
     "execution_count": 8,
     "metadata": {},
     "output_type": "execute_result"
    }
   ],
   "source": [
    "df.dtypes"
   ]
  },
  {
   "cell_type": "code",
   "execution_count": 9,
   "metadata": {},
   "outputs": [
    {
     "data": {
      "text/plain": [
       "<matplotlib.axes._subplots.AxesSubplot at 0x20b3bad86d8>"
      ]
     },
     "execution_count": 9,
     "metadata": {},
     "output_type": "execute_result"
    },
    {
     "data": {
      "image/png": "[encoded data removed]",
      "text/plain": [
       "<Figure size 432x288 with 1 Axes>"
      ]
     },
     "metadata": {},
     "output_type": "display_data"
    }
   ],
   "source": [
    "sns.regplot(x=df['T [deg C]'], y=df['Chl cyano [micro g/l]'], fit_reg=False)"
   ]
  },
  {
   "cell_type": "code",
   "execution_count": 10,
   "metadata": {},
   "outputs": [
    {
     "data": {
      "text/plain": [
       "<matplotlib.axes._subplots.AxesSubplot at 0x20b3be52c50>"
      ]
     },
     "execution_count": 10,
     "metadata": {},
     "output_type": "execute_result"
    },
    {
     "data": {
      "image/png": "[encoded data removed]",
      "text/plain": [
       "<Figure size 432x288 with 1 Axes>"
      ]
     },
     "metadata": {},
     "output_type": "display_data"
    }
   ],
   "source": [
    "sns.regplot(x=df['DO [%]'], y=df['Chl cyano [micro g/l]'], fit_reg=False)"
   ]
  },
  {
   "cell_type": "code",
   "execution_count": 11,
   "metadata": {},
   "outputs": [
    {
     "data": {
      "text/plain": [
       "<matplotlib.axes._subplots.AxesSubplot at 0x20b3bec9e10>"
      ]
     },
     "execution_count": 11,
     "metadata": {},
     "output_type": "execute_result"
    },
    {
     "data": {
      "image/png": "[encoded data removed]",
      "text/plain": [
       "<Figure size 432x288 with 1 Axes>"
      ]
     },
     "metadata": {},
     "output_type": "display_data"
    }
   ],
   "source": [
    "sns.regplot(x=df['SPC [micro S/cm]'], y=df['Chl cyano [micro g/l]'], fit_reg=False)"
   ]
  },
  {
   "cell_type": "code",
   "execution_count": 12,
   "metadata": {},
   "outputs": [
    {
     "data": {
      "text/plain": [
       "<matplotlib.axes._subplots.AxesSubplot at 0x20b3bebeb00>"
      ]
     },
     "execution_count": 12,
     "metadata": {},
     "output_type": "execute_result"
    },
    {
     "data": {
      "image/png": "[encoded data removed]",
      "text/plain": [
       "<Figure size 432x288 with 1 Axes>"
      ]
     },
     "metadata": {},
     "output_type": "display_data"
    }
   ],
   "source": [
    "sns.regplot(x=df['Chl tot [micro g/l]'], y=df['Chl cyano [micro g/l]'], fit_reg=False)"
   ]
  },
  {
   "cell_type": "code",
   "execution_count": 13,
   "metadata": {},
   "outputs": [
    {
     "data": {
      "text/plain": [
       "<matplotlib.axes._subplots.AxesSubplot at 0x20b3bf76860>"
      ]
     },
     "execution_count": 13,
     "metadata": {},
     "output_type": "execute_result"
    },
    {
     "data": {
      "image/png": "[encoded data removed]",
      "text/plain": [
       "<Figure size 432x288 with 1 Axes>"
      ]
     },
     "metadata": {},
     "output_type": "display_data"
    }
   ],
   "source": [
    "sns.regplot(x=df['turb [FTU]'], y=df['Chl cyano [micro g/l]'], fit_reg=False)"
   ]
  },
  {
   "cell_type": "code",
   "execution_count": 14,
   "metadata": {},
   "outputs": [
    {
     "data": {
      "text/plain": [
       "<matplotlib.axes._subplots.AxesSubplot at 0x20b3bfcda20>"
      ]
     },
     "execution_count": 14,
     "metadata": {},
     "output_type": "execute_result"
    },
    {
     "data": {
      "image/png": "[encoded data removed]",
      "text/plain": [
       "<Figure size 432x288 with 1 Axes>"
      ]
     },
     "metadata": {},
     "output_type": "display_data"
    }
   ],
   "source": [
    "sns.regplot(x=df['pH'], y=df['Chl cyano [micro g/l]'], fit_reg=False)"
   ]
  },
  {
   "cell_type": "code",
   "execution_count": 15,
   "metadata": {},
   "outputs": [
    {
     "name": "stdout",
     "output_type": "stream",
     "text": [
      "110 82 28\n"
     ]
    }
   ],
   "source": [
    "df_train, df_test = train_test_split(df)\n",
    "print(df.shape[0], df_train.shape[0], df_test.shape[0])"
   ]
  },
  {
   "cell_type": "code",
   "execution_count": 16,
   "metadata": {},
   "outputs": [],
   "source": [
    "y_train = df_train['Chl cyano [micro g/l]'].values\n",
    "y_test = df_test['Chl cyano [micro g/l]'].values"
   ]
  },
  {
   "cell_type": "code",
   "execution_count": 17,
   "metadata": {},
   "outputs": [],
   "source": [
    "columns = ['Depth [m]', 'T [deg C]', 'DO [%]',\n",
    "       'SPC [micro S/cm]', 'Chl tot [micro g/l]',\n",
    "       'Chl green Al. [micro g/l]', 'turb [FTU]', 'pH']"
   ]
  },
  {
   "cell_type": "markdown",
   "metadata": {},
   "source": [
    "### Null Model"
   ]
  },
  {
   "cell_type": "code",
   "execution_count": 18,
   "metadata": {},
   "outputs": [
    {
     "name": "stdout",
     "output_type": "stream",
     "text": [
      "Null Model MSE: 371.58162444561964\n",
      "Null Model RMSE: 19.2764525897692\n"
     ]
    }
   ],
   "source": [
    "zeros_train = np.zeros(df_train.shape)\n",
    "zeros_test = np.zeros(df_test.shape)\n",
    "null_model = SGDRegressor(max_iter=3000)\n",
    "null_model.fit(zeros_train, y_train)\n",
    "predict_chl_test = null_model.predict(zeros_test)\n",
    "null_mse = mean_squared_error(y_test, predict_chl_test)\n",
    "null_rmse = np.sqrt(null_mse)\n",
    "\n",
    "print(\"Null Model MSE:\", null_mse)\n",
    "print(\"Null Model RMSE:\", null_rmse)"
   ]
  },
  {
   "cell_type": "code",
   "execution_count": 20,
   "metadata": {},
   "outputs": [
    {
     "name": "stdout",
     "output_type": "stream",
     "text": [
      "\n",
      "Depth [m] Model MSE: 391.05338390817593\n",
      "Depth [m] Model RMSE: 19.775069757352966\n",
      "\n",
      "T [deg C] Model MSE: 98.99278002613639\n",
      "T [deg C] Model RMSE: 9.949511547113074\n",
      "\n",
      "DO [%] Model MSE: 389.904464056228\n",
      "DO [%] Model RMSE: 19.745998684701362\n",
      "\n",
      "SPC [micro S/cm] Model MSE: 296.93670398899246\n",
      "SPC [micro S/cm] Model RMSE: 17.231851438223128\n",
      "\n",
      "Chl tot [micro g/l] Model MSE: 151.10171714143047\n",
      "Chl tot [micro g/l] Model RMSE: 12.29234384246676\n",
      "\n",
      "Chl green Al. [micro g/l] Model MSE: 375.69057048321974\n",
      "Chl green Al. [micro g/l] Model RMSE: 19.382738983002884\n",
      "\n",
      "turb [FTU] Model MSE: 363.9004516026175\n",
      "turb [FTU] Model RMSE: 19.0761749730552\n",
      "\n",
      "pH Model MSE: 348.1892891063063\n",
      "pH Model RMSE: 18.659830897044763\n"
     ]
    }
   ],
   "source": [
    "for column in columns:\n",
    "    x_train = df_train[[column]].values\n",
    "    x_test = df_test[[column]].values\n",
    "    \n",
    "#     Use an imputer to replace any null values with 0 so that they are still counted\n",
    "    imputer = SimpleImputer(missing_values=0)\n",
    "    x_train_imputed = imputer.fit_transform(x_train)\n",
    "    x_test_imputed = imputer.transform(x_test)\n",
    "    \n",
    "#     Use a scaler to normalize the data\n",
    "    scaler = StandardScaler()\n",
    "    x_train_scaled = scaler.fit_transform(x_train_imputed)\n",
    "    x_test_scaled = scaler.transform(x_test_imputed)\n",
    "    \n",
    "    lr = SGDRegressor(max_iter=5000)\n",
    "    lr.fit(x_train_scaled.reshape(-1, 1), y_train)\n",
    "    predict_chl_test = lr.predict(x_test_scaled.reshape(-1, 1))\n",
    "    lr_mse = mean_squared_error(y_test, predict_chl_test)\n",
    "    lr_rmse = np.sqrt(lr_mse)\n",
    "    \n",
    "    print()\n",
    "    print(column + \" Model MSE:\", lr_mse)\n",
    "    print(column + \" Model RMSE:\", lr_rmse)"
   ]
  },
  {
   "cell_type": "code",
   "execution_count": 21,
   "metadata": {},
   "outputs": [],
   "source": [
    "sorted_columns = ['T [deg C]', 'pH', 'SPC [micro S/cm]', 'DO [%]', 'turb [FTU]', 'Depth [m]']\n",
    "all_sorted_columns = ['T [deg C]', 'pH', 'Chl tot [micro g/l]', 'SPC [micro S/cm]', 'DO [%]', 'turb [FTU]', 'Depth [m]', 'Chl green Al. [micro g/l]']"
   ]
  },
  {
   "cell_type": "code",
   "execution_count": 24,
   "metadata": {},
   "outputs": [
    {
     "name": "stdout",
     "output_type": "stream",
     "text": [
      "Null Model MSE: 371.58162444561964\n",
      "Null Model RMSE: 19.2764525897692\n",
      "Base Model MSE: 371.58162444561964\n",
      "Base Model RMSE: 19.2764525897692\n",
      "\n",
      "\n",
      "['T [deg C]'] Model MSE: 98.99971513305661\n",
      "['T [deg C]'] Model RMSE: 9.94986005595338\n",
      "Updating base model\n",
      "\n",
      "Base Model MSE: 98.99971513305661\n",
      "Base Model RMSE: 9.94986005595338\n",
      "\n",
      "\n",
      "['T [deg C]', 'pH'] Model MSE: 108.6259173351299\n",
      "['T [deg C]', 'pH'] Model RMSE: 10.422375800897312\n",
      "\n",
      "Base Model MSE: 98.99971513305661\n",
      "Base Model RMSE: 9.94986005595338\n",
      "\n",
      "\n",
      "['T [deg C]', 'Chl tot [micro g/l]'] Model MSE: 59.33182032214836\n",
      "['T [deg C]', 'Chl tot [micro g/l]'] Model RMSE: 7.702715126638681\n",
      "Updating base model\n",
      "\n",
      "Base Model MSE: 59.33182032214836\n",
      "Base Model RMSE: 7.702715126638681\n",
      "\n",
      "\n",
      "['T [deg C]', 'Chl tot [micro g/l]', 'SPC [micro S/cm]'] Model MSE: 50.190243900498\n",
      "['T [deg C]', 'Chl tot [micro g/l]', 'SPC [micro S/cm]'] Model RMSE: 7.084507315297091\n",
      "Updating base model\n",
      "\n",
      "Base Model MSE: 50.190243900498\n",
      "Base Model RMSE: 7.084507315297091\n",
      "\n",
      "\n",
      "['T [deg C]', 'Chl tot [micro g/l]', 'SPC [micro S/cm]', 'DO [%]'] Model MSE: 52.844648843932255\n",
      "['T [deg C]', 'Chl tot [micro g/l]', 'SPC [micro S/cm]', 'DO [%]'] Model RMSE: 7.269432498065599\n",
      "\n",
      "Base Model MSE: 50.190243900498\n",
      "Base Model RMSE: 7.084507315297091\n",
      "\n",
      "\n",
      "['T [deg C]', 'Chl tot [micro g/l]', 'SPC [micro S/cm]', 'turb [FTU]'] Model MSE: 45.568969039570746\n",
      "['T [deg C]', 'Chl tot [micro g/l]', 'SPC [micro S/cm]', 'turb [FTU]'] Model RMSE: 6.750479171108577\n",
      "Updating base model\n",
      "\n",
      "Base Model MSE: 45.568969039570746\n",
      "Base Model RMSE: 6.750479171108577\n",
      "\n",
      "\n",
      "['T [deg C]', 'Chl tot [micro g/l]', 'SPC [micro S/cm]', 'turb [FTU]', 'Depth [m]'] Model MSE: 46.13519520198655\n",
      "['T [deg C]', 'Chl tot [micro g/l]', 'SPC [micro S/cm]', 'turb [FTU]', 'Depth [m]'] Model RMSE: 6.7922893932743\n",
      "\n",
      "Base Model MSE: 45.568969039570746\n",
      "Base Model RMSE: 6.750479171108577\n",
      "\n",
      "\n",
      "['T [deg C]', 'Chl tot [micro g/l]', 'SPC [micro S/cm]', 'turb [FTU]', 'Chl green Al. [micro g/l]'] Model MSE: 5.750493274028143e-05\n",
      "['T [deg C]', 'Chl tot [micro g/l]', 'SPC [micro S/cm]', 'turb [FTU]', 'Chl green Al. [micro g/l]'] Model RMSE: 0.00758320069233839\n",
      "Updating base model\n",
      "\n"
     ]
    }
   ],
   "source": [
    "base_model_columns = []\n",
    "base_model = null_model\n",
    "base_rmse = null_rmse\n",
    "base_mse = null_mse\n",
    "\n",
    "print(\"Null Model MSE:\", null_mse)\n",
    "print(\"Null Model RMSE:\", null_rmse)\n",
    "\n",
    "for column in all_sorted_columns:\n",
    "    print(\"Base Model MSE:\", base_mse)\n",
    "    print(\"Base Model RMSE:\", base_rmse)\n",
    "    print()\n",
    "    \n",
    "    trial_columns = base_model_columns[:]\n",
    "    trial_columns.append(column)\n",
    "    \n",
    "    x_train = df_train[trial_columns].values\n",
    "    x_test = df_test[trial_columns].values\n",
    "    \n",
    "    imputer = SimpleImputer(missing_values=0)\n",
    "    x_train_imputed = imputer.fit_transform(x_train)\n",
    "    x_test_imputed = imputer.transform(x_test)\n",
    "    \n",
    "    scaler = StandardScaler()\n",
    "    x_train_scaled = scaler.fit_transform(x_train_imputed)\n",
    "    x_test_scaled = scaler.transform(x_test_imputed)\n",
    "    \n",
    "    trial_lr = SGDRegressor(max_iter=5000)\n",
    "    trial_lr.fit(x_train_scaled, y_train)\n",
    "    predict_chl_test = trial_lr.predict(x_test_scaled)\n",
    "    trial_mse = mean_squared_error(y_test, predict_chl_test)\n",
    "    trial_rmse = np.sqrt(trial_mse)\n",
    "    \n",
    "    print()\n",
    "    print(str(trial_columns) + \" Model MSE:\", trial_mse)\n",
    "    print(str(trial_columns) + \" Model RMSE:\", trial_rmse)\n",
    "    \n",
    "    if trial_rmse < base_rmse:\n",
    "        print(\"Updating base model\")\n",
    "        base_rmse = trial_rmse\n",
    "        base_mse = trial_mse\n",
    "        base_model = trial_lr\n",
    "        base_model_columns = trial_columns\n",
    "    print()"
   ]
  },
  {
   "cell_type": "code",
   "execution_count": 25,
   "metadata": {},
   "outputs": [
    {
     "data": {
      "text/plain": [
       "(0, 62.28635527006342)"
      ]
     },
     "execution_count": 25,
     "metadata": {},
     "output_type": "execute_result"
    },
    {
     "data": {
      "image/png": "[encoded data removed]",
      "text/plain": [
       "<Figure size 432x288 with 1 Axes>"
      ]
     },
     "metadata": {},
     "output_type": "display_data"
    }
   ],
   "source": [
    "plt.scatter(y_test, predict_chl_test)\n",
    "maximum = max(max(y_test), max(predict_chl_test))\n",
    "plt.plot([0, maximum], [0, maximum])\n",
    "plt.xlabel(\"True Chl\", fontsize=16)\n",
    "plt.ylabel(\"Predicted Chl\", fontsize=16)\n",
    "plt.xlim([0, max(y_test)])\n",
    "plt.ylim([0, max(predict_chl_test)])"
   ]
  },
  {
   "cell_type": "code",
   "execution_count": null,
   "metadata": {},
   "outputs": [],
   "source": []
  }
 ],
 "metadata": {
  "kernelspec": {
   "display_name": "Python 3",
   "language": "python",
   "name": "python3"
  },
  "language_info": {
   "codemirror_mode": {
    "name": "ipython",
    "version": 3
   },
   "file_extension": ".py",
   "mimetype": "text/x-python",
   "name": "python",
   "nbconvert_exporter": "python",
   "pygments_lexer": "ipython3",
   "version": "3.6.5"
  }
 },
 "nbformat": 4,
 "nbformat_minor": 2
}

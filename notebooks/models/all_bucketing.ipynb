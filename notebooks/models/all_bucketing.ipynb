{
 "cells": [
  {
   "cell_type": "markdown",
   "metadata": {},
   "source": [
    "# Logistic Regression Model"
   ]
  },
  {
   "cell_type": "markdown",
   "metadata": {},
   "source": [
    "## Data Import And Cleaning"
   ]
  },
  {
   "cell_type": "code",
   "execution_count": 1,
   "metadata": {},
   "outputs": [
    {
     "name": "stderr",
     "output_type": "stream",
     "text": [
      "Using TensorFlow backend.\n"
     ]
    }
   ],
   "source": [
    "import pandas as pd\n",
    "import seaborn as sns\n",
    "import matplotlib.pyplot as plt\n",
    "import numpy as np\n",
    "from sklearn.linear_model import SGDClassifier\n",
    "from sklearn.ensemble import RandomForestClassifier\n",
    "from sklearn.metrics import recall_score, precision_score, confusion_matrix\n",
    "from sklearn.metrics import roc_curve, auc\n",
    "import scripts.logistic_regression_functions as lrf\n",
    "import scripts.helper_functions as hf\n",
    "import scripts.data_dictionary as dd\n",
    "from sklearn.preprocessing import StandardScaler\n",
    "\n",
    "#reloads the module with the most recent updates\n",
    "%load_ext autoreload\n",
    "%aimport scripts.logistic_regression_functions, scripts.helper_functions\n",
    "%autoreload 2"
   ]
  },
  {
   "cell_type": "code",
   "execution_count": 2,
   "metadata": {},
   "outputs": [],
   "source": [
    "train_files = ['../../data/cleaned/utah_2017_vineyard.csv', \n",
    "               '../../data/cleaned/utah_2017_marina.csv']\n",
    "\n",
    "test_files = [ '../../data/cleaned/utah_2018_marina.csv',\n",
    "               '../../data/cleaned/utah_2018_bird.csv']\n",
    "\n",
    "drop_columns = ['Chlorophyll ug/L', 'Chlorophyll RFU', 'Wiper Pos V',\n",
    "                'Cable Pwr V', 'Battery V', 'Chlorophyll (ug/L)', 'FDOM RFU']\n",
    "\n",
    "x_columns = ['Temp C', 'Sp Cond (uS/cm)', 'pH (mV)', 'pH', 'Turbidity (NTU)',\n",
    "            'ODOSat%', 'ODO (mg/L)']\n",
    "\n",
    "target_column = 'BGA-Phycocyanin RFU'\n",
    "\n",
    "# TODO Create average off of minor bloom\n",
    "RFU_THRESHOLD = 1.2\n",
    "train_index = 0\n",
    "test_index = 1"
   ]
  },
  {
   "cell_type": "code",
   "execution_count": 3,
   "metadata": {},
   "outputs": [
    {
     "data": {
      "text/html": [
       "<div>\n",
       "<style scoped>\n",
       "    .dataframe tbody tr th:only-of-type {\n",
       "        vertical-align: middle;\n",
       "    }\n",
       "\n",
       "    .dataframe tbody tr th {\n",
       "        vertical-align: top;\n",
       "    }\n",
       "\n",
       "    .dataframe thead th {\n",
       "        text-align: right;\n",
       "    }\n",
       "</style>\n",
       "<table border=\"1\" class=\"dataframe\">\n",
       "  <thead>\n",
       "    <tr style=\"text-align: right;\">\n",
       "      <th></th>\n",
       "      <th>Date (mm.dd.yyyy)</th>\n",
       "      <th>Time 24hr</th>\n",
       "      <th>Temp C</th>\n",
       "      <th>Sp Cond (uS/cm)</th>\n",
       "      <th>pH (mV)</th>\n",
       "      <th>pH</th>\n",
       "      <th>Turbidity (NTU)</th>\n",
       "      <th>ODOSat%</th>\n",
       "      <th>ODO (mg/L)</th>\n",
       "      <th>BGA-Phycocyanin RFU</th>\n",
       "    </tr>\n",
       "  </thead>\n",
       "  <tbody>\n",
       "    <tr>\n",
       "      <th>0</th>\n",
       "      <td>5/5/2017</td>\n",
       "      <td>0:00</td>\n",
       "      <td>15.02</td>\n",
       "      <td>1848</td>\n",
       "      <td>-100.1</td>\n",
       "      <td>8.36</td>\n",
       "      <td>16.84</td>\n",
       "      <td>90.2</td>\n",
       "      <td>9.04</td>\n",
       "      <td>0.4</td>\n",
       "    </tr>\n",
       "    <tr>\n",
       "      <th>1</th>\n",
       "      <td>5/5/2017</td>\n",
       "      <td>0:15</td>\n",
       "      <td>14.99</td>\n",
       "      <td>1847</td>\n",
       "      <td>-100.1</td>\n",
       "      <td>8.36</td>\n",
       "      <td>16.76</td>\n",
       "      <td>90.2</td>\n",
       "      <td>9.04</td>\n",
       "      <td>0.4</td>\n",
       "    </tr>\n",
       "    <tr>\n",
       "      <th>2</th>\n",
       "      <td>5/5/2017</td>\n",
       "      <td>0:30</td>\n",
       "      <td>14.96</td>\n",
       "      <td>1847</td>\n",
       "      <td>-100.1</td>\n",
       "      <td>8.36</td>\n",
       "      <td>16.82</td>\n",
       "      <td>90.1</td>\n",
       "      <td>9.04</td>\n",
       "      <td>0.4</td>\n",
       "    </tr>\n",
       "    <tr>\n",
       "      <th>3</th>\n",
       "      <td>5/5/2017</td>\n",
       "      <td>0:45</td>\n",
       "      <td>14.95</td>\n",
       "      <td>1848</td>\n",
       "      <td>-100.1</td>\n",
       "      <td>8.36</td>\n",
       "      <td>17.19</td>\n",
       "      <td>90.0</td>\n",
       "      <td>9.03</td>\n",
       "      <td>0.4</td>\n",
       "    </tr>\n",
       "    <tr>\n",
       "      <th>4</th>\n",
       "      <td>5/5/2017</td>\n",
       "      <td>1:00</td>\n",
       "      <td>14.92</td>\n",
       "      <td>1848</td>\n",
       "      <td>-100.0</td>\n",
       "      <td>8.36</td>\n",
       "      <td>16.85</td>\n",
       "      <td>89.8</td>\n",
       "      <td>9.02</td>\n",
       "      <td>0.4</td>\n",
       "    </tr>\n",
       "  </tbody>\n",
       "</table>\n",
       "</div>"
      ],
      "text/plain": [
       "  Date (mm.dd.yyyy) Time 24hr  Temp C  Sp Cond (uS/cm)  pH (mV)    pH  \\\n",
       "0          5/5/2017      0:00   15.02             1848   -100.1  8.36   \n",
       "1          5/5/2017      0:15   14.99             1847   -100.1  8.36   \n",
       "2          5/5/2017      0:30   14.96             1847   -100.1  8.36   \n",
       "3          5/5/2017      0:45   14.95             1848   -100.1  8.36   \n",
       "4          5/5/2017      1:00   14.92             1848   -100.0  8.36   \n",
       "\n",
       "   Turbidity (NTU)  ODOSat%  ODO (mg/L)  BGA-Phycocyanin RFU  \n",
       "0            16.84     90.2        9.04                  0.4  \n",
       "1            16.76     90.2        9.04                  0.4  \n",
       "2            16.82     90.1        9.04                  0.4  \n",
       "3            17.19     90.0        9.03                  0.4  \n",
       "4            16.85     89.8        9.02                  0.4  "
      ]
     },
     "execution_count": 3,
     "metadata": {},
     "output_type": "execute_result"
    }
   ],
   "source": [
    "# Load the data\n",
    "train_dfs = lrf.import_df_data(train_files, drop_columns)\n",
    "test_dfs = lrf.import_df_data(test_files, drop_columns)\n",
    "\n",
    "train_dfs[train_index].head()"
   ]
  },
  {
   "cell_type": "code",
   "execution_count": 4,
   "metadata": {},
   "outputs": [
    {
     "data": {
      "text/html": [
       "<div>\n",
       "<style scoped>\n",
       "    .dataframe tbody tr th:only-of-type {\n",
       "        vertical-align: middle;\n",
       "    }\n",
       "\n",
       "    .dataframe tbody tr th {\n",
       "        vertical-align: top;\n",
       "    }\n",
       "\n",
       "    .dataframe thead th {\n",
       "        text-align: right;\n",
       "    }\n",
       "</style>\n",
       "<table border=\"1\" class=\"dataframe\">\n",
       "  <thead>\n",
       "    <tr style=\"text-align: right;\">\n",
       "      <th></th>\n",
       "      <th>Time America/Boise UTC-06:00</th>\n",
       "      <th>Temp C</th>\n",
       "      <th>Sp Cond (uS/cm)</th>\n",
       "      <th>pH (mV)</th>\n",
       "      <th>pH</th>\n",
       "      <th>Turbidity (NTU)</th>\n",
       "      <th>ODOSat%</th>\n",
       "      <th>ODO (mg/L)</th>\n",
       "      <th>BGA-Phycocyanin RFU</th>\n",
       "    </tr>\n",
       "  </thead>\n",
       "  <tbody>\n",
       "    <tr>\n",
       "      <th>0</th>\n",
       "      <td>4/11/2018 11:15</td>\n",
       "      <td>11.06</td>\n",
       "      <td>1874</td>\n",
       "      <td>-114.2</td>\n",
       "      <td>8.39</td>\n",
       "      <td>46.27</td>\n",
       "      <td>89.3</td>\n",
       "      <td>9.78</td>\n",
       "      <td>0.7</td>\n",
       "    </tr>\n",
       "    <tr>\n",
       "      <th>1</th>\n",
       "      <td>4/11/2018 11:30</td>\n",
       "      <td>10.98</td>\n",
       "      <td>1879</td>\n",
       "      <td>-114.2</td>\n",
       "      <td>8.39</td>\n",
       "      <td>46.55</td>\n",
       "      <td>89.2</td>\n",
       "      <td>9.78</td>\n",
       "      <td>0.8</td>\n",
       "    </tr>\n",
       "    <tr>\n",
       "      <th>2</th>\n",
       "      <td>4/11/2018 11:45</td>\n",
       "      <td>10.58</td>\n",
       "      <td>1865</td>\n",
       "      <td>-113.8</td>\n",
       "      <td>8.39</td>\n",
       "      <td>48.62</td>\n",
       "      <td>87.5</td>\n",
       "      <td>9.68</td>\n",
       "      <td>0.9</td>\n",
       "    </tr>\n",
       "    <tr>\n",
       "      <th>3</th>\n",
       "      <td>4/11/2018 12:00</td>\n",
       "      <td>10.67</td>\n",
       "      <td>1864</td>\n",
       "      <td>-114.1</td>\n",
       "      <td>8.39</td>\n",
       "      <td>47.96</td>\n",
       "      <td>88.0</td>\n",
       "      <td>9.72</td>\n",
       "      <td>0.8</td>\n",
       "    </tr>\n",
       "    <tr>\n",
       "      <th>4</th>\n",
       "      <td>4/11/2018 12:15</td>\n",
       "      <td>10.71</td>\n",
       "      <td>1864</td>\n",
       "      <td>-114.3</td>\n",
       "      <td>8.40</td>\n",
       "      <td>49.47</td>\n",
       "      <td>88.3</td>\n",
       "      <td>9.75</td>\n",
       "      <td>0.8</td>\n",
       "    </tr>\n",
       "  </tbody>\n",
       "</table>\n",
       "</div>"
      ],
      "text/plain": [
       "  Time America/Boise UTC-06:00  Temp C  Sp Cond (uS/cm)  pH (mV)    pH  \\\n",
       "0              4/11/2018 11:15   11.06             1874   -114.2  8.39   \n",
       "1              4/11/2018 11:30   10.98             1879   -114.2  8.39   \n",
       "2              4/11/2018 11:45   10.58             1865   -113.8  8.39   \n",
       "3              4/11/2018 12:00   10.67             1864   -114.1  8.39   \n",
       "4              4/11/2018 12:15   10.71             1864   -114.3  8.40   \n",
       "\n",
       "   Turbidity (NTU)  ODOSat%  ODO (mg/L)  BGA-Phycocyanin RFU  \n",
       "0            46.27     89.3        9.78                  0.7  \n",
       "1            46.55     89.2        9.78                  0.8  \n",
       "2            48.62     87.5        9.68                  0.9  \n",
       "3            47.96     88.0        9.72                  0.8  \n",
       "4            49.47     88.3        9.75                  0.8  "
      ]
     },
     "execution_count": 4,
     "metadata": {},
     "output_type": "execute_result"
    }
   ],
   "source": [
    "test_dfs[test_index].head()"
   ]
  },
  {
   "cell_type": "code",
   "execution_count": 5,
   "metadata": {},
   "outputs": [
    {
     "data": {
      "text/html": [
       "<div>\n",
       "<style scoped>\n",
       "    .dataframe tbody tr th:only-of-type {\n",
       "        vertical-align: middle;\n",
       "    }\n",
       "\n",
       "    .dataframe tbody tr th {\n",
       "        vertical-align: top;\n",
       "    }\n",
       "\n",
       "    .dataframe thead th {\n",
       "        text-align: right;\n",
       "    }\n",
       "</style>\n",
       "<table border=\"1\" class=\"dataframe\">\n",
       "  <thead>\n",
       "    <tr style=\"text-align: right;\">\n",
       "      <th></th>\n",
       "      <th>Temp C</th>\n",
       "      <th>Sp Cond (uS/cm)</th>\n",
       "      <th>pH (mV)</th>\n",
       "      <th>pH</th>\n",
       "      <th>Turbidity (NTU)</th>\n",
       "      <th>ODOSat%</th>\n",
       "      <th>ODO (mg/L)</th>\n",
       "      <th>BGA-Phycocyanin RFU</th>\n",
       "    </tr>\n",
       "  </thead>\n",
       "  <tbody>\n",
       "    <tr>\n",
       "      <th>count</th>\n",
       "      <td>18947.000000</td>\n",
       "      <td>18947.000000</td>\n",
       "      <td>18947.000000</td>\n",
       "      <td>18947.000000</td>\n",
       "      <td>18947.000000</td>\n",
       "      <td>18947.000000</td>\n",
       "      <td>18947.000000</td>\n",
       "      <td>18947.000000</td>\n",
       "    </tr>\n",
       "    <tr>\n",
       "      <th>mean</th>\n",
       "      <td>18.488235</td>\n",
       "      <td>1933.564575</td>\n",
       "      <td>-116.806951</td>\n",
       "      <td>8.633415</td>\n",
       "      <td>58.129348</td>\n",
       "      <td>87.056980</td>\n",
       "      <td>8.179008</td>\n",
       "      <td>0.979511</td>\n",
       "    </tr>\n",
       "    <tr>\n",
       "      <th>std</th>\n",
       "      <td>6.134464</td>\n",
       "      <td>151.800551</td>\n",
       "      <td>8.973830</td>\n",
       "      <td>0.147231</td>\n",
       "      <td>54.622278</td>\n",
       "      <td>13.793755</td>\n",
       "      <td>1.278416</td>\n",
       "      <td>0.731423</td>\n",
       "    </tr>\n",
       "    <tr>\n",
       "      <th>min</th>\n",
       "      <td>5.630000</td>\n",
       "      <td>3.000000</td>\n",
       "      <td>-153.700000</td>\n",
       "      <td>7.930000</td>\n",
       "      <td>0.660000</td>\n",
       "      <td>62.800000</td>\n",
       "      <td>5.170000</td>\n",
       "      <td>0.000000</td>\n",
       "    </tr>\n",
       "    <tr>\n",
       "      <th>25%</th>\n",
       "      <td>12.700000</td>\n",
       "      <td>1848.000000</td>\n",
       "      <td>-120.800000</td>\n",
       "      <td>8.530000</td>\n",
       "      <td>29.850000</td>\n",
       "      <td>80.000000</td>\n",
       "      <td>7.260000</td>\n",
       "      <td>0.500000</td>\n",
       "    </tr>\n",
       "    <tr>\n",
       "      <th>50%</th>\n",
       "      <td>20.320000</td>\n",
       "      <td>1939.000000</td>\n",
       "      <td>-115.700000</td>\n",
       "      <td>8.650000</td>\n",
       "      <td>42.140000</td>\n",
       "      <td>83.200000</td>\n",
       "      <td>8.080000</td>\n",
       "      <td>0.900000</td>\n",
       "    </tr>\n",
       "    <tr>\n",
       "      <th>75%</th>\n",
       "      <td>23.630000</td>\n",
       "      <td>2070.000000</td>\n",
       "      <td>-112.100000</td>\n",
       "      <td>8.700000</td>\n",
       "      <td>65.795000</td>\n",
       "      <td>88.900000</td>\n",
       "      <td>9.250000</td>\n",
       "      <td>1.200000</td>\n",
       "    </tr>\n",
       "    <tr>\n",
       "      <th>max</th>\n",
       "      <td>28.570000</td>\n",
       "      <td>2164.000000</td>\n",
       "      <td>-76.500000</td>\n",
       "      <td>9.230000</td>\n",
       "      <td>636.700000</td>\n",
       "      <td>209.700000</td>\n",
       "      <td>16.170000</td>\n",
       "      <td>16.100000</td>\n",
       "    </tr>\n",
       "  </tbody>\n",
       "</table>\n",
       "</div>"
      ],
      "text/plain": [
       "             Temp C  Sp Cond (uS/cm)       pH (mV)            pH  \\\n",
       "count  18947.000000     18947.000000  18947.000000  18947.000000   \n",
       "mean      18.488235      1933.564575   -116.806951      8.633415   \n",
       "std        6.134464       151.800551      8.973830      0.147231   \n",
       "min        5.630000         3.000000   -153.700000      7.930000   \n",
       "25%       12.700000      1848.000000   -120.800000      8.530000   \n",
       "50%       20.320000      1939.000000   -115.700000      8.650000   \n",
       "75%       23.630000      2070.000000   -112.100000      8.700000   \n",
       "max       28.570000      2164.000000    -76.500000      9.230000   \n",
       "\n",
       "       Turbidity (NTU)       ODOSat%    ODO (mg/L)  BGA-Phycocyanin RFU  \n",
       "count     18947.000000  18947.000000  18947.000000         18947.000000  \n",
       "mean         58.129348     87.056980      8.179008             0.979511  \n",
       "std          54.622278     13.793755      1.278416             0.731423  \n",
       "min           0.660000     62.800000      5.170000             0.000000  \n",
       "25%          29.850000     80.000000      7.260000             0.500000  \n",
       "50%          42.140000     83.200000      8.080000             0.900000  \n",
       "75%          65.795000     88.900000      9.250000             1.200000  \n",
       "max         636.700000    209.700000     16.170000            16.100000  "
      ]
     },
     "execution_count": 5,
     "metadata": {},
     "output_type": "execute_result"
    }
   ],
   "source": [
    "train_dfs[train_index].describe()"
   ]
  },
  {
   "cell_type": "code",
   "execution_count": 6,
   "metadata": {},
   "outputs": [
    {
     "data": {
      "text/html": [
       "<div>\n",
       "<style scoped>\n",
       "    .dataframe tbody tr th:only-of-type {\n",
       "        vertical-align: middle;\n",
       "    }\n",
       "\n",
       "    .dataframe tbody tr th {\n",
       "        vertical-align: top;\n",
       "    }\n",
       "\n",
       "    .dataframe thead th {\n",
       "        text-align: right;\n",
       "    }\n",
       "</style>\n",
       "<table border=\"1\" class=\"dataframe\">\n",
       "  <thead>\n",
       "    <tr style=\"text-align: right;\">\n",
       "      <th></th>\n",
       "      <th>Temp C</th>\n",
       "      <th>Sp Cond (uS/cm)</th>\n",
       "      <th>pH (mV)</th>\n",
       "      <th>pH</th>\n",
       "      <th>Turbidity (NTU)</th>\n",
       "      <th>ODOSat%</th>\n",
       "      <th>ODO (mg/L)</th>\n",
       "      <th>BGA-Phycocyanin RFU</th>\n",
       "    </tr>\n",
       "  </thead>\n",
       "  <tbody>\n",
       "    <tr>\n",
       "      <th>count</th>\n",
       "      <td>19484.000000</td>\n",
       "      <td>19484.000000</td>\n",
       "      <td>19484.000000</td>\n",
       "      <td>19484.000000</td>\n",
       "      <td>19484.000000</td>\n",
       "      <td>19484.000000</td>\n",
       "      <td>19484.000000</td>\n",
       "      <td>19484.000000</td>\n",
       "    </tr>\n",
       "    <tr>\n",
       "      <th>mean</th>\n",
       "      <td>18.811541</td>\n",
       "      <td>2105.587354</td>\n",
       "      <td>-136.048199</td>\n",
       "      <td>8.752403</td>\n",
       "      <td>69.619871</td>\n",
       "      <td>87.104491</td>\n",
       "      <td>8.094141</td>\n",
       "      <td>1.681426</td>\n",
       "    </tr>\n",
       "    <tr>\n",
       "      <th>std</th>\n",
       "      <td>5.116165</td>\n",
       "      <td>168.535267</td>\n",
       "      <td>12.108105</td>\n",
       "      <td>0.207511</td>\n",
       "      <td>66.298007</td>\n",
       "      <td>13.022364</td>\n",
       "      <td>1.136476</td>\n",
       "      <td>1.547929</td>\n",
       "    </tr>\n",
       "    <tr>\n",
       "      <th>min</th>\n",
       "      <td>7.550000</td>\n",
       "      <td>2.000000</td>\n",
       "      <td>-176.400000</td>\n",
       "      <td>8.390000</td>\n",
       "      <td>0.000000</td>\n",
       "      <td>62.800000</td>\n",
       "      <td>5.140000</td>\n",
       "      <td>-0.400000</td>\n",
       "    </tr>\n",
       "    <tr>\n",
       "      <th>25%</th>\n",
       "      <td>15.260000</td>\n",
       "      <td>1961.000000</td>\n",
       "      <td>-145.800000</td>\n",
       "      <td>8.600000</td>\n",
       "      <td>37.500000</td>\n",
       "      <td>79.400000</td>\n",
       "      <td>7.300000</td>\n",
       "      <td>0.700000</td>\n",
       "    </tr>\n",
       "    <tr>\n",
       "      <th>50%</th>\n",
       "      <td>19.910000</td>\n",
       "      <td>2145.000000</td>\n",
       "      <td>-131.700000</td>\n",
       "      <td>8.690000</td>\n",
       "      <td>52.935000</td>\n",
       "      <td>83.400000</td>\n",
       "      <td>7.880000</td>\n",
       "      <td>1.200000</td>\n",
       "    </tr>\n",
       "    <tr>\n",
       "      <th>75%</th>\n",
       "      <td>22.750000</td>\n",
       "      <td>2237.000000</td>\n",
       "      <td>-127.600000</td>\n",
       "      <td>8.930000</td>\n",
       "      <td>79.022500</td>\n",
       "      <td>91.200000</td>\n",
       "      <td>8.770000</td>\n",
       "      <td>2.100000</td>\n",
       "    </tr>\n",
       "    <tr>\n",
       "      <th>max</th>\n",
       "      <td>28.220000</td>\n",
       "      <td>2389.000000</td>\n",
       "      <td>-113.800000</td>\n",
       "      <td>9.450000</td>\n",
       "      <td>2273.070000</td>\n",
       "      <td>191.300000</td>\n",
       "      <td>15.340000</td>\n",
       "      <td>28.300000</td>\n",
       "    </tr>\n",
       "  </tbody>\n",
       "</table>\n",
       "</div>"
      ],
      "text/plain": [
       "             Temp C  Sp Cond (uS/cm)       pH (mV)            pH  \\\n",
       "count  19484.000000     19484.000000  19484.000000  19484.000000   \n",
       "mean      18.811541      2105.587354   -136.048199      8.752403   \n",
       "std        5.116165       168.535267     12.108105      0.207511   \n",
       "min        7.550000         2.000000   -176.400000      8.390000   \n",
       "25%       15.260000      1961.000000   -145.800000      8.600000   \n",
       "50%       19.910000      2145.000000   -131.700000      8.690000   \n",
       "75%       22.750000      2237.000000   -127.600000      8.930000   \n",
       "max       28.220000      2389.000000   -113.800000      9.450000   \n",
       "\n",
       "       Turbidity (NTU)       ODOSat%    ODO (mg/L)  BGA-Phycocyanin RFU  \n",
       "count     19484.000000  19484.000000  19484.000000         19484.000000  \n",
       "mean         69.619871     87.104491      8.094141             1.681426  \n",
       "std          66.298007     13.022364      1.136476             1.547929  \n",
       "min           0.000000     62.800000      5.140000            -0.400000  \n",
       "25%          37.500000     79.400000      7.300000             0.700000  \n",
       "50%          52.935000     83.400000      7.880000             1.200000  \n",
       "75%          79.022500     91.200000      8.770000             2.100000  \n",
       "max        2273.070000    191.300000     15.340000            28.300000  "
      ]
     },
     "execution_count": 6,
     "metadata": {},
     "output_type": "execute_result"
    }
   ],
   "source": [
    "test_dfs[test_index].describe()"
   ]
  },
  {
   "cell_type": "markdown",
   "metadata": {},
   "source": [
    "## Use Datetime Index"
   ]
  },
  {
   "cell_type": "code",
   "execution_count": 7,
   "metadata": {},
   "outputs": [
    {
     "name": "stdout",
     "output_type": "stream",
     "text": [
      "Time America/Boise UTC-06:00     object\n",
      "Temp C                          float64\n",
      "Sp Cond (uS/cm)                   int64\n",
      "pH (mV)                         float64\n",
      "pH                              float64\n",
      "Turbidity (NTU)                 float64\n",
      "ODOSat%                         float64\n",
      "ODO (mg/L)                      float64\n",
      "BGA-Phycocyanin RFU             float64\n",
      "dtype: object\n",
      "Date (mm.dd.yyyy)       object\n",
      "Time 24hr               object\n",
      "Temp C                 float64\n",
      "Sp Cond (uS/cm)          int64\n",
      "pH (mV)                float64\n",
      "pH                     float64\n",
      "Turbidity (NTU)        float64\n",
      "ODOSat%                float64\n",
      "ODO (mg/L)             float64\n",
      "BGA-Phycocyanin RFU    float64\n",
      "dtype: object\n"
     ]
    }
   ],
   "source": [
    "print(test_dfs[test_index].dtypes)\n",
    "print(train_dfs[train_index].dtypes)"
   ]
  },
  {
   "cell_type": "code",
   "execution_count": 8,
   "metadata": {},
   "outputs": [
    {
     "data": {
      "text/html": [
       "<div>\n",
       "<style scoped>\n",
       "    .dataframe tbody tr th:only-of-type {\n",
       "        vertical-align: middle;\n",
       "    }\n",
       "\n",
       "    .dataframe tbody tr th {\n",
       "        vertical-align: top;\n",
       "    }\n",
       "\n",
       "    .dataframe thead th {\n",
       "        text-align: right;\n",
       "    }\n",
       "</style>\n",
       "<table border=\"1\" class=\"dataframe\">\n",
       "  <thead>\n",
       "    <tr style=\"text-align: right;\">\n",
       "      <th></th>\n",
       "      <th>Temp C</th>\n",
       "      <th>Sp Cond (uS/cm)</th>\n",
       "      <th>pH (mV)</th>\n",
       "      <th>pH</th>\n",
       "      <th>Turbidity (NTU)</th>\n",
       "      <th>ODOSat%</th>\n",
       "      <th>ODO (mg/L)</th>\n",
       "      <th>BGA-Phycocyanin RFU</th>\n",
       "      <th>datetime</th>\n",
       "    </tr>\n",
       "    <tr>\n",
       "      <th>timestamp</th>\n",
       "      <th></th>\n",
       "      <th></th>\n",
       "      <th></th>\n",
       "      <th></th>\n",
       "      <th></th>\n",
       "      <th></th>\n",
       "      <th></th>\n",
       "      <th></th>\n",
       "      <th></th>\n",
       "    </tr>\n",
       "  </thead>\n",
       "  <tbody>\n",
       "    <tr>\n",
       "      <th>2017-05-05 00:00:00</th>\n",
       "      <td>15.02</td>\n",
       "      <td>1848</td>\n",
       "      <td>-100.1</td>\n",
       "      <td>8.36</td>\n",
       "      <td>16.84</td>\n",
       "      <td>90.2</td>\n",
       "      <td>9.04</td>\n",
       "      <td>0.4</td>\n",
       "      <td>2017-05-05 00:00:00</td>\n",
       "    </tr>\n",
       "    <tr>\n",
       "      <th>2017-05-05 00:15:00</th>\n",
       "      <td>14.99</td>\n",
       "      <td>1847</td>\n",
       "      <td>-100.1</td>\n",
       "      <td>8.36</td>\n",
       "      <td>16.76</td>\n",
       "      <td>90.2</td>\n",
       "      <td>9.04</td>\n",
       "      <td>0.4</td>\n",
       "      <td>2017-05-05 00:15:00</td>\n",
       "    </tr>\n",
       "    <tr>\n",
       "      <th>2017-05-05 00:30:00</th>\n",
       "      <td>14.96</td>\n",
       "      <td>1847</td>\n",
       "      <td>-100.1</td>\n",
       "      <td>8.36</td>\n",
       "      <td>16.82</td>\n",
       "      <td>90.1</td>\n",
       "      <td>9.04</td>\n",
       "      <td>0.4</td>\n",
       "      <td>2017-05-05 00:30:00</td>\n",
       "    </tr>\n",
       "    <tr>\n",
       "      <th>2017-05-05 00:45:00</th>\n",
       "      <td>14.95</td>\n",
       "      <td>1848</td>\n",
       "      <td>-100.1</td>\n",
       "      <td>8.36</td>\n",
       "      <td>17.19</td>\n",
       "      <td>90.0</td>\n",
       "      <td>9.03</td>\n",
       "      <td>0.4</td>\n",
       "      <td>2017-05-05 00:45:00</td>\n",
       "    </tr>\n",
       "    <tr>\n",
       "      <th>2017-05-05 01:00:00</th>\n",
       "      <td>14.92</td>\n",
       "      <td>1848</td>\n",
       "      <td>-100.0</td>\n",
       "      <td>8.36</td>\n",
       "      <td>16.85</td>\n",
       "      <td>89.8</td>\n",
       "      <td>9.02</td>\n",
       "      <td>0.4</td>\n",
       "      <td>2017-05-05 01:00:00</td>\n",
       "    </tr>\n",
       "  </tbody>\n",
       "</table>\n",
       "</div>"
      ],
      "text/plain": [
       "                     Temp C  Sp Cond (uS/cm)  pH (mV)    pH  Turbidity (NTU)  \\\n",
       "timestamp                                                                      \n",
       "2017-05-05 00:00:00   15.02             1848   -100.1  8.36            16.84   \n",
       "2017-05-05 00:15:00   14.99             1847   -100.1  8.36            16.76   \n",
       "2017-05-05 00:30:00   14.96             1847   -100.1  8.36            16.82   \n",
       "2017-05-05 00:45:00   14.95             1848   -100.1  8.36            17.19   \n",
       "2017-05-05 01:00:00   14.92             1848   -100.0  8.36            16.85   \n",
       "\n",
       "                     ODOSat%  ODO (mg/L)  BGA-Phycocyanin RFU  \\\n",
       "timestamp                                                       \n",
       "2017-05-05 00:00:00     90.2        9.04                  0.4   \n",
       "2017-05-05 00:15:00     90.2        9.04                  0.4   \n",
       "2017-05-05 00:30:00     90.1        9.04                  0.4   \n",
       "2017-05-05 00:45:00     90.0        9.03                  0.4   \n",
       "2017-05-05 01:00:00     89.8        9.02                  0.4   \n",
       "\n",
       "                               datetime  \n",
       "timestamp                                \n",
       "2017-05-05 00:00:00 2017-05-05 00:00:00  \n",
       "2017-05-05 00:15:00 2017-05-05 00:15:00  \n",
       "2017-05-05 00:30:00 2017-05-05 00:30:00  \n",
       "2017-05-05 00:45:00 2017-05-05 00:45:00  \n",
       "2017-05-05 01:00:00 2017-05-05 01:00:00  "
      ]
     },
     "execution_count": 8,
     "metadata": {},
     "output_type": "execute_result"
    }
   ],
   "source": [
    "# We will need to engineer a datetime column for our 2017 data\n",
    "\n",
    "# Create a single datetime column from the strings provided in our csv's\n",
    "for i in range(0, len(train_dfs)):\n",
    "    timestamp = train_dfs[i]['Date (mm.dd.yyyy)'] + ' '+ train_dfs[i]['Time 24hr']\n",
    "    timestamp = pd.to_datetime(timestamp)\n",
    "    train_dfs[i]['timestamp'] = timestamp\n",
    "    train_dfs[i]['datetime'] = timestamp\n",
    "    train_dfs[i] = train_dfs[i].set_index('timestamp')\n",
    "    train_dfs[i] = train_dfs[i].drop(columns=['Date (mm.dd.yyyy)', 'Time 24hr'])\n",
    "train_dfs[train_index].head()"
   ]
  },
  {
   "cell_type": "code",
   "execution_count": 9,
   "metadata": {},
   "outputs": [
    {
     "data": {
      "text/html": [
       "<div>\n",
       "<style scoped>\n",
       "    .dataframe tbody tr th:only-of-type {\n",
       "        vertical-align: middle;\n",
       "    }\n",
       "\n",
       "    .dataframe tbody tr th {\n",
       "        vertical-align: top;\n",
       "    }\n",
       "\n",
       "    .dataframe thead th {\n",
       "        text-align: right;\n",
       "    }\n",
       "</style>\n",
       "<table border=\"1\" class=\"dataframe\">\n",
       "  <thead>\n",
       "    <tr style=\"text-align: right;\">\n",
       "      <th></th>\n",
       "      <th>Temp C</th>\n",
       "      <th>Sp Cond (uS/cm)</th>\n",
       "      <th>pH (mV)</th>\n",
       "      <th>pH</th>\n",
       "      <th>Turbidity (NTU)</th>\n",
       "      <th>ODOSat%</th>\n",
       "      <th>ODO (mg/L)</th>\n",
       "      <th>BGA-Phycocyanin RFU</th>\n",
       "      <th>datetime</th>\n",
       "    </tr>\n",
       "    <tr>\n",
       "      <th>timestamp</th>\n",
       "      <th></th>\n",
       "      <th></th>\n",
       "      <th></th>\n",
       "      <th></th>\n",
       "      <th></th>\n",
       "      <th></th>\n",
       "      <th></th>\n",
       "      <th></th>\n",
       "      <th></th>\n",
       "    </tr>\n",
       "  </thead>\n",
       "  <tbody>\n",
       "    <tr>\n",
       "      <th>2018-04-11 11:15:00</th>\n",
       "      <td>11.06</td>\n",
       "      <td>1874</td>\n",
       "      <td>-114.2</td>\n",
       "      <td>8.39</td>\n",
       "      <td>46.27</td>\n",
       "      <td>89.3</td>\n",
       "      <td>9.78</td>\n",
       "      <td>0.7</td>\n",
       "      <td>2018-04-11 11:15:00</td>\n",
       "    </tr>\n",
       "    <tr>\n",
       "      <th>2018-04-11 11:30:00</th>\n",
       "      <td>10.98</td>\n",
       "      <td>1879</td>\n",
       "      <td>-114.2</td>\n",
       "      <td>8.39</td>\n",
       "      <td>46.55</td>\n",
       "      <td>89.2</td>\n",
       "      <td>9.78</td>\n",
       "      <td>0.8</td>\n",
       "      <td>2018-04-11 11:30:00</td>\n",
       "    </tr>\n",
       "    <tr>\n",
       "      <th>2018-04-11 11:45:00</th>\n",
       "      <td>10.58</td>\n",
       "      <td>1865</td>\n",
       "      <td>-113.8</td>\n",
       "      <td>8.39</td>\n",
       "      <td>48.62</td>\n",
       "      <td>87.5</td>\n",
       "      <td>9.68</td>\n",
       "      <td>0.9</td>\n",
       "      <td>2018-04-11 11:45:00</td>\n",
       "    </tr>\n",
       "    <tr>\n",
       "      <th>2018-04-11 12:00:00</th>\n",
       "      <td>10.67</td>\n",
       "      <td>1864</td>\n",
       "      <td>-114.1</td>\n",
       "      <td>8.39</td>\n",
       "      <td>47.96</td>\n",
       "      <td>88.0</td>\n",
       "      <td>9.72</td>\n",
       "      <td>0.8</td>\n",
       "      <td>2018-04-11 12:00:00</td>\n",
       "    </tr>\n",
       "    <tr>\n",
       "      <th>2018-04-11 12:15:00</th>\n",
       "      <td>10.71</td>\n",
       "      <td>1864</td>\n",
       "      <td>-114.3</td>\n",
       "      <td>8.40</td>\n",
       "      <td>49.47</td>\n",
       "      <td>88.3</td>\n",
       "      <td>9.75</td>\n",
       "      <td>0.8</td>\n",
       "      <td>2018-04-11 12:15:00</td>\n",
       "    </tr>\n",
       "  </tbody>\n",
       "</table>\n",
       "</div>"
      ],
      "text/plain": [
       "                     Temp C  Sp Cond (uS/cm)  pH (mV)    pH  Turbidity (NTU)  \\\n",
       "timestamp                                                                      \n",
       "2018-04-11 11:15:00   11.06             1874   -114.2  8.39            46.27   \n",
       "2018-04-11 11:30:00   10.98             1879   -114.2  8.39            46.55   \n",
       "2018-04-11 11:45:00   10.58             1865   -113.8  8.39            48.62   \n",
       "2018-04-11 12:00:00   10.67             1864   -114.1  8.39            47.96   \n",
       "2018-04-11 12:15:00   10.71             1864   -114.3  8.40            49.47   \n",
       "\n",
       "                     ODOSat%  ODO (mg/L)  BGA-Phycocyanin RFU  \\\n",
       "timestamp                                                       \n",
       "2018-04-11 11:15:00     89.3        9.78                  0.7   \n",
       "2018-04-11 11:30:00     89.2        9.78                  0.8   \n",
       "2018-04-11 11:45:00     87.5        9.68                  0.9   \n",
       "2018-04-11 12:00:00     88.0        9.72                  0.8   \n",
       "2018-04-11 12:15:00     88.3        9.75                  0.8   \n",
       "\n",
       "                               datetime  \n",
       "timestamp                                \n",
       "2018-04-11 11:15:00 2018-04-11 11:15:00  \n",
       "2018-04-11 11:30:00 2018-04-11 11:30:00  \n",
       "2018-04-11 11:45:00 2018-04-11 11:45:00  \n",
       "2018-04-11 12:00:00 2018-04-11 12:00:00  \n",
       "2018-04-11 12:15:00 2018-04-11 12:15:00  "
      ]
     },
     "execution_count": 9,
     "metadata": {},
     "output_type": "execute_result"
    }
   ],
   "source": [
    "# Now to datetime index our 2018 data\n",
    "for i in range(0, len(test_dfs)):\n",
    "    timestamp = pd.to_datetime(test_dfs[i]['Time America/Boise UTC-06:00'])\n",
    "    test_dfs[i]['timestamp'] = timestamp\n",
    "    test_dfs[i]['datetime'] = timestamp\n",
    "    test_dfs[i] = test_dfs[i].set_index('timestamp')\n",
    "    test_dfs[i] = test_dfs[i].drop(columns=['Time America/Boise UTC-06:00'])\n",
    "test_dfs[test_index].head()"
   ]
  },
  {
   "cell_type": "markdown",
   "metadata": {},
   "source": [
    "## Import And Clean Weather Data"
   ]
  },
  {
   "cell_type": "code",
   "execution_count": 10,
   "metadata": {},
   "outputs": [
    {
     "data": {
      "text/html": [
       "<div>\n",
       "<style scoped>\n",
       "    .dataframe tbody tr th:only-of-type {\n",
       "        vertical-align: middle;\n",
       "    }\n",
       "\n",
       "    .dataframe tbody tr th {\n",
       "        vertical-align: top;\n",
       "    }\n",
       "\n",
       "    .dataframe thead th {\n",
       "        text-align: right;\n",
       "    }\n",
       "</style>\n",
       "<table border=\"1\" class=\"dataframe\">\n",
       "  <thead>\n",
       "    <tr style=\"text-align: right;\">\n",
       "      <th></th>\n",
       "      <th>STATION</th>\n",
       "      <th>NAME</th>\n",
       "      <th>LATITUDE</th>\n",
       "      <th>LONGITUDE</th>\n",
       "      <th>ELEVATION</th>\n",
       "      <th>DATE</th>\n",
       "      <th>DAPR</th>\n",
       "      <th>EVAP</th>\n",
       "      <th>MDPR</th>\n",
       "      <th>MNPN</th>\n",
       "      <th>...</th>\n",
       "      <th>TMAX</th>\n",
       "      <th>TMIN</th>\n",
       "      <th>TOBS</th>\n",
       "      <th>WESD</th>\n",
       "      <th>WESF</th>\n",
       "      <th>WT01</th>\n",
       "      <th>WT03</th>\n",
       "      <th>WT04</th>\n",
       "      <th>WT05</th>\n",
       "      <th>WT11</th>\n",
       "    </tr>\n",
       "  </thead>\n",
       "  <tbody>\n",
       "    <tr>\n",
       "      <th>0</th>\n",
       "      <td>USC00427064</td>\n",
       "      <td>PROVO BYU, UT US</td>\n",
       "      <td>40.2458</td>\n",
       "      <td>-111.6508</td>\n",
       "      <td>1392.9</td>\n",
       "      <td>5/1/2017</td>\n",
       "      <td>NaN</td>\n",
       "      <td>NaN</td>\n",
       "      <td>NaN</td>\n",
       "      <td>NaN</td>\n",
       "      <td>...</td>\n",
       "      <td>18.9</td>\n",
       "      <td>7.2</td>\n",
       "      <td>13.3</td>\n",
       "      <td>NaN</td>\n",
       "      <td>NaN</td>\n",
       "      <td>NaN</td>\n",
       "      <td>NaN</td>\n",
       "      <td>NaN</td>\n",
       "      <td>NaN</td>\n",
       "      <td>NaN</td>\n",
       "    </tr>\n",
       "    <tr>\n",
       "      <th>1</th>\n",
       "      <td>USC00427064</td>\n",
       "      <td>PROVO BYU, UT US</td>\n",
       "      <td>40.2458</td>\n",
       "      <td>-111.6508</td>\n",
       "      <td>1392.9</td>\n",
       "      <td>5/2/2017</td>\n",
       "      <td>NaN</td>\n",
       "      <td>NaN</td>\n",
       "      <td>NaN</td>\n",
       "      <td>NaN</td>\n",
       "      <td>...</td>\n",
       "      <td>19.4</td>\n",
       "      <td>7.8</td>\n",
       "      <td>17.8</td>\n",
       "      <td>NaN</td>\n",
       "      <td>NaN</td>\n",
       "      <td>NaN</td>\n",
       "      <td>NaN</td>\n",
       "      <td>NaN</td>\n",
       "      <td>NaN</td>\n",
       "      <td>NaN</td>\n",
       "    </tr>\n",
       "    <tr>\n",
       "      <th>2</th>\n",
       "      <td>USC00427064</td>\n",
       "      <td>PROVO BYU, UT US</td>\n",
       "      <td>40.2458</td>\n",
       "      <td>-111.6508</td>\n",
       "      <td>1392.9</td>\n",
       "      <td>5/3/2017</td>\n",
       "      <td>NaN</td>\n",
       "      <td>NaN</td>\n",
       "      <td>NaN</td>\n",
       "      <td>NaN</td>\n",
       "      <td>...</td>\n",
       "      <td>21.7</td>\n",
       "      <td>4.4</td>\n",
       "      <td>21.1</td>\n",
       "      <td>NaN</td>\n",
       "      <td>NaN</td>\n",
       "      <td>NaN</td>\n",
       "      <td>NaN</td>\n",
       "      <td>NaN</td>\n",
       "      <td>NaN</td>\n",
       "      <td>NaN</td>\n",
       "    </tr>\n",
       "    <tr>\n",
       "      <th>3</th>\n",
       "      <td>USC00427064</td>\n",
       "      <td>PROVO BYU, UT US</td>\n",
       "      <td>40.2458</td>\n",
       "      <td>-111.6508</td>\n",
       "      <td>1392.9</td>\n",
       "      <td>5/4/2017</td>\n",
       "      <td>NaN</td>\n",
       "      <td>NaN</td>\n",
       "      <td>NaN</td>\n",
       "      <td>NaN</td>\n",
       "      <td>...</td>\n",
       "      <td>26.7</td>\n",
       "      <td>6.7</td>\n",
       "      <td>26.7</td>\n",
       "      <td>NaN</td>\n",
       "      <td>NaN</td>\n",
       "      <td>NaN</td>\n",
       "      <td>NaN</td>\n",
       "      <td>NaN</td>\n",
       "      <td>NaN</td>\n",
       "      <td>NaN</td>\n",
       "    </tr>\n",
       "    <tr>\n",
       "      <th>4</th>\n",
       "      <td>USC00427064</td>\n",
       "      <td>PROVO BYU, UT US</td>\n",
       "      <td>40.2458</td>\n",
       "      <td>-111.6508</td>\n",
       "      <td>1392.9</td>\n",
       "      <td>5/5/2017</td>\n",
       "      <td>NaN</td>\n",
       "      <td>NaN</td>\n",
       "      <td>NaN</td>\n",
       "      <td>NaN</td>\n",
       "      <td>...</td>\n",
       "      <td>31.7</td>\n",
       "      <td>8.9</td>\n",
       "      <td>30.6</td>\n",
       "      <td>NaN</td>\n",
       "      <td>NaN</td>\n",
       "      <td>NaN</td>\n",
       "      <td>NaN</td>\n",
       "      <td>NaN</td>\n",
       "      <td>NaN</td>\n",
       "      <td>NaN</td>\n",
       "    </tr>\n",
       "  </tbody>\n",
       "</table>\n",
       "<p>5 rows × 25 columns</p>\n",
       "</div>"
      ],
      "text/plain": [
       "       STATION              NAME  LATITUDE  LONGITUDE  ELEVATION      DATE  \\\n",
       "0  USC00427064  PROVO BYU, UT US   40.2458  -111.6508     1392.9  5/1/2017   \n",
       "1  USC00427064  PROVO BYU, UT US   40.2458  -111.6508     1392.9  5/2/2017   \n",
       "2  USC00427064  PROVO BYU, UT US   40.2458  -111.6508     1392.9  5/3/2017   \n",
       "3  USC00427064  PROVO BYU, UT US   40.2458  -111.6508     1392.9  5/4/2017   \n",
       "4  USC00427064  PROVO BYU, UT US   40.2458  -111.6508     1392.9  5/5/2017   \n",
       "\n",
       "   DAPR  EVAP  MDPR  MNPN  ...   TMAX  TMIN  TOBS  WESD  WESF  WT01  WT03  \\\n",
       "0   NaN   NaN   NaN   NaN  ...   18.9   7.2  13.3   NaN   NaN   NaN   NaN   \n",
       "1   NaN   NaN   NaN   NaN  ...   19.4   7.8  17.8   NaN   NaN   NaN   NaN   \n",
       "2   NaN   NaN   NaN   NaN  ...   21.7   4.4  21.1   NaN   NaN   NaN   NaN   \n",
       "3   NaN   NaN   NaN   NaN  ...   26.7   6.7  26.7   NaN   NaN   NaN   NaN   \n",
       "4   NaN   NaN   NaN   NaN  ...   31.7   8.9  30.6   NaN   NaN   NaN   NaN   \n",
       "\n",
       "   WT04  WT05  WT11  \n",
       "0   NaN   NaN   NaN  \n",
       "1   NaN   NaN   NaN  \n",
       "2   NaN   NaN   NaN  \n",
       "3   NaN   NaN   NaN  \n",
       "4   NaN   NaN   NaN  \n",
       "\n",
       "[5 rows x 25 columns]"
      ]
     },
     "execution_count": 10,
     "metadata": {},
     "output_type": "execute_result"
    }
   ],
   "source": [
    "weather = pd.read_csv('../../data/cleaned/daily_weather_metric_2017_2018.csv')\n",
    "weather.head()"
   ]
  },
  {
   "cell_type": "code",
   "execution_count": 11,
   "metadata": {},
   "outputs": [
    {
     "name": "stdout",
     "output_type": "stream",
     "text": [
      "STATION percent null: 0.0%\n",
      "NAME percent null: 0.0%\n",
      "LATITUDE percent null: 0.0%\n",
      "LONGITUDE percent null: 0.0%\n",
      "ELEVATION percent null: 0.0%\n",
      "DATE percent null: 0.0%\n",
      "DAPR percent null: 99.7%\n",
      "EVAP percent null: 50.6%\n",
      "MDPR percent null: 99.7%\n",
      "MNPN percent null: 50.9%\n",
      "MXPN percent null: 50.9%\n",
      "PRCP percent null: 0.9%\n",
      "SNOW percent null: 0.5%\n",
      "SNWD percent null: 0.5%\n",
      "TAVG percent null: 100.0%\n",
      "TMAX percent null: 0.2%\n",
      "TMIN percent null: 0.0%\n",
      "TOBS percent null: 0.5%\n",
      "WESD percent null: 100.0%\n",
      "WESF percent null: 100.0%\n",
      "WT01 percent null: 100.0%\n",
      "WT03 percent null: 99.5%\n",
      "WT04 percent null: 100.0%\n",
      "WT05 percent null: 100.0%\n",
      "WT11 percent null: 100.0%\n",
      "dropping columns: ['DAPR', 'EVAP', 'MDPR', 'MNPN', 'MXPN', 'TAVG', 'WESD', 'WESF', 'WT01', 'WT03', 'WT04', 'WT05', 'WT11']\n"
     ]
    }
   ],
   "source": [
    "# Find out how much of the data is missing for each column.\n",
    "drop_columns = []\n",
    "missing_threshold = .05\n",
    "for column in weather.columns:\n",
    "    number_null = np.sum(weather[column].isnull())\n",
    "    column_length = len(weather[column])\n",
    "    should_drop_column = (number_null / column_length) > missing_threshold\n",
    "    print('{} percent null: {:.1f}%'.format(column, (number_null / column_length) * 100))\n",
    "    if should_drop_column:\n",
    "        drop_columns.append(column)\n",
    "print('dropping columns: {}'.format(drop_columns))\n",
    "weather = weather.drop(drop_columns, axis=1)"
   ]
  },
  {
   "cell_type": "code",
   "execution_count": 12,
   "metadata": {
    "scrolled": true
   },
   "outputs": [],
   "source": [
    "# Drop the columns we will not be using.\n",
    "weather = weather.drop(columns=['STATION','NAME','LATITUDE','LONGITUDE','ELEVATION', 'TOBS'])"
   ]
  },
  {
   "cell_type": "code",
   "execution_count": 13,
   "metadata": {},
   "outputs": [
    {
     "data": {
      "text/plain": [
       "DATE    datetime64[ns]\n",
       "PRCP           float64\n",
       "SNOW           float64\n",
       "SNWD           float64\n",
       "TMAX           float64\n",
       "TMIN           float64\n",
       "dtype: object"
      ]
     },
     "execution_count": 13,
     "metadata": {},
     "output_type": "execute_result"
    }
   ],
   "source": [
    "weather['DATE'] = pd.to_datetime(weather['DATE'])\n",
    "# Set a datetime index for convenience\n",
    "weather['timestamp'] = weather['DATE']\n",
    "weather = weather.set_index('timestamp')\n",
    "weather.dtypes"
   ]
  },
  {
   "cell_type": "code",
   "execution_count": 14,
   "metadata": {},
   "outputs": [],
   "source": [
    "weather['DATE'] = weather['DATE'].apply(lambda x: x.date())"
   ]
  },
  {
   "cell_type": "code",
   "execution_count": 15,
   "metadata": {},
   "outputs": [
    {
     "name": "stdout",
     "output_type": "stream",
     "text": [
      "2017-05-05\n",
      "2017-05-01\n",
      "False\n",
      "\n",
      "2017-05-05\n",
      "2017-05-05\n",
      "True\n"
     ]
    }
   ],
   "source": [
    "# Test some date comparison logic\n",
    "print(train_dfs[train_index]['datetime'][0].date())\n",
    "print(weather['DATE'][0])\n",
    "print(train_dfs[train_index]['datetime'][0].date() == weather['DATE'][0])\n",
    "print()\n",
    "print(train_dfs[train_index]['datetime'][0].date())\n",
    "print(weather['DATE'][4])\n",
    "print(train_dfs[train_index]['datetime'][0].date() == weather['DATE'][4])\n"
   ]
  },
  {
   "cell_type": "code",
   "execution_count": 16,
   "metadata": {},
   "outputs": [
    {
     "data": {
      "text/plain": [
       "0.0"
      ]
     },
     "execution_count": 16,
     "metadata": {},
     "output_type": "execute_result"
    }
   ],
   "source": [
    "# Test some indexing logic\n",
    "weather[weather['DATE'] == train_dfs[train_index]['datetime'][2].date()]['PRCP'].values[0]"
   ]
  },
  {
   "cell_type": "code",
   "execution_count": 17,
   "metadata": {},
   "outputs": [
    {
     "name": "stdout",
     "output_type": "stream",
     "text": [
      "starting dataframe 1/4\n",
      "adding series for column: PRCP\n",
      "adding series for column: SNOW\n",
      "adding series for column: SNWD\n",
      "adding series for column: TMAX\n",
      "adding series for column: TMIN\n",
      "starting dataframe 2/4\n",
      "adding series for column: PRCP\n",
      "adding series for column: SNOW\n",
      "adding series for column: SNWD\n",
      "adding series for column: TMAX\n",
      "adding series for column: TMIN\n",
      "starting dataframe 3/4\n",
      "adding series for column: PRCP\n",
      "adding series for column: SNOW\n",
      "adding series for column: SNWD\n",
      "adding series for column: TMAX\n",
      "adding series for column: TMIN\n",
      "starting dataframe 4/4\n",
      "adding series for column: PRCP\n",
      "adding series for column: SNOW\n",
      "adding series for column: SNWD\n",
      "adding series for column: TMAX\n",
      "adding series for column: TMIN\n"
     ]
    }
   ],
   "source": [
    "count = 0\n",
    "total = len(train_dfs + test_dfs)\n",
    "for df in train_dfs + test_dfs:\n",
    "    count += 1\n",
    "    print(\"starting dataframe {}/{}\".format(count, total))\n",
    "    for column in weather.drop(columns='DATE').columns:\n",
    "        print(\"adding series for column:\", column)\n",
    "        values = []\n",
    "        old_datetime = None\n",
    "        value = None\n",
    "        for datetime in df['datetime']:\n",
    "            datetime = datetime.date()\n",
    "            if datetime != old_datetime:\n",
    "                old_datetime = datetime\n",
    "                value = weather[weather['DATE'] == datetime][column]\n",
    "            values.append(value.values[0] if len(value.values) > 0 else np.nan)\n",
    "        df[column] = values"
   ]
  },
  {
   "cell_type": "markdown",
   "metadata": {},
   "source": [
    "### Verify weather values copied over correctly"
   ]
  },
  {
   "cell_type": "code",
   "execution_count": 18,
   "metadata": {},
   "outputs": [
    {
     "data": {
      "text/html": [
       "<div>\n",
       "<style scoped>\n",
       "    .dataframe tbody tr th:only-of-type {\n",
       "        vertical-align: middle;\n",
       "    }\n",
       "\n",
       "    .dataframe tbody tr th {\n",
       "        vertical-align: top;\n",
       "    }\n",
       "\n",
       "    .dataframe thead th {\n",
       "        text-align: right;\n",
       "    }\n",
       "</style>\n",
       "<table border=\"1\" class=\"dataframe\">\n",
       "  <thead>\n",
       "    <tr style=\"text-align: right;\">\n",
       "      <th></th>\n",
       "      <th>Temp C</th>\n",
       "      <th>Sp Cond (uS/cm)</th>\n",
       "      <th>pH (mV)</th>\n",
       "      <th>pH</th>\n",
       "      <th>Turbidity (NTU)</th>\n",
       "      <th>ODOSat%</th>\n",
       "      <th>ODO (mg/L)</th>\n",
       "      <th>BGA-Phycocyanin RFU</th>\n",
       "      <th>datetime</th>\n",
       "      <th>PRCP</th>\n",
       "      <th>SNOW</th>\n",
       "      <th>SNWD</th>\n",
       "      <th>TMAX</th>\n",
       "      <th>TMIN</th>\n",
       "    </tr>\n",
       "    <tr>\n",
       "      <th>timestamp</th>\n",
       "      <th></th>\n",
       "      <th></th>\n",
       "      <th></th>\n",
       "      <th></th>\n",
       "      <th></th>\n",
       "      <th></th>\n",
       "      <th></th>\n",
       "      <th></th>\n",
       "      <th></th>\n",
       "      <th></th>\n",
       "      <th></th>\n",
       "      <th></th>\n",
       "      <th></th>\n",
       "      <th></th>\n",
       "    </tr>\n",
       "  </thead>\n",
       "  <tbody>\n",
       "    <tr>\n",
       "      <th>2017-05-05 00:00:00</th>\n",
       "      <td>15.02</td>\n",
       "      <td>1848</td>\n",
       "      <td>-100.1</td>\n",
       "      <td>8.36</td>\n",
       "      <td>16.84</td>\n",
       "      <td>90.2</td>\n",
       "      <td>9.04</td>\n",
       "      <td>0.4</td>\n",
       "      <td>2017-05-05 00:00:00</td>\n",
       "      <td>0.0</td>\n",
       "      <td>0.0</td>\n",
       "      <td>0.0</td>\n",
       "      <td>31.7</td>\n",
       "      <td>8.9</td>\n",
       "    </tr>\n",
       "    <tr>\n",
       "      <th>2017-05-05 00:15:00</th>\n",
       "      <td>14.99</td>\n",
       "      <td>1847</td>\n",
       "      <td>-100.1</td>\n",
       "      <td>8.36</td>\n",
       "      <td>16.76</td>\n",
       "      <td>90.2</td>\n",
       "      <td>9.04</td>\n",
       "      <td>0.4</td>\n",
       "      <td>2017-05-05 00:15:00</td>\n",
       "      <td>0.0</td>\n",
       "      <td>0.0</td>\n",
       "      <td>0.0</td>\n",
       "      <td>31.7</td>\n",
       "      <td>8.9</td>\n",
       "    </tr>\n",
       "    <tr>\n",
       "      <th>2017-05-05 00:30:00</th>\n",
       "      <td>14.96</td>\n",
       "      <td>1847</td>\n",
       "      <td>-100.1</td>\n",
       "      <td>8.36</td>\n",
       "      <td>16.82</td>\n",
       "      <td>90.1</td>\n",
       "      <td>9.04</td>\n",
       "      <td>0.4</td>\n",
       "      <td>2017-05-05 00:30:00</td>\n",
       "      <td>0.0</td>\n",
       "      <td>0.0</td>\n",
       "      <td>0.0</td>\n",
       "      <td>31.7</td>\n",
       "      <td>8.9</td>\n",
       "    </tr>\n",
       "    <tr>\n",
       "      <th>2017-05-05 00:45:00</th>\n",
       "      <td>14.95</td>\n",
       "      <td>1848</td>\n",
       "      <td>-100.1</td>\n",
       "      <td>8.36</td>\n",
       "      <td>17.19</td>\n",
       "      <td>90.0</td>\n",
       "      <td>9.03</td>\n",
       "      <td>0.4</td>\n",
       "      <td>2017-05-05 00:45:00</td>\n",
       "      <td>0.0</td>\n",
       "      <td>0.0</td>\n",
       "      <td>0.0</td>\n",
       "      <td>31.7</td>\n",
       "      <td>8.9</td>\n",
       "    </tr>\n",
       "    <tr>\n",
       "      <th>2017-05-05 01:00:00</th>\n",
       "      <td>14.92</td>\n",
       "      <td>1848</td>\n",
       "      <td>-100.0</td>\n",
       "      <td>8.36</td>\n",
       "      <td>16.85</td>\n",
       "      <td>89.8</td>\n",
       "      <td>9.02</td>\n",
       "      <td>0.4</td>\n",
       "      <td>2017-05-05 01:00:00</td>\n",
       "      <td>0.0</td>\n",
       "      <td>0.0</td>\n",
       "      <td>0.0</td>\n",
       "      <td>31.7</td>\n",
       "      <td>8.9</td>\n",
       "    </tr>\n",
       "    <tr>\n",
       "      <th>2017-05-05 01:15:00</th>\n",
       "      <td>14.92</td>\n",
       "      <td>1850</td>\n",
       "      <td>-100.1</td>\n",
       "      <td>8.36</td>\n",
       "      <td>16.43</td>\n",
       "      <td>89.8</td>\n",
       "      <td>9.02</td>\n",
       "      <td>0.4</td>\n",
       "      <td>2017-05-05 01:15:00</td>\n",
       "      <td>0.0</td>\n",
       "      <td>0.0</td>\n",
       "      <td>0.0</td>\n",
       "      <td>31.7</td>\n",
       "      <td>8.9</td>\n",
       "    </tr>\n",
       "    <tr>\n",
       "      <th>2017-05-05 01:30:00</th>\n",
       "      <td>14.90</td>\n",
       "      <td>1851</td>\n",
       "      <td>-100.1</td>\n",
       "      <td>8.36</td>\n",
       "      <td>16.35</td>\n",
       "      <td>89.7</td>\n",
       "      <td>9.01</td>\n",
       "      <td>0.4</td>\n",
       "      <td>2017-05-05 01:30:00</td>\n",
       "      <td>0.0</td>\n",
       "      <td>0.0</td>\n",
       "      <td>0.0</td>\n",
       "      <td>31.7</td>\n",
       "      <td>8.9</td>\n",
       "    </tr>\n",
       "    <tr>\n",
       "      <th>2017-05-05 01:45:00</th>\n",
       "      <td>14.88</td>\n",
       "      <td>1852</td>\n",
       "      <td>-100.0</td>\n",
       "      <td>8.36</td>\n",
       "      <td>16.40</td>\n",
       "      <td>89.6</td>\n",
       "      <td>9.00</td>\n",
       "      <td>0.4</td>\n",
       "      <td>2017-05-05 01:45:00</td>\n",
       "      <td>0.0</td>\n",
       "      <td>0.0</td>\n",
       "      <td>0.0</td>\n",
       "      <td>31.7</td>\n",
       "      <td>8.9</td>\n",
       "    </tr>\n",
       "    <tr>\n",
       "      <th>2017-05-05 02:00:00</th>\n",
       "      <td>14.84</td>\n",
       "      <td>1850</td>\n",
       "      <td>-99.9</td>\n",
       "      <td>8.36</td>\n",
       "      <td>16.82</td>\n",
       "      <td>89.4</td>\n",
       "      <td>8.99</td>\n",
       "      <td>0.4</td>\n",
       "      <td>2017-05-05 02:00:00</td>\n",
       "      <td>0.0</td>\n",
       "      <td>0.0</td>\n",
       "      <td>0.0</td>\n",
       "      <td>31.7</td>\n",
       "      <td>8.9</td>\n",
       "    </tr>\n",
       "    <tr>\n",
       "      <th>2017-05-05 02:15:00</th>\n",
       "      <td>14.83</td>\n",
       "      <td>1851</td>\n",
       "      <td>-100.0</td>\n",
       "      <td>8.36</td>\n",
       "      <td>16.50</td>\n",
       "      <td>89.4</td>\n",
       "      <td>8.99</td>\n",
       "      <td>0.4</td>\n",
       "      <td>2017-05-05 02:15:00</td>\n",
       "      <td>0.0</td>\n",
       "      <td>0.0</td>\n",
       "      <td>0.0</td>\n",
       "      <td>31.7</td>\n",
       "      <td>8.9</td>\n",
       "    </tr>\n",
       "  </tbody>\n",
       "</table>\n",
       "</div>"
      ],
      "text/plain": [
       "                     Temp C  Sp Cond (uS/cm)  pH (mV)    pH  Turbidity (NTU)  \\\n",
       "timestamp                                                                      \n",
       "2017-05-05 00:00:00   15.02             1848   -100.1  8.36            16.84   \n",
       "2017-05-05 00:15:00   14.99             1847   -100.1  8.36            16.76   \n",
       "2017-05-05 00:30:00   14.96             1847   -100.1  8.36            16.82   \n",
       "2017-05-05 00:45:00   14.95             1848   -100.1  8.36            17.19   \n",
       "2017-05-05 01:00:00   14.92             1848   -100.0  8.36            16.85   \n",
       "2017-05-05 01:15:00   14.92             1850   -100.1  8.36            16.43   \n",
       "2017-05-05 01:30:00   14.90             1851   -100.1  8.36            16.35   \n",
       "2017-05-05 01:45:00   14.88             1852   -100.0  8.36            16.40   \n",
       "2017-05-05 02:00:00   14.84             1850    -99.9  8.36            16.82   \n",
       "2017-05-05 02:15:00   14.83             1851   -100.0  8.36            16.50   \n",
       "\n",
       "                     ODOSat%  ODO (mg/L)  BGA-Phycocyanin RFU  \\\n",
       "timestamp                                                       \n",
       "2017-05-05 00:00:00     90.2        9.04                  0.4   \n",
       "2017-05-05 00:15:00     90.2        9.04                  0.4   \n",
       "2017-05-05 00:30:00     90.1        9.04                  0.4   \n",
       "2017-05-05 00:45:00     90.0        9.03                  0.4   \n",
       "2017-05-05 01:00:00     89.8        9.02                  0.4   \n",
       "2017-05-05 01:15:00     89.8        9.02                  0.4   \n",
       "2017-05-05 01:30:00     89.7        9.01                  0.4   \n",
       "2017-05-05 01:45:00     89.6        9.00                  0.4   \n",
       "2017-05-05 02:00:00     89.4        8.99                  0.4   \n",
       "2017-05-05 02:15:00     89.4        8.99                  0.4   \n",
       "\n",
       "                               datetime  PRCP  SNOW  SNWD  TMAX  TMIN  \n",
       "timestamp                                                              \n",
       "2017-05-05 00:00:00 2017-05-05 00:00:00   0.0   0.0   0.0  31.7   8.9  \n",
       "2017-05-05 00:15:00 2017-05-05 00:15:00   0.0   0.0   0.0  31.7   8.9  \n",
       "2017-05-05 00:30:00 2017-05-05 00:30:00   0.0   0.0   0.0  31.7   8.9  \n",
       "2017-05-05 00:45:00 2017-05-05 00:45:00   0.0   0.0   0.0  31.7   8.9  \n",
       "2017-05-05 01:00:00 2017-05-05 01:00:00   0.0   0.0   0.0  31.7   8.9  \n",
       "2017-05-05 01:15:00 2017-05-05 01:15:00   0.0   0.0   0.0  31.7   8.9  \n",
       "2017-05-05 01:30:00 2017-05-05 01:30:00   0.0   0.0   0.0  31.7   8.9  \n",
       "2017-05-05 01:45:00 2017-05-05 01:45:00   0.0   0.0   0.0  31.7   8.9  \n",
       "2017-05-05 02:00:00 2017-05-05 02:00:00   0.0   0.0   0.0  31.7   8.9  \n",
       "2017-05-05 02:15:00 2017-05-05 02:15:00   0.0   0.0   0.0  31.7   8.9  "
      ]
     },
     "execution_count": 18,
     "metadata": {},
     "output_type": "execute_result"
    }
   ],
   "source": [
    "train_dfs[train_index].head(10)"
   ]
  },
  {
   "cell_type": "code",
   "execution_count": 19,
   "metadata": {},
   "outputs": [
    {
     "data": {
      "text/html": [
       "<div>\n",
       "<style scoped>\n",
       "    .dataframe tbody tr th:only-of-type {\n",
       "        vertical-align: middle;\n",
       "    }\n",
       "\n",
       "    .dataframe tbody tr th {\n",
       "        vertical-align: top;\n",
       "    }\n",
       "\n",
       "    .dataframe thead th {\n",
       "        text-align: right;\n",
       "    }\n",
       "</style>\n",
       "<table border=\"1\" class=\"dataframe\">\n",
       "  <thead>\n",
       "    <tr style=\"text-align: right;\">\n",
       "      <th></th>\n",
       "      <th>DATE</th>\n",
       "      <th>PRCP</th>\n",
       "      <th>SNOW</th>\n",
       "      <th>SNWD</th>\n",
       "      <th>TMAX</th>\n",
       "      <th>TMIN</th>\n",
       "    </tr>\n",
       "    <tr>\n",
       "      <th>timestamp</th>\n",
       "      <th></th>\n",
       "      <th></th>\n",
       "      <th></th>\n",
       "      <th></th>\n",
       "      <th></th>\n",
       "      <th></th>\n",
       "    </tr>\n",
       "  </thead>\n",
       "  <tbody>\n",
       "    <tr>\n",
       "      <th>2017-05-01</th>\n",
       "      <td>2017-05-01</td>\n",
       "      <td>0.0</td>\n",
       "      <td>0.0</td>\n",
       "      <td>0.0</td>\n",
       "      <td>18.9</td>\n",
       "      <td>7.2</td>\n",
       "    </tr>\n",
       "    <tr>\n",
       "      <th>2017-05-02</th>\n",
       "      <td>2017-05-02</td>\n",
       "      <td>0.0</td>\n",
       "      <td>0.0</td>\n",
       "      <td>0.0</td>\n",
       "      <td>19.4</td>\n",
       "      <td>7.8</td>\n",
       "    </tr>\n",
       "    <tr>\n",
       "      <th>2017-05-03</th>\n",
       "      <td>2017-05-03</td>\n",
       "      <td>0.0</td>\n",
       "      <td>0.0</td>\n",
       "      <td>0.0</td>\n",
       "      <td>21.7</td>\n",
       "      <td>4.4</td>\n",
       "    </tr>\n",
       "    <tr>\n",
       "      <th>2017-05-04</th>\n",
       "      <td>2017-05-04</td>\n",
       "      <td>0.0</td>\n",
       "      <td>0.0</td>\n",
       "      <td>0.0</td>\n",
       "      <td>26.7</td>\n",
       "      <td>6.7</td>\n",
       "    </tr>\n",
       "    <tr>\n",
       "      <th>2017-05-05</th>\n",
       "      <td>2017-05-05</td>\n",
       "      <td>0.0</td>\n",
       "      <td>0.0</td>\n",
       "      <td>0.0</td>\n",
       "      <td>31.7</td>\n",
       "      <td>8.9</td>\n",
       "    </tr>\n",
       "    <tr>\n",
       "      <th>2017-05-06</th>\n",
       "      <td>2017-05-06</td>\n",
       "      <td>1.8</td>\n",
       "      <td>0.0</td>\n",
       "      <td>0.0</td>\n",
       "      <td>30.6</td>\n",
       "      <td>15.0</td>\n",
       "    </tr>\n",
       "    <tr>\n",
       "      <th>2017-05-07</th>\n",
       "      <td>2017-05-07</td>\n",
       "      <td>0.0</td>\n",
       "      <td>0.0</td>\n",
       "      <td>0.0</td>\n",
       "      <td>27.2</td>\n",
       "      <td>18.9</td>\n",
       "    </tr>\n",
       "    <tr>\n",
       "      <th>2017-05-08</th>\n",
       "      <td>2017-05-08</td>\n",
       "      <td>0.0</td>\n",
       "      <td>0.0</td>\n",
       "      <td>0.0</td>\n",
       "      <td>25.6</td>\n",
       "      <td>12.2</td>\n",
       "    </tr>\n",
       "    <tr>\n",
       "      <th>2017-05-09</th>\n",
       "      <td>2017-05-09</td>\n",
       "      <td>0.0</td>\n",
       "      <td>0.0</td>\n",
       "      <td>0.0</td>\n",
       "      <td>25.6</td>\n",
       "      <td>9.4</td>\n",
       "    </tr>\n",
       "    <tr>\n",
       "      <th>2017-05-10</th>\n",
       "      <td>2017-05-10</td>\n",
       "      <td>0.0</td>\n",
       "      <td>0.0</td>\n",
       "      <td>0.0</td>\n",
       "      <td>25.0</td>\n",
       "      <td>10.6</td>\n",
       "    </tr>\n",
       "  </tbody>\n",
       "</table>\n",
       "</div>"
      ],
      "text/plain": [
       "                  DATE  PRCP  SNOW  SNWD  TMAX  TMIN\n",
       "timestamp                                           \n",
       "2017-05-01  2017-05-01   0.0   0.0   0.0  18.9   7.2\n",
       "2017-05-02  2017-05-02   0.0   0.0   0.0  19.4   7.8\n",
       "2017-05-03  2017-05-03   0.0   0.0   0.0  21.7   4.4\n",
       "2017-05-04  2017-05-04   0.0   0.0   0.0  26.7   6.7\n",
       "2017-05-05  2017-05-05   0.0   0.0   0.0  31.7   8.9\n",
       "2017-05-06  2017-05-06   1.8   0.0   0.0  30.6  15.0\n",
       "2017-05-07  2017-05-07   0.0   0.0   0.0  27.2  18.9\n",
       "2017-05-08  2017-05-08   0.0   0.0   0.0  25.6  12.2\n",
       "2017-05-09  2017-05-09   0.0   0.0   0.0  25.6   9.4\n",
       "2017-05-10  2017-05-10   0.0   0.0   0.0  25.0  10.6"
      ]
     },
     "execution_count": 19,
     "metadata": {},
     "output_type": "execute_result"
    }
   ],
   "source": [
    "weather.head(10)"
   ]
  },
  {
   "cell_type": "markdown",
   "metadata": {},
   "source": [
    "### Import and Clean Wind Data"
   ]
  },
  {
   "cell_type": "code",
   "execution_count": 20,
   "metadata": {},
   "outputs": [],
   "source": [
    "weather_files = ['../../data/raw_data/weather/provo_airport_2017', '../../data/raw_data/weather/provo_airport_2018']\n",
    "# the array to store the readings in\n",
    "contents = []\n",
    "\n",
    "# Extract the weather data in the ISD format\n",
    "for file in weather_files:\n",
    "    contents.append(hf.extract_weather_data(file))\n"
   ]
  },
  {
   "cell_type": "code",
   "execution_count": 21,
   "metadata": {},
   "outputs": [],
   "source": [
    "# the dfs containing the wind information for the readings.\n",
    "wind_frame_2017 = pd.DataFrame(columns=[\"angle\",\"speed\"])\n",
    "wind_frame_2018 = pd.DataFrame(columns=[\"angle\",\"speed\"])\n",
    "\n",
    "\n",
    "wind_frames = [wind_frame_2017, wind_frame_2018]\n",
    "for i in range(len(contents)):\n",
    "    wind_dict = {}\n",
    "    for reading in contents[i]:\n",
    "        reading.GPO_timestamp = hf.round_time(reading.GPO_timestamp)\n",
    "\n",
    "        # no key value made yet\n",
    "        if reading.GPO_timestamp not in wind_dict.keys():\n",
    "            # check to see if the readings are valid\n",
    "            # Sets them to 'invalid' so that when we inpute them it can be handled\n",
    "            if reading.WO_wind_angle == '999':\n",
    "                reading.WO_wind_angle = np.nan\n",
    "            else:\n",
    "                reading.WO_wind_angle = int(reading.WO_wind_angle)\n",
    "            if reading.WO_wind_speed == '9999':\n",
    "                reading.WO_wind_speed = np.nan\n",
    "            else:\n",
    "                # there is a scaling factor involved in the ground station data reading\n",
    "                reading.WO_wind_speed = int(reading.WO_wind_speed)/10.0\n",
    "            wind_dict[reading.GPO_timestamp] = [reading.WO_wind_angle, reading.WO_wind_speed]\n",
    "    wind_frames[i] = pd.DataFrame.from_dict(wind_dict, orient='index')\n",
    "    wind_frames[i] = wind_frames[i].rename(columns={0:'Wind Angle', 1:'Wind Speed'})"
   ]
  },
  {
   "cell_type": "code",
   "execution_count": 22,
   "metadata": {},
   "outputs": [],
   "source": [
    "#we need to join the wind data now to the existing dataframes, but the dont care about\n",
    "\n",
    "for i in range(len(train_dfs)):\n",
    "    # train dfs is the 2017 data set so we need to set the wind frame to that \n",
    "    # dataset\n",
    "    train_dfs[i] = train_dfs[i].join(wind_frames[0])\n",
    "for i in range(len(test_dfs)):\n",
    "    # test dfs is the 2018 data set so we need to set the wind frame to that\n",
    "    # dataset\n",
    "    test_dfs[i] = test_dfs[i].join(wind_frames[1])"
   ]
  },
  {
   "cell_type": "code",
   "execution_count": 23,
   "metadata": {
    "scrolled": false
   },
   "outputs": [
    {
     "data": {
      "text/html": [
       "<div>\n",
       "<style scoped>\n",
       "    .dataframe tbody tr th:only-of-type {\n",
       "        vertical-align: middle;\n",
       "    }\n",
       "\n",
       "    .dataframe tbody tr th {\n",
       "        vertical-align: top;\n",
       "    }\n",
       "\n",
       "    .dataframe thead th {\n",
       "        text-align: right;\n",
       "    }\n",
       "</style>\n",
       "<table border=\"1\" class=\"dataframe\">\n",
       "  <thead>\n",
       "    <tr style=\"text-align: right;\">\n",
       "      <th></th>\n",
       "      <th>Temp C</th>\n",
       "      <th>Sp Cond (uS/cm)</th>\n",
       "      <th>pH (mV)</th>\n",
       "      <th>pH</th>\n",
       "      <th>Turbidity (NTU)</th>\n",
       "      <th>ODOSat%</th>\n",
       "      <th>ODO (mg/L)</th>\n",
       "      <th>BGA-Phycocyanin RFU</th>\n",
       "      <th>datetime</th>\n",
       "      <th>PRCP</th>\n",
       "      <th>SNOW</th>\n",
       "      <th>SNWD</th>\n",
       "      <th>TMAX</th>\n",
       "      <th>TMIN</th>\n",
       "      <th>Wind Angle</th>\n",
       "      <th>Wind Speed</th>\n",
       "    </tr>\n",
       "    <tr>\n",
       "      <th>timestamp</th>\n",
       "      <th></th>\n",
       "      <th></th>\n",
       "      <th></th>\n",
       "      <th></th>\n",
       "      <th></th>\n",
       "      <th></th>\n",
       "      <th></th>\n",
       "      <th></th>\n",
       "      <th></th>\n",
       "      <th></th>\n",
       "      <th></th>\n",
       "      <th></th>\n",
       "      <th></th>\n",
       "      <th></th>\n",
       "      <th></th>\n",
       "      <th></th>\n",
       "    </tr>\n",
       "  </thead>\n",
       "  <tbody>\n",
       "    <tr>\n",
       "      <th>2017-05-05 00:00:00</th>\n",
       "      <td>15.02</td>\n",
       "      <td>1848</td>\n",
       "      <td>-100.1</td>\n",
       "      <td>8.36</td>\n",
       "      <td>16.84</td>\n",
       "      <td>90.2</td>\n",
       "      <td>9.04</td>\n",
       "      <td>0.4</td>\n",
       "      <td>2017-05-05 00:00:00</td>\n",
       "      <td>0.0</td>\n",
       "      <td>0.0</td>\n",
       "      <td>0.0</td>\n",
       "      <td>31.7</td>\n",
       "      <td>8.9</td>\n",
       "      <td>250.0</td>\n",
       "      <td>2.6</td>\n",
       "    </tr>\n",
       "    <tr>\n",
       "      <th>2017-05-05 00:15:00</th>\n",
       "      <td>14.99</td>\n",
       "      <td>1847</td>\n",
       "      <td>-100.1</td>\n",
       "      <td>8.36</td>\n",
       "      <td>16.76</td>\n",
       "      <td>90.2</td>\n",
       "      <td>9.04</td>\n",
       "      <td>0.4</td>\n",
       "      <td>2017-05-05 00:15:00</td>\n",
       "      <td>0.0</td>\n",
       "      <td>0.0</td>\n",
       "      <td>0.0</td>\n",
       "      <td>31.7</td>\n",
       "      <td>8.9</td>\n",
       "      <td>NaN</td>\n",
       "      <td>NaN</td>\n",
       "    </tr>\n",
       "    <tr>\n",
       "      <th>2017-05-05 00:30:00</th>\n",
       "      <td>14.96</td>\n",
       "      <td>1847</td>\n",
       "      <td>-100.1</td>\n",
       "      <td>8.36</td>\n",
       "      <td>16.82</td>\n",
       "      <td>90.1</td>\n",
       "      <td>9.04</td>\n",
       "      <td>0.4</td>\n",
       "      <td>2017-05-05 00:30:00</td>\n",
       "      <td>0.0</td>\n",
       "      <td>0.0</td>\n",
       "      <td>0.0</td>\n",
       "      <td>31.7</td>\n",
       "      <td>8.9</td>\n",
       "      <td>NaN</td>\n",
       "      <td>NaN</td>\n",
       "    </tr>\n",
       "    <tr>\n",
       "      <th>2017-05-05 00:45:00</th>\n",
       "      <td>14.95</td>\n",
       "      <td>1848</td>\n",
       "      <td>-100.1</td>\n",
       "      <td>8.36</td>\n",
       "      <td>17.19</td>\n",
       "      <td>90.0</td>\n",
       "      <td>9.03</td>\n",
       "      <td>0.4</td>\n",
       "      <td>2017-05-05 00:45:00</td>\n",
       "      <td>0.0</td>\n",
       "      <td>0.0</td>\n",
       "      <td>0.0</td>\n",
       "      <td>31.7</td>\n",
       "      <td>8.9</td>\n",
       "      <td>NaN</td>\n",
       "      <td>NaN</td>\n",
       "    </tr>\n",
       "    <tr>\n",
       "      <th>2017-05-05 01:00:00</th>\n",
       "      <td>14.92</td>\n",
       "      <td>1848</td>\n",
       "      <td>-100.0</td>\n",
       "      <td>8.36</td>\n",
       "      <td>16.85</td>\n",
       "      <td>89.8</td>\n",
       "      <td>9.02</td>\n",
       "      <td>0.4</td>\n",
       "      <td>2017-05-05 01:00:00</td>\n",
       "      <td>0.0</td>\n",
       "      <td>0.0</td>\n",
       "      <td>0.0</td>\n",
       "      <td>31.7</td>\n",
       "      <td>8.9</td>\n",
       "      <td>240.0</td>\n",
       "      <td>2.6</td>\n",
       "    </tr>\n",
       "  </tbody>\n",
       "</table>\n",
       "</div>"
      ],
      "text/plain": [
       "                     Temp C  Sp Cond (uS/cm)  pH (mV)    pH  Turbidity (NTU)  \\\n",
       "timestamp                                                                      \n",
       "2017-05-05 00:00:00   15.02             1848   -100.1  8.36            16.84   \n",
       "2017-05-05 00:15:00   14.99             1847   -100.1  8.36            16.76   \n",
       "2017-05-05 00:30:00   14.96             1847   -100.1  8.36            16.82   \n",
       "2017-05-05 00:45:00   14.95             1848   -100.1  8.36            17.19   \n",
       "2017-05-05 01:00:00   14.92             1848   -100.0  8.36            16.85   \n",
       "\n",
       "                     ODOSat%  ODO (mg/L)  BGA-Phycocyanin RFU  \\\n",
       "timestamp                                                       \n",
       "2017-05-05 00:00:00     90.2        9.04                  0.4   \n",
       "2017-05-05 00:15:00     90.2        9.04                  0.4   \n",
       "2017-05-05 00:30:00     90.1        9.04                  0.4   \n",
       "2017-05-05 00:45:00     90.0        9.03                  0.4   \n",
       "2017-05-05 01:00:00     89.8        9.02                  0.4   \n",
       "\n",
       "                               datetime  PRCP  SNOW  SNWD  TMAX  TMIN  \\\n",
       "timestamp                                                               \n",
       "2017-05-05 00:00:00 2017-05-05 00:00:00   0.0   0.0   0.0  31.7   8.9   \n",
       "2017-05-05 00:15:00 2017-05-05 00:15:00   0.0   0.0   0.0  31.7   8.9   \n",
       "2017-05-05 00:30:00 2017-05-05 00:30:00   0.0   0.0   0.0  31.7   8.9   \n",
       "2017-05-05 00:45:00 2017-05-05 00:45:00   0.0   0.0   0.0  31.7   8.9   \n",
       "2017-05-05 01:00:00 2017-05-05 01:00:00   0.0   0.0   0.0  31.7   8.9   \n",
       "\n",
       "                     Wind Angle  Wind Speed  \n",
       "timestamp                                    \n",
       "2017-05-05 00:00:00       250.0         2.6  \n",
       "2017-05-05 00:15:00         NaN         NaN  \n",
       "2017-05-05 00:30:00         NaN         NaN  \n",
       "2017-05-05 00:45:00         NaN         NaN  \n",
       "2017-05-05 01:00:00       240.0         2.6  "
      ]
     },
     "execution_count": 23,
     "metadata": {},
     "output_type": "execute_result"
    }
   ],
   "source": [
    "train_dfs[train_index].head(5)"
   ]
  },
  {
   "cell_type": "code",
   "execution_count": 24,
   "metadata": {},
   "outputs": [
    {
     "data": {
      "text/html": [
       "<div>\n",
       "<style scoped>\n",
       "    .dataframe tbody tr th:only-of-type {\n",
       "        vertical-align: middle;\n",
       "    }\n",
       "\n",
       "    .dataframe tbody tr th {\n",
       "        vertical-align: top;\n",
       "    }\n",
       "\n",
       "    .dataframe thead th {\n",
       "        text-align: right;\n",
       "    }\n",
       "</style>\n",
       "<table border=\"1\" class=\"dataframe\">\n",
       "  <thead>\n",
       "    <tr style=\"text-align: right;\">\n",
       "      <th></th>\n",
       "      <th>Temp C</th>\n",
       "      <th>Sp Cond (uS/cm)</th>\n",
       "      <th>pH (mV)</th>\n",
       "      <th>pH</th>\n",
       "      <th>Turbidity (NTU)</th>\n",
       "      <th>ODOSat%</th>\n",
       "      <th>ODO (mg/L)</th>\n",
       "      <th>BGA-Phycocyanin RFU</th>\n",
       "      <th>datetime</th>\n",
       "      <th>PRCP</th>\n",
       "      <th>SNOW</th>\n",
       "      <th>SNWD</th>\n",
       "      <th>TMAX</th>\n",
       "      <th>TMIN</th>\n",
       "      <th>Wind Angle</th>\n",
       "      <th>Wind Speed</th>\n",
       "    </tr>\n",
       "    <tr>\n",
       "      <th>timestamp</th>\n",
       "      <th></th>\n",
       "      <th></th>\n",
       "      <th></th>\n",
       "      <th></th>\n",
       "      <th></th>\n",
       "      <th></th>\n",
       "      <th></th>\n",
       "      <th></th>\n",
       "      <th></th>\n",
       "      <th></th>\n",
       "      <th></th>\n",
       "      <th></th>\n",
       "      <th></th>\n",
       "      <th></th>\n",
       "      <th></th>\n",
       "      <th></th>\n",
       "    </tr>\n",
       "  </thead>\n",
       "  <tbody>\n",
       "    <tr>\n",
       "      <th>2018-04-11 11:15:00</th>\n",
       "      <td>11.06</td>\n",
       "      <td>1874</td>\n",
       "      <td>-114.2</td>\n",
       "      <td>8.39</td>\n",
       "      <td>46.27</td>\n",
       "      <td>89.3</td>\n",
       "      <td>9.78</td>\n",
       "      <td>0.7</td>\n",
       "      <td>2018-04-11 11:15:00</td>\n",
       "      <td>0.0</td>\n",
       "      <td>0.0</td>\n",
       "      <td>0.0</td>\n",
       "      <td>25.0</td>\n",
       "      <td>10.0</td>\n",
       "      <td>NaN</td>\n",
       "      <td>NaN</td>\n",
       "    </tr>\n",
       "    <tr>\n",
       "      <th>2018-04-11 11:30:00</th>\n",
       "      <td>10.98</td>\n",
       "      <td>1879</td>\n",
       "      <td>-114.2</td>\n",
       "      <td>8.39</td>\n",
       "      <td>46.55</td>\n",
       "      <td>89.2</td>\n",
       "      <td>9.78</td>\n",
       "      <td>0.8</td>\n",
       "      <td>2018-04-11 11:30:00</td>\n",
       "      <td>0.0</td>\n",
       "      <td>0.0</td>\n",
       "      <td>0.0</td>\n",
       "      <td>25.0</td>\n",
       "      <td>10.0</td>\n",
       "      <td>NaN</td>\n",
       "      <td>NaN</td>\n",
       "    </tr>\n",
       "    <tr>\n",
       "      <th>2018-04-11 11:45:00</th>\n",
       "      <td>10.58</td>\n",
       "      <td>1865</td>\n",
       "      <td>-113.8</td>\n",
       "      <td>8.39</td>\n",
       "      <td>48.62</td>\n",
       "      <td>87.5</td>\n",
       "      <td>9.68</td>\n",
       "      <td>0.9</td>\n",
       "      <td>2018-04-11 11:45:00</td>\n",
       "      <td>0.0</td>\n",
       "      <td>0.0</td>\n",
       "      <td>0.0</td>\n",
       "      <td>25.0</td>\n",
       "      <td>10.0</td>\n",
       "      <td>NaN</td>\n",
       "      <td>NaN</td>\n",
       "    </tr>\n",
       "    <tr>\n",
       "      <th>2018-04-11 12:00:00</th>\n",
       "      <td>10.67</td>\n",
       "      <td>1864</td>\n",
       "      <td>-114.1</td>\n",
       "      <td>8.39</td>\n",
       "      <td>47.96</td>\n",
       "      <td>88.0</td>\n",
       "      <td>9.72</td>\n",
       "      <td>0.8</td>\n",
       "      <td>2018-04-11 12:00:00</td>\n",
       "      <td>0.0</td>\n",
       "      <td>0.0</td>\n",
       "      <td>0.0</td>\n",
       "      <td>25.0</td>\n",
       "      <td>10.0</td>\n",
       "      <td>120.0</td>\n",
       "      <td>3.6</td>\n",
       "    </tr>\n",
       "    <tr>\n",
       "      <th>2018-04-11 12:15:00</th>\n",
       "      <td>10.71</td>\n",
       "      <td>1864</td>\n",
       "      <td>-114.3</td>\n",
       "      <td>8.40</td>\n",
       "      <td>49.47</td>\n",
       "      <td>88.3</td>\n",
       "      <td>9.75</td>\n",
       "      <td>0.8</td>\n",
       "      <td>2018-04-11 12:15:00</td>\n",
       "      <td>0.0</td>\n",
       "      <td>0.0</td>\n",
       "      <td>0.0</td>\n",
       "      <td>25.0</td>\n",
       "      <td>10.0</td>\n",
       "      <td>NaN</td>\n",
       "      <td>NaN</td>\n",
       "    </tr>\n",
       "  </tbody>\n",
       "</table>\n",
       "</div>"
      ],
      "text/plain": [
       "                     Temp C  Sp Cond (uS/cm)  pH (mV)    pH  Turbidity (NTU)  \\\n",
       "timestamp                                                                      \n",
       "2018-04-11 11:15:00   11.06             1874   -114.2  8.39            46.27   \n",
       "2018-04-11 11:30:00   10.98             1879   -114.2  8.39            46.55   \n",
       "2018-04-11 11:45:00   10.58             1865   -113.8  8.39            48.62   \n",
       "2018-04-11 12:00:00   10.67             1864   -114.1  8.39            47.96   \n",
       "2018-04-11 12:15:00   10.71             1864   -114.3  8.40            49.47   \n",
       "\n",
       "                     ODOSat%  ODO (mg/L)  BGA-Phycocyanin RFU  \\\n",
       "timestamp                                                       \n",
       "2018-04-11 11:15:00     89.3        9.78                  0.7   \n",
       "2018-04-11 11:30:00     89.2        9.78                  0.8   \n",
       "2018-04-11 11:45:00     87.5        9.68                  0.9   \n",
       "2018-04-11 12:00:00     88.0        9.72                  0.8   \n",
       "2018-04-11 12:15:00     88.3        9.75                  0.8   \n",
       "\n",
       "                               datetime  PRCP  SNOW  SNWD  TMAX  TMIN  \\\n",
       "timestamp                                                               \n",
       "2018-04-11 11:15:00 2018-04-11 11:15:00   0.0   0.0   0.0  25.0  10.0   \n",
       "2018-04-11 11:30:00 2018-04-11 11:30:00   0.0   0.0   0.0  25.0  10.0   \n",
       "2018-04-11 11:45:00 2018-04-11 11:45:00   0.0   0.0   0.0  25.0  10.0   \n",
       "2018-04-11 12:00:00 2018-04-11 12:00:00   0.0   0.0   0.0  25.0  10.0   \n",
       "2018-04-11 12:15:00 2018-04-11 12:15:00   0.0   0.0   0.0  25.0  10.0   \n",
       "\n",
       "                     Wind Angle  Wind Speed  \n",
       "timestamp                                    \n",
       "2018-04-11 11:15:00         NaN         NaN  \n",
       "2018-04-11 11:30:00         NaN         NaN  \n",
       "2018-04-11 11:45:00         NaN         NaN  \n",
       "2018-04-11 12:00:00       120.0         3.6  \n",
       "2018-04-11 12:15:00         NaN         NaN  "
      ]
     },
     "execution_count": 24,
     "metadata": {},
     "output_type": "execute_result"
    }
   ],
   "source": [
    "test_dfs[test_index].head(5)"
   ]
  },
  {
   "cell_type": "markdown",
   "metadata": {},
   "source": [
    "Need to deal with the NaNs in the dataframe for the WInd Angle and Wind Speed. There is a couple of ways that we can do this. One way is to assume that the wind doesn't change direction from the last valid responce (or the next in the case where the first entry is a NaN) or to assume that weather acts predictibly and will change direction and angle easily from entry to entry. \n",
    "\n",
    "I.E first entry 120 angle and 36 m/s speed, second (valid) entry 160 angle and 24 m/s speed slowing pan the angle inbetween and decrese the speed throughout so the entrries would look something like this:\n",
    "\n",
    "From:\n",
    "\n",
    "|Time Stamp|angle | speed |\n",
    "|--|--|--|\n",
    "|2018-04-11 12:00:00|120|36|\n",
    "|2018-04-11 12:15:00|NaN|NaN|\n",
    "|2018-04-11 12:30:00|NaN|NaN|\n",
    "|2018-04-11 12:45:00|NaN|NaN|\n",
    "|2018-04-11 13:00:00|160|24|\n",
    "\n",
    "To:\n",
    "\n",
    "|Time Stamp|angle | speed |\n",
    "|--|--|--|\n",
    "|2018-04-11 12:00:00|120|36|\n",
    "|2018-04-11 12:15:00|130|33 |\n",
    "|2018-04-11 12:30:00|140|30 |\n",
    "|2018-04-11 12:45:00|150|27 |\n",
    "|2018-04-11 13:00:00|160|24 |"
   ]
  },
  {
   "cell_type": "code",
   "execution_count": 25,
   "metadata": {},
   "outputs": [],
   "source": [
    "for i in range(len(train_dfs)):\n",
    "    train_dfs[i]['Wind Angle'] = train_dfs[i]['Wind Angle'].interpolate(limit_direction='both')\n",
    "    train_dfs[i]['Wind Speed'] = train_dfs[i]['Wind Speed'].interpolate(limit_direction='both')\n",
    "for i in range(len(test_dfs)):\n",
    "    #test dfs is the 2018 data set so we need to set the wind frame to that dataset\n",
    "    test_dfs[i]['Wind Angle'] = test_dfs[i]['Wind Angle'].interpolate(limit_direction='both')\n",
    "    test_dfs[i]['Wind Speed'] = test_dfs[i]['Wind Speed'].interpolate(limit_direction='both')"
   ]
  },
  {
   "cell_type": "code",
   "execution_count": 26,
   "metadata": {},
   "outputs": [
    {
     "data": {
      "text/html": [
       "<div>\n",
       "<style scoped>\n",
       "    .dataframe tbody tr th:only-of-type {\n",
       "        vertical-align: middle;\n",
       "    }\n",
       "\n",
       "    .dataframe tbody tr th {\n",
       "        vertical-align: top;\n",
       "    }\n",
       "\n",
       "    .dataframe thead th {\n",
       "        text-align: right;\n",
       "    }\n",
       "</style>\n",
       "<table border=\"1\" class=\"dataframe\">\n",
       "  <thead>\n",
       "    <tr style=\"text-align: right;\">\n",
       "      <th></th>\n",
       "      <th>Temp C</th>\n",
       "      <th>Sp Cond (uS/cm)</th>\n",
       "      <th>pH (mV)</th>\n",
       "      <th>pH</th>\n",
       "      <th>Turbidity (NTU)</th>\n",
       "      <th>ODOSat%</th>\n",
       "      <th>ODO (mg/L)</th>\n",
       "      <th>BGA-Phycocyanin RFU</th>\n",
       "      <th>datetime</th>\n",
       "      <th>PRCP</th>\n",
       "      <th>SNOW</th>\n",
       "      <th>SNWD</th>\n",
       "      <th>TMAX</th>\n",
       "      <th>TMIN</th>\n",
       "      <th>Wind Angle</th>\n",
       "      <th>Wind Speed</th>\n",
       "    </tr>\n",
       "    <tr>\n",
       "      <th>timestamp</th>\n",
       "      <th></th>\n",
       "      <th></th>\n",
       "      <th></th>\n",
       "      <th></th>\n",
       "      <th></th>\n",
       "      <th></th>\n",
       "      <th></th>\n",
       "      <th></th>\n",
       "      <th></th>\n",
       "      <th></th>\n",
       "      <th></th>\n",
       "      <th></th>\n",
       "      <th></th>\n",
       "      <th></th>\n",
       "      <th></th>\n",
       "      <th></th>\n",
       "    </tr>\n",
       "  </thead>\n",
       "  <tbody>\n",
       "    <tr>\n",
       "      <th>2017-05-05 00:00:00</th>\n",
       "      <td>15.02</td>\n",
       "      <td>1848</td>\n",
       "      <td>-100.1</td>\n",
       "      <td>8.36</td>\n",
       "      <td>16.84</td>\n",
       "      <td>90.2</td>\n",
       "      <td>9.04</td>\n",
       "      <td>0.4</td>\n",
       "      <td>2017-05-05 00:00:00</td>\n",
       "      <td>0.0</td>\n",
       "      <td>0.0</td>\n",
       "      <td>0.0</td>\n",
       "      <td>31.7</td>\n",
       "      <td>8.9</td>\n",
       "      <td>250.0</td>\n",
       "      <td>2.6</td>\n",
       "    </tr>\n",
       "    <tr>\n",
       "      <th>2017-05-05 00:15:00</th>\n",
       "      <td>14.99</td>\n",
       "      <td>1847</td>\n",
       "      <td>-100.1</td>\n",
       "      <td>8.36</td>\n",
       "      <td>16.76</td>\n",
       "      <td>90.2</td>\n",
       "      <td>9.04</td>\n",
       "      <td>0.4</td>\n",
       "      <td>2017-05-05 00:15:00</td>\n",
       "      <td>0.0</td>\n",
       "      <td>0.0</td>\n",
       "      <td>0.0</td>\n",
       "      <td>31.7</td>\n",
       "      <td>8.9</td>\n",
       "      <td>247.5</td>\n",
       "      <td>2.6</td>\n",
       "    </tr>\n",
       "    <tr>\n",
       "      <th>2017-05-05 00:30:00</th>\n",
       "      <td>14.96</td>\n",
       "      <td>1847</td>\n",
       "      <td>-100.1</td>\n",
       "      <td>8.36</td>\n",
       "      <td>16.82</td>\n",
       "      <td>90.1</td>\n",
       "      <td>9.04</td>\n",
       "      <td>0.4</td>\n",
       "      <td>2017-05-05 00:30:00</td>\n",
       "      <td>0.0</td>\n",
       "      <td>0.0</td>\n",
       "      <td>0.0</td>\n",
       "      <td>31.7</td>\n",
       "      <td>8.9</td>\n",
       "      <td>245.0</td>\n",
       "      <td>2.6</td>\n",
       "    </tr>\n",
       "    <tr>\n",
       "      <th>2017-05-05 00:45:00</th>\n",
       "      <td>14.95</td>\n",
       "      <td>1848</td>\n",
       "      <td>-100.1</td>\n",
       "      <td>8.36</td>\n",
       "      <td>17.19</td>\n",
       "      <td>90.0</td>\n",
       "      <td>9.03</td>\n",
       "      <td>0.4</td>\n",
       "      <td>2017-05-05 00:45:00</td>\n",
       "      <td>0.0</td>\n",
       "      <td>0.0</td>\n",
       "      <td>0.0</td>\n",
       "      <td>31.7</td>\n",
       "      <td>8.9</td>\n",
       "      <td>242.5</td>\n",
       "      <td>2.6</td>\n",
       "    </tr>\n",
       "    <tr>\n",
       "      <th>2017-05-05 01:00:00</th>\n",
       "      <td>14.92</td>\n",
       "      <td>1848</td>\n",
       "      <td>-100.0</td>\n",
       "      <td>8.36</td>\n",
       "      <td>16.85</td>\n",
       "      <td>89.8</td>\n",
       "      <td>9.02</td>\n",
       "      <td>0.4</td>\n",
       "      <td>2017-05-05 01:00:00</td>\n",
       "      <td>0.0</td>\n",
       "      <td>0.0</td>\n",
       "      <td>0.0</td>\n",
       "      <td>31.7</td>\n",
       "      <td>8.9</td>\n",
       "      <td>240.0</td>\n",
       "      <td>2.6</td>\n",
       "    </tr>\n",
       "  </tbody>\n",
       "</table>\n",
       "</div>"
      ],
      "text/plain": [
       "                     Temp C  Sp Cond (uS/cm)  pH (mV)    pH  Turbidity (NTU)  \\\n",
       "timestamp                                                                      \n",
       "2017-05-05 00:00:00   15.02             1848   -100.1  8.36            16.84   \n",
       "2017-05-05 00:15:00   14.99             1847   -100.1  8.36            16.76   \n",
       "2017-05-05 00:30:00   14.96             1847   -100.1  8.36            16.82   \n",
       "2017-05-05 00:45:00   14.95             1848   -100.1  8.36            17.19   \n",
       "2017-05-05 01:00:00   14.92             1848   -100.0  8.36            16.85   \n",
       "\n",
       "                     ODOSat%  ODO (mg/L)  BGA-Phycocyanin RFU  \\\n",
       "timestamp                                                       \n",
       "2017-05-05 00:00:00     90.2        9.04                  0.4   \n",
       "2017-05-05 00:15:00     90.2        9.04                  0.4   \n",
       "2017-05-05 00:30:00     90.1        9.04                  0.4   \n",
       "2017-05-05 00:45:00     90.0        9.03                  0.4   \n",
       "2017-05-05 01:00:00     89.8        9.02                  0.4   \n",
       "\n",
       "                               datetime  PRCP  SNOW  SNWD  TMAX  TMIN  \\\n",
       "timestamp                                                               \n",
       "2017-05-05 00:00:00 2017-05-05 00:00:00   0.0   0.0   0.0  31.7   8.9   \n",
       "2017-05-05 00:15:00 2017-05-05 00:15:00   0.0   0.0   0.0  31.7   8.9   \n",
       "2017-05-05 00:30:00 2017-05-05 00:30:00   0.0   0.0   0.0  31.7   8.9   \n",
       "2017-05-05 00:45:00 2017-05-05 00:45:00   0.0   0.0   0.0  31.7   8.9   \n",
       "2017-05-05 01:00:00 2017-05-05 01:00:00   0.0   0.0   0.0  31.7   8.9   \n",
       "\n",
       "                     Wind Angle  Wind Speed  \n",
       "timestamp                                    \n",
       "2017-05-05 00:00:00       250.0         2.6  \n",
       "2017-05-05 00:15:00       247.5         2.6  \n",
       "2017-05-05 00:30:00       245.0         2.6  \n",
       "2017-05-05 00:45:00       242.5         2.6  \n",
       "2017-05-05 01:00:00       240.0         2.6  "
      ]
     },
     "execution_count": 26,
     "metadata": {},
     "output_type": "execute_result"
    }
   ],
   "source": [
    "train_dfs[train_index].head(5)"
   ]
  },
  {
   "cell_type": "code",
   "execution_count": 27,
   "metadata": {},
   "outputs": [
    {
     "data": {
      "text/html": [
       "<div>\n",
       "<style scoped>\n",
       "    .dataframe tbody tr th:only-of-type {\n",
       "        vertical-align: middle;\n",
       "    }\n",
       "\n",
       "    .dataframe tbody tr th {\n",
       "        vertical-align: top;\n",
       "    }\n",
       "\n",
       "    .dataframe thead th {\n",
       "        text-align: right;\n",
       "    }\n",
       "</style>\n",
       "<table border=\"1\" class=\"dataframe\">\n",
       "  <thead>\n",
       "    <tr style=\"text-align: right;\">\n",
       "      <th></th>\n",
       "      <th>Temp C</th>\n",
       "      <th>Sp Cond (uS/cm)</th>\n",
       "      <th>pH (mV)</th>\n",
       "      <th>pH</th>\n",
       "      <th>Turbidity (NTU)</th>\n",
       "      <th>ODOSat%</th>\n",
       "      <th>ODO (mg/L)</th>\n",
       "      <th>BGA-Phycocyanin RFU</th>\n",
       "      <th>datetime</th>\n",
       "      <th>PRCP</th>\n",
       "      <th>SNOW</th>\n",
       "      <th>SNWD</th>\n",
       "      <th>TMAX</th>\n",
       "      <th>TMIN</th>\n",
       "      <th>Wind Angle</th>\n",
       "      <th>Wind Speed</th>\n",
       "    </tr>\n",
       "    <tr>\n",
       "      <th>timestamp</th>\n",
       "      <th></th>\n",
       "      <th></th>\n",
       "      <th></th>\n",
       "      <th></th>\n",
       "      <th></th>\n",
       "      <th></th>\n",
       "      <th></th>\n",
       "      <th></th>\n",
       "      <th></th>\n",
       "      <th></th>\n",
       "      <th></th>\n",
       "      <th></th>\n",
       "      <th></th>\n",
       "      <th></th>\n",
       "      <th></th>\n",
       "      <th></th>\n",
       "    </tr>\n",
       "  </thead>\n",
       "  <tbody>\n",
       "    <tr>\n",
       "      <th>2018-04-11 11:15:00</th>\n",
       "      <td>11.06</td>\n",
       "      <td>1874</td>\n",
       "      <td>-114.2</td>\n",
       "      <td>8.39</td>\n",
       "      <td>46.27</td>\n",
       "      <td>89.3</td>\n",
       "      <td>9.78</td>\n",
       "      <td>0.7</td>\n",
       "      <td>2018-04-11 11:15:00</td>\n",
       "      <td>0.0</td>\n",
       "      <td>0.0</td>\n",
       "      <td>0.0</td>\n",
       "      <td>25.0</td>\n",
       "      <td>10.0</td>\n",
       "      <td>120.000</td>\n",
       "      <td>3.6</td>\n",
       "    </tr>\n",
       "    <tr>\n",
       "      <th>2018-04-11 11:30:00</th>\n",
       "      <td>10.98</td>\n",
       "      <td>1879</td>\n",
       "      <td>-114.2</td>\n",
       "      <td>8.39</td>\n",
       "      <td>46.55</td>\n",
       "      <td>89.2</td>\n",
       "      <td>9.78</td>\n",
       "      <td>0.8</td>\n",
       "      <td>2018-04-11 11:30:00</td>\n",
       "      <td>0.0</td>\n",
       "      <td>0.0</td>\n",
       "      <td>0.0</td>\n",
       "      <td>25.0</td>\n",
       "      <td>10.0</td>\n",
       "      <td>120.000</td>\n",
       "      <td>3.6</td>\n",
       "    </tr>\n",
       "    <tr>\n",
       "      <th>2018-04-11 11:45:00</th>\n",
       "      <td>10.58</td>\n",
       "      <td>1865</td>\n",
       "      <td>-113.8</td>\n",
       "      <td>8.39</td>\n",
       "      <td>48.62</td>\n",
       "      <td>87.5</td>\n",
       "      <td>9.68</td>\n",
       "      <td>0.9</td>\n",
       "      <td>2018-04-11 11:45:00</td>\n",
       "      <td>0.0</td>\n",
       "      <td>0.0</td>\n",
       "      <td>0.0</td>\n",
       "      <td>25.0</td>\n",
       "      <td>10.0</td>\n",
       "      <td>120.000</td>\n",
       "      <td>3.6</td>\n",
       "    </tr>\n",
       "    <tr>\n",
       "      <th>2018-04-11 12:00:00</th>\n",
       "      <td>10.67</td>\n",
       "      <td>1864</td>\n",
       "      <td>-114.1</td>\n",
       "      <td>8.39</td>\n",
       "      <td>47.96</td>\n",
       "      <td>88.0</td>\n",
       "      <td>9.72</td>\n",
       "      <td>0.8</td>\n",
       "      <td>2018-04-11 12:00:00</td>\n",
       "      <td>0.0</td>\n",
       "      <td>0.0</td>\n",
       "      <td>0.0</td>\n",
       "      <td>25.0</td>\n",
       "      <td>10.0</td>\n",
       "      <td>120.000</td>\n",
       "      <td>3.6</td>\n",
       "    </tr>\n",
       "    <tr>\n",
       "      <th>2018-04-11 12:15:00</th>\n",
       "      <td>10.71</td>\n",
       "      <td>1864</td>\n",
       "      <td>-114.3</td>\n",
       "      <td>8.40</td>\n",
       "      <td>49.47</td>\n",
       "      <td>88.3</td>\n",
       "      <td>9.75</td>\n",
       "      <td>0.8</td>\n",
       "      <td>2018-04-11 12:15:00</td>\n",
       "      <td>0.0</td>\n",
       "      <td>0.0</td>\n",
       "      <td>0.0</td>\n",
       "      <td>25.0</td>\n",
       "      <td>10.0</td>\n",
       "      <td>130.625</td>\n",
       "      <td>2.7</td>\n",
       "    </tr>\n",
       "  </tbody>\n",
       "</table>\n",
       "</div>"
      ],
      "text/plain": [
       "                     Temp C  Sp Cond (uS/cm)  pH (mV)    pH  Turbidity (NTU)  \\\n",
       "timestamp                                                                      \n",
       "2018-04-11 11:15:00   11.06             1874   -114.2  8.39            46.27   \n",
       "2018-04-11 11:30:00   10.98             1879   -114.2  8.39            46.55   \n",
       "2018-04-11 11:45:00   10.58             1865   -113.8  8.39            48.62   \n",
       "2018-04-11 12:00:00   10.67             1864   -114.1  8.39            47.96   \n",
       "2018-04-11 12:15:00   10.71             1864   -114.3  8.40            49.47   \n",
       "\n",
       "                     ODOSat%  ODO (mg/L)  BGA-Phycocyanin RFU  \\\n",
       "timestamp                                                       \n",
       "2018-04-11 11:15:00     89.3        9.78                  0.7   \n",
       "2018-04-11 11:30:00     89.2        9.78                  0.8   \n",
       "2018-04-11 11:45:00     87.5        9.68                  0.9   \n",
       "2018-04-11 12:00:00     88.0        9.72                  0.8   \n",
       "2018-04-11 12:15:00     88.3        9.75                  0.8   \n",
       "\n",
       "                               datetime  PRCP  SNOW  SNWD  TMAX  TMIN  \\\n",
       "timestamp                                                               \n",
       "2018-04-11 11:15:00 2018-04-11 11:15:00   0.0   0.0   0.0  25.0  10.0   \n",
       "2018-04-11 11:30:00 2018-04-11 11:30:00   0.0   0.0   0.0  25.0  10.0   \n",
       "2018-04-11 11:45:00 2018-04-11 11:45:00   0.0   0.0   0.0  25.0  10.0   \n",
       "2018-04-11 12:00:00 2018-04-11 12:00:00   0.0   0.0   0.0  25.0  10.0   \n",
       "2018-04-11 12:15:00 2018-04-11 12:15:00   0.0   0.0   0.0  25.0  10.0   \n",
       "\n",
       "                     Wind Angle  Wind Speed  \n",
       "timestamp                                    \n",
       "2018-04-11 11:15:00     120.000         3.6  \n",
       "2018-04-11 11:30:00     120.000         3.6  \n",
       "2018-04-11 11:45:00     120.000         3.6  \n",
       "2018-04-11 12:00:00     120.000         3.6  \n",
       "2018-04-11 12:15:00     130.625         2.7  "
      ]
     },
     "execution_count": 27,
     "metadata": {},
     "output_type": "execute_result"
    }
   ],
   "source": [
    "test_dfs[test_index].head(5)"
   ]
  },
  {
   "cell_type": "code",
   "execution_count": 28,
   "metadata": {},
   "outputs": [
    {
     "name": "stdout",
     "output_type": "stream",
     "text": [
      "Temp C                   0\n",
      "Sp Cond (uS/cm)          0\n",
      "pH (mV)                  0\n",
      "pH                       0\n",
      "Turbidity (NTU)          0\n",
      "ODOSat%                  0\n",
      "ODO (mg/L)               0\n",
      "BGA-Phycocyanin RFU      0\n",
      "datetime                 0\n",
      "PRCP                   480\n",
      "SNOW                   288\n",
      "SNWD                   288\n",
      "TMAX                     0\n",
      "TMIN                     0\n",
      "Wind Angle               0\n",
      "Wind Speed               0\n",
      "dtype: int64\n",
      "Temp C                 0\n",
      "Sp Cond (uS/cm)        0\n",
      "pH (mV)                0\n",
      "pH                     0\n",
      "Turbidity (NTU)        0\n",
      "ODOSat%                0\n",
      "ODO (mg/L)             0\n",
      "BGA-Phycocyanin RFU    0\n",
      "datetime               0\n",
      "PRCP                   0\n",
      "SNOW                   0\n",
      "SNWD                   0\n",
      "TMAX                   0\n",
      "TMIN                   0\n",
      "Wind Angle             0\n",
      "Wind Speed             0\n",
      "dtype: int64\n"
     ]
    }
   ],
   "source": [
    "print(np.sum(test_dfs[test_index].isna()))\n",
    "\n",
    "print(np.sum(train_dfs[train_index].isna()))"
   ]
  },
  {
   "cell_type": "code",
   "execution_count": 29,
   "metadata": {},
   "outputs": [
    {
     "data": {
      "text/html": [
       "<div>\n",
       "<style scoped>\n",
       "    .dataframe tbody tr th:only-of-type {\n",
       "        vertical-align: middle;\n",
       "    }\n",
       "\n",
       "    .dataframe tbody tr th {\n",
       "        vertical-align: top;\n",
       "    }\n",
       "\n",
       "    .dataframe thead th {\n",
       "        text-align: right;\n",
       "    }\n",
       "</style>\n",
       "<table border=\"1\" class=\"dataframe\">\n",
       "  <thead>\n",
       "    <tr style=\"text-align: right;\">\n",
       "      <th></th>\n",
       "      <th>DATE</th>\n",
       "      <th>PRCP</th>\n",
       "      <th>SNOW</th>\n",
       "      <th>SNWD</th>\n",
       "      <th>TMAX</th>\n",
       "      <th>TMIN</th>\n",
       "    </tr>\n",
       "    <tr>\n",
       "      <th>timestamp</th>\n",
       "      <th></th>\n",
       "      <th></th>\n",
       "      <th></th>\n",
       "      <th></th>\n",
       "      <th></th>\n",
       "      <th></th>\n",
       "    </tr>\n",
       "  </thead>\n",
       "  <tbody>\n",
       "    <tr>\n",
       "      <th>2018-04-11</th>\n",
       "      <td>2018-04-11</td>\n",
       "      <td>0.0</td>\n",
       "      <td>0.0</td>\n",
       "      <td>0.0</td>\n",
       "      <td>25.0</td>\n",
       "      <td>10.0</td>\n",
       "    </tr>\n",
       "    <tr>\n",
       "      <th>2018-04-12</th>\n",
       "      <td>2018-04-12</td>\n",
       "      <td>1.8</td>\n",
       "      <td>0.0</td>\n",
       "      <td>0.0</td>\n",
       "      <td>21.7</td>\n",
       "      <td>3.3</td>\n",
       "    </tr>\n",
       "  </tbody>\n",
       "</table>\n",
       "</div>"
      ],
      "text/plain": [
       "                  DATE  PRCP  SNOW  SNWD  TMAX  TMIN\n",
       "timestamp                                           \n",
       "2018-04-11  2018-04-11   0.0   0.0   0.0  25.0  10.0\n",
       "2018-04-12  2018-04-12   1.8   0.0   0.0  21.7   3.3"
      ]
     },
     "execution_count": 29,
     "metadata": {},
     "output_type": "execute_result"
    }
   ],
   "source": [
    "start = test_dfs[test_index]['datetime'][0].date()\n",
    "end = test_dfs[test_index]['datetime'][60].date()\n",
    "weather[start:end]"
   ]
  },
  {
   "cell_type": "code",
   "execution_count": 30,
   "metadata": {},
   "outputs": [],
   "source": [
    "# This is a proof of concempt to see if it would be working\n",
    "dat_frm = pd.DataFrame({'temp':[2,4,6,8,10,20,50,45],'tempo':[2,4,6,8,10,20,50,45]})\n",
    "test ={'var1': lambda x:\"first\" if x <= 10 else None,\n",
    "       'var2': lambda x:\"second\" if x <= 20 and x > 10 else None,\n",
    "       'var3': lambda x:\"third\" if x > 20 else None,\n",
    "        }\n",
    "hf.bucket_column(dat_frm,'temp',test)"
   ]
  },
  {
   "cell_type": "markdown",
   "metadata": {},
   "source": [
    "## Weather Investigation"
   ]
  },
  {
   "cell_type": "code",
   "execution_count": 31,
   "metadata": {
    "scrolled": false
   },
   "outputs": [
    {
     "data": {
      "text/html": [
       "<div>\n",
       "<style scoped>\n",
       "    .dataframe tbody tr th:only-of-type {\n",
       "        vertical-align: middle;\n",
       "    }\n",
       "\n",
       "    .dataframe tbody tr th {\n",
       "        vertical-align: top;\n",
       "    }\n",
       "\n",
       "    .dataframe thead th {\n",
       "        text-align: right;\n",
       "    }\n",
       "</style>\n",
       "<table border=\"1\" class=\"dataframe\">\n",
       "  <thead>\n",
       "    <tr style=\"text-align: right;\">\n",
       "      <th></th>\n",
       "      <th>Temp C</th>\n",
       "      <th>Sp Cond (uS/cm)</th>\n",
       "      <th>pH (mV)</th>\n",
       "      <th>pH</th>\n",
       "      <th>Turbidity (NTU)</th>\n",
       "      <th>ODOSat%</th>\n",
       "      <th>ODO (mg/L)</th>\n",
       "      <th>BGA-Phycocyanin RFU</th>\n",
       "      <th>PRCP</th>\n",
       "      <th>SNOW</th>\n",
       "      <th>SNWD</th>\n",
       "      <th>TMAX</th>\n",
       "      <th>TMIN</th>\n",
       "      <th>Wind Angle</th>\n",
       "      <th>Wind Speed</th>\n",
       "    </tr>\n",
       "  </thead>\n",
       "  <tbody>\n",
       "    <tr>\n",
       "      <th>count</th>\n",
       "      <td>18947.000000</td>\n",
       "      <td>18947.000000</td>\n",
       "      <td>18947.000000</td>\n",
       "      <td>18947.000000</td>\n",
       "      <td>18947.000000</td>\n",
       "      <td>18947.000000</td>\n",
       "      <td>18947.000000</td>\n",
       "      <td>18947.000000</td>\n",
       "      <td>18947.000000</td>\n",
       "      <td>18947.0</td>\n",
       "      <td>18947.0</td>\n",
       "      <td>18947.000000</td>\n",
       "      <td>18947.000000</td>\n",
       "      <td>18947.000000</td>\n",
       "      <td>18947.000000</td>\n",
       "    </tr>\n",
       "    <tr>\n",
       "      <th>mean</th>\n",
       "      <td>18.488235</td>\n",
       "      <td>1933.564575</td>\n",
       "      <td>-116.806951</td>\n",
       "      <td>8.633415</td>\n",
       "      <td>58.129348</td>\n",
       "      <td>87.056980</td>\n",
       "      <td>8.179008</td>\n",
       "      <td>0.979511</td>\n",
       "      <td>0.527450</td>\n",
       "      <td>0.0</td>\n",
       "      <td>0.0</td>\n",
       "      <td>27.982852</td>\n",
       "      <td>11.708170</td>\n",
       "      <td>203.031087</td>\n",
       "      <td>3.035744</td>\n",
       "    </tr>\n",
       "    <tr>\n",
       "      <th>std</th>\n",
       "      <td>6.134464</td>\n",
       "      <td>151.800551</td>\n",
       "      <td>8.973830</td>\n",
       "      <td>0.147231</td>\n",
       "      <td>54.622278</td>\n",
       "      <td>13.793755</td>\n",
       "      <td>1.278416</td>\n",
       "      <td>0.731423</td>\n",
       "      <td>2.446299</td>\n",
       "      <td>0.0</td>\n",
       "      <td>0.0</td>\n",
       "      <td>8.039940</td>\n",
       "      <td>6.272027</td>\n",
       "      <td>82.070747</td>\n",
       "      <td>2.224318</td>\n",
       "    </tr>\n",
       "    <tr>\n",
       "      <th>min</th>\n",
       "      <td>5.630000</td>\n",
       "      <td>3.000000</td>\n",
       "      <td>-153.700000</td>\n",
       "      <td>7.930000</td>\n",
       "      <td>0.660000</td>\n",
       "      <td>62.800000</td>\n",
       "      <td>5.170000</td>\n",
       "      <td>0.000000</td>\n",
       "      <td>0.000000</td>\n",
       "      <td>0.0</td>\n",
       "      <td>0.0</td>\n",
       "      <td>6.100000</td>\n",
       "      <td>-3.900000</td>\n",
       "      <td>10.000000</td>\n",
       "      <td>0.000000</td>\n",
       "    </tr>\n",
       "    <tr>\n",
       "      <th>25%</th>\n",
       "      <td>12.700000</td>\n",
       "      <td>1848.000000</td>\n",
       "      <td>-120.800000</td>\n",
       "      <td>8.530000</td>\n",
       "      <td>29.850000</td>\n",
       "      <td>80.000000</td>\n",
       "      <td>7.260000</td>\n",
       "      <td>0.500000</td>\n",
       "      <td>0.000000</td>\n",
       "      <td>0.0</td>\n",
       "      <td>0.0</td>\n",
       "      <td>21.100000</td>\n",
       "      <td>6.100000</td>\n",
       "      <td>137.500000</td>\n",
       "      <td>1.650000</td>\n",
       "    </tr>\n",
       "    <tr>\n",
       "      <th>50%</th>\n",
       "      <td>20.320000</td>\n",
       "      <td>1939.000000</td>\n",
       "      <td>-115.700000</td>\n",
       "      <td>8.650000</td>\n",
       "      <td>42.140000</td>\n",
       "      <td>83.200000</td>\n",
       "      <td>8.080000</td>\n",
       "      <td>0.900000</td>\n",
       "      <td>0.000000</td>\n",
       "      <td>0.0</td>\n",
       "      <td>0.0</td>\n",
       "      <td>30.600000</td>\n",
       "      <td>13.300000</td>\n",
       "      <td>190.000000</td>\n",
       "      <td>2.600000</td>\n",
       "    </tr>\n",
       "    <tr>\n",
       "      <th>75%</th>\n",
       "      <td>23.630000</td>\n",
       "      <td>2070.000000</td>\n",
       "      <td>-112.100000</td>\n",
       "      <td>8.700000</td>\n",
       "      <td>65.795000</td>\n",
       "      <td>88.900000</td>\n",
       "      <td>9.250000</td>\n",
       "      <td>1.200000</td>\n",
       "      <td>0.000000</td>\n",
       "      <td>0.0</td>\n",
       "      <td>0.0</td>\n",
       "      <td>35.000000</td>\n",
       "      <td>17.200000</td>\n",
       "      <td>273.750000</td>\n",
       "      <td>3.825000</td>\n",
       "    </tr>\n",
       "    <tr>\n",
       "      <th>max</th>\n",
       "      <td>28.570000</td>\n",
       "      <td>2164.000000</td>\n",
       "      <td>-76.500000</td>\n",
       "      <td>9.230000</td>\n",
       "      <td>636.700000</td>\n",
       "      <td>209.700000</td>\n",
       "      <td>16.170000</td>\n",
       "      <td>16.100000</td>\n",
       "      <td>23.400000</td>\n",
       "      <td>0.0</td>\n",
       "      <td>0.0</td>\n",
       "      <td>40.000000</td>\n",
       "      <td>22.200000</td>\n",
       "      <td>360.000000</td>\n",
       "      <td>18.000000</td>\n",
       "    </tr>\n",
       "  </tbody>\n",
       "</table>\n",
       "</div>"
      ],
      "text/plain": [
       "             Temp C  Sp Cond (uS/cm)       pH (mV)            pH  \\\n",
       "count  18947.000000     18947.000000  18947.000000  18947.000000   \n",
       "mean      18.488235      1933.564575   -116.806951      8.633415   \n",
       "std        6.134464       151.800551      8.973830      0.147231   \n",
       "min        5.630000         3.000000   -153.700000      7.930000   \n",
       "25%       12.700000      1848.000000   -120.800000      8.530000   \n",
       "50%       20.320000      1939.000000   -115.700000      8.650000   \n",
       "75%       23.630000      2070.000000   -112.100000      8.700000   \n",
       "max       28.570000      2164.000000    -76.500000      9.230000   \n",
       "\n",
       "       Turbidity (NTU)       ODOSat%    ODO (mg/L)  BGA-Phycocyanin RFU  \\\n",
       "count     18947.000000  18947.000000  18947.000000         18947.000000   \n",
       "mean         58.129348     87.056980      8.179008             0.979511   \n",
       "std          54.622278     13.793755      1.278416             0.731423   \n",
       "min           0.660000     62.800000      5.170000             0.000000   \n",
       "25%          29.850000     80.000000      7.260000             0.500000   \n",
       "50%          42.140000     83.200000      8.080000             0.900000   \n",
       "75%          65.795000     88.900000      9.250000             1.200000   \n",
       "max         636.700000    209.700000     16.170000            16.100000   \n",
       "\n",
       "               PRCP     SNOW     SNWD          TMAX          TMIN  \\\n",
       "count  18947.000000  18947.0  18947.0  18947.000000  18947.000000   \n",
       "mean       0.527450      0.0      0.0     27.982852     11.708170   \n",
       "std        2.446299      0.0      0.0      8.039940      6.272027   \n",
       "min        0.000000      0.0      0.0      6.100000     -3.900000   \n",
       "25%        0.000000      0.0      0.0     21.100000      6.100000   \n",
       "50%        0.000000      0.0      0.0     30.600000     13.300000   \n",
       "75%        0.000000      0.0      0.0     35.000000     17.200000   \n",
       "max       23.400000      0.0      0.0     40.000000     22.200000   \n",
       "\n",
       "         Wind Angle    Wind Speed  \n",
       "count  18947.000000  18947.000000  \n",
       "mean     203.031087      3.035744  \n",
       "std       82.070747      2.224318  \n",
       "min       10.000000      0.000000  \n",
       "25%      137.500000      1.650000  \n",
       "50%      190.000000      2.600000  \n",
       "75%      273.750000      3.825000  \n",
       "max      360.000000     18.000000  "
      ]
     },
     "execution_count": 31,
     "metadata": {},
     "output_type": "execute_result"
    }
   ],
   "source": [
    "df = train_dfs[train_index].drop(columns=['datetime'])\n",
    "df.describe()"
   ]
  },
  {
   "cell_type": "code",
   "execution_count": 32,
   "metadata": {},
   "outputs": [
    {
     "name": "stderr",
     "output_type": "stream",
     "text": [
      "C:\\Users\\Public\\Anaconda3\\lib\\site-packages\\sklearn\\preprocessing\\data.py:625: DataConversionWarning: Data with input dtype int64, float64 were all converted to float64 by StandardScaler.\n",
      "  return self.partial_fit(X, y)\n",
      "C:\\Users\\Public\\Anaconda3\\lib\\site-packages\\sklearn\\base.py:462: DataConversionWarning: Data with input dtype int64, float64 were all converted to float64 by StandardScaler.\n",
      "  return self.fit(X, **fit_params).transform(X)\n"
     ]
    }
   ],
   "source": [
    "#Scale the date for easy chart comparisons\n",
    "scaler = StandardScaler()\n",
    "df[df.columns] = scaler.fit_transform(df)"
   ]
  },
  {
   "cell_type": "code",
   "execution_count": 33,
   "metadata": {},
   "outputs": [
    {
     "data": {
      "text/plain": [
       "<matplotlib.axes._subplots.AxesSubplot at 0x152fe779eb8>"
      ]
     },
     "execution_count": 33,
     "metadata": {},
     "output_type": "execute_result"
    },
    {
     "data": {
      "image/png": "[encoded data removed]",
      "text/plain": [
       "<Figure size 432x288 with 1 Axes>"
      ]
     },
     "metadata": {
      "needs_background": "light"
     },
     "output_type": "display_data"
    }
   ],
   "source": [
    "df[[target_column, 'PRCP']].plot.line()"
   ]
  },
  {
   "cell_type": "code",
   "execution_count": 34,
   "metadata": {},
   "outputs": [
    {
     "data": {
      "text/plain": [
       "<matplotlib.axes._subplots.AxesSubplot at 0x152fe5f85f8>"
      ]
     },
     "execution_count": 34,
     "metadata": {},
     "output_type": "execute_result"
    },
    {
     "data": {
      "image/png": "[encoded data removed]",
      "text/plain": [
       "<Figure size 432x288 with 1 Axes>"
      ]
     },
     "metadata": {
      "needs_background": "light"
     },
     "output_type": "display_data"
    }
   ],
   "source": [
    "df[[target_column, 'SNOW']].plot.line()"
   ]
  },
  {
   "cell_type": "code",
   "execution_count": 35,
   "metadata": {},
   "outputs": [
    {
     "data": {
      "text/plain": [
       "<matplotlib.axes._subplots.AxesSubplot at 0x152fe52cb38>"
      ]
     },
     "execution_count": 35,
     "metadata": {},
     "output_type": "execute_result"
    },
    {
     "data": {
      "image/png": "[encoded data removed]",
      "text/plain": [
       "<Figure size 432x288 with 1 Axes>"
      ]
     },
     "metadata": {
      "needs_background": "light"
     },
     "output_type": "display_data"
    }
   ],
   "source": [
    "df[[target_column, 'SNWD']].plot.line()"
   ]
  },
  {
   "cell_type": "code",
   "execution_count": 36,
   "metadata": {},
   "outputs": [
    {
     "data": {
      "text/plain": [
       "<matplotlib.axes._subplots.AxesSubplot at 0x152fe429780>"
      ]
     },
     "execution_count": 36,
     "metadata": {},
     "output_type": "execute_result"
    },
    {
     "data": {
      "image/png": "[encoded data removed]",
      "text/plain": [
       "<Figure size 432x288 with 1 Axes>"
      ]
     },
     "metadata": {
      "needs_background": "light"
     },
     "output_type": "display_data"
    }
   ],
   "source": [
    "df[[target_column, 'TMAX']].plot.line()"
   ]
  },
  {
   "cell_type": "code",
   "execution_count": 37,
   "metadata": {},
   "outputs": [
    {
     "data": {
      "text/plain": [
       "<matplotlib.axes._subplots.AxesSubplot at 0x152fe3390b8>"
      ]
     },
     "execution_count": 37,
     "metadata": {},
     "output_type": "execute_result"
    },
    {
     "data": {
      "image/png": "[encoded data removed]",
      "text/plain": [
       "<Figure size 432x288 with 1 Axes>"
      ]
     },
     "metadata": {
      "needs_background": "light"
     },
     "output_type": "display_data"
    }
   ],
   "source": [
    "df[[target_column, 'TMIN']].plot.line()"
   ]
  },
  {
   "cell_type": "code",
   "execution_count": 38,
   "metadata": {},
   "outputs": [
    {
     "data": {
      "text/plain": [
       "<matplotlib.axes._subplots.AxesSubplot at 0x152fe233940>"
      ]
     },
     "execution_count": 38,
     "metadata": {},
     "output_type": "execute_result"
    },
    {
     "data": {
      "image/png": "[encoded data removed]",
      "text/plain": [
       "<Figure size 432x288 with 1 Axes>"
      ]
     },
     "metadata": {
      "needs_background": "light"
     },
     "output_type": "display_data"
    }
   ],
   "source": [
    "df[[target_column,'Wind Angle']].plot.line()"
   ]
  },
  {
   "cell_type": "code",
   "execution_count": 39,
   "metadata": {},
   "outputs": [
    {
     "data": {
      "text/plain": [
       "<matplotlib.axes._subplots.AxesSubplot at 0x152fe271438>"
      ]
     },
     "execution_count": 39,
     "metadata": {},
     "output_type": "execute_result"
    },
    {
     "data": {
      "image/png": "[encoded data removed]",
      "text/plain": [
       "<Figure size 432x288 with 1 Axes>"
      ]
     },
     "metadata": {
      "needs_background": "light"
     },
     "output_type": "display_data"
    }
   ],
   "source": [
    "df[[target_column,'Wind Speed']].plot.line()"
   ]
  },
  {
   "cell_type": "code",
   "execution_count": 40,
   "metadata": {},
   "outputs": [
    {
     "data": {
      "text/plain": [
       "<matplotlib.axes._subplots.AxesSubplot at 0x152fe04e5c0>"
      ]
     },
     "execution_count": 40,
     "metadata": {},
     "output_type": "execute_result"
    },
    {
     "data": {
      "image/png": "[encoded data removed]",
      "text/plain": [
       "<Figure size 432x288 with 1 Axes>"
      ]
     },
     "metadata": {
      "needs_background": "light"
     },
     "output_type": "display_data"
    }
   ],
   "source": [
    "df[['TMAX', 'TMIN', 'Temp C']].plot.line()"
   ]
  },
  {
   "cell_type": "markdown",
   "metadata": {},
   "source": [
    "As expected, we won't get any additional signal from air temperature measurements since they correlate to water temperature. And since the area has so little rain, rain will most likely not provide a decent signal either"
   ]
  },
  {
   "cell_type": "markdown",
   "metadata": {},
   "source": [
    "## Extract Windows"
   ]
  },
  {
   "cell_type": "code",
   "execution_count": 41,
   "metadata": {},
   "outputs": [],
   "source": [
    "presegmented_plot = pd.DataFrame(\n",
    "    {'BGA RFU': train_dfs[train_index][target_column], \n",
    "     'Bloom Threshold': np.full(train_dfs[train_index].count()[0], RFU_THRESHOLD)})"
   ]
  },
  {
   "cell_type": "code",
   "execution_count": 42,
   "metadata": {},
   "outputs": [],
   "source": [
    "def windowize(df, time_column):\n",
    "    print(\"Segmenting...\")\n",
    "    x_windows, y_windows = hf.segment_dataset(df, time_column)\n",
    "    print(\"Extracting feature windows...\")\n",
    "    x_windows = hf.extract_percentile(x_windows, time_column)\n",
    "    print(\"Extracting target windows...\")\n",
    "    y_windows = hf.extract_percentile(y_windows, time_column)\n",
    "    print(\"Combining extractions...\")\n",
    "    x_windows[target_column] = y_windows[target_column].values\n",
    "    return x_windows"
   ]
  },
  {
   "cell_type": "code",
   "execution_count": 43,
   "metadata": {},
   "outputs": [
    {
     "name": "stdout",
     "output_type": "stream",
     "text": [
      "Windowizing 2017 data set: 0\n",
      "Segmenting...\n",
      "Extracting feature windows...\n",
      "Extracting target windows...\n",
      "Combining extractions...\n",
      "Windowizing 2018 data set: 0\n",
      "Segmenting...\n",
      "Extracting feature windows...\n",
      "Extracting target windows...\n",
      "Combining extractions...\n",
      "\n",
      "Windowizing 2017 data set: 1\n",
      "Segmenting...\n",
      "Extracting feature windows...\n",
      "Extracting target windows...\n",
      "Combining extractions...\n",
      "Windowizing 2018 data set: 1\n",
      "Segmenting...\n",
      "Extracting feature windows...\n",
      "Extracting target windows...\n",
      "Combining extractions...\n",
      "\n"
     ]
    }
   ],
   "source": [
    "# Segment each data frame\n",
    "for i in range(0, len(train_dfs)):\n",
    "    print(\"Windowizing 2017 data set:\", i)\n",
    "    train_dfs[i] = windowize(train_dfs[i], 'datetime')\n",
    "    print(\"Windowizing 2018 data set:\", i)\n",
    "    test_dfs[i] = windowize(test_dfs[i], 'datetime')\n",
    "    print()"
   ]
  },
  {
   "cell_type": "markdown",
   "metadata": {},
   "source": [
    "## Add Weather Categories"
   ]
  },
  {
   "cell_type": "code",
   "execution_count": 44,
   "metadata": {},
   "outputs": [],
   "source": [
    "weather_columns = ['Wind Speed','Wind Angle','PRCP','SNOW','SNWD','TMAX','TMIN']\n",
    "x_columns = weather_columns + x_columns + ['Wind Speed_bucket','Wind Angle_bucket','PRCP_bucket','SNOW_bucket','SNWD_bucket','TMAX_bucket','TMIN_bucket']"
   ]
  },
  {
   "cell_type": "code",
   "execution_count": 52,
   "metadata": {},
   "outputs": [],
   "source": [
    "for df in test_dfs + train_dfs:\n",
    "    for column in x_columns:\n",
    "        bucket_column(df, column, dd.all_dic[column])"
   ]
  },
  {
   "cell_type": "code",
   "execution_count": 53,
   "metadata": {},
   "outputs": [
    {
     "data": {
      "text/html": [
       "<div>\n",
       "<style scoped>\n",
       "    .dataframe tbody tr th:only-of-type {\n",
       "        vertical-align: middle;\n",
       "    }\n",
       "\n",
       "    .dataframe tbody tr th {\n",
       "        vertical-align: top;\n",
       "    }\n",
       "\n",
       "    .dataframe thead th {\n",
       "        text-align: right;\n",
       "    }\n",
       "</style>\n",
       "<table border=\"1\" class=\"dataframe\">\n",
       "  <thead>\n",
       "    <tr style=\"text-align: right;\">\n",
       "      <th></th>\n",
       "      <th>BGA-Phycocyanin RFU</th>\n",
       "      <th>ODO (mg/L)</th>\n",
       "      <th>ODOSat%</th>\n",
       "      <th>PRCP</th>\n",
       "      <th>SNOW</th>\n",
       "      <th>SNWD</th>\n",
       "      <th>Sp Cond (uS/cm)</th>\n",
       "      <th>TMAX</th>\n",
       "      <th>TMIN</th>\n",
       "      <th>Temp C</th>\n",
       "      <th>...</th>\n",
       "      <th>datetime</th>\n",
       "      <th>pH</th>\n",
       "      <th>pH (mV)</th>\n",
       "      <th>Wind Speed_bucket</th>\n",
       "      <th>Wind Angle_bucket</th>\n",
       "      <th>PRCP_bucket</th>\n",
       "      <th>SNOW_bucket</th>\n",
       "      <th>SNWD_bucket</th>\n",
       "      <th>TMAX_bucket</th>\n",
       "      <th>TMIN_bucket</th>\n",
       "    </tr>\n",
       "    <tr>\n",
       "      <th>datetimeIndex</th>\n",
       "      <th></th>\n",
       "      <th></th>\n",
       "      <th></th>\n",
       "      <th></th>\n",
       "      <th></th>\n",
       "      <th></th>\n",
       "      <th></th>\n",
       "      <th></th>\n",
       "      <th></th>\n",
       "      <th></th>\n",
       "      <th></th>\n",
       "      <th></th>\n",
       "      <th></th>\n",
       "      <th></th>\n",
       "      <th></th>\n",
       "      <th></th>\n",
       "      <th></th>\n",
       "      <th></th>\n",
       "      <th></th>\n",
       "      <th></th>\n",
       "      <th></th>\n",
       "    </tr>\n",
       "  </thead>\n",
       "  <tbody>\n",
       "    <tr>\n",
       "      <th>2017-05-06 21:36:00</th>\n",
       "      <td>0.625</td>\n",
       "      <td>9.608</td>\n",
       "      <td>97.64</td>\n",
       "      <td>1.8</td>\n",
       "      <td>0.0</td>\n",
       "      <td>0.0</td>\n",
       "      <td>1901.2</td>\n",
       "      <td>31.7</td>\n",
       "      <td>15.0</td>\n",
       "      <td>16.57</td>\n",
       "      <td>...</td>\n",
       "      <td>2017-05-06 21:36:00</td>\n",
       "      <td>8.4</td>\n",
       "      <td>-99.70</td>\n",
       "      <td>Fresh Breeze</td>\n",
       "      <td>WNW</td>\n",
       "      <td>Light</td>\n",
       "      <td>None</td>\n",
       "      <td>None</td>\n",
       "      <td>Hot</td>\n",
       "      <td>Moderate</td>\n",
       "    </tr>\n",
       "    <tr>\n",
       "      <th>2017-05-06 22:36:00</th>\n",
       "      <td>0.625</td>\n",
       "      <td>9.608</td>\n",
       "      <td>97.64</td>\n",
       "      <td>1.8</td>\n",
       "      <td>0.0</td>\n",
       "      <td>0.0</td>\n",
       "      <td>1910.4</td>\n",
       "      <td>31.7</td>\n",
       "      <td>15.0</td>\n",
       "      <td>16.57</td>\n",
       "      <td>...</td>\n",
       "      <td>2017-05-06 22:36:00</td>\n",
       "      <td>8.4</td>\n",
       "      <td>-99.60</td>\n",
       "      <td>Fresh Breeze</td>\n",
       "      <td>WNW</td>\n",
       "      <td>Light</td>\n",
       "      <td>None</td>\n",
       "      <td>None</td>\n",
       "      <td>Hot</td>\n",
       "      <td>Moderate</td>\n",
       "    </tr>\n",
       "    <tr>\n",
       "      <th>2017-05-06 23:36:00</th>\n",
       "      <td>0.625</td>\n",
       "      <td>9.608</td>\n",
       "      <td>97.64</td>\n",
       "      <td>1.8</td>\n",
       "      <td>0.0</td>\n",
       "      <td>0.0</td>\n",
       "      <td>1914.0</td>\n",
       "      <td>31.7</td>\n",
       "      <td>15.0</td>\n",
       "      <td>16.57</td>\n",
       "      <td>...</td>\n",
       "      <td>2017-05-06 23:36:00</td>\n",
       "      <td>8.4</td>\n",
       "      <td>-99.50</td>\n",
       "      <td>Fresh Breeze</td>\n",
       "      <td>WNW</td>\n",
       "      <td>Light</td>\n",
       "      <td>None</td>\n",
       "      <td>None</td>\n",
       "      <td>Hot</td>\n",
       "      <td>Moderate</td>\n",
       "    </tr>\n",
       "    <tr>\n",
       "      <th>2017-05-07 00:36:00</th>\n",
       "      <td>0.625</td>\n",
       "      <td>9.608</td>\n",
       "      <td>97.64</td>\n",
       "      <td>1.8</td>\n",
       "      <td>0.0</td>\n",
       "      <td>0.0</td>\n",
       "      <td>1914.0</td>\n",
       "      <td>31.7</td>\n",
       "      <td>18.9</td>\n",
       "      <td>16.57</td>\n",
       "      <td>...</td>\n",
       "      <td>2017-05-07 00:36:00</td>\n",
       "      <td>8.4</td>\n",
       "      <td>-99.40</td>\n",
       "      <td>Fresh Breeze</td>\n",
       "      <td>WNW</td>\n",
       "      <td>Light</td>\n",
       "      <td>None</td>\n",
       "      <td>None</td>\n",
       "      <td>Hot</td>\n",
       "      <td>Room</td>\n",
       "    </tr>\n",
       "    <tr>\n",
       "      <th>2017-05-07 01:36:00</th>\n",
       "      <td>0.625</td>\n",
       "      <td>9.608</td>\n",
       "      <td>97.64</td>\n",
       "      <td>1.8</td>\n",
       "      <td>0.0</td>\n",
       "      <td>0.0</td>\n",
       "      <td>1915.0</td>\n",
       "      <td>31.7</td>\n",
       "      <td>18.9</td>\n",
       "      <td>16.57</td>\n",
       "      <td>...</td>\n",
       "      <td>2017-05-07 01:36:00</td>\n",
       "      <td>8.4</td>\n",
       "      <td>-99.36</td>\n",
       "      <td>Fresh Breeze</td>\n",
       "      <td>W</td>\n",
       "      <td>Light</td>\n",
       "      <td>None</td>\n",
       "      <td>None</td>\n",
       "      <td>Hot</td>\n",
       "      <td>Room</td>\n",
       "    </tr>\n",
       "  </tbody>\n",
       "</table>\n",
       "<p>5 rows × 23 columns</p>\n",
       "</div>"
      ],
      "text/plain": [
       "                     BGA-Phycocyanin RFU  ODO (mg/L)  ODOSat%  PRCP  SNOW  \\\n",
       "datetimeIndex                                                               \n",
       "2017-05-06 21:36:00                0.625       9.608    97.64   1.8   0.0   \n",
       "2017-05-06 22:36:00                0.625       9.608    97.64   1.8   0.0   \n",
       "2017-05-06 23:36:00                0.625       9.608    97.64   1.8   0.0   \n",
       "2017-05-07 00:36:00                0.625       9.608    97.64   1.8   0.0   \n",
       "2017-05-07 01:36:00                0.625       9.608    97.64   1.8   0.0   \n",
       "\n",
       "                     SNWD  Sp Cond (uS/cm)  TMAX  TMIN  Temp C     ...      \\\n",
       "datetimeIndex                                                      ...       \n",
       "2017-05-06 21:36:00   0.0           1901.2  31.7  15.0   16.57     ...       \n",
       "2017-05-06 22:36:00   0.0           1910.4  31.7  15.0   16.57     ...       \n",
       "2017-05-06 23:36:00   0.0           1914.0  31.7  15.0   16.57     ...       \n",
       "2017-05-07 00:36:00   0.0           1914.0  31.7  18.9   16.57     ...       \n",
       "2017-05-07 01:36:00   0.0           1915.0  31.7  18.9   16.57     ...       \n",
       "\n",
       "                               datetime   pH  pH (mV) Wind Speed_bucket  \\\n",
       "datetimeIndex                                                             \n",
       "2017-05-06 21:36:00 2017-05-06 21:36:00  8.4   -99.70      Fresh Breeze   \n",
       "2017-05-06 22:36:00 2017-05-06 22:36:00  8.4   -99.60      Fresh Breeze   \n",
       "2017-05-06 23:36:00 2017-05-06 23:36:00  8.4   -99.50      Fresh Breeze   \n",
       "2017-05-07 00:36:00 2017-05-07 00:36:00  8.4   -99.40      Fresh Breeze   \n",
       "2017-05-07 01:36:00 2017-05-07 01:36:00  8.4   -99.36      Fresh Breeze   \n",
       "\n",
       "                     Wind Angle_bucket  PRCP_bucket SNOW_bucket SNWD_bucket  \\\n",
       "datetimeIndex                                                                 \n",
       "2017-05-06 21:36:00                WNW        Light        None        None   \n",
       "2017-05-06 22:36:00                WNW        Light        None        None   \n",
       "2017-05-06 23:36:00                WNW        Light        None        None   \n",
       "2017-05-07 00:36:00                WNW        Light        None        None   \n",
       "2017-05-07 01:36:00                  W        Light        None        None   \n",
       "\n",
       "                    TMAX_bucket TMIN_bucket  \n",
       "datetimeIndex                                \n",
       "2017-05-06 21:36:00         Hot    Moderate  \n",
       "2017-05-06 22:36:00         Hot    Moderate  \n",
       "2017-05-06 23:36:00         Hot    Moderate  \n",
       "2017-05-07 00:36:00         Hot        Room  \n",
       "2017-05-07 01:36:00         Hot        Room  \n",
       "\n",
       "[5 rows x 23 columns]"
      ]
     },
     "execution_count": 53,
     "metadata": {},
     "output_type": "execute_result"
    }
   ],
   "source": [
    "#Check to seee if the buckets worked\n",
    "train_dfs[train_index].head()"
   ]
  },
  {
   "cell_type": "markdown",
   "metadata": {},
   "source": [
    "### box plot all the things"
   ]
  },
  {
   "cell_type": "code",
   "execution_count": 54,
   "metadata": {},
   "outputs": [
    {
     "data": {
      "text/plain": [
       "<matplotlib.axes._subplots.AxesSubplot at 0x152fe764080>"
      ]
     },
     "execution_count": 54,
     "metadata": {},
     "output_type": "execute_result"
    },
    {
     "data": {
      "image/png": "[encoded data removed]",
      "text/plain": [
       "<Figure size 432x288 with 1 Axes>"
      ]
     },
     "metadata": {
      "needs_background": "light"
     },
     "output_type": "display_data"
    }
   ],
   "source": [
    "sns.boxplot(data=test_dfs[test_index], x='PRCP_bucket', y=target_column)"
   ]
  },
  {
   "cell_type": "code",
   "execution_count": 55,
   "metadata": {},
   "outputs": [
    {
     "data": {
      "text/plain": [
       "<matplotlib.axes._subplots.AxesSubplot at 0x152fde890b8>"
      ]
     },
     "execution_count": 55,
     "metadata": {},
     "output_type": "execute_result"
    },
    {
     "data": {
      "image/png": "[encoded data removed]",
      "text/plain": [
       "<Figure size 432x288 with 1 Axes>"
      ]
     },
     "metadata": {
      "needs_background": "light"
     },
     "output_type": "display_data"
    }
   ],
   "source": [
    "sns.boxplot(data=test_dfs[test_index], x='Wind Speed_bucket', y=target_column)"
   ]
  },
  {
   "cell_type": "code",
   "execution_count": 56,
   "metadata": {},
   "outputs": [
    {
     "data": {
      "text/plain": [
       "<matplotlib.axes._subplots.AxesSubplot at 0x152fdd5bcf8>"
      ]
     },
     "execution_count": 56,
     "metadata": {},
     "output_type": "execute_result"
    },
    {
     "data": {
      "image/png": "[encoded data removed]",
      "text/plain": [
       "<Figure size 432x288 with 1 Axes>"
      ]
     },
     "metadata": {
      "needs_background": "light"
     },
     "output_type": "display_data"
    }
   ],
   "source": [
    "sns.boxplot(data=test_dfs[test_index], x='Wind Angle_bucket', y=target_column)"
   ]
  },
  {
   "cell_type": "code",
   "execution_count": 57,
   "metadata": {},
   "outputs": [
    {
     "data": {
      "text/plain": [
       "<matplotlib.axes._subplots.AxesSubplot at 0x152fc227710>"
      ]
     },
     "execution_count": 57,
     "metadata": {},
     "output_type": "execute_result"
    },
    {
     "data": {
      "image/png": "[encoded data removed]",
      "text/plain": [
       "<Figure size 432x288 with 1 Axes>"
      ]
     },
     "metadata": {
      "needs_background": "light"
     },
     "output_type": "display_data"
    }
   ],
   "source": [
    "sns.boxplot(data=test_dfs[test_index], x='SNOW_bucket', y=target_column)"
   ]
  },
  {
   "cell_type": "code",
   "execution_count": 58,
   "metadata": {},
   "outputs": [
    {
     "data": {
      "text/plain": [
       "<matplotlib.axes._subplots.AxesSubplot at 0x152fbf5c3c8>"
      ]
     },
     "execution_count": 58,
     "metadata": {},
     "output_type": "execute_result"
    },
    {
     "data": {
      "image/png": "[encoded data removed]",
      "text/plain": [
       "<Figure size 432x288 with 1 Axes>"
      ]
     },
     "metadata": {
      "needs_background": "light"
     },
     "output_type": "display_data"
    }
   ],
   "source": [
    "sns.boxplot(data=test_dfs[test_index], x='SNWD_bucket', y=target_column)"
   ]
  },
  {
   "cell_type": "code",
   "execution_count": 59,
   "metadata": {},
   "outputs": [
    {
     "data": {
      "text/plain": [
       "<matplotlib.axes._subplots.AxesSubplot at 0x152fdc4eeb8>"
      ]
     },
     "execution_count": 59,
     "metadata": {},
     "output_type": "execute_result"
    },
    {
     "data": {
      "image/png": "[encoded data removed]",
      "text/plain": [
       "<Figure size 432x288 with 1 Axes>"
      ]
     },
     "metadata": {
      "needs_background": "light"
     },
     "output_type": "display_data"
    }
   ],
   "source": [
    "sns.boxplot(data=test_dfs[test_index], x='TMAX_bucket', y=target_column)"
   ]
  },
  {
   "cell_type": "code",
   "execution_count": 60,
   "metadata": {},
   "outputs": [
    {
     "data": {
      "text/plain": [
       "<matplotlib.axes._subplots.AxesSubplot at 0x152fb835438>"
      ]
     },
     "execution_count": 60,
     "metadata": {},
     "output_type": "execute_result"
    },
    {
     "data": {
      "image/png": "[encoded data removed]",
      "text/plain": [
       "<Figure size 432x288 with 1 Axes>"
      ]
     },
     "metadata": {
      "needs_background": "light"
     },
     "output_type": "display_data"
    }
   ],
   "source": [
    "sns.boxplot(data=test_dfs[test_index], x='TMIN_bucket', y=target_column)"
   ]
  },
  {
   "cell_type": "markdown",
   "metadata": {},
   "source": [
    "## BGA RFU Levels"
   ]
  },
  {
   "cell_type": "code",
   "execution_count": 61,
   "metadata": {},
   "outputs": [
    {
     "data": {
      "text/plain": [
       "<matplotlib.axes._subplots.AxesSubplot at 0x152fb840240>"
      ]
     },
     "execution_count": 61,
     "metadata": {},
     "output_type": "execute_result"
    },
    {
     "data": {
      "image/png": "[encoded data removed]",
      "text/plain": [
       "<Figure size 432x288 with 1 Axes>"
      ]
     },
     "metadata": {
      "needs_background": "light"
     },
     "output_type": "display_data"
    }
   ],
   "source": [
    "presegmented_plot.plot.line()"
   ]
  },
  {
   "cell_type": "code",
   "execution_count": 62,
   "metadata": {
    "scrolled": true
   },
   "outputs": [
    {
     "data": {
      "text/plain": [
       "<matplotlib.axes._subplots.AxesSubplot at 0x152fb834978>"
      ]
     },
     "execution_count": 62,
     "metadata": {},
     "output_type": "execute_result"
    },
    {
     "data": {
      "image/png": "[encoded data removed]",
      "text/plain": [
       "<Figure size 432x288 with 1 Axes>"
      ]
     },
     "metadata": {
      "needs_background": "light"
     },
     "output_type": "display_data"
    }
   ],
   "source": [
    "pd.DataFrame({'BGA RFU': train_dfs[train_index][target_column], \n",
    "            'Bloom Threshold': np.full(\n",
    "                train_dfs[train_index].count()[0], RFU_THRESHOLD)}).plot.line()"
   ]
  },
  {
   "cell_type": "code",
   "execution_count": 63,
   "metadata": {},
   "outputs": [],
   "source": [
    "lrf.add_target_column([train_dfs[train_index], test_dfs[test_index]], \n",
    "                      threshold=RFU_THRESHOLD)"
   ]
  },
  {
   "cell_type": "code",
   "execution_count": 64,
   "metadata": {},
   "outputs": [
    {
     "data": {
      "text/plain": [
       "<matplotlib.axes._subplots.AxesSubplot at 0x152fc2e5748>"
      ]
     },
     "execution_count": 64,
     "metadata": {},
     "output_type": "execute_result"
    },
    {
     "data": {
      "image/png": "[encoded data removed]",
      "text/plain": [
       "<Figure size 432x288 with 1 Axes>"
      ]
     },
     "metadata": {
      "needs_background": "light"
     },
     "output_type": "display_data"
    }
   ],
   "source": [
    "sns.lineplot(data=train_dfs[train_index][[target_column, 'bloom']], hue='bloom')"
   ]
  },
  {
   "cell_type": "markdown",
   "metadata": {},
   "source": [
    "## Logistic Regression Model"
   ]
  },
  {
   "cell_type": "code",
   "execution_count": 65,
   "metadata": {},
   "outputs": [
    {
     "name": "stdout",
     "output_type": "stream",
     "text": [
      "Index(['BGA-Phycocyanin RFU', 'ODO (mg/L)', 'ODOSat%', 'PRCP', 'SNOW', 'SNWD',\n",
      "       'Sp Cond (uS/cm)', 'TMAX', 'TMIN', 'Temp C', 'Turbidity (NTU)',\n",
      "       'Wind Angle', 'Wind Speed', 'datetime', 'pH', 'pH (mV)',\n",
      "       'Wind Speed_bucket', 'Wind Angle_bucket', 'PRCP_bucket', 'SNOW_bucket',\n",
      "       'SNWD_bucket', 'TMAX_bucket', 'TMIN_bucket', 'bloom'],\n",
      "      dtype='object')\n",
      "Index(['BGA-Phycocyanin RFU', 'ODO (mg/L)', 'ODOSat%', 'PRCP', 'SNOW', 'SNWD',\n",
      "       'Sp Cond (uS/cm)', 'TMAX', 'TMIN', 'Temp C', 'Turbidity (NTU)',\n",
      "       'Wind Angle', 'Wind Speed', 'datetime', 'pH', 'pH (mV)',\n",
      "       'Wind Speed_bucket', 'Wind Angle_bucket', 'PRCP_bucket', 'SNOW_bucket',\n",
      "       'SNWD_bucket', 'TMAX_bucket', 'TMIN_bucket', 'bloom'],\n",
      "      dtype='object')\n",
      "['Wind Speed', 'Wind Angle', 'PRCP', 'SNOW', 'SNWD', 'TMAX', 'TMIN', 'Temp C', 'Sp Cond (uS/cm)', 'pH (mV)', 'pH', 'Turbidity (NTU)', 'ODOSat%', 'ODO (mg/L)', 'Wind Speed_bucket', 'Wind Angle_bucket', 'PRCP_bucket', 'SNOW_bucket', 'SNWD_bucket', 'TMAX_bucket', 'TMIN_bucket']\n"
     ]
    }
   ],
   "source": [
    "print(test_dfs[test_index].columns)\n",
    "print(train_dfs[train_index].columns)\n",
    "print(x_columns)"
   ]
  },
  {
   "cell_type": "markdown",
   "metadata": {},
   "source": [
    "### Null Model"
   ]
  },
  {
   "cell_type": "code",
   "execution_count": 66,
   "metadata": {},
   "outputs": [
    {
     "name": "stderr",
     "output_type": "stream",
     "text": [
      "C:\\Users\\Public\\Anaconda3\\lib\\site-packages\\sklearn\\linear_model\\stochastic_gradient.py:183: FutureWarning: max_iter and tol parameters have been added in SGDClassifier in 0.19. If max_iter is set but tol is left unset, the default value for tol in 0.19 and 0.20 will be None (which is equivalent to -infinity, so it has no effect) but will change in 0.21 to 1e-3. Specify tol to silence this warning.\n",
      "  FutureWarning)\n"
     ]
    },
    {
     "name": "stdout",
     "output_type": "stream",
     "text": [
      "Accuracy 0.37841216920191706\n",
      "Recall: 0.0\n",
      "Precision 0.0\n",
      "Confusion Matrix:\n",
      " [[1816    0]\n",
      " [2983    0]]\n",
      "columns: Index(['BGA-Phycocyanin RFU', 'ODO (mg/L)', 'ODOSat%', 'PRCP', 'SNOW', 'SNWD',\n",
      "       'Sp Cond (uS/cm)', 'TMAX', 'TMIN', 'Temp C', 'Turbidity (NTU)',\n",
      "       'Wind Angle', 'Wind Speed', 'datetime', 'pH', 'pH (mV)',\n",
      "       'Wind Speed_bucket', 'Wind Angle_bucket', 'PRCP_bucket', 'SNOW_bucket',\n",
      "       'SNWD_bucket', 'TMAX_bucket', 'TMIN_bucket', 'bloom'],\n",
      "      dtype='object')\n"
     ]
    },
    {
     "name": "stderr",
     "output_type": "stream",
     "text": [
      "C:\\Users\\Public\\Anaconda3\\lib\\site-packages\\sklearn\\metrics\\classification.py:1143: UndefinedMetricWarning: Precision is ill-defined and being set to 0.0 due to no predicted samples.\n",
      "  'precision', 'predicted', average, warn_for)\n"
     ]
    }
   ],
   "source": [
    "# The null model's performance\n",
    "max_iter = 25000\n",
    "loss = \"log\"\n",
    "model = SGDClassifier(max_iter=max_iter, loss=loss)\n",
    "accuracy, recall, precision, cm, _, _, _ = lrf.train_model(\n",
    "    model, train_dfs[train_index], test_dfs[test_index], x_columns, 'bloom', True)\n",
    "print(\"Accuracy\", accuracy)\n",
    "print(\"Recall:\", recall)\n",
    "print(\"Precision\", precision)\n",
    "print(\"Confusion Matrix:\\n\", cm)\n",
    "print(\"columns:\", train_dfs[train_index].columns)"
   ]
  },
  {
   "cell_type": "markdown",
   "metadata": {},
   "source": [
    "### All variables model"
   ]
  },
  {
   "cell_type": "code",
   "execution_count": 67,
   "metadata": {},
   "outputs": [
    {
     "name": "stderr",
     "output_type": "stream",
     "text": [
      "C:\\Users\\Public\\Anaconda3\\lib\\site-packages\\sklearn\\linear_model\\stochastic_gradient.py:183: FutureWarning: max_iter and tol parameters have been added in SGDClassifier in 0.19. If max_iter is set but tol is left unset, the default value for tol in 0.19 and 0.20 will be None (which is equivalent to -infinity, so it has no effect) but will change in 0.21 to 1e-3. Specify tol to silence this warning.\n",
      "  FutureWarning)\n"
     ]
    },
    {
     "name": "stdout",
     "output_type": "stream",
     "text": [
      "Accuracy 0.6945196916024172\n",
      "Recall: 0.9356352665102247\n",
      "Precision 0.6865928659286593\n",
      "Confusion Matrix:\n",
      " [[ 542 1274]\n",
      " [ 192 2791]]\n",
      "columns: ['Wind Speed', 'Wind Angle', 'PRCP', 'SNOW', 'SNWD', 'TMAX', 'TMIN', 'Temp C', 'Sp Cond (uS/cm)', 'pH (mV)', 'pH', 'Turbidity (NTU)', 'ODOSat%', 'ODO (mg/L)', 'Wind Speed_bucket', 'Wind Angle_bucket', 'PRCP_bucket', 'SNOW_bucket', 'SNWD_bucket', 'TMAX_bucket', 'TMIN_bucket']\n"
     ]
    }
   ],
   "source": [
    "# All variables model performance\n",
    "max_iter = 25000\n",
    "loss = \"log\"\n",
    "model = SGDClassifier(max_iter=max_iter, loss=loss)\n",
    "accuracy, recall, precision, cm, _, _, _ = lrf.train_model(\n",
    "    model, train_dfs[train_index], test_dfs[test_index], x_columns, 'bloom')\n",
    "print(\"Accuracy\", accuracy)\n",
    "print(\"Recall:\", recall)\n",
    "print(\"Precision\", precision)\n",
    "print(\"Confusion Matrix:\\n\", cm)\n",
    "print(\"columns:\", x_columns)"
   ]
  },
  {
   "cell_type": "markdown",
   "metadata": {},
   "source": [
    "### Greedy Model"
   ]
  },
  {
   "cell_type": "code",
   "execution_count": 68,
   "metadata": {
    "scrolled": true
   },
   "outputs": [
    {
     "name": "stdout",
     "output_type": "stream",
     "text": [
      "Training model with: Wind Speed\n"
     ]
    },
    {
     "name": "stderr",
     "output_type": "stream",
     "text": [
      "C:\\Users\\Public\\Anaconda3\\lib\\site-packages\\sklearn\\linear_model\\stochastic_gradient.py:183: FutureWarning: max_iter and tol parameters have been added in SGDClassifier in 0.19. If max_iter is set but tol is left unset, the default value for tol in 0.19 and 0.20 will be None (which is equivalent to -infinity, so it has no effect) but will change in 0.21 to 1e-3. Specify tol to silence this warning.\n",
      "  FutureWarning)\n"
     ]
    },
    {
     "name": "stdout",
     "output_type": "stream",
     "text": [
      "Accuracy 0.4457178578870598\n",
      "Recall: 0.2380154207173986\n",
      "Precision 0.6472196900638104\n",
      "Confusion Matrix:\n",
      " [[1429  387]\n",
      " [2273  710]]\n",
      "\n",
      "Training model with: Wind Angle\n"
     ]
    },
    {
     "name": "stderr",
     "output_type": "stream",
     "text": [
      "C:\\Users\\Public\\Anaconda3\\lib\\site-packages\\sklearn\\linear_model\\stochastic_gradient.py:183: FutureWarning: max_iter and tol parameters have been added in SGDClassifier in 0.19. If max_iter is set but tol is left unset, the default value for tol in 0.19 and 0.20 will be None (which is equivalent to -infinity, so it has no effect) but will change in 0.21 to 1e-3. Specify tol to silence this warning.\n",
      "  FutureWarning)\n"
     ]
    },
    {
     "name": "stdout",
     "output_type": "stream",
     "text": [
      "Accuracy 0.4400916857678683\n",
      "Recall: 0.1806905799530674\n",
      "Precision 0.6892583120204604\n",
      "Confusion Matrix:\n",
      " [[1573  243]\n",
      " [2444  539]]\n",
      "\n",
      "Training model with: PRCP\n"
     ]
    },
    {
     "name": "stderr",
     "output_type": "stream",
     "text": [
      "C:\\Users\\Public\\Anaconda3\\lib\\site-packages\\sklearn\\linear_model\\stochastic_gradient.py:183: FutureWarning: max_iter and tol parameters have been added in SGDClassifier in 0.19. If max_iter is set but tol is left unset, the default value for tol in 0.19 and 0.20 will be None (which is equivalent to -infinity, so it has no effect) but will change in 0.21 to 1e-3. Specify tol to silence this warning.\n",
      "  FutureWarning)\n",
      "C:\\Users\\Public\\Anaconda3\\lib\\site-packages\\sklearn\\metrics\\classification.py:1143: UndefinedMetricWarning: Precision is ill-defined and being set to 0.0 due to no predicted samples.\n",
      "  'precision', 'predicted', average, warn_for)\n",
      "C:\\Users\\Public\\Anaconda3\\lib\\site-packages\\sklearn\\linear_model\\stochastic_gradient.py:183: FutureWarning: max_iter and tol parameters have been added in SGDClassifier in 0.19. If max_iter is set but tol is left unset, the default value for tol in 0.19 and 0.20 will be None (which is equivalent to -infinity, so it has no effect) but will change in 0.21 to 1e-3. Specify tol to silence this warning.\n",
      "  FutureWarning)\n"
     ]
    },
    {
     "name": "stdout",
     "output_type": "stream",
     "text": [
      "Accuracy 0.37841216920191706\n",
      "Recall: 0.0\n",
      "Precision 0.0\n",
      "Confusion Matrix:\n",
      " [[1816    0]\n",
      " [2983    0]]\n",
      "\n",
      "Training model with: SNOW\n"
     ]
    },
    {
     "name": "stderr",
     "output_type": "stream",
     "text": [
      "C:\\Users\\Public\\Anaconda3\\lib\\site-packages\\sklearn\\metrics\\classification.py:1143: UndefinedMetricWarning: Precision is ill-defined and being set to 0.0 due to no predicted samples.\n",
      "  'precision', 'predicted', average, warn_for)\n",
      "C:\\Users\\Public\\Anaconda3\\lib\\site-packages\\sklearn\\linear_model\\stochastic_gradient.py:183: FutureWarning: max_iter and tol parameters have been added in SGDClassifier in 0.19. If max_iter is set but tol is left unset, the default value for tol in 0.19 and 0.20 will be None (which is equivalent to -infinity, so it has no effect) but will change in 0.21 to 1e-3. Specify tol to silence this warning.\n",
      "  FutureWarning)\n"
     ]
    },
    {
     "name": "stdout",
     "output_type": "stream",
     "text": [
      "Accuracy 0.37841216920191706\n",
      "Recall: 0.0\n",
      "Precision 0.0\n",
      "Confusion Matrix:\n",
      " [[1816    0]\n",
      " [2983    0]]\n",
      "\n",
      "Training model with: SNWD\n"
     ]
    },
    {
     "name": "stderr",
     "output_type": "stream",
     "text": [
      "C:\\Users\\Public\\Anaconda3\\lib\\site-packages\\sklearn\\metrics\\classification.py:1143: UndefinedMetricWarning: Precision is ill-defined and being set to 0.0 due to no predicted samples.\n",
      "  'precision', 'predicted', average, warn_for)\n",
      "C:\\Users\\Public\\Anaconda3\\lib\\site-packages\\sklearn\\linear_model\\stochastic_gradient.py:183: FutureWarning: max_iter and tol parameters have been added in SGDClassifier in 0.19. If max_iter is set but tol is left unset, the default value for tol in 0.19 and 0.20 will be None (which is equivalent to -infinity, so it has no effect) but will change in 0.21 to 1e-3. Specify tol to silence this warning.\n",
      "  FutureWarning)\n"
     ]
    },
    {
     "name": "stdout",
     "output_type": "stream",
     "text": [
      "Accuracy 0.37841216920191706\n",
      "Recall: 0.0\n",
      "Precision 0.0\n",
      "Confusion Matrix:\n",
      " [[1816    0]\n",
      " [2983    0]]\n",
      "\n",
      "Training model with: TMAX\n",
      "Accuracy 0.5865805376120025\n",
      "Recall: 0.45759302715387196\n",
      "Precision 0.7885615251299827\n",
      "Confusion Matrix:\n",
      " [[1450  366]\n",
      " [1618 1365]]\n",
      "\n",
      "Training model with: TMIN\n"
     ]
    },
    {
     "name": "stderr",
     "output_type": "stream",
     "text": [
      "C:\\Users\\Public\\Anaconda3\\lib\\site-packages\\sklearn\\linear_model\\stochastic_gradient.py:183: FutureWarning: max_iter and tol parameters have been added in SGDClassifier in 0.19. If max_iter is set but tol is left unset, the default value for tol in 0.19 and 0.20 will be None (which is equivalent to -infinity, so it has no effect) but will change in 0.21 to 1e-3. Specify tol to silence this warning.\n",
      "  FutureWarning)\n"
     ]
    },
    {
     "name": "stdout",
     "output_type": "stream",
     "text": [
      "Accuracy 0.6686809752031673\n",
      "Recall: 0.5306738183037211\n",
      "Precision 0.8928369994359842\n",
      "Confusion Matrix:\n",
      " [[1626  190]\n",
      " [1400 1583]]\n",
      "\n",
      "Training model with: Temp C\n"
     ]
    },
    {
     "name": "stderr",
     "output_type": "stream",
     "text": [
      "C:\\Users\\Public\\Anaconda3\\lib\\site-packages\\sklearn\\linear_model\\stochastic_gradient.py:183: FutureWarning: max_iter and tol parameters have been added in SGDClassifier in 0.19. If max_iter is set but tol is left unset, the default value for tol in 0.19 and 0.20 will be None (which is equivalent to -infinity, so it has no effect) but will change in 0.21 to 1e-3. Specify tol to silence this warning.\n",
      "  FutureWarning)\n"
     ]
    },
    {
     "name": "stdout",
     "output_type": "stream",
     "text": [
      "Accuracy 0.6072098353823713\n",
      "Recall: 0.39088166275561514\n",
      "Precision 0.9448946515397083\n",
      "Confusion Matrix:\n",
      " [[1748   68]\n",
      " [1817 1166]]\n",
      "\n",
      "Training model with: Sp Cond (uS/cm)\n"
     ]
    },
    {
     "name": "stderr",
     "output_type": "stream",
     "text": [
      "C:\\Users\\Public\\Anaconda3\\lib\\site-packages\\sklearn\\linear_model\\stochastic_gradient.py:183: FutureWarning: max_iter and tol parameters have been added in SGDClassifier in 0.19. If max_iter is set but tol is left unset, the default value for tol in 0.19 and 0.20 will be None (which is equivalent to -infinity, so it has no effect) but will change in 0.21 to 1e-3. Specify tol to silence this warning.\n",
      "  FutureWarning)\n",
      "C:\\Users\\Public\\Anaconda3\\lib\\site-packages\\sklearn\\metrics\\classification.py:1143: UndefinedMetricWarning: Precision is ill-defined and being set to 0.0 due to no predicted samples.\n",
      "  'precision', 'predicted', average, warn_for)\n",
      "C:\\Users\\Public\\Anaconda3\\lib\\site-packages\\sklearn\\linear_model\\stochastic_gradient.py:183: FutureWarning: max_iter and tol parameters have been added in SGDClassifier in 0.19. If max_iter is set but tol is left unset, the default value for tol in 0.19 and 0.20 will be None (which is equivalent to -infinity, so it has no effect) but will change in 0.21 to 1e-3. Specify tol to silence this warning.\n",
      "  FutureWarning)\n"
     ]
    },
    {
     "name": "stdout",
     "output_type": "stream",
     "text": [
      "Accuracy 0.37841216920191706\n",
      "Recall: 0.0\n",
      "Precision 0.0\n",
      "Confusion Matrix:\n",
      " [[1816    0]\n",
      " [2983    0]]\n",
      "\n",
      "Training model with: pH (mV)\n",
      "Accuracy 0.6228380912690143\n",
      "Recall: 0.9963124371438149\n",
      "Precision 0.6229302033116747\n",
      "Confusion Matrix:\n",
      " [[  17 1799]\n",
      " [  11 2972]]\n",
      "\n",
      "Training model with: pH\n"
     ]
    },
    {
     "name": "stderr",
     "output_type": "stream",
     "text": [
      "C:\\Users\\Public\\Anaconda3\\lib\\site-packages\\sklearn\\linear_model\\stochastic_gradient.py:183: FutureWarning: max_iter and tol parameters have been added in SGDClassifier in 0.19. If max_iter is set but tol is left unset, the default value for tol in 0.19 and 0.20 will be None (which is equivalent to -infinity, so it has no effect) but will change in 0.21 to 1e-3. Specify tol to silence this warning.\n",
      "  FutureWarning)\n"
     ]
    },
    {
     "name": "stdout",
     "output_type": "stream",
     "text": [
      "Accuracy 0.7589081058553865\n",
      "Recall: 0.6895742541066041\n",
      "Precision 0.8990384615384616\n",
      "Confusion Matrix:\n",
      " [[1585  231]\n",
      " [ 926 2057]]\n",
      "\n",
      "Training model with: Turbidity (NTU)\n"
     ]
    },
    {
     "name": "stderr",
     "output_type": "stream",
     "text": [
      "C:\\Users\\Public\\Anaconda3\\lib\\site-packages\\sklearn\\linear_model\\stochastic_gradient.py:183: FutureWarning: max_iter and tol parameters have been added in SGDClassifier in 0.19. If max_iter is set but tol is left unset, the default value for tol in 0.19 and 0.20 will be None (which is equivalent to -infinity, so it has no effect) but will change in 0.21 to 1e-3. Specify tol to silence this warning.\n",
      "  FutureWarning)\n",
      "C:\\Users\\Public\\Anaconda3\\lib\\site-packages\\sklearn\\metrics\\classification.py:1143: UndefinedMetricWarning: Precision is ill-defined and being set to 0.0 due to no predicted samples.\n",
      "  'precision', 'predicted', average, warn_for)\n",
      "C:\\Users\\Public\\Anaconda3\\lib\\site-packages\\sklearn\\linear_model\\stochastic_gradient.py:183: FutureWarning: max_iter and tol parameters have been added in SGDClassifier in 0.19. If max_iter is set but tol is left unset, the default value for tol in 0.19 and 0.20 will be None (which is equivalent to -infinity, so it has no effect) but will change in 0.21 to 1e-3. Specify tol to silence this warning.\n",
      "  FutureWarning)\n"
     ]
    },
    {
     "name": "stdout",
     "output_type": "stream",
     "text": [
      "Accuracy 0.37841216920191706\n",
      "Recall: 0.0\n",
      "Precision 0.0\n",
      "Confusion Matrix:\n",
      " [[1816    0]\n",
      " [2983    0]]\n",
      "\n",
      "Training model with: ODOSat%\n",
      "Accuracy 0.6799333194415503\n",
      "Recall: 0.5095541401273885\n",
      "Precision 0.9541745134965474\n",
      "Confusion Matrix:\n",
      " [[1743   73]\n",
      " [1463 1520]]\n",
      "\n",
      "Training model with: ODO (mg/L)\n"
     ]
    },
    {
     "name": "stderr",
     "output_type": "stream",
     "text": [
      "C:\\Users\\Public\\Anaconda3\\lib\\site-packages\\sklearn\\linear_model\\stochastic_gradient.py:183: FutureWarning: max_iter and tol parameters have been added in SGDClassifier in 0.19. If max_iter is set but tol is left unset, the default value for tol in 0.19 and 0.20 will be None (which is equivalent to -infinity, so it has no effect) but will change in 0.21 to 1e-3. Specify tol to silence this warning.\n",
      "  FutureWarning)\n"
     ]
    },
    {
     "name": "stdout",
     "output_type": "stream",
     "text": [
      "Accuracy 0.5788705980412586\n",
      "Recall: 0.36808581964465303\n",
      "Precision 0.8897893030794165\n",
      "Confusion Matrix:\n",
      " [[1680  136]\n",
      " [1885 1098]]\n",
      "\n",
      "Training model with: Wind Speed_bucket\n"
     ]
    },
    {
     "name": "stderr",
     "output_type": "stream",
     "text": [
      "C:\\Users\\Public\\Anaconda3\\lib\\site-packages\\sklearn\\linear_model\\stochastic_gradient.py:183: FutureWarning: max_iter and tol parameters have been added in SGDClassifier in 0.19. If max_iter is set but tol is left unset, the default value for tol in 0.19 and 0.20 will be None (which is equivalent to -infinity, so it has no effect) but will change in 0.21 to 1e-3. Specify tol to silence this warning.\n",
      "  FutureWarning)\n"
     ]
    },
    {
     "name": "stdout",
     "output_type": "stream",
     "text": [
      "Accuracy 0.5317774536361742\n",
      "Recall: 0.4294334562520952\n",
      "Precision 0.7015334063526835\n",
      "Confusion Matrix:\n",
      " [[1271  545]\n",
      " [1702 1281]]\n",
      "\n",
      "Training model with: Wind Angle_bucket\n"
     ]
    },
    {
     "name": "stderr",
     "output_type": "stream",
     "text": [
      "C:\\Users\\Public\\Anaconda3\\lib\\site-packages\\sklearn\\linear_model\\stochastic_gradient.py:183: FutureWarning: max_iter and tol parameters have been added in SGDClassifier in 0.19. If max_iter is set but tol is left unset, the default value for tol in 0.19 and 0.20 will be None (which is equivalent to -infinity, so it has no effect) but will change in 0.21 to 1e-3. Specify tol to silence this warning.\n",
      "  FutureWarning)\n"
     ]
    },
    {
     "name": "stdout",
     "output_type": "stream",
     "text": [
      "Accuracy 0.4102938112106689\n",
      "Recall: 0.11800201139792156\n",
      "Precision 0.6388384754990926\n",
      "Confusion Matrix:\n",
      " [[1617  199]\n",
      " [2631  352]]\n",
      "\n",
      "Training model with: PRCP_bucket\n"
     ]
    },
    {
     "name": "stderr",
     "output_type": "stream",
     "text": [
      "C:\\Users\\Public\\Anaconda3\\lib\\site-packages\\sklearn\\linear_model\\stochastic_gradient.py:183: FutureWarning: max_iter and tol parameters have been added in SGDClassifier in 0.19. If max_iter is set but tol is left unset, the default value for tol in 0.19 and 0.20 will be None (which is equivalent to -infinity, so it has no effect) but will change in 0.21 to 1e-3. Specify tol to silence this warning.\n",
      "  FutureWarning)\n",
      "C:\\Users\\Public\\Anaconda3\\lib\\site-packages\\sklearn\\metrics\\classification.py:1143: UndefinedMetricWarning: Precision is ill-defined and being set to 0.0 due to no predicted samples.\n",
      "  'precision', 'predicted', average, warn_for)\n",
      "C:\\Users\\Public\\Anaconda3\\lib\\site-packages\\sklearn\\linear_model\\stochastic_gradient.py:183: FutureWarning: max_iter and tol parameters have been added in SGDClassifier in 0.19. If max_iter is set but tol is left unset, the default value for tol in 0.19 and 0.20 will be None (which is equivalent to -infinity, so it has no effect) but will change in 0.21 to 1e-3. Specify tol to silence this warning.\n",
      "  FutureWarning)\n"
     ]
    },
    {
     "name": "stdout",
     "output_type": "stream",
     "text": [
      "Accuracy 0.37841216920191706\n",
      "Recall: 0.0\n",
      "Precision 0.0\n",
      "Confusion Matrix:\n",
      " [[1816    0]\n",
      " [2983    0]]\n",
      "\n",
      "Training model with: SNOW_bucket\n"
     ]
    },
    {
     "name": "stderr",
     "output_type": "stream",
     "text": [
      "C:\\Users\\Public\\Anaconda3\\lib\\site-packages\\sklearn\\metrics\\classification.py:1143: UndefinedMetricWarning: Precision is ill-defined and being set to 0.0 due to no predicted samples.\n",
      "  'precision', 'predicted', average, warn_for)\n",
      "C:\\Users\\Public\\Anaconda3\\lib\\site-packages\\sklearn\\linear_model\\stochastic_gradient.py:183: FutureWarning: max_iter and tol parameters have been added in SGDClassifier in 0.19. If max_iter is set but tol is left unset, the default value for tol in 0.19 and 0.20 will be None (which is equivalent to -infinity, so it has no effect) but will change in 0.21 to 1e-3. Specify tol to silence this warning.\n",
      "  FutureWarning)\n"
     ]
    },
    {
     "name": "stdout",
     "output_type": "stream",
     "text": [
      "Accuracy 0.37841216920191706\n",
      "Recall: 0.0\n",
      "Precision 0.0\n",
      "Confusion Matrix:\n",
      " [[1816    0]\n",
      " [2983    0]]\n",
      "\n",
      "Training model with: SNWD_bucket\n"
     ]
    },
    {
     "name": "stderr",
     "output_type": "stream",
     "text": [
      "C:\\Users\\Public\\Anaconda3\\lib\\site-packages\\sklearn\\metrics\\classification.py:1143: UndefinedMetricWarning: Precision is ill-defined and being set to 0.0 due to no predicted samples.\n",
      "  'precision', 'predicted', average, warn_for)\n",
      "C:\\Users\\Public\\Anaconda3\\lib\\site-packages\\sklearn\\linear_model\\stochastic_gradient.py:183: FutureWarning: max_iter and tol parameters have been added in SGDClassifier in 0.19. If max_iter is set but tol is left unset, the default value for tol in 0.19 and 0.20 will be None (which is equivalent to -infinity, so it has no effect) but will change in 0.21 to 1e-3. Specify tol to silence this warning.\n",
      "  FutureWarning)\n"
     ]
    },
    {
     "name": "stdout",
     "output_type": "stream",
     "text": [
      "Accuracy 0.37841216920191706\n",
      "Recall: 0.0\n",
      "Precision 0.0\n",
      "Confusion Matrix:\n",
      " [[1816    0]\n",
      " [2983    0]]\n",
      "\n",
      "Training model with: TMAX_bucket\n",
      "Accuracy 0.4836424255053136\n",
      "Recall: 0.5598390881662756\n",
      "Precision 0.5890652557319224\n",
      "Confusion Matrix:\n",
      " [[ 651 1165]\n",
      " [1313 1670]]\n",
      "\n",
      "Training model with: TMIN_bucket\n"
     ]
    },
    {
     "name": "stderr",
     "output_type": "stream",
     "text": [
      "C:\\Users\\Public\\Anaconda3\\lib\\site-packages\\sklearn\\linear_model\\stochastic_gradient.py:183: FutureWarning: max_iter and tol parameters have been added in SGDClassifier in 0.19. If max_iter is set but tol is left unset, the default value for tol in 0.19 and 0.20 will be None (which is equivalent to -infinity, so it has no effect) but will change in 0.21 to 1e-3. Specify tol to silence this warning.\n",
      "  FutureWarning)\n"
     ]
    },
    {
     "name": "stdout",
     "output_type": "stream",
     "text": [
      "Accuracy 0.6232548447593249\n",
      "Recall: 0.8069057995306739\n",
      "Precision 0.6614454520472657\n",
      "Confusion Matrix:\n",
      " [[ 584 1232]\n",
      " [ 576 2407]]\n",
      "\n",
      "pH metric value: 0.7589081058553865\n",
      "ODOSat% metric value: 0.6799333194415503\n",
      "TMIN metric value: 0.6686809752031673\n",
      "TMIN_bucket metric value: 0.6232548447593249\n",
      "pH (mV) metric value: 0.6228380912690143\n",
      "Temp C metric value: 0.6072098353823713\n",
      "TMAX metric value: 0.5865805376120025\n",
      "ODO (mg/L) metric value: 0.5788705980412586\n",
      "Wind Speed_bucket metric value: 0.5317774536361742\n",
      "TMAX_bucket metric value: 0.4836424255053136\n",
      "Wind Speed metric value: 0.4457178578870598\n",
      "Wind Angle metric value: 0.4400916857678683\n",
      "Wind Angle_bucket metric value: 0.4102938112106689\n",
      "PRCP metric value: 0.37841216920191706\n",
      "SNOW metric value: 0.37841216920191706\n",
      "SNWD metric value: 0.37841216920191706\n",
      "Sp Cond (uS/cm) metric value: 0.37841216920191706\n",
      "Turbidity (NTU) metric value: 0.37841216920191706\n",
      "PRCP_bucket metric value: 0.37841216920191706\n",
      "SNOW_bucket metric value: 0.37841216920191706\n",
      "SNWD_bucket metric value: 0.37841216920191706\n"
     ]
    }
   ],
   "source": [
    "max_iter = 25000\n",
    "loss = \"log\"\n",
    "model = SGDClassifier(max_iter=max_iter, loss=loss)\n",
    "# Sort columns by accuracy\n",
    "sorted_columns = lrf.sort_columns_by_metric(model, train_dfs[train_index], \n",
    "                                            test_dfs[test_index],\n",
    "                                            x_columns,\n",
    "                                            'bloom')"
   ]
  },
  {
   "cell_type": "code",
   "execution_count": 69,
   "metadata": {},
   "outputs": [
    {
     "name": "stderr",
     "output_type": "stream",
     "text": [
      "C:\\Users\\Public\\Anaconda3\\lib\\site-packages\\sklearn\\linear_model\\stochastic_gradient.py:183: FutureWarning: max_iter and tol parameters have been added in SGDClassifier in 0.19. If max_iter is set but tol is left unset, the default value for tol in 0.19 and 0.20 will be None (which is equivalent to -infinity, so it has no effect) but will change in 0.21 to 1e-3. Specify tol to silence this warning.\n",
      "  FutureWarning)\n",
      "C:\\Users\\Public\\Anaconda3\\lib\\site-packages\\sklearn\\metrics\\classification.py:1143: UndefinedMetricWarning: Precision is ill-defined and being set to 0.0 due to no predicted samples.\n",
      "  'precision', 'predicted', average, warn_for)\n",
      "C:\\Users\\Public\\Anaconda3\\lib\\site-packages\\sklearn\\linear_model\\stochastic_gradient.py:183: FutureWarning: max_iter and tol parameters have been added in SGDClassifier in 0.19. If max_iter is set but tol is left unset, the default value for tol in 0.19 and 0.20 will be None (which is equivalent to -infinity, so it has no effect) but will change in 0.21 to 1e-3. Specify tol to silence this warning.\n",
      "  FutureWarning)\n"
     ]
    },
    {
     "name": "stdout",
     "output_type": "stream",
     "text": [
      "greedy_columns: []\n",
      "sorted_columns: ['pH', 'ODOSat%', 'TMIN', 'TMIN_bucket', 'pH (mV)', 'Temp C', 'TMAX', 'ODO (mg/L)', 'Wind Speed_bucket', 'TMAX_bucket', 'Wind Speed', 'Wind Angle', 'Wind Angle_bucket', 'PRCP', 'SNOW', 'SNWD', 'Sp Cond (uS/cm)', 'Turbidity (NTU)', 'PRCP_bucket', 'SNOW_bucket', 'SNWD_bucket']\n",
      "adjusted sorted_columns: ['pH', 'ODOSat%', 'TMIN', 'TMIN_bucket', 'pH (mV)', 'Temp C', 'TMAX', 'ODO (mg/L)', 'Wind Speed_bucket', 'TMAX_bucket', 'Wind Speed', 'Wind Angle', 'Wind Angle_bucket', 'PRCP', 'SNOW', 'SNWD', 'Sp Cond (uS/cm)', 'Turbidity (NTU)', 'PRCP_bucket', 'SNOW_bucket', 'SNWD_bucket']\n",
      "Training model with: ['pH']\n",
      "Test model accuracy: 0.7589081058553865\n",
      "Test model recall: 0.6895742541066041\n",
      "Test model precision: 0.8990384615384616\n",
      "\n",
      "Updating greedy model\n",
      "\n",
      "Training model with: ['pH', 'ODOSat%']\n"
     ]
    },
    {
     "name": "stderr",
     "output_type": "stream",
     "text": [
      "C:\\Users\\Public\\Anaconda3\\lib\\site-packages\\sklearn\\linear_model\\stochastic_gradient.py:183: FutureWarning: max_iter and tol parameters have been added in SGDClassifier in 0.19. If max_iter is set but tol is left unset, the default value for tol in 0.19 and 0.20 will be None (which is equivalent to -infinity, so it has no effect) but will change in 0.21 to 1e-3. Specify tol to silence this warning.\n",
      "  FutureWarning)\n"
     ]
    },
    {
     "name": "stdout",
     "output_type": "stream",
     "text": [
      "Test model accuracy: 0.7884976036674307\n",
      "Test model recall: 0.7006369426751592\n",
      "Test model precision: 0.9448462929475587\n",
      "\n",
      "Updating greedy model\n",
      "\n",
      "Training model with: ['pH', 'ODOSat%', 'TMIN']\n"
     ]
    },
    {
     "name": "stderr",
     "output_type": "stream",
     "text": [
      "C:\\Users\\Public\\Anaconda3\\lib\\site-packages\\sklearn\\linear_model\\stochastic_gradient.py:183: FutureWarning: max_iter and tol parameters have been added in SGDClassifier in 0.19. If max_iter is set but tol is left unset, the default value for tol in 0.19 and 0.20 will be None (which is equivalent to -infinity, so it has no effect) but will change in 0.21 to 1e-3. Specify tol to silence this warning.\n",
      "  FutureWarning)\n"
     ]
    },
    {
     "name": "stdout",
     "output_type": "stream",
     "text": [
      "Test model accuracy: 0.7795374036257554\n",
      "Test model recall: 0.6754944686557157\n",
      "Test model precision: 0.9572446555819477\n",
      "\n",
      "Training model with: ['pH', 'ODOSat%', 'TMIN_bucket']\n"
     ]
    },
    {
     "name": "stderr",
     "output_type": "stream",
     "text": [
      "C:\\Users\\Public\\Anaconda3\\lib\\site-packages\\sklearn\\linear_model\\stochastic_gradient.py:183: FutureWarning: max_iter and tol parameters have been added in SGDClassifier in 0.19. If max_iter is set but tol is left unset, the default value for tol in 0.19 and 0.20 will be None (which is equivalent to -infinity, so it has no effect) but will change in 0.21 to 1e-3. Specify tol to silence this warning.\n",
      "  FutureWarning)\n"
     ]
    },
    {
     "name": "stdout",
     "output_type": "stream",
     "text": [
      "Test model accuracy: 0.7607834965617837\n",
      "Test model recall: 0.7730472678511565\n",
      "Test model precision: 0.8303925099027728\n",
      "\n",
      "Training model with: ['pH', 'ODOSat%', 'pH (mV)']\n"
     ]
    },
    {
     "name": "stderr",
     "output_type": "stream",
     "text": [
      "C:\\Users\\Public\\Anaconda3\\lib\\site-packages\\sklearn\\linear_model\\stochastic_gradient.py:183: FutureWarning: max_iter and tol parameters have been added in SGDClassifier in 0.19. If max_iter is set but tol is left unset, the default value for tol in 0.19 and 0.20 will be None (which is equivalent to -infinity, so it has no effect) but will change in 0.21 to 1e-3. Specify tol to silence this warning.\n",
      "  FutureWarning)\n"
     ]
    },
    {
     "name": "stdout",
     "output_type": "stream",
     "text": [
      "Test model accuracy: 0.8235048968535111\n",
      "Test model recall: 0.8028830036875628\n",
      "Test model precision: 0.9024114544084401\n",
      "\n",
      "Updating greedy model\n",
      "\n",
      "Training model with: ['pH', 'ODOSat%', 'pH (mV)', 'Temp C']\n"
     ]
    },
    {
     "name": "stderr",
     "output_type": "stream",
     "text": [
      "C:\\Users\\Public\\Anaconda3\\lib\\site-packages\\sklearn\\linear_model\\stochastic_gradient.py:183: FutureWarning: max_iter and tol parameters have been added in SGDClassifier in 0.19. If max_iter is set but tol is left unset, the default value for tol in 0.19 and 0.20 will be None (which is equivalent to -infinity, so it has no effect) but will change in 0.21 to 1e-3. Specify tol to silence this warning.\n",
      "  FutureWarning)\n"
     ]
    },
    {
     "name": "stdout",
     "output_type": "stream",
     "text": [
      "Test model accuracy: 0.8185038549697854\n",
      "Test model recall: 0.7884679852497486\n",
      "Test model precision: 0.9074074074074074\n",
      "\n",
      "Training model with: ['pH', 'ODOSat%', 'pH (mV)', 'TMAX']\n"
     ]
    },
    {
     "name": "stderr",
     "output_type": "stream",
     "text": [
      "C:\\Users\\Public\\Anaconda3\\lib\\site-packages\\sklearn\\linear_model\\stochastic_gradient.py:183: FutureWarning: max_iter and tol parameters have been added in SGDClassifier in 0.19. If max_iter is set but tol is left unset, the default value for tol in 0.19 and 0.20 will be None (which is equivalent to -infinity, so it has no effect) but will change in 0.21 to 1e-3. Specify tol to silence this warning.\n",
      "  FutureWarning)\n"
     ]
    },
    {
     "name": "stdout",
     "output_type": "stream",
     "text": [
      "Test model accuracy: 0.8416336736820171\n",
      "Test model recall: 0.848474689909487\n",
      "Test model precision: 0.8915110954561465\n",
      "\n",
      "Updating greedy model\n",
      "\n",
      "Training model with: ['pH', 'ODOSat%', 'pH (mV)', 'TMAX', 'ODO (mg/L)']\n"
     ]
    },
    {
     "name": "stderr",
     "output_type": "stream",
     "text": [
      "C:\\Users\\Public\\Anaconda3\\lib\\site-packages\\sklearn\\linear_model\\stochastic_gradient.py:183: FutureWarning: max_iter and tol parameters have been added in SGDClassifier in 0.19. If max_iter is set but tol is left unset, the default value for tol in 0.19 and 0.20 will be None (which is equivalent to -infinity, so it has no effect) but will change in 0.21 to 1e-3. Specify tol to silence this warning.\n",
      "  FutureWarning)\n"
     ]
    },
    {
     "name": "stdout",
     "output_type": "stream",
     "text": [
      "Test model accuracy: 0.8112106688893519\n",
      "Test model recall: 0.7780757626550453\n",
      "Test model precision: 0.9048732943469786\n",
      "\n",
      "Training model with: ['pH', 'ODOSat%', 'pH (mV)', 'TMAX', 'Wind Speed_bucket']\n"
     ]
    },
    {
     "name": "stderr",
     "output_type": "stream",
     "text": [
      "C:\\Users\\Public\\Anaconda3\\lib\\site-packages\\sklearn\\linear_model\\stochastic_gradient.py:183: FutureWarning: max_iter and tol parameters have been added in SGDClassifier in 0.19. If max_iter is set but tol is left unset, the default value for tol in 0.19 and 0.20 will be None (which is equivalent to -infinity, so it has no effect) but will change in 0.21 to 1e-3. Specify tol to silence this warning.\n",
      "  FutureWarning)\n"
     ]
    },
    {
     "name": "stdout",
     "output_type": "stream",
     "text": [
      "Test model accuracy: 0.8422588039174828\n",
      "Test model recall: 0.8548441166610794\n",
      "Test model precision: 0.8872651356993737\n",
      "\n",
      "Updating greedy model\n",
      "\n",
      "Training model with: ['pH', 'ODOSat%', 'pH (mV)', 'TMAX', 'Wind Speed_bucket', 'TMAX_bucket']\n"
     ]
    },
    {
     "name": "stderr",
     "output_type": "stream",
     "text": [
      "C:\\Users\\Public\\Anaconda3\\lib\\site-packages\\sklearn\\linear_model\\stochastic_gradient.py:183: FutureWarning: max_iter and tol parameters have been added in SGDClassifier in 0.19. If max_iter is set but tol is left unset, the default value for tol in 0.19 and 0.20 will be None (which is equivalent to -infinity, so it has no effect) but will change in 0.21 to 1e-3. Specify tol to silence this warning.\n",
      "  FutureWarning)\n"
     ]
    },
    {
     "name": "stdout",
     "output_type": "stream",
     "text": [
      "Test model accuracy: 0.7534903104813503\n",
      "Test model recall: 0.775058665772712\n",
      "Test model precision: 0.8186968838526912\n",
      "\n",
      "Training model with: ['pH', 'ODOSat%', 'pH (mV)', 'TMAX', 'Wind Speed_bucket', 'Wind Speed']\n"
     ]
    },
    {
     "name": "stderr",
     "output_type": "stream",
     "text": [
      "C:\\Users\\Public\\Anaconda3\\lib\\site-packages\\sklearn\\linear_model\\stochastic_gradient.py:183: FutureWarning: max_iter and tol parameters have been added in SGDClassifier in 0.19. If max_iter is set but tol is left unset, the default value for tol in 0.19 and 0.20 will be None (which is equivalent to -infinity, so it has no effect) but will change in 0.21 to 1e-3. Specify tol to silence this warning.\n",
      "  FutureWarning)\n"
     ]
    },
    {
     "name": "stdout",
     "output_type": "stream",
     "text": [
      "Test model accuracy: 0.8385080225046885\n",
      "Test model recall: 0.8538384177003017\n",
      "Test model precision: 0.8825363825363826\n",
      "\n",
      "Training model with: ['pH', 'ODOSat%', 'pH (mV)', 'TMAX', 'Wind Speed_bucket', 'Wind Angle']\n"
     ]
    },
    {
     "name": "stderr",
     "output_type": "stream",
     "text": [
      "C:\\Users\\Public\\Anaconda3\\lib\\site-packages\\sklearn\\linear_model\\stochastic_gradient.py:183: FutureWarning: max_iter and tol parameters have been added in SGDClassifier in 0.19. If max_iter is set but tol is left unset, the default value for tol in 0.19 and 0.20 will be None (which is equivalent to -infinity, so it has no effect) but will change in 0.21 to 1e-3. Specify tol to silence this warning.\n",
      "  FutureWarning)\n"
     ]
    },
    {
     "name": "stdout",
     "output_type": "stream",
     "text": [
      "Test model accuracy: 0.8249635340695979\n",
      "Test model recall: 0.7928260140797855\n",
      "Test model precision: 0.9141863161963665\n",
      "\n",
      "Training model with: ['pH', 'ODOSat%', 'pH (mV)', 'TMAX', 'Wind Speed_bucket', 'Wind Angle_bucket']\n"
     ]
    },
    {
     "name": "stderr",
     "output_type": "stream",
     "text": [
      "C:\\Users\\Public\\Anaconda3\\lib\\site-packages\\sklearn\\linear_model\\stochastic_gradient.py:183: FutureWarning: max_iter and tol parameters have been added in SGDClassifier in 0.19. If max_iter is set but tol is left unset, the default value for tol in 0.19 and 0.20 will be None (which is equivalent to -infinity, so it has no effect) but will change in 0.21 to 1e-3. Specify tol to silence this warning.\n",
      "  FutureWarning)\n"
     ]
    },
    {
     "name": "stdout",
     "output_type": "stream",
     "text": [
      "Test model accuracy: 0.8049593665346947\n",
      "Test model recall: 0.7395239691585652\n",
      "Test model precision: 0.9327695560253699\n",
      "\n",
      "Training model with: ['pH', 'ODOSat%', 'pH (mV)', 'TMAX', 'Wind Speed_bucket', 'PRCP']\n"
     ]
    },
    {
     "name": "stderr",
     "output_type": "stream",
     "text": [
      "C:\\Users\\Public\\Anaconda3\\lib\\site-packages\\sklearn\\linear_model\\stochastic_gradient.py:183: FutureWarning: max_iter and tol parameters have been added in SGDClassifier in 0.19. If max_iter is set but tol is left unset, the default value for tol in 0.19 and 0.20 will be None (which is equivalent to -infinity, so it has no effect) but will change in 0.21 to 1e-3. Specify tol to silence this warning.\n",
      "  FutureWarning)\n"
     ]
    },
    {
     "name": "stdout",
     "output_type": "stream",
     "text": [
      "Test model accuracy: 0.8274640550114607\n",
      "Test model recall: 0.8105933623868589\n",
      "Test model precision: 0.9019022752704214\n",
      "\n",
      "Training model with: ['pH', 'ODOSat%', 'pH (mV)', 'TMAX', 'Wind Speed_bucket', 'SNOW']\n"
     ]
    },
    {
     "name": "stderr",
     "output_type": "stream",
     "text": [
      "C:\\Users\\Public\\Anaconda3\\lib\\site-packages\\sklearn\\linear_model\\stochastic_gradient.py:183: FutureWarning: max_iter and tol parameters have been added in SGDClassifier in 0.19. If max_iter is set but tol is left unset, the default value for tol in 0.19 and 0.20 will be None (which is equivalent to -infinity, so it has no effect) but will change in 0.21 to 1e-3. Specify tol to silence this warning.\n",
      "  FutureWarning)\n"
     ]
    },
    {
     "name": "stdout",
     "output_type": "stream",
     "text": [
      "Test model accuracy: 0.8422588039174828\n",
      "Test model recall: 0.8548441166610794\n",
      "Test model precision: 0.8872651356993737\n",
      "\n",
      "Training model with: ['pH', 'ODOSat%', 'pH (mV)', 'TMAX', 'Wind Speed_bucket', 'SNWD']\n"
     ]
    },
    {
     "name": "stderr",
     "output_type": "stream",
     "text": [
      "C:\\Users\\Public\\Anaconda3\\lib\\site-packages\\sklearn\\linear_model\\stochastic_gradient.py:183: FutureWarning: max_iter and tol parameters have been added in SGDClassifier in 0.19. If max_iter is set but tol is left unset, the default value for tol in 0.19 and 0.20 will be None (which is equivalent to -infinity, so it has no effect) but will change in 0.21 to 1e-3. Specify tol to silence this warning.\n",
      "  FutureWarning)\n"
     ]
    },
    {
     "name": "stdout",
     "output_type": "stream",
     "text": [
      "Test model accuracy: 0.8422588039174828\n",
      "Test model recall: 0.8548441166610794\n",
      "Test model precision: 0.8872651356993737\n",
      "\n",
      "Training model with: ['pH', 'ODOSat%', 'pH (mV)', 'TMAX', 'Wind Speed_bucket', 'Sp Cond (uS/cm)']\n"
     ]
    },
    {
     "name": "stderr",
     "output_type": "stream",
     "text": [
      "C:\\Users\\Public\\Anaconda3\\lib\\site-packages\\sklearn\\linear_model\\stochastic_gradient.py:183: FutureWarning: max_iter and tol parameters have been added in SGDClassifier in 0.19. If max_iter is set but tol is left unset, the default value for tol in 0.19 and 0.20 will be None (which is equivalent to -infinity, so it has no effect) but will change in 0.21 to 1e-3. Specify tol to silence this warning.\n",
      "  FutureWarning)\n"
     ]
    },
    {
     "name": "stdout",
     "output_type": "stream",
     "text": [
      "Test model accuracy: 0.8005834548864347\n",
      "Test model recall: 0.8987596379483741\n",
      "Test model precision: 0.8036570743405276\n",
      "\n",
      "Training model with: ['pH', 'ODOSat%', 'pH (mV)', 'TMAX', 'Wind Speed_bucket', 'Turbidity (NTU)']\n"
     ]
    },
    {
     "name": "stderr",
     "output_type": "stream",
     "text": [
      "C:\\Users\\Public\\Anaconda3\\lib\\site-packages\\sklearn\\linear_model\\stochastic_gradient.py:183: FutureWarning: max_iter and tol parameters have been added in SGDClassifier in 0.19. If max_iter is set but tol is left unset, the default value for tol in 0.19 and 0.20 will be None (which is equivalent to -infinity, so it has no effect) but will change in 0.21 to 1e-3. Specify tol to silence this warning.\n",
      "  FutureWarning)\n"
     ]
    },
    {
     "name": "stdout",
     "output_type": "stream",
     "text": [
      "Test model accuracy: 0.8397582829756199\n",
      "Test model recall: 0.8457928260140798\n",
      "Test model precision: 0.8908898305084746\n",
      "\n",
      "Training model with: ['pH', 'ODOSat%', 'pH (mV)', 'TMAX', 'Wind Speed_bucket', 'PRCP_bucket']\n"
     ]
    },
    {
     "name": "stderr",
     "output_type": "stream",
     "text": [
      "C:\\Users\\Public\\Anaconda3\\lib\\site-packages\\sklearn\\linear_model\\stochastic_gradient.py:183: FutureWarning: max_iter and tol parameters have been added in SGDClassifier in 0.19. If max_iter is set but tol is left unset, the default value for tol in 0.19 and 0.20 will be None (which is equivalent to -infinity, so it has no effect) but will change in 0.21 to 1e-3. Specify tol to silence this warning.\n",
      "  FutureWarning)\n"
     ]
    },
    {
     "name": "stdout",
     "output_type": "stream",
     "text": [
      "Test model accuracy: 0.797457803709106\n",
      "Test model recall: 0.7398592021454912\n",
      "Test model precision: 0.9184352892218061\n",
      "\n",
      "Training model with: ['pH', 'ODOSat%', 'pH (mV)', 'TMAX', 'Wind Speed_bucket', 'SNOW_bucket']\n"
     ]
    },
    {
     "name": "stderr",
     "output_type": "stream",
     "text": [
      "C:\\Users\\Public\\Anaconda3\\lib\\site-packages\\sklearn\\linear_model\\stochastic_gradient.py:183: FutureWarning: max_iter and tol parameters have been added in SGDClassifier in 0.19. If max_iter is set but tol is left unset, the default value for tol in 0.19 and 0.20 will be None (which is equivalent to -infinity, so it has no effect) but will change in 0.21 to 1e-3. Specify tol to silence this warning.\n",
      "  FutureWarning)\n"
     ]
    },
    {
     "name": "stdout",
     "output_type": "stream",
     "text": [
      "Test model accuracy: 0.8422588039174828\n",
      "Test model recall: 0.8548441166610794\n",
      "Test model precision: 0.8872651356993737\n",
      "\n",
      "Training model with: ['pH', 'ODOSat%', 'pH (mV)', 'TMAX', 'Wind Speed_bucket', 'SNWD_bucket']\n"
     ]
    },
    {
     "name": "stderr",
     "output_type": "stream",
     "text": [
      "C:\\Users\\Public\\Anaconda3\\lib\\site-packages\\sklearn\\linear_model\\stochastic_gradient.py:183: FutureWarning: max_iter and tol parameters have been added in SGDClassifier in 0.19. If max_iter is set but tol is left unset, the default value for tol in 0.19 and 0.20 will be None (which is equivalent to -infinity, so it has no effect) but will change in 0.21 to 1e-3. Specify tol to silence this warning.\n",
      "  FutureWarning)\n"
     ]
    },
    {
     "name": "stdout",
     "output_type": "stream",
     "text": [
      "Test model accuracy: 0.8422588039174828\n",
      "Test model recall: 0.8548441166610794\n",
      "Test model precision: 0.8872651356993737\n",
      "\n",
      "Final greedy columns: ['pH', 'ODOSat%', 'pH (mV)', 'TMAX', 'Wind Speed_bucket']\n",
      "Final greedy accuracy 0.8422588039174828\n",
      "Final greedy recall: 0.8548441166610794\n",
      "Final greedy precision: 0.8872651356993737\n",
      "Final greedy confusion matrix:\n",
      " [[1492  324]\n",
      " [ 433 2550]]\n"
     ]
    }
   ],
   "source": [
    "#create greedy model\n",
    "model = SGDClassifier(max_iter=max_iter, loss=loss)\n",
    "\n",
    "accuracy, recall, precision, cm, predictions, predictions_prob, model = lrf.greedy_model(\n",
    "    model, train_dfs[train_index], test_dfs[test_index], x_columns, \n",
    "                                            'bloom', sorted_columns)\n"
   ]
  },
  {
   "cell_type": "code",
   "execution_count": 70,
   "metadata": {},
   "outputs": [
    {
     "name": "stdout",
     "output_type": "stream",
     "text": [
      "Model AUC: 0.9009\n"
     ]
    },
    {
     "data": {
      "image/png": "[encoded data removed]",
      "text/plain": [
       "<Figure size 432x288 with 1 Axes>"
      ]
     },
     "metadata": {
      "needs_background": "light"
     },
     "output_type": "display_data"
    }
   ],
   "source": [
    "# Print the ROC curve.\n",
    "predictions = [x[1] for x in predictions_prob]\n",
    "lrf.roc_plot(test_dfs[test_index][['bloom']].values, predictions)"
   ]
  },
  {
   "cell_type": "markdown",
   "metadata": {},
   "source": [
    "## Random Forest Model"
   ]
  },
  {
   "cell_type": "code",
   "execution_count": 71,
   "metadata": {},
   "outputs": [
    {
     "name": "stdout",
     "output_type": "stream",
     "text": [
      "Accuracy 0.8287143154823922\n",
      "Recall: 0.8156218571907475\n",
      "Precision 0.899445471349353\n",
      "Confusion Matrix:\n",
      " [[1544  272]\n",
      " [ 550 2433]]\n"
     ]
    }
   ],
   "source": [
    "# All Inputs\n",
    "model = RandomForestClassifier(n_estimators=100)\n",
    "accuracy, recall, precision, cm, predictions, predictions_prob, model = lrf.train_model(\n",
    "    model, train_dfs[train_index], test_dfs[test_index], x_columns, 'bloom')\n",
    "print(\"Accuracy\", accuracy)\n",
    "print(\"Recall:\", recall)\n",
    "print(\"Precision\", precision)\n",
    "print(\"Confusion Matrix:\\n\", cm)"
   ]
  },
  {
   "cell_type": "code",
   "execution_count": 72,
   "metadata": {},
   "outputs": [
    {
     "name": "stderr",
     "output_type": "stream",
     "text": [
      "C:\\Users\\Public\\Anaconda3\\lib\\site-packages\\sklearn\\metrics\\classification.py:1143: UndefinedMetricWarning: Precision is ill-defined and being set to 0.0 due to no predicted samples.\n",
      "  'precision', 'predicted', average, warn_for)\n"
     ]
    },
    {
     "name": "stdout",
     "output_type": "stream",
     "text": [
      "greedy_columns: []\n",
      "sorted_columns: ['pH', 'ODOSat%', 'TMIN', 'TMIN_bucket', 'pH (mV)', 'Temp C', 'TMAX', 'ODO (mg/L)', 'Wind Speed_bucket', 'TMAX_bucket', 'Wind Speed', 'Wind Angle', 'Wind Angle_bucket', 'PRCP', 'SNOW', 'SNWD', 'Sp Cond (uS/cm)', 'Turbidity (NTU)', 'PRCP_bucket', 'SNOW_bucket', 'SNWD_bucket']\n",
      "adjusted sorted_columns: ['pH', 'ODOSat%', 'TMIN', 'TMIN_bucket', 'pH (mV)', 'Temp C', 'TMAX', 'ODO (mg/L)', 'Wind Speed_bucket', 'TMAX_bucket', 'Wind Speed', 'Wind Angle', 'Wind Angle_bucket', 'PRCP', 'SNOW', 'SNWD', 'Sp Cond (uS/cm)', 'Turbidity (NTU)', 'PRCP_bucket', 'SNOW_bucket', 'SNWD_bucket']\n",
      "Training model with: ['pH']\n",
      "Test model accuracy: 0.7693269431131485\n",
      "Test model recall: 0.7338250083808247\n",
      "Test model precision: 0.8749000799360511\n",
      "\n",
      "Updating greedy model\n",
      "\n",
      "Training model with: ['pH', 'ODOSat%']\n",
      "Test model accuracy: 0.6428422588039174\n",
      "Test model recall: 0.523298692591351\n",
      "Test model precision: 0.8424177010253643\n",
      "\n",
      "Training model with: ['pH', 'TMIN']\n",
      "Test model accuracy: 0.7868305897061888\n",
      "Test model recall: 0.7619845792826014\n",
      "Test model precision: 0.8789636504253674\n",
      "\n",
      "Updating greedy model\n",
      "\n",
      "Training model with: ['pH', 'TMIN', 'TMIN_bucket']\n",
      "Test model accuracy: 0.7678683058970619\n",
      "Test model recall: 0.8082467314783774\n",
      "Test model precision: 0.8164578394852692\n",
      "\n",
      "Training model with: ['pH', 'TMIN', 'pH (mV)']\n",
      "Test model accuracy: 0.7051469056053344\n",
      "Test model recall: 0.9078109285953738\n",
      "Test model precision: 0.7037422037422038\n",
      "\n",
      "Training model with: ['pH', 'TMIN', 'Temp C']\n",
      "Test model accuracy: 0.7336945196916024\n",
      "Test model recall: 0.6637613141133087\n",
      "Test model precision: 0.8780487804878049\n",
      "\n",
      "Training model with: ['pH', 'TMIN', 'TMAX']\n",
      "Test model accuracy: 0.7926651385705356\n",
      "Test model recall: 0.7613141133087495\n",
      "Test model precision: 0.889193422083007\n",
      "\n",
      "Updating greedy model\n",
      "\n",
      "Training model with: ['pH', 'TMIN', 'TMAX', 'ODO (mg/L)']\n",
      "Test model accuracy: 0.7161908730985622\n",
      "Test model recall: 0.608447871270533\n",
      "Test model precision: 0.9034345445495271\n",
      "\n",
      "Training model with: ['pH', 'TMIN', 'TMAX', 'Wind Speed_bucket']\n",
      "Test model accuracy: 0.7955824130027089\n",
      "Test model recall: 0.7824337914850822\n",
      "Test model precision: 0.8754688672168042\n",
      "\n",
      "Updating greedy model\n",
      "\n",
      "Training model with: ['pH', 'TMIN', 'TMAX', 'Wind Speed_bucket', 'TMAX_bucket']\n",
      "Test model accuracy: 0.7962075432381747\n",
      "Test model recall: 0.8002011397921556\n",
      "Test model precision: 0.8620440592271578\n",
      "\n",
      "Updating greedy model\n",
      "\n",
      "Training model with: ['pH', 'TMIN', 'TMAX', 'Wind Speed_bucket', 'TMAX_bucket', 'Wind Speed']\n",
      "Test model accuracy: 0.7978745571994166\n",
      "Test model recall: 0.7680187730472678\n",
      "Test model precision: 0.8917866874270144\n",
      "\n",
      "Updating greedy model\n",
      "\n",
      "Training model with: ['pH', 'TMIN', 'TMAX', 'Wind Speed_bucket', 'TMAX_bucket', 'Wind Speed', 'Wind Angle']\n",
      "Test model accuracy: 0.806001250260471\n",
      "Test model recall: 0.7857861213543412\n",
      "Test model precision: 0.8892261001517451\n",
      "\n",
      "Updating greedy model\n",
      "\n",
      "Training model with: ['pH', 'TMIN', 'TMAX', 'Wind Speed_bucket', 'TMAX_bucket', 'Wind Speed', 'Wind Angle', 'Wind Angle_bucket']\n",
      "Test model accuracy: 0.7955824130027089\n",
      "Test model recall: 0.7871270533020449\n",
      "Test model precision: 0.8715664439495174\n",
      "\n",
      "Training model with: ['pH', 'TMIN', 'TMAX', 'Wind Speed_bucket', 'TMAX_bucket', 'Wind Speed', 'Wind Angle', 'PRCP']\n",
      "Test model accuracy: 0.8160033340279225\n",
      "Test model recall: 0.7901441501843781\n",
      "Test model precision: 0.9016832440703902\n",
      "\n",
      "Updating greedy model\n",
      "\n",
      "Training model with: ['pH', 'TMIN', 'TMAX', 'Wind Speed_bucket', 'TMAX_bucket', 'Wind Speed', 'Wind Angle', 'PRCP', 'SNOW']\n",
      "Test model accuracy: 0.8045426130443842\n",
      "Test model recall: 0.7737177338250084\n",
      "Test model precision: 0.897705173084403\n",
      "\n",
      "Training model with: ['pH', 'TMIN', 'TMAX', 'Wind Speed_bucket', 'TMAX_bucket', 'Wind Speed', 'Wind Angle', 'PRCP', 'SNWD']\n",
      "Test model accuracy: 0.7997499479058137\n",
      "Test model recall: 0.771035869929601\n",
      "Test model precision: 0.8921644685802949\n",
      "\n",
      "Training model with: ['pH', 'TMIN', 'TMAX', 'Wind Speed_bucket', 'TMAX_bucket', 'Wind Speed', 'Wind Angle', 'PRCP', 'Sp Cond (uS/cm)']\n",
      "Test model accuracy: 0.788705980412586\n",
      "Test model recall: 0.7314783774723432\n",
      "Test model precision: 0.9110647181628393\n",
      "\n",
      "Training model with: ['pH', 'TMIN', 'TMAX', 'Wind Speed_bucket', 'TMAX_bucket', 'Wind Speed', 'Wind Angle', 'PRCP', 'Turbidity (NTU)']\n",
      "Test model accuracy: 0.8118357991248176\n",
      "Test model recall: 0.7898089171974523\n",
      "Test model precision: 0.8951367781155015\n",
      "\n",
      "Training model with: ['pH', 'TMIN', 'TMAX', 'Wind Speed_bucket', 'TMAX_bucket', 'Wind Speed', 'Wind Angle', 'PRCP', 'PRCP_bucket']\n",
      "Test model accuracy: 0.8110022921441967\n",
      "Test model recall: 0.7901441501843781\n",
      "Test model precision: 0.8934799090219864\n",
      "\n",
      "Training model with: ['pH', 'TMIN', 'TMAX', 'Wind Speed_bucket', 'TMAX_bucket', 'Wind Speed', 'Wind Angle', 'PRCP', 'SNOW_bucket']\n",
      "Test model accuracy: 0.8164200875182329\n",
      "Test model recall: 0.8072410325175997\n",
      "Test model precision: 0.8872512896094326\n",
      "\n",
      "Updating greedy model\n",
      "\n",
      "Training model with: ['pH', 'TMIN', 'TMAX', 'Wind Speed_bucket', 'TMAX_bucket', 'Wind Speed', 'Wind Angle', 'PRCP', 'SNOW_bucket', 'SNWD_bucket']\n",
      "Test model accuracy: 0.7832881850385497\n",
      "Test model recall: 0.7452229299363057\n",
      "Test model precision: 0.888134238913304\n",
      "\n",
      "Final greedy columns: ['pH', 'TMIN', 'TMAX', 'Wind Speed_bucket', 'TMAX_bucket', 'Wind Speed', 'Wind Angle', 'PRCP', 'SNOW_bucket']\n",
      "Final greedy accuracy 0.8164200875182329\n",
      "Final greedy recall: 0.8072410325175997\n",
      "Final greedy precision: 0.8872512896094326\n",
      "Final greedy confusion matrix:\n",
      " [[1510  306]\n",
      " [ 575 2408]]\n"
     ]
    }
   ],
   "source": [
    "# Greedy Model\n",
    "model = RandomForestClassifier(n_estimators=100)\n",
    "accuracy, recall, precision, cm, predictions, predictions_prob, model = lrf.greedy_model(\n",
    "    model, train_dfs[train_index], test_dfs[test_index], x_columns, 'bloom', sorted_columns)"
   ]
  },
  {
   "cell_type": "code",
   "execution_count": 73,
   "metadata": {},
   "outputs": [
    {
     "name": "stdout",
     "output_type": "stream",
     "text": [
      "Model AUC: 0.8794\n"
     ]
    },
    {
     "data": {
      "image/png": "[encoded data removed]",
      "text/plain": [
       "<Figure size 432x288 with 1 Axes>"
      ]
     },
     "metadata": {
      "needs_background": "light"
     },
     "output_type": "display_data"
    }
   ],
   "source": [
    "# Print the ROC curve.\n",
    "predictions = [x[1] for x in predictions_prob]\n",
    "lrf.roc_plot(test_dfs[test_index][['bloom']].values, predictions)"
   ]
  }
 ],
 "metadata": {
  "kernelspec": {
   "display_name": "Python 3",
   "language": "python",
   "name": "python3"
  },
  "language_info": {
   "codemirror_mode": {
    "name": "ipython",
    "version": 3
   },
   "file_extension": ".py",
   "mimetype": "text/x-python",
   "name": "python",
   "nbconvert_exporter": "python",
   "pygments_lexer": "ipython3",
   "version": "3.6.8"
  }
 },
 "nbformat": 4,
 "nbformat_minor": 2
}

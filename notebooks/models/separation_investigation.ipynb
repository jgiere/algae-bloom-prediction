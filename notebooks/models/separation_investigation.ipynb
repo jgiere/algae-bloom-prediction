{
 "cells": [
  {
   "cell_type": "markdown",
   "metadata": {},
   "source": [
    "# Logistic Regression Model"
   ]
  },
  {
   "cell_type": "markdown",
   "metadata": {},
   "source": [
    "## Data Import And Cleaning"
   ]
  },
  {
   "cell_type": "code",
   "execution_count": 1,
   "metadata": {},
   "outputs": [
    {
     "name": "stderr",
     "output_type": "stream",
     "text": [
      "C:\\Users\\mccomackjp\\AppData\\Local\\Continuum\\anaconda3\\lib\\site-packages\\h5py\\__init__.py:36: FutureWarning: Conversion of the second argument of issubdtype from `float` to `np.floating` is deprecated. In future, it will be treated as `np.float64 == np.dtype(float).type`.\n",
      "  from ._conv import register_converters as _register_converters\n",
      "Using TensorFlow backend.\n"
     ]
    }
   ],
   "source": [
    "import pandas as pd\n",
    "import seaborn as sns\n",
    "import matplotlib.pyplot as plt\n",
    "import numpy as np\n",
    "from sklearn.linear_model import SGDClassifier\n",
    "from sklearn.ensemble import RandomForestClassifier\n",
    "from sklearn.metrics import recall_score, precision_score, confusion_matrix\n",
    "from sklearn.metrics import roc_curve, auc\n",
    "import scripts.logistic_regression_functions as lrf\n",
    "import scripts.helper_functions as hf\n",
    "from sklearn.preprocessing import StandardScaler\n",
    "\n",
    "#reloads the module with the most recent updates\n",
    "%load_ext autoreload\n",
    "%aimport scripts.logistic_regression_functions, scripts.helper_functions\n",
    "%autoreload 2"
   ]
  },
  {
   "cell_type": "code",
   "execution_count": 2,
   "metadata": {},
   "outputs": [],
   "source": [
    "train_files = ['../../data/cleaned/utah_2017_vineyard.csv', \n",
    "               '../../data/cleaned/utah_2017_marina.csv']\n",
    "\n",
    "test_files = [ '../../data/cleaned/utah_2018_marina.csv',\n",
    "               '../../data/cleaned/utah_2018_bird.csv']\n",
    "\n",
    "drop_columns = ['Chlorophyll ug/L', 'Chlorophyll RFU', 'Wiper Pos V',\n",
    "                'Cable Pwr V', 'Battery V', 'Chlorophyll (ug/L)', 'FDOM RFU']\n",
    "\n",
    "x_columns = ['Temp C', 'Sp Cond (uS/cm)', 'pH (mV)', 'pH', 'Turbidity (NTU)',\n",
    "            'ODOSat%', 'ODO (mg/L)']\n",
    "\n",
    "target_column = 'BGA-Phycocyanin RFU'\n",
    "\n",
    "# TODO Create average off of minor bloom\n",
    "RFU_THRESHOLD = 1.2\n",
    "train_index = 0\n",
    "test_index = 0"
   ]
  },
  {
   "cell_type": "code",
   "execution_count": 3,
   "metadata": {},
   "outputs": [
    {
     "data": {
      "text/html": [
       "<div>\n",
       "<style scoped>\n",
       "    .dataframe tbody tr th:only-of-type {\n",
       "        vertical-align: middle;\n",
       "    }\n",
       "\n",
       "    .dataframe tbody tr th {\n",
       "        vertical-align: top;\n",
       "    }\n",
       "\n",
       "    .dataframe thead th {\n",
       "        text-align: right;\n",
       "    }\n",
       "</style>\n",
       "<table border=\"1\" class=\"dataframe\">\n",
       "  <thead>\n",
       "    <tr style=\"text-align: right;\">\n",
       "      <th></th>\n",
       "      <th>Date (mm.dd.yyyy)</th>\n",
       "      <th>Time 24hr</th>\n",
       "      <th>Temp C</th>\n",
       "      <th>Sp Cond (uS/cm)</th>\n",
       "      <th>pH (mV)</th>\n",
       "      <th>pH</th>\n",
       "      <th>Turbidity (NTU)</th>\n",
       "      <th>ODOSat%</th>\n",
       "      <th>ODO (mg/L)</th>\n",
       "      <th>BGA-Phycocyanin RFU</th>\n",
       "    </tr>\n",
       "  </thead>\n",
       "  <tbody>\n",
       "    <tr>\n",
       "      <th>0</th>\n",
       "      <td>5/5/2017</td>\n",
       "      <td>0:00</td>\n",
       "      <td>15.02</td>\n",
       "      <td>1848</td>\n",
       "      <td>-100.1</td>\n",
       "      <td>8.36</td>\n",
       "      <td>16.84</td>\n",
       "      <td>90.2</td>\n",
       "      <td>9.04</td>\n",
       "      <td>0.4</td>\n",
       "    </tr>\n",
       "    <tr>\n",
       "      <th>1</th>\n",
       "      <td>5/5/2017</td>\n",
       "      <td>0:15</td>\n",
       "      <td>14.99</td>\n",
       "      <td>1847</td>\n",
       "      <td>-100.1</td>\n",
       "      <td>8.36</td>\n",
       "      <td>16.76</td>\n",
       "      <td>90.2</td>\n",
       "      <td>9.04</td>\n",
       "      <td>0.4</td>\n",
       "    </tr>\n",
       "    <tr>\n",
       "      <th>2</th>\n",
       "      <td>5/5/2017</td>\n",
       "      <td>0:30</td>\n",
       "      <td>14.96</td>\n",
       "      <td>1847</td>\n",
       "      <td>-100.1</td>\n",
       "      <td>8.36</td>\n",
       "      <td>16.82</td>\n",
       "      <td>90.1</td>\n",
       "      <td>9.04</td>\n",
       "      <td>0.4</td>\n",
       "    </tr>\n",
       "    <tr>\n",
       "      <th>3</th>\n",
       "      <td>5/5/2017</td>\n",
       "      <td>0:45</td>\n",
       "      <td>14.95</td>\n",
       "      <td>1848</td>\n",
       "      <td>-100.1</td>\n",
       "      <td>8.36</td>\n",
       "      <td>17.19</td>\n",
       "      <td>90.0</td>\n",
       "      <td>9.03</td>\n",
       "      <td>0.4</td>\n",
       "    </tr>\n",
       "    <tr>\n",
       "      <th>4</th>\n",
       "      <td>5/5/2017</td>\n",
       "      <td>1:00</td>\n",
       "      <td>14.92</td>\n",
       "      <td>1848</td>\n",
       "      <td>-100.0</td>\n",
       "      <td>8.36</td>\n",
       "      <td>16.85</td>\n",
       "      <td>89.8</td>\n",
       "      <td>9.02</td>\n",
       "      <td>0.4</td>\n",
       "    </tr>\n",
       "  </tbody>\n",
       "</table>\n",
       "</div>"
      ],
      "text/plain": [
       "  Date (mm.dd.yyyy) Time 24hr  Temp C  Sp Cond (uS/cm)  pH (mV)    pH  \\\n",
       "0          5/5/2017      0:00   15.02             1848   -100.1  8.36   \n",
       "1          5/5/2017      0:15   14.99             1847   -100.1  8.36   \n",
       "2          5/5/2017      0:30   14.96             1847   -100.1  8.36   \n",
       "3          5/5/2017      0:45   14.95             1848   -100.1  8.36   \n",
       "4          5/5/2017      1:00   14.92             1848   -100.0  8.36   \n",
       "\n",
       "   Turbidity (NTU)  ODOSat%  ODO (mg/L)  BGA-Phycocyanin RFU  \n",
       "0            16.84     90.2        9.04                  0.4  \n",
       "1            16.76     90.2        9.04                  0.4  \n",
       "2            16.82     90.1        9.04                  0.4  \n",
       "3            17.19     90.0        9.03                  0.4  \n",
       "4            16.85     89.8        9.02                  0.4  "
      ]
     },
     "execution_count": 3,
     "metadata": {},
     "output_type": "execute_result"
    }
   ],
   "source": [
    "# Load the data\n",
    "train_dfs = lrf.import_df_data(train_files, drop_columns)\n",
    "test_dfs = lrf.import_df_data(test_files, drop_columns)\n",
    "\n",
    "train_dfs[train_index].head()"
   ]
  },
  {
   "cell_type": "markdown",
   "metadata": {},
   "source": [
    "## Use Datetime Index"
   ]
  },
  {
   "cell_type": "code",
   "execution_count": 4,
   "metadata": {},
   "outputs": [
    {
     "name": "stdout",
     "output_type": "stream",
     "text": [
      "Time America/Boise UTC-06:00     object\n",
      "Temp C                          float64\n",
      "Sp Cond (uS/cm)                   int64\n",
      "pH (mV)                         float64\n",
      "pH                              float64\n",
      "Turbidity (NTU)                 float64\n",
      "ODOSat%                         float64\n",
      "ODO (mg/L)                      float64\n",
      "BGA-Phycocyanin RFU             float64\n",
      "dtype: object\n",
      "Date (mm.dd.yyyy)       object\n",
      "Time 24hr               object\n",
      "Temp C                 float64\n",
      "Sp Cond (uS/cm)          int64\n",
      "pH (mV)                float64\n",
      "pH                     float64\n",
      "Turbidity (NTU)        float64\n",
      "ODOSat%                float64\n",
      "ODO (mg/L)             float64\n",
      "BGA-Phycocyanin RFU    float64\n",
      "dtype: object\n"
     ]
    }
   ],
   "source": [
    "print(test_dfs[test_index].dtypes)\n",
    "print(train_dfs[train_index].dtypes)"
   ]
  },
  {
   "cell_type": "code",
   "execution_count": 5,
   "metadata": {},
   "outputs": [
    {
     "data": {
      "text/html": [
       "<div>\n",
       "<style scoped>\n",
       "    .dataframe tbody tr th:only-of-type {\n",
       "        vertical-align: middle;\n",
       "    }\n",
       "\n",
       "    .dataframe tbody tr th {\n",
       "        vertical-align: top;\n",
       "    }\n",
       "\n",
       "    .dataframe thead th {\n",
       "        text-align: right;\n",
       "    }\n",
       "</style>\n",
       "<table border=\"1\" class=\"dataframe\">\n",
       "  <thead>\n",
       "    <tr style=\"text-align: right;\">\n",
       "      <th></th>\n",
       "      <th>Temp C</th>\n",
       "      <th>Sp Cond (uS/cm)</th>\n",
       "      <th>pH (mV)</th>\n",
       "      <th>pH</th>\n",
       "      <th>Turbidity (NTU)</th>\n",
       "      <th>ODOSat%</th>\n",
       "      <th>ODO (mg/L)</th>\n",
       "      <th>BGA-Phycocyanin RFU</th>\n",
       "      <th>datetime</th>\n",
       "    </tr>\n",
       "    <tr>\n",
       "      <th>timestamp</th>\n",
       "      <th></th>\n",
       "      <th></th>\n",
       "      <th></th>\n",
       "      <th></th>\n",
       "      <th></th>\n",
       "      <th></th>\n",
       "      <th></th>\n",
       "      <th></th>\n",
       "      <th></th>\n",
       "    </tr>\n",
       "  </thead>\n",
       "  <tbody>\n",
       "    <tr>\n",
       "      <th>2017-05-05 00:00:00</th>\n",
       "      <td>15.02</td>\n",
       "      <td>1848</td>\n",
       "      <td>-100.1</td>\n",
       "      <td>8.36</td>\n",
       "      <td>16.84</td>\n",
       "      <td>90.2</td>\n",
       "      <td>9.04</td>\n",
       "      <td>0.4</td>\n",
       "      <td>2017-05-05 00:00:00</td>\n",
       "    </tr>\n",
       "    <tr>\n",
       "      <th>2017-05-05 00:15:00</th>\n",
       "      <td>14.99</td>\n",
       "      <td>1847</td>\n",
       "      <td>-100.1</td>\n",
       "      <td>8.36</td>\n",
       "      <td>16.76</td>\n",
       "      <td>90.2</td>\n",
       "      <td>9.04</td>\n",
       "      <td>0.4</td>\n",
       "      <td>2017-05-05 00:15:00</td>\n",
       "    </tr>\n",
       "    <tr>\n",
       "      <th>2017-05-05 00:30:00</th>\n",
       "      <td>14.96</td>\n",
       "      <td>1847</td>\n",
       "      <td>-100.1</td>\n",
       "      <td>8.36</td>\n",
       "      <td>16.82</td>\n",
       "      <td>90.1</td>\n",
       "      <td>9.04</td>\n",
       "      <td>0.4</td>\n",
       "      <td>2017-05-05 00:30:00</td>\n",
       "    </tr>\n",
       "    <tr>\n",
       "      <th>2017-05-05 00:45:00</th>\n",
       "      <td>14.95</td>\n",
       "      <td>1848</td>\n",
       "      <td>-100.1</td>\n",
       "      <td>8.36</td>\n",
       "      <td>17.19</td>\n",
       "      <td>90.0</td>\n",
       "      <td>9.03</td>\n",
       "      <td>0.4</td>\n",
       "      <td>2017-05-05 00:45:00</td>\n",
       "    </tr>\n",
       "    <tr>\n",
       "      <th>2017-05-05 01:00:00</th>\n",
       "      <td>14.92</td>\n",
       "      <td>1848</td>\n",
       "      <td>-100.0</td>\n",
       "      <td>8.36</td>\n",
       "      <td>16.85</td>\n",
       "      <td>89.8</td>\n",
       "      <td>9.02</td>\n",
       "      <td>0.4</td>\n",
       "      <td>2017-05-05 01:00:00</td>\n",
       "    </tr>\n",
       "  </tbody>\n",
       "</table>\n",
       "</div>"
      ],
      "text/plain": [
       "                     Temp C  Sp Cond (uS/cm)  pH (mV)    pH  Turbidity (NTU)  \\\n",
       "timestamp                                                                      \n",
       "2017-05-05 00:00:00   15.02             1848   -100.1  8.36            16.84   \n",
       "2017-05-05 00:15:00   14.99             1847   -100.1  8.36            16.76   \n",
       "2017-05-05 00:30:00   14.96             1847   -100.1  8.36            16.82   \n",
       "2017-05-05 00:45:00   14.95             1848   -100.1  8.36            17.19   \n",
       "2017-05-05 01:00:00   14.92             1848   -100.0  8.36            16.85   \n",
       "\n",
       "                     ODOSat%  ODO (mg/L)  BGA-Phycocyanin RFU  \\\n",
       "timestamp                                                       \n",
       "2017-05-05 00:00:00     90.2        9.04                  0.4   \n",
       "2017-05-05 00:15:00     90.2        9.04                  0.4   \n",
       "2017-05-05 00:30:00     90.1        9.04                  0.4   \n",
       "2017-05-05 00:45:00     90.0        9.03                  0.4   \n",
       "2017-05-05 01:00:00     89.8        9.02                  0.4   \n",
       "\n",
       "                               datetime  \n",
       "timestamp                                \n",
       "2017-05-05 00:00:00 2017-05-05 00:00:00  \n",
       "2017-05-05 00:15:00 2017-05-05 00:15:00  \n",
       "2017-05-05 00:30:00 2017-05-05 00:30:00  \n",
       "2017-05-05 00:45:00 2017-05-05 00:45:00  \n",
       "2017-05-05 01:00:00 2017-05-05 01:00:00  "
      ]
     },
     "execution_count": 5,
     "metadata": {},
     "output_type": "execute_result"
    }
   ],
   "source": [
    "# We will need to engineer a datetime column for our 2017 data\n",
    "\n",
    "# Create a single datetime column from the strings provided in our csv's\n",
    "for i in range(0, len(train_dfs)):\n",
    "    timestamp = train_dfs[i]['Date (mm.dd.yyyy)'] + ' '+ train_dfs[i]['Time 24hr']\n",
    "    timestamp = pd.to_datetime(timestamp)\n",
    "    train_dfs[i]['timestamp'] = timestamp\n",
    "    train_dfs[i]['datetime'] = timestamp\n",
    "    train_dfs[i] = train_dfs[i].set_index('timestamp')\n",
    "    train_dfs[i] = train_dfs[i].drop(columns=['Date (mm.dd.yyyy)', 'Time 24hr'])\n",
    "train_dfs[train_index].head()"
   ]
  },
  {
   "cell_type": "code",
   "execution_count": 6,
   "metadata": {},
   "outputs": [
    {
     "data": {
      "text/html": [
       "<div>\n",
       "<style scoped>\n",
       "    .dataframe tbody tr th:only-of-type {\n",
       "        vertical-align: middle;\n",
       "    }\n",
       "\n",
       "    .dataframe tbody tr th {\n",
       "        vertical-align: top;\n",
       "    }\n",
       "\n",
       "    .dataframe thead th {\n",
       "        text-align: right;\n",
       "    }\n",
       "</style>\n",
       "<table border=\"1\" class=\"dataframe\">\n",
       "  <thead>\n",
       "    <tr style=\"text-align: right;\">\n",
       "      <th></th>\n",
       "      <th>Temp C</th>\n",
       "      <th>Sp Cond (uS/cm)</th>\n",
       "      <th>pH (mV)</th>\n",
       "      <th>pH</th>\n",
       "      <th>Turbidity (NTU)</th>\n",
       "      <th>ODOSat%</th>\n",
       "      <th>ODO (mg/L)</th>\n",
       "      <th>BGA-Phycocyanin RFU</th>\n",
       "      <th>datetime</th>\n",
       "    </tr>\n",
       "    <tr>\n",
       "      <th>timestamp</th>\n",
       "      <th></th>\n",
       "      <th></th>\n",
       "      <th></th>\n",
       "      <th></th>\n",
       "      <th></th>\n",
       "      <th></th>\n",
       "      <th></th>\n",
       "      <th></th>\n",
       "      <th></th>\n",
       "    </tr>\n",
       "  </thead>\n",
       "  <tbody>\n",
       "    <tr>\n",
       "      <th>2018-04-11 10:30:00</th>\n",
       "      <td>11.88</td>\n",
       "      <td>1782</td>\n",
       "      <td>-146.1</td>\n",
       "      <td>8.20</td>\n",
       "      <td>42.49</td>\n",
       "      <td>89.1</td>\n",
       "      <td>9.58</td>\n",
       "      <td>0.6</td>\n",
       "      <td>2018-04-11 10:30:00</td>\n",
       "    </tr>\n",
       "    <tr>\n",
       "      <th>2018-04-11 10:45:00</th>\n",
       "      <td>11.78</td>\n",
       "      <td>1783</td>\n",
       "      <td>-143.7</td>\n",
       "      <td>8.15</td>\n",
       "      <td>42.89</td>\n",
       "      <td>87.4</td>\n",
       "      <td>9.42</td>\n",
       "      <td>0.6</td>\n",
       "      <td>2018-04-11 10:45:00</td>\n",
       "    </tr>\n",
       "    <tr>\n",
       "      <th>2018-04-11 11:00:00</th>\n",
       "      <td>11.79</td>\n",
       "      <td>1784</td>\n",
       "      <td>-144.3</td>\n",
       "      <td>8.17</td>\n",
       "      <td>41.24</td>\n",
       "      <td>89.0</td>\n",
       "      <td>9.58</td>\n",
       "      <td>0.7</td>\n",
       "      <td>2018-04-11 11:00:00</td>\n",
       "    </tr>\n",
       "    <tr>\n",
       "      <th>2018-04-11 11:15:00</th>\n",
       "      <td>11.66</td>\n",
       "      <td>1783</td>\n",
       "      <td>-143.1</td>\n",
       "      <td>8.14</td>\n",
       "      <td>42.65</td>\n",
       "      <td>87.1</td>\n",
       "      <td>9.41</td>\n",
       "      <td>0.7</td>\n",
       "      <td>2018-04-11 11:15:00</td>\n",
       "    </tr>\n",
       "    <tr>\n",
       "      <th>2018-04-11 11:30:00</th>\n",
       "      <td>11.68</td>\n",
       "      <td>1784</td>\n",
       "      <td>-143.5</td>\n",
       "      <td>8.15</td>\n",
       "      <td>42.06</td>\n",
       "      <td>87.5</td>\n",
       "      <td>9.45</td>\n",
       "      <td>0.7</td>\n",
       "      <td>2018-04-11 11:30:00</td>\n",
       "    </tr>\n",
       "  </tbody>\n",
       "</table>\n",
       "</div>"
      ],
      "text/plain": [
       "                     Temp C  Sp Cond (uS/cm)  pH (mV)    pH  Turbidity (NTU)  \\\n",
       "timestamp                                                                      \n",
       "2018-04-11 10:30:00   11.88             1782   -146.1  8.20            42.49   \n",
       "2018-04-11 10:45:00   11.78             1783   -143.7  8.15            42.89   \n",
       "2018-04-11 11:00:00   11.79             1784   -144.3  8.17            41.24   \n",
       "2018-04-11 11:15:00   11.66             1783   -143.1  8.14            42.65   \n",
       "2018-04-11 11:30:00   11.68             1784   -143.5  8.15            42.06   \n",
       "\n",
       "                     ODOSat%  ODO (mg/L)  BGA-Phycocyanin RFU  \\\n",
       "timestamp                                                       \n",
       "2018-04-11 10:30:00     89.1        9.58                  0.6   \n",
       "2018-04-11 10:45:00     87.4        9.42                  0.6   \n",
       "2018-04-11 11:00:00     89.0        9.58                  0.7   \n",
       "2018-04-11 11:15:00     87.1        9.41                  0.7   \n",
       "2018-04-11 11:30:00     87.5        9.45                  0.7   \n",
       "\n",
       "                               datetime  \n",
       "timestamp                                \n",
       "2018-04-11 10:30:00 2018-04-11 10:30:00  \n",
       "2018-04-11 10:45:00 2018-04-11 10:45:00  \n",
       "2018-04-11 11:00:00 2018-04-11 11:00:00  \n",
       "2018-04-11 11:15:00 2018-04-11 11:15:00  \n",
       "2018-04-11 11:30:00 2018-04-11 11:30:00  "
      ]
     },
     "execution_count": 6,
     "metadata": {},
     "output_type": "execute_result"
    }
   ],
   "source": [
    "# Now to datetime index our 2018 data\n",
    "for i in range(0, len(test_dfs)):\n",
    "    timestamp = pd.to_datetime(test_dfs[i]['Time America/Boise UTC-06:00'])\n",
    "    test_dfs[i]['timestamp'] = timestamp\n",
    "    test_dfs[i]['datetime'] = timestamp\n",
    "    test_dfs[i] = test_dfs[i].set_index('timestamp')\n",
    "    test_dfs[i] = test_dfs[i].drop(columns=['Time America/Boise UTC-06:00'])\n",
    "test_dfs[test_index].head()"
   ]
  },
  {
   "cell_type": "markdown",
   "metadata": {},
   "source": [
    "## Import And Clean Weather Data"
   ]
  },
  {
   "cell_type": "code",
   "execution_count": 7,
   "metadata": {},
   "outputs": [
    {
     "data": {
      "text/html": [
       "<div>\n",
       "<style scoped>\n",
       "    .dataframe tbody tr th:only-of-type {\n",
       "        vertical-align: middle;\n",
       "    }\n",
       "\n",
       "    .dataframe tbody tr th {\n",
       "        vertical-align: top;\n",
       "    }\n",
       "\n",
       "    .dataframe thead th {\n",
       "        text-align: right;\n",
       "    }\n",
       "</style>\n",
       "<table border=\"1\" class=\"dataframe\">\n",
       "  <thead>\n",
       "    <tr style=\"text-align: right;\">\n",
       "      <th></th>\n",
       "      <th>STATION</th>\n",
       "      <th>NAME</th>\n",
       "      <th>LATITUDE</th>\n",
       "      <th>LONGITUDE</th>\n",
       "      <th>ELEVATION</th>\n",
       "      <th>DATE</th>\n",
       "      <th>DAPR</th>\n",
       "      <th>EVAP</th>\n",
       "      <th>MDPR</th>\n",
       "      <th>MNPN</th>\n",
       "      <th>...</th>\n",
       "      <th>TMAX</th>\n",
       "      <th>TMIN</th>\n",
       "      <th>TOBS</th>\n",
       "      <th>WESD</th>\n",
       "      <th>WESF</th>\n",
       "      <th>WT01</th>\n",
       "      <th>WT03</th>\n",
       "      <th>WT04</th>\n",
       "      <th>WT05</th>\n",
       "      <th>WT11</th>\n",
       "    </tr>\n",
       "  </thead>\n",
       "  <tbody>\n",
       "    <tr>\n",
       "      <th>0</th>\n",
       "      <td>USC00427064</td>\n",
       "      <td>PROVO BYU, UT US</td>\n",
       "      <td>40.2458</td>\n",
       "      <td>-111.6508</td>\n",
       "      <td>1392.9</td>\n",
       "      <td>5/1/2017</td>\n",
       "      <td>NaN</td>\n",
       "      <td>NaN</td>\n",
       "      <td>NaN</td>\n",
       "      <td>NaN</td>\n",
       "      <td>...</td>\n",
       "      <td>18.9</td>\n",
       "      <td>7.2</td>\n",
       "      <td>13.3</td>\n",
       "      <td>NaN</td>\n",
       "      <td>NaN</td>\n",
       "      <td>NaN</td>\n",
       "      <td>NaN</td>\n",
       "      <td>NaN</td>\n",
       "      <td>NaN</td>\n",
       "      <td>NaN</td>\n",
       "    </tr>\n",
       "    <tr>\n",
       "      <th>1</th>\n",
       "      <td>USC00427064</td>\n",
       "      <td>PROVO BYU, UT US</td>\n",
       "      <td>40.2458</td>\n",
       "      <td>-111.6508</td>\n",
       "      <td>1392.9</td>\n",
       "      <td>5/2/2017</td>\n",
       "      <td>NaN</td>\n",
       "      <td>NaN</td>\n",
       "      <td>NaN</td>\n",
       "      <td>NaN</td>\n",
       "      <td>...</td>\n",
       "      <td>19.4</td>\n",
       "      <td>7.8</td>\n",
       "      <td>17.8</td>\n",
       "      <td>NaN</td>\n",
       "      <td>NaN</td>\n",
       "      <td>NaN</td>\n",
       "      <td>NaN</td>\n",
       "      <td>NaN</td>\n",
       "      <td>NaN</td>\n",
       "      <td>NaN</td>\n",
       "    </tr>\n",
       "    <tr>\n",
       "      <th>2</th>\n",
       "      <td>USC00427064</td>\n",
       "      <td>PROVO BYU, UT US</td>\n",
       "      <td>40.2458</td>\n",
       "      <td>-111.6508</td>\n",
       "      <td>1392.9</td>\n",
       "      <td>5/3/2017</td>\n",
       "      <td>NaN</td>\n",
       "      <td>NaN</td>\n",
       "      <td>NaN</td>\n",
       "      <td>NaN</td>\n",
       "      <td>...</td>\n",
       "      <td>21.7</td>\n",
       "      <td>4.4</td>\n",
       "      <td>21.1</td>\n",
       "      <td>NaN</td>\n",
       "      <td>NaN</td>\n",
       "      <td>NaN</td>\n",
       "      <td>NaN</td>\n",
       "      <td>NaN</td>\n",
       "      <td>NaN</td>\n",
       "      <td>NaN</td>\n",
       "    </tr>\n",
       "    <tr>\n",
       "      <th>3</th>\n",
       "      <td>USC00427064</td>\n",
       "      <td>PROVO BYU, UT US</td>\n",
       "      <td>40.2458</td>\n",
       "      <td>-111.6508</td>\n",
       "      <td>1392.9</td>\n",
       "      <td>5/4/2017</td>\n",
       "      <td>NaN</td>\n",
       "      <td>NaN</td>\n",
       "      <td>NaN</td>\n",
       "      <td>NaN</td>\n",
       "      <td>...</td>\n",
       "      <td>26.7</td>\n",
       "      <td>6.7</td>\n",
       "      <td>26.7</td>\n",
       "      <td>NaN</td>\n",
       "      <td>NaN</td>\n",
       "      <td>NaN</td>\n",
       "      <td>NaN</td>\n",
       "      <td>NaN</td>\n",
       "      <td>NaN</td>\n",
       "      <td>NaN</td>\n",
       "    </tr>\n",
       "    <tr>\n",
       "      <th>4</th>\n",
       "      <td>USC00427064</td>\n",
       "      <td>PROVO BYU, UT US</td>\n",
       "      <td>40.2458</td>\n",
       "      <td>-111.6508</td>\n",
       "      <td>1392.9</td>\n",
       "      <td>5/5/2017</td>\n",
       "      <td>NaN</td>\n",
       "      <td>NaN</td>\n",
       "      <td>NaN</td>\n",
       "      <td>NaN</td>\n",
       "      <td>...</td>\n",
       "      <td>31.7</td>\n",
       "      <td>8.9</td>\n",
       "      <td>30.6</td>\n",
       "      <td>NaN</td>\n",
       "      <td>NaN</td>\n",
       "      <td>NaN</td>\n",
       "      <td>NaN</td>\n",
       "      <td>NaN</td>\n",
       "      <td>NaN</td>\n",
       "      <td>NaN</td>\n",
       "    </tr>\n",
       "  </tbody>\n",
       "</table>\n",
       "<p>5 rows × 25 columns</p>\n",
       "</div>"
      ],
      "text/plain": [
       "       STATION              NAME  LATITUDE  LONGITUDE  ELEVATION      DATE  \\\n",
       "0  USC00427064  PROVO BYU, UT US   40.2458  -111.6508     1392.9  5/1/2017   \n",
       "1  USC00427064  PROVO BYU, UT US   40.2458  -111.6508     1392.9  5/2/2017   \n",
       "2  USC00427064  PROVO BYU, UT US   40.2458  -111.6508     1392.9  5/3/2017   \n",
       "3  USC00427064  PROVO BYU, UT US   40.2458  -111.6508     1392.9  5/4/2017   \n",
       "4  USC00427064  PROVO BYU, UT US   40.2458  -111.6508     1392.9  5/5/2017   \n",
       "\n",
       "   DAPR  EVAP  MDPR  MNPN  ...   TMAX  TMIN  TOBS  WESD  WESF  WT01  WT03  \\\n",
       "0   NaN   NaN   NaN   NaN  ...   18.9   7.2  13.3   NaN   NaN   NaN   NaN   \n",
       "1   NaN   NaN   NaN   NaN  ...   19.4   7.8  17.8   NaN   NaN   NaN   NaN   \n",
       "2   NaN   NaN   NaN   NaN  ...   21.7   4.4  21.1   NaN   NaN   NaN   NaN   \n",
       "3   NaN   NaN   NaN   NaN  ...   26.7   6.7  26.7   NaN   NaN   NaN   NaN   \n",
       "4   NaN   NaN   NaN   NaN  ...   31.7   8.9  30.6   NaN   NaN   NaN   NaN   \n",
       "\n",
       "   WT04  WT05  WT11  \n",
       "0   NaN   NaN   NaN  \n",
       "1   NaN   NaN   NaN  \n",
       "2   NaN   NaN   NaN  \n",
       "3   NaN   NaN   NaN  \n",
       "4   NaN   NaN   NaN  \n",
       "\n",
       "[5 rows x 25 columns]"
      ]
     },
     "execution_count": 7,
     "metadata": {},
     "output_type": "execute_result"
    }
   ],
   "source": [
    "weather = pd.read_csv('../../data/cleaned/daily_weather_metric_2017_2018.csv')\n",
    "weather.head()"
   ]
  },
  {
   "cell_type": "code",
   "execution_count": 8,
   "metadata": {},
   "outputs": [
    {
     "name": "stdout",
     "output_type": "stream",
     "text": [
      "STATION percent null: 0.0%\n",
      "NAME percent null: 0.0%\n",
      "LATITUDE percent null: 0.0%\n",
      "LONGITUDE percent null: 0.0%\n",
      "ELEVATION percent null: 0.0%\n",
      "DATE percent null: 0.0%\n",
      "DAPR percent null: 99.7%\n",
      "EVAP percent null: 50.6%\n",
      "MDPR percent null: 99.7%\n",
      "MNPN percent null: 50.9%\n",
      "MXPN percent null: 50.9%\n",
      "PRCP percent null: 0.9%\n",
      "SNOW percent null: 0.5%\n",
      "SNWD percent null: 0.5%\n",
      "TAVG percent null: 100.0%\n",
      "TMAX percent null: 0.2%\n",
      "TMIN percent null: 0.0%\n",
      "TOBS percent null: 0.5%\n",
      "WESD percent null: 100.0%\n",
      "WESF percent null: 100.0%\n",
      "WT01 percent null: 100.0%\n",
      "WT03 percent null: 99.5%\n",
      "WT04 percent null: 100.0%\n",
      "WT05 percent null: 100.0%\n",
      "WT11 percent null: 100.0%\n",
      "dropping columns: ['DAPR', 'EVAP', 'MDPR', 'MNPN', 'MXPN', 'TAVG', 'WESD', 'WESF', 'WT01', 'WT03', 'WT04', 'WT05', 'WT11']\n"
     ]
    }
   ],
   "source": [
    "# Find out how much of the data is missing for each column.\n",
    "drop_columns = []\n",
    "missing_threshold = .05\n",
    "for column in weather.columns:\n",
    "    number_null = np.sum(weather[column].isnull())\n",
    "    column_length = len(weather[column])\n",
    "    should_drop_column = (number_null / column_length) > missing_threshold\n",
    "    print('{} percent null: {:.1f}%'.format(column, (number_null / column_length) * 100))\n",
    "    if should_drop_column:\n",
    "        drop_columns.append(column)\n",
    "print('dropping columns: {}'.format(drop_columns))\n",
    "weather = weather.drop(drop_columns, axis=1)"
   ]
  },
  {
   "cell_type": "code",
   "execution_count": 9,
   "metadata": {
    "scrolled": true
   },
   "outputs": [],
   "source": [
    "# Drop the columns we will not be using.\n",
    "weather = weather.drop(columns=['STATION','NAME','LATITUDE','LONGITUDE','ELEVATION', 'TOBS'])"
   ]
  },
  {
   "cell_type": "code",
   "execution_count": 10,
   "metadata": {},
   "outputs": [
    {
     "data": {
      "text/plain": [
       "DATE    datetime64[ns]\n",
       "PRCP           float64\n",
       "SNOW           float64\n",
       "SNWD           float64\n",
       "TMAX           float64\n",
       "TMIN           float64\n",
       "dtype: object"
      ]
     },
     "execution_count": 10,
     "metadata": {},
     "output_type": "execute_result"
    }
   ],
   "source": [
    "weather['DATE'] = pd.to_datetime(weather['DATE'])\n",
    "# Set a datetime index for convenience\n",
    "weather['timestamp'] = weather['DATE']\n",
    "weather = weather.set_index('timestamp')\n",
    "weather.dtypes"
   ]
  },
  {
   "cell_type": "code",
   "execution_count": 11,
   "metadata": {},
   "outputs": [],
   "source": [
    "weather['DATE'] = weather['DATE'].apply(lambda x: x.date())"
   ]
  },
  {
   "cell_type": "code",
   "execution_count": 12,
   "metadata": {},
   "outputs": [
    {
     "name": "stdout",
     "output_type": "stream",
     "text": [
      "starting dataframe 1/4\n",
      "adding series for column: PRCP\n",
      "adding series for column: SNOW\n",
      "adding series for column: SNWD\n",
      "adding series for column: TMAX\n",
      "adding series for column: TMIN\n",
      "starting dataframe 2/4\n",
      "adding series for column: PRCP\n",
      "adding series for column: SNOW\n",
      "adding series for column: SNWD\n",
      "adding series for column: TMAX\n",
      "adding series for column: TMIN\n",
      "starting dataframe 3/4\n",
      "adding series for column: PRCP\n",
      "adding series for column: SNOW\n",
      "adding series for column: SNWD\n",
      "adding series for column: TMAX\n",
      "adding series for column: TMIN\n",
      "starting dataframe 4/4\n",
      "adding series for column: PRCP\n",
      "adding series for column: SNOW\n",
      "adding series for column: SNWD\n",
      "adding series for column: TMAX\n",
      "adding series for column: TMIN\n"
     ]
    }
   ],
   "source": [
    "count = 0\n",
    "total = len(train_dfs + test_dfs)\n",
    "for df in train_dfs + test_dfs:\n",
    "    count += 1\n",
    "    print(\"starting dataframe {}/{}\".format(count, total))\n",
    "    for column in weather.drop(columns='DATE').columns:\n",
    "        print(\"adding series for column:\", column)\n",
    "        values = []\n",
    "        old_datetime = None\n",
    "        value = None\n",
    "        for datetime in df['datetime']:\n",
    "            datetime = datetime.date()\n",
    "            if datetime != old_datetime:\n",
    "                old_datetime = datetime\n",
    "                value = weather[weather['DATE'] == datetime][column]\n",
    "            values.append(value.values[0] if len(value.values) > 0 else np.nan)\n",
    "        df[column] = values"
   ]
  },
  {
   "cell_type": "markdown",
   "metadata": {},
   "source": [
    "### Import and Clean Wind Data"
   ]
  },
  {
   "cell_type": "code",
   "execution_count": 13,
   "metadata": {},
   "outputs": [],
   "source": [
    "weather_files = ['../../data/raw_data/weather/provo_airport_2017', '../../data/raw_data/weather/provo_airport_2018']\n",
    "# the array to store the readings in\n",
    "contents = []\n",
    "\n",
    "# Extract the weather data in the ISD format\n",
    "for file in weather_files:\n",
    "    contents.append(hf.extract_weather_data(file))\n"
   ]
  },
  {
   "cell_type": "code",
   "execution_count": 14,
   "metadata": {},
   "outputs": [],
   "source": [
    "# the dfs containing the wind information for the readings.\n",
    "wind_frame_2017 = pd.DataFrame(columns=[\"angle\",\"speed\"])\n",
    "wind_frame_2018 = pd.DataFrame(columns=[\"angle\",\"speed\"])\n",
    "\n",
    "\n",
    "wind_frames = [wind_frame_2017, wind_frame_2018]\n",
    "for i in range(len(contents)):\n",
    "    wind_dict = {}\n",
    "    for reading in contents[i]:\n",
    "        reading.GPO_timestamp = hf.round_time(reading.GPO_timestamp)\n",
    "\n",
    "        # no key value made yet\n",
    "        if reading.GPO_timestamp not in wind_dict.keys():\n",
    "            # check to see if the readings are valid\n",
    "            # Sets them to 'invalid' so that when we inpute them it can be handled\n",
    "            if reading.WO_wind_angle == '999':\n",
    "                reading.WO_wind_angle = np.nan\n",
    "            else:\n",
    "                reading.WO_wind_angle = int(reading.WO_wind_angle)\n",
    "            if reading.WO_wind_speed == '9999':\n",
    "                reading.WO_wind_speed = np.nan\n",
    "            else:\n",
    "                reading.WO_wind_speed = int(reading.WO_wind_speed)\n",
    "            wind_dict[reading.GPO_timestamp] = [reading.WO_wind_angle, reading.WO_wind_speed]\n",
    "    wind_frames[i] = pd.DataFrame.from_dict(wind_dict, orient='index')\n",
    "    wind_frames[i] = wind_frames[i].rename(columns={0:'Wind Angle', 1:'Wind Speed'})"
   ]
  },
  {
   "cell_type": "code",
   "execution_count": 15,
   "metadata": {},
   "outputs": [],
   "source": [
    "#we need to join the wind data now to the existing dataframes, but the dont care about\n",
    "\n",
    "for i in range(len(train_dfs)):\n",
    "    # train dfs is the 2017 data set so we need to set the wind frame to that \n",
    "    # dataset\n",
    "    train_dfs[i] = train_dfs[i].join(wind_frames[0])\n",
    "for i in range(len(test_dfs)):\n",
    "    # test dfs is the 2018 data set so we need to set the wind frame to that\n",
    "    # dataset\n",
    "    test_dfs[i] = test_dfs[i].join(wind_frames[1])"
   ]
  },
  {
   "cell_type": "code",
   "execution_count": 16,
   "metadata": {
    "scrolled": false
   },
   "outputs": [
    {
     "data": {
      "text/html": [
       "<div>\n",
       "<style scoped>\n",
       "    .dataframe tbody tr th:only-of-type {\n",
       "        vertical-align: middle;\n",
       "    }\n",
       "\n",
       "    .dataframe tbody tr th {\n",
       "        vertical-align: top;\n",
       "    }\n",
       "\n",
       "    .dataframe thead th {\n",
       "        text-align: right;\n",
       "    }\n",
       "</style>\n",
       "<table border=\"1\" class=\"dataframe\">\n",
       "  <thead>\n",
       "    <tr style=\"text-align: right;\">\n",
       "      <th></th>\n",
       "      <th>Temp C</th>\n",
       "      <th>Sp Cond (uS/cm)</th>\n",
       "      <th>pH (mV)</th>\n",
       "      <th>pH</th>\n",
       "      <th>Turbidity (NTU)</th>\n",
       "      <th>ODOSat%</th>\n",
       "      <th>ODO (mg/L)</th>\n",
       "      <th>BGA-Phycocyanin RFU</th>\n",
       "      <th>datetime</th>\n",
       "      <th>PRCP</th>\n",
       "      <th>SNOW</th>\n",
       "      <th>SNWD</th>\n",
       "      <th>TMAX</th>\n",
       "      <th>TMIN</th>\n",
       "      <th>Wind Angle</th>\n",
       "      <th>Wind Speed</th>\n",
       "    </tr>\n",
       "    <tr>\n",
       "      <th>timestamp</th>\n",
       "      <th></th>\n",
       "      <th></th>\n",
       "      <th></th>\n",
       "      <th></th>\n",
       "      <th></th>\n",
       "      <th></th>\n",
       "      <th></th>\n",
       "      <th></th>\n",
       "      <th></th>\n",
       "      <th></th>\n",
       "      <th></th>\n",
       "      <th></th>\n",
       "      <th></th>\n",
       "      <th></th>\n",
       "      <th></th>\n",
       "      <th></th>\n",
       "    </tr>\n",
       "  </thead>\n",
       "  <tbody>\n",
       "    <tr>\n",
       "      <th>2017-05-05 00:00:00</th>\n",
       "      <td>15.02</td>\n",
       "      <td>1848</td>\n",
       "      <td>-100.1</td>\n",
       "      <td>8.36</td>\n",
       "      <td>16.84</td>\n",
       "      <td>90.2</td>\n",
       "      <td>9.04</td>\n",
       "      <td>0.4</td>\n",
       "      <td>2017-05-05 00:00:00</td>\n",
       "      <td>0.0</td>\n",
       "      <td>0.0</td>\n",
       "      <td>0.0</td>\n",
       "      <td>31.7</td>\n",
       "      <td>8.9</td>\n",
       "      <td>250.0</td>\n",
       "      <td>26.0</td>\n",
       "    </tr>\n",
       "    <tr>\n",
       "      <th>2017-05-05 00:15:00</th>\n",
       "      <td>14.99</td>\n",
       "      <td>1847</td>\n",
       "      <td>-100.1</td>\n",
       "      <td>8.36</td>\n",
       "      <td>16.76</td>\n",
       "      <td>90.2</td>\n",
       "      <td>9.04</td>\n",
       "      <td>0.4</td>\n",
       "      <td>2017-05-05 00:15:00</td>\n",
       "      <td>0.0</td>\n",
       "      <td>0.0</td>\n",
       "      <td>0.0</td>\n",
       "      <td>31.7</td>\n",
       "      <td>8.9</td>\n",
       "      <td>NaN</td>\n",
       "      <td>NaN</td>\n",
       "    </tr>\n",
       "    <tr>\n",
       "      <th>2017-05-05 00:30:00</th>\n",
       "      <td>14.96</td>\n",
       "      <td>1847</td>\n",
       "      <td>-100.1</td>\n",
       "      <td>8.36</td>\n",
       "      <td>16.82</td>\n",
       "      <td>90.1</td>\n",
       "      <td>9.04</td>\n",
       "      <td>0.4</td>\n",
       "      <td>2017-05-05 00:30:00</td>\n",
       "      <td>0.0</td>\n",
       "      <td>0.0</td>\n",
       "      <td>0.0</td>\n",
       "      <td>31.7</td>\n",
       "      <td>8.9</td>\n",
       "      <td>NaN</td>\n",
       "      <td>NaN</td>\n",
       "    </tr>\n",
       "    <tr>\n",
       "      <th>2017-05-05 00:45:00</th>\n",
       "      <td>14.95</td>\n",
       "      <td>1848</td>\n",
       "      <td>-100.1</td>\n",
       "      <td>8.36</td>\n",
       "      <td>17.19</td>\n",
       "      <td>90.0</td>\n",
       "      <td>9.03</td>\n",
       "      <td>0.4</td>\n",
       "      <td>2017-05-05 00:45:00</td>\n",
       "      <td>0.0</td>\n",
       "      <td>0.0</td>\n",
       "      <td>0.0</td>\n",
       "      <td>31.7</td>\n",
       "      <td>8.9</td>\n",
       "      <td>NaN</td>\n",
       "      <td>NaN</td>\n",
       "    </tr>\n",
       "    <tr>\n",
       "      <th>2017-05-05 01:00:00</th>\n",
       "      <td>14.92</td>\n",
       "      <td>1848</td>\n",
       "      <td>-100.0</td>\n",
       "      <td>8.36</td>\n",
       "      <td>16.85</td>\n",
       "      <td>89.8</td>\n",
       "      <td>9.02</td>\n",
       "      <td>0.4</td>\n",
       "      <td>2017-05-05 01:00:00</td>\n",
       "      <td>0.0</td>\n",
       "      <td>0.0</td>\n",
       "      <td>0.0</td>\n",
       "      <td>31.7</td>\n",
       "      <td>8.9</td>\n",
       "      <td>240.0</td>\n",
       "      <td>26.0</td>\n",
       "    </tr>\n",
       "  </tbody>\n",
       "</table>\n",
       "</div>"
      ],
      "text/plain": [
       "                     Temp C  Sp Cond (uS/cm)  pH (mV)    pH  Turbidity (NTU)  \\\n",
       "timestamp                                                                      \n",
       "2017-05-05 00:00:00   15.02             1848   -100.1  8.36            16.84   \n",
       "2017-05-05 00:15:00   14.99             1847   -100.1  8.36            16.76   \n",
       "2017-05-05 00:30:00   14.96             1847   -100.1  8.36            16.82   \n",
       "2017-05-05 00:45:00   14.95             1848   -100.1  8.36            17.19   \n",
       "2017-05-05 01:00:00   14.92             1848   -100.0  8.36            16.85   \n",
       "\n",
       "                     ODOSat%  ODO (mg/L)  BGA-Phycocyanin RFU  \\\n",
       "timestamp                                                       \n",
       "2017-05-05 00:00:00     90.2        9.04                  0.4   \n",
       "2017-05-05 00:15:00     90.2        9.04                  0.4   \n",
       "2017-05-05 00:30:00     90.1        9.04                  0.4   \n",
       "2017-05-05 00:45:00     90.0        9.03                  0.4   \n",
       "2017-05-05 01:00:00     89.8        9.02                  0.4   \n",
       "\n",
       "                               datetime  PRCP  SNOW  SNWD  TMAX  TMIN  \\\n",
       "timestamp                                                               \n",
       "2017-05-05 00:00:00 2017-05-05 00:00:00   0.0   0.0   0.0  31.7   8.9   \n",
       "2017-05-05 00:15:00 2017-05-05 00:15:00   0.0   0.0   0.0  31.7   8.9   \n",
       "2017-05-05 00:30:00 2017-05-05 00:30:00   0.0   0.0   0.0  31.7   8.9   \n",
       "2017-05-05 00:45:00 2017-05-05 00:45:00   0.0   0.0   0.0  31.7   8.9   \n",
       "2017-05-05 01:00:00 2017-05-05 01:00:00   0.0   0.0   0.0  31.7   8.9   \n",
       "\n",
       "                     Wind Angle  Wind Speed  \n",
       "timestamp                                    \n",
       "2017-05-05 00:00:00       250.0        26.0  \n",
       "2017-05-05 00:15:00         NaN         NaN  \n",
       "2017-05-05 00:30:00         NaN         NaN  \n",
       "2017-05-05 00:45:00         NaN         NaN  \n",
       "2017-05-05 01:00:00       240.0        26.0  "
      ]
     },
     "execution_count": 16,
     "metadata": {},
     "output_type": "execute_result"
    }
   ],
   "source": [
    "train_dfs[train_index].head(5)"
   ]
  },
  {
   "cell_type": "code",
   "execution_count": 17,
   "metadata": {},
   "outputs": [
    {
     "data": {
      "text/html": [
       "<div>\n",
       "<style scoped>\n",
       "    .dataframe tbody tr th:only-of-type {\n",
       "        vertical-align: middle;\n",
       "    }\n",
       "\n",
       "    .dataframe tbody tr th {\n",
       "        vertical-align: top;\n",
       "    }\n",
       "\n",
       "    .dataframe thead th {\n",
       "        text-align: right;\n",
       "    }\n",
       "</style>\n",
       "<table border=\"1\" class=\"dataframe\">\n",
       "  <thead>\n",
       "    <tr style=\"text-align: right;\">\n",
       "      <th></th>\n",
       "      <th>Temp C</th>\n",
       "      <th>Sp Cond (uS/cm)</th>\n",
       "      <th>pH (mV)</th>\n",
       "      <th>pH</th>\n",
       "      <th>Turbidity (NTU)</th>\n",
       "      <th>ODOSat%</th>\n",
       "      <th>ODO (mg/L)</th>\n",
       "      <th>BGA-Phycocyanin RFU</th>\n",
       "      <th>datetime</th>\n",
       "      <th>PRCP</th>\n",
       "      <th>SNOW</th>\n",
       "      <th>SNWD</th>\n",
       "      <th>TMAX</th>\n",
       "      <th>TMIN</th>\n",
       "      <th>Wind Angle</th>\n",
       "      <th>Wind Speed</th>\n",
       "    </tr>\n",
       "    <tr>\n",
       "      <th>timestamp</th>\n",
       "      <th></th>\n",
       "      <th></th>\n",
       "      <th></th>\n",
       "      <th></th>\n",
       "      <th></th>\n",
       "      <th></th>\n",
       "      <th></th>\n",
       "      <th></th>\n",
       "      <th></th>\n",
       "      <th></th>\n",
       "      <th></th>\n",
       "      <th></th>\n",
       "      <th></th>\n",
       "      <th></th>\n",
       "      <th></th>\n",
       "      <th></th>\n",
       "    </tr>\n",
       "  </thead>\n",
       "  <tbody>\n",
       "    <tr>\n",
       "      <th>2018-04-11 10:30:00</th>\n",
       "      <td>11.88</td>\n",
       "      <td>1782</td>\n",
       "      <td>-146.1</td>\n",
       "      <td>8.20</td>\n",
       "      <td>42.49</td>\n",
       "      <td>89.1</td>\n",
       "      <td>9.58</td>\n",
       "      <td>0.6</td>\n",
       "      <td>2018-04-11 10:30:00</td>\n",
       "      <td>0.0</td>\n",
       "      <td>0.0</td>\n",
       "      <td>0.0</td>\n",
       "      <td>25.0</td>\n",
       "      <td>10.0</td>\n",
       "      <td>NaN</td>\n",
       "      <td>NaN</td>\n",
       "    </tr>\n",
       "    <tr>\n",
       "      <th>2018-04-11 10:45:00</th>\n",
       "      <td>11.78</td>\n",
       "      <td>1783</td>\n",
       "      <td>-143.7</td>\n",
       "      <td>8.15</td>\n",
       "      <td>42.89</td>\n",
       "      <td>87.4</td>\n",
       "      <td>9.42</td>\n",
       "      <td>0.6</td>\n",
       "      <td>2018-04-11 10:45:00</td>\n",
       "      <td>0.0</td>\n",
       "      <td>0.0</td>\n",
       "      <td>0.0</td>\n",
       "      <td>25.0</td>\n",
       "      <td>10.0</td>\n",
       "      <td>NaN</td>\n",
       "      <td>NaN</td>\n",
       "    </tr>\n",
       "    <tr>\n",
       "      <th>2018-04-11 11:00:00</th>\n",
       "      <td>11.79</td>\n",
       "      <td>1784</td>\n",
       "      <td>-144.3</td>\n",
       "      <td>8.17</td>\n",
       "      <td>41.24</td>\n",
       "      <td>89.0</td>\n",
       "      <td>9.58</td>\n",
       "      <td>0.7</td>\n",
       "      <td>2018-04-11 11:00:00</td>\n",
       "      <td>0.0</td>\n",
       "      <td>0.0</td>\n",
       "      <td>0.0</td>\n",
       "      <td>25.0</td>\n",
       "      <td>10.0</td>\n",
       "      <td>300.0</td>\n",
       "      <td>62.0</td>\n",
       "    </tr>\n",
       "    <tr>\n",
       "      <th>2018-04-11 11:15:00</th>\n",
       "      <td>11.66</td>\n",
       "      <td>1783</td>\n",
       "      <td>-143.1</td>\n",
       "      <td>8.14</td>\n",
       "      <td>42.65</td>\n",
       "      <td>87.1</td>\n",
       "      <td>9.41</td>\n",
       "      <td>0.7</td>\n",
       "      <td>2018-04-11 11:15:00</td>\n",
       "      <td>0.0</td>\n",
       "      <td>0.0</td>\n",
       "      <td>0.0</td>\n",
       "      <td>25.0</td>\n",
       "      <td>10.0</td>\n",
       "      <td>NaN</td>\n",
       "      <td>NaN</td>\n",
       "    </tr>\n",
       "    <tr>\n",
       "      <th>2018-04-11 11:30:00</th>\n",
       "      <td>11.68</td>\n",
       "      <td>1784</td>\n",
       "      <td>-143.5</td>\n",
       "      <td>8.15</td>\n",
       "      <td>42.06</td>\n",
       "      <td>87.5</td>\n",
       "      <td>9.45</td>\n",
       "      <td>0.7</td>\n",
       "      <td>2018-04-11 11:30:00</td>\n",
       "      <td>0.0</td>\n",
       "      <td>0.0</td>\n",
       "      <td>0.0</td>\n",
       "      <td>25.0</td>\n",
       "      <td>10.0</td>\n",
       "      <td>NaN</td>\n",
       "      <td>NaN</td>\n",
       "    </tr>\n",
       "  </tbody>\n",
       "</table>\n",
       "</div>"
      ],
      "text/plain": [
       "                     Temp C  Sp Cond (uS/cm)  pH (mV)    pH  Turbidity (NTU)  \\\n",
       "timestamp                                                                      \n",
       "2018-04-11 10:30:00   11.88             1782   -146.1  8.20            42.49   \n",
       "2018-04-11 10:45:00   11.78             1783   -143.7  8.15            42.89   \n",
       "2018-04-11 11:00:00   11.79             1784   -144.3  8.17            41.24   \n",
       "2018-04-11 11:15:00   11.66             1783   -143.1  8.14            42.65   \n",
       "2018-04-11 11:30:00   11.68             1784   -143.5  8.15            42.06   \n",
       "\n",
       "                     ODOSat%  ODO (mg/L)  BGA-Phycocyanin RFU  \\\n",
       "timestamp                                                       \n",
       "2018-04-11 10:30:00     89.1        9.58                  0.6   \n",
       "2018-04-11 10:45:00     87.4        9.42                  0.6   \n",
       "2018-04-11 11:00:00     89.0        9.58                  0.7   \n",
       "2018-04-11 11:15:00     87.1        9.41                  0.7   \n",
       "2018-04-11 11:30:00     87.5        9.45                  0.7   \n",
       "\n",
       "                               datetime  PRCP  SNOW  SNWD  TMAX  TMIN  \\\n",
       "timestamp                                                               \n",
       "2018-04-11 10:30:00 2018-04-11 10:30:00   0.0   0.0   0.0  25.0  10.0   \n",
       "2018-04-11 10:45:00 2018-04-11 10:45:00   0.0   0.0   0.0  25.0  10.0   \n",
       "2018-04-11 11:00:00 2018-04-11 11:00:00   0.0   0.0   0.0  25.0  10.0   \n",
       "2018-04-11 11:15:00 2018-04-11 11:15:00   0.0   0.0   0.0  25.0  10.0   \n",
       "2018-04-11 11:30:00 2018-04-11 11:30:00   0.0   0.0   0.0  25.0  10.0   \n",
       "\n",
       "                     Wind Angle  Wind Speed  \n",
       "timestamp                                    \n",
       "2018-04-11 10:30:00         NaN         NaN  \n",
       "2018-04-11 10:45:00         NaN         NaN  \n",
       "2018-04-11 11:00:00       300.0        62.0  \n",
       "2018-04-11 11:15:00         NaN         NaN  \n",
       "2018-04-11 11:30:00         NaN         NaN  "
      ]
     },
     "execution_count": 17,
     "metadata": {},
     "output_type": "execute_result"
    }
   ],
   "source": [
    "test_dfs[test_index].head(5)"
   ]
  },
  {
   "cell_type": "markdown",
   "metadata": {},
   "source": [
    "Need to deal with the NaNs in the dataframe for the WInd Angle and Wind Speed. There is a couple of ways that we can do this. One way is to assume that the wind doesn't change direction from the last valid responce (or the next in the case where the first entry is a NaN) or to assume that weather acts predictibly and will change direction and angle easily from entry to entry. \n",
    "\n",
    "I.E first entry 120 angle and 36 m/s speed, second (valid) entry 160 angle and 24 m/s speed slowing pan the angle inbetween and decrese the speed throughout so the entrries would look something like this:\n",
    "\n",
    "From:\n",
    "\n",
    "|Time Stamp|angle | speed |\n",
    "|--|--|--|\n",
    "|2018-04-11 12:00:00|120|36|\n",
    "|2018-04-11 12:15:00|NaN|NaN|\n",
    "|2018-04-11 12:30:00|NaN|NaN|\n",
    "|2018-04-11 12:45:00|NaN|NaN|\n",
    "|2018-04-11 13:00:00|160|24|\n",
    "\n",
    "To:\n",
    "\n",
    "|Time Stamp|angle | speed |\n",
    "|--|--|--|\n",
    "|2018-04-11 12:00:00|120|36|\n",
    "|2018-04-11 12:15:00|130|33 |\n",
    "|2018-04-11 12:30:00|140|30 |\n",
    "|2018-04-11 12:45:00|150|27 |\n",
    "|2018-04-11 13:00:00|160|24 |"
   ]
  },
  {
   "cell_type": "code",
   "execution_count": 18,
   "metadata": {},
   "outputs": [],
   "source": [
    "for i in range(len(train_dfs)):\n",
    "    train_dfs[i]['Wind Angle'] = train_dfs[i]['Wind Angle'].interpolate(limit_direction='both')\n",
    "    train_dfs[i]['Wind Speed'] = train_dfs[i]['Wind Speed'].interpolate(limit_direction='both')\n",
    "for i in range(len(test_dfs)):\n",
    "    #test dfs is the 2018 data set so we need to set the wind frame to that dataset\n",
    "    test_dfs[i]['Wind Angle'] = test_dfs[i]['Wind Angle'].interpolate(limit_direction='both')\n",
    "    test_dfs[i]['Wind Speed'] = test_dfs[i]['Wind Speed'].interpolate(limit_direction='both')"
   ]
  },
  {
   "cell_type": "code",
   "execution_count": 19,
   "metadata": {},
   "outputs": [
    {
     "data": {
      "text/html": [
       "<div>\n",
       "<style scoped>\n",
       "    .dataframe tbody tr th:only-of-type {\n",
       "        vertical-align: middle;\n",
       "    }\n",
       "\n",
       "    .dataframe tbody tr th {\n",
       "        vertical-align: top;\n",
       "    }\n",
       "\n",
       "    .dataframe thead th {\n",
       "        text-align: right;\n",
       "    }\n",
       "</style>\n",
       "<table border=\"1\" class=\"dataframe\">\n",
       "  <thead>\n",
       "    <tr style=\"text-align: right;\">\n",
       "      <th></th>\n",
       "      <th>Temp C</th>\n",
       "      <th>Sp Cond (uS/cm)</th>\n",
       "      <th>pH (mV)</th>\n",
       "      <th>pH</th>\n",
       "      <th>Turbidity (NTU)</th>\n",
       "      <th>ODOSat%</th>\n",
       "      <th>ODO (mg/L)</th>\n",
       "      <th>BGA-Phycocyanin RFU</th>\n",
       "      <th>datetime</th>\n",
       "      <th>PRCP</th>\n",
       "      <th>SNOW</th>\n",
       "      <th>SNWD</th>\n",
       "      <th>TMAX</th>\n",
       "      <th>TMIN</th>\n",
       "      <th>Wind Angle</th>\n",
       "      <th>Wind Speed</th>\n",
       "    </tr>\n",
       "    <tr>\n",
       "      <th>timestamp</th>\n",
       "      <th></th>\n",
       "      <th></th>\n",
       "      <th></th>\n",
       "      <th></th>\n",
       "      <th></th>\n",
       "      <th></th>\n",
       "      <th></th>\n",
       "      <th></th>\n",
       "      <th></th>\n",
       "      <th></th>\n",
       "      <th></th>\n",
       "      <th></th>\n",
       "      <th></th>\n",
       "      <th></th>\n",
       "      <th></th>\n",
       "      <th></th>\n",
       "    </tr>\n",
       "  </thead>\n",
       "  <tbody>\n",
       "    <tr>\n",
       "      <th>2017-05-05 00:00:00</th>\n",
       "      <td>15.02</td>\n",
       "      <td>1848</td>\n",
       "      <td>-100.1</td>\n",
       "      <td>8.36</td>\n",
       "      <td>16.84</td>\n",
       "      <td>90.2</td>\n",
       "      <td>9.04</td>\n",
       "      <td>0.4</td>\n",
       "      <td>2017-05-05 00:00:00</td>\n",
       "      <td>0.0</td>\n",
       "      <td>0.0</td>\n",
       "      <td>0.0</td>\n",
       "      <td>31.7</td>\n",
       "      <td>8.9</td>\n",
       "      <td>250.0</td>\n",
       "      <td>26.0</td>\n",
       "    </tr>\n",
       "    <tr>\n",
       "      <th>2017-05-05 00:15:00</th>\n",
       "      <td>14.99</td>\n",
       "      <td>1847</td>\n",
       "      <td>-100.1</td>\n",
       "      <td>8.36</td>\n",
       "      <td>16.76</td>\n",
       "      <td>90.2</td>\n",
       "      <td>9.04</td>\n",
       "      <td>0.4</td>\n",
       "      <td>2017-05-05 00:15:00</td>\n",
       "      <td>0.0</td>\n",
       "      <td>0.0</td>\n",
       "      <td>0.0</td>\n",
       "      <td>31.7</td>\n",
       "      <td>8.9</td>\n",
       "      <td>247.5</td>\n",
       "      <td>26.0</td>\n",
       "    </tr>\n",
       "    <tr>\n",
       "      <th>2017-05-05 00:30:00</th>\n",
       "      <td>14.96</td>\n",
       "      <td>1847</td>\n",
       "      <td>-100.1</td>\n",
       "      <td>8.36</td>\n",
       "      <td>16.82</td>\n",
       "      <td>90.1</td>\n",
       "      <td>9.04</td>\n",
       "      <td>0.4</td>\n",
       "      <td>2017-05-05 00:30:00</td>\n",
       "      <td>0.0</td>\n",
       "      <td>0.0</td>\n",
       "      <td>0.0</td>\n",
       "      <td>31.7</td>\n",
       "      <td>8.9</td>\n",
       "      <td>245.0</td>\n",
       "      <td>26.0</td>\n",
       "    </tr>\n",
       "    <tr>\n",
       "      <th>2017-05-05 00:45:00</th>\n",
       "      <td>14.95</td>\n",
       "      <td>1848</td>\n",
       "      <td>-100.1</td>\n",
       "      <td>8.36</td>\n",
       "      <td>17.19</td>\n",
       "      <td>90.0</td>\n",
       "      <td>9.03</td>\n",
       "      <td>0.4</td>\n",
       "      <td>2017-05-05 00:45:00</td>\n",
       "      <td>0.0</td>\n",
       "      <td>0.0</td>\n",
       "      <td>0.0</td>\n",
       "      <td>31.7</td>\n",
       "      <td>8.9</td>\n",
       "      <td>242.5</td>\n",
       "      <td>26.0</td>\n",
       "    </tr>\n",
       "    <tr>\n",
       "      <th>2017-05-05 01:00:00</th>\n",
       "      <td>14.92</td>\n",
       "      <td>1848</td>\n",
       "      <td>-100.0</td>\n",
       "      <td>8.36</td>\n",
       "      <td>16.85</td>\n",
       "      <td>89.8</td>\n",
       "      <td>9.02</td>\n",
       "      <td>0.4</td>\n",
       "      <td>2017-05-05 01:00:00</td>\n",
       "      <td>0.0</td>\n",
       "      <td>0.0</td>\n",
       "      <td>0.0</td>\n",
       "      <td>31.7</td>\n",
       "      <td>8.9</td>\n",
       "      <td>240.0</td>\n",
       "      <td>26.0</td>\n",
       "    </tr>\n",
       "  </tbody>\n",
       "</table>\n",
       "</div>"
      ],
      "text/plain": [
       "                     Temp C  Sp Cond (uS/cm)  pH (mV)    pH  Turbidity (NTU)  \\\n",
       "timestamp                                                                      \n",
       "2017-05-05 00:00:00   15.02             1848   -100.1  8.36            16.84   \n",
       "2017-05-05 00:15:00   14.99             1847   -100.1  8.36            16.76   \n",
       "2017-05-05 00:30:00   14.96             1847   -100.1  8.36            16.82   \n",
       "2017-05-05 00:45:00   14.95             1848   -100.1  8.36            17.19   \n",
       "2017-05-05 01:00:00   14.92             1848   -100.0  8.36            16.85   \n",
       "\n",
       "                     ODOSat%  ODO (mg/L)  BGA-Phycocyanin RFU  \\\n",
       "timestamp                                                       \n",
       "2017-05-05 00:00:00     90.2        9.04                  0.4   \n",
       "2017-05-05 00:15:00     90.2        9.04                  0.4   \n",
       "2017-05-05 00:30:00     90.1        9.04                  0.4   \n",
       "2017-05-05 00:45:00     90.0        9.03                  0.4   \n",
       "2017-05-05 01:00:00     89.8        9.02                  0.4   \n",
       "\n",
       "                               datetime  PRCP  SNOW  SNWD  TMAX  TMIN  \\\n",
       "timestamp                                                               \n",
       "2017-05-05 00:00:00 2017-05-05 00:00:00   0.0   0.0   0.0  31.7   8.9   \n",
       "2017-05-05 00:15:00 2017-05-05 00:15:00   0.0   0.0   0.0  31.7   8.9   \n",
       "2017-05-05 00:30:00 2017-05-05 00:30:00   0.0   0.0   0.0  31.7   8.9   \n",
       "2017-05-05 00:45:00 2017-05-05 00:45:00   0.0   0.0   0.0  31.7   8.9   \n",
       "2017-05-05 01:00:00 2017-05-05 01:00:00   0.0   0.0   0.0  31.7   8.9   \n",
       "\n",
       "                     Wind Angle  Wind Speed  \n",
       "timestamp                                    \n",
       "2017-05-05 00:00:00       250.0        26.0  \n",
       "2017-05-05 00:15:00       247.5        26.0  \n",
       "2017-05-05 00:30:00       245.0        26.0  \n",
       "2017-05-05 00:45:00       242.5        26.0  \n",
       "2017-05-05 01:00:00       240.0        26.0  "
      ]
     },
     "execution_count": 19,
     "metadata": {},
     "output_type": "execute_result"
    }
   ],
   "source": [
    "train_dfs[train_index].head(5)"
   ]
  },
  {
   "cell_type": "code",
   "execution_count": 20,
   "metadata": {},
   "outputs": [
    {
     "data": {
      "text/html": [
       "<div>\n",
       "<style scoped>\n",
       "    .dataframe tbody tr th:only-of-type {\n",
       "        vertical-align: middle;\n",
       "    }\n",
       "\n",
       "    .dataframe tbody tr th {\n",
       "        vertical-align: top;\n",
       "    }\n",
       "\n",
       "    .dataframe thead th {\n",
       "        text-align: right;\n",
       "    }\n",
       "</style>\n",
       "<table border=\"1\" class=\"dataframe\">\n",
       "  <thead>\n",
       "    <tr style=\"text-align: right;\">\n",
       "      <th></th>\n",
       "      <th>Temp C</th>\n",
       "      <th>Sp Cond (uS/cm)</th>\n",
       "      <th>pH (mV)</th>\n",
       "      <th>pH</th>\n",
       "      <th>Turbidity (NTU)</th>\n",
       "      <th>ODOSat%</th>\n",
       "      <th>ODO (mg/L)</th>\n",
       "      <th>BGA-Phycocyanin RFU</th>\n",
       "      <th>datetime</th>\n",
       "      <th>PRCP</th>\n",
       "      <th>SNOW</th>\n",
       "      <th>SNWD</th>\n",
       "      <th>TMAX</th>\n",
       "      <th>TMIN</th>\n",
       "      <th>Wind Angle</th>\n",
       "      <th>Wind Speed</th>\n",
       "    </tr>\n",
       "    <tr>\n",
       "      <th>timestamp</th>\n",
       "      <th></th>\n",
       "      <th></th>\n",
       "      <th></th>\n",
       "      <th></th>\n",
       "      <th></th>\n",
       "      <th></th>\n",
       "      <th></th>\n",
       "      <th></th>\n",
       "      <th></th>\n",
       "      <th></th>\n",
       "      <th></th>\n",
       "      <th></th>\n",
       "      <th></th>\n",
       "      <th></th>\n",
       "      <th></th>\n",
       "      <th></th>\n",
       "    </tr>\n",
       "  </thead>\n",
       "  <tbody>\n",
       "    <tr>\n",
       "      <th>2018-04-11 10:30:00</th>\n",
       "      <td>11.88</td>\n",
       "      <td>1782</td>\n",
       "      <td>-146.1</td>\n",
       "      <td>8.20</td>\n",
       "      <td>42.49</td>\n",
       "      <td>89.1</td>\n",
       "      <td>9.58</td>\n",
       "      <td>0.6</td>\n",
       "      <td>2018-04-11 10:30:00</td>\n",
       "      <td>0.0</td>\n",
       "      <td>0.0</td>\n",
       "      <td>0.0</td>\n",
       "      <td>25.0</td>\n",
       "      <td>10.0</td>\n",
       "      <td>300.0</td>\n",
       "      <td>62.0</td>\n",
       "    </tr>\n",
       "    <tr>\n",
       "      <th>2018-04-11 10:45:00</th>\n",
       "      <td>11.78</td>\n",
       "      <td>1783</td>\n",
       "      <td>-143.7</td>\n",
       "      <td>8.15</td>\n",
       "      <td>42.89</td>\n",
       "      <td>87.4</td>\n",
       "      <td>9.42</td>\n",
       "      <td>0.6</td>\n",
       "      <td>2018-04-11 10:45:00</td>\n",
       "      <td>0.0</td>\n",
       "      <td>0.0</td>\n",
       "      <td>0.0</td>\n",
       "      <td>25.0</td>\n",
       "      <td>10.0</td>\n",
       "      <td>300.0</td>\n",
       "      <td>62.0</td>\n",
       "    </tr>\n",
       "    <tr>\n",
       "      <th>2018-04-11 11:00:00</th>\n",
       "      <td>11.79</td>\n",
       "      <td>1784</td>\n",
       "      <td>-144.3</td>\n",
       "      <td>8.17</td>\n",
       "      <td>41.24</td>\n",
       "      <td>89.0</td>\n",
       "      <td>9.58</td>\n",
       "      <td>0.7</td>\n",
       "      <td>2018-04-11 11:00:00</td>\n",
       "      <td>0.0</td>\n",
       "      <td>0.0</td>\n",
       "      <td>0.0</td>\n",
       "      <td>25.0</td>\n",
       "      <td>10.0</td>\n",
       "      <td>300.0</td>\n",
       "      <td>62.0</td>\n",
       "    </tr>\n",
       "    <tr>\n",
       "      <th>2018-04-11 11:15:00</th>\n",
       "      <td>11.66</td>\n",
       "      <td>1783</td>\n",
       "      <td>-143.1</td>\n",
       "      <td>8.14</td>\n",
       "      <td>42.65</td>\n",
       "      <td>87.1</td>\n",
       "      <td>9.41</td>\n",
       "      <td>0.7</td>\n",
       "      <td>2018-04-11 11:15:00</td>\n",
       "      <td>0.0</td>\n",
       "      <td>0.0</td>\n",
       "      <td>0.0</td>\n",
       "      <td>25.0</td>\n",
       "      <td>10.0</td>\n",
       "      <td>255.0</td>\n",
       "      <td>55.5</td>\n",
       "    </tr>\n",
       "    <tr>\n",
       "      <th>2018-04-11 11:30:00</th>\n",
       "      <td>11.68</td>\n",
       "      <td>1784</td>\n",
       "      <td>-143.5</td>\n",
       "      <td>8.15</td>\n",
       "      <td>42.06</td>\n",
       "      <td>87.5</td>\n",
       "      <td>9.45</td>\n",
       "      <td>0.7</td>\n",
       "      <td>2018-04-11 11:30:00</td>\n",
       "      <td>0.0</td>\n",
       "      <td>0.0</td>\n",
       "      <td>0.0</td>\n",
       "      <td>25.0</td>\n",
       "      <td>10.0</td>\n",
       "      <td>210.0</td>\n",
       "      <td>49.0</td>\n",
       "    </tr>\n",
       "  </tbody>\n",
       "</table>\n",
       "</div>"
      ],
      "text/plain": [
       "                     Temp C  Sp Cond (uS/cm)  pH (mV)    pH  Turbidity (NTU)  \\\n",
       "timestamp                                                                      \n",
       "2018-04-11 10:30:00   11.88             1782   -146.1  8.20            42.49   \n",
       "2018-04-11 10:45:00   11.78             1783   -143.7  8.15            42.89   \n",
       "2018-04-11 11:00:00   11.79             1784   -144.3  8.17            41.24   \n",
       "2018-04-11 11:15:00   11.66             1783   -143.1  8.14            42.65   \n",
       "2018-04-11 11:30:00   11.68             1784   -143.5  8.15            42.06   \n",
       "\n",
       "                     ODOSat%  ODO (mg/L)  BGA-Phycocyanin RFU  \\\n",
       "timestamp                                                       \n",
       "2018-04-11 10:30:00     89.1        9.58                  0.6   \n",
       "2018-04-11 10:45:00     87.4        9.42                  0.6   \n",
       "2018-04-11 11:00:00     89.0        9.58                  0.7   \n",
       "2018-04-11 11:15:00     87.1        9.41                  0.7   \n",
       "2018-04-11 11:30:00     87.5        9.45                  0.7   \n",
       "\n",
       "                               datetime  PRCP  SNOW  SNWD  TMAX  TMIN  \\\n",
       "timestamp                                                               \n",
       "2018-04-11 10:30:00 2018-04-11 10:30:00   0.0   0.0   0.0  25.0  10.0   \n",
       "2018-04-11 10:45:00 2018-04-11 10:45:00   0.0   0.0   0.0  25.0  10.0   \n",
       "2018-04-11 11:00:00 2018-04-11 11:00:00   0.0   0.0   0.0  25.0  10.0   \n",
       "2018-04-11 11:15:00 2018-04-11 11:15:00   0.0   0.0   0.0  25.0  10.0   \n",
       "2018-04-11 11:30:00 2018-04-11 11:30:00   0.0   0.0   0.0  25.0  10.0   \n",
       "\n",
       "                     Wind Angle  Wind Speed  \n",
       "timestamp                                    \n",
       "2018-04-11 10:30:00       300.0        62.0  \n",
       "2018-04-11 10:45:00       300.0        62.0  \n",
       "2018-04-11 11:00:00       300.0        62.0  \n",
       "2018-04-11 11:15:00       255.0        55.5  \n",
       "2018-04-11 11:30:00       210.0        49.0  "
      ]
     },
     "execution_count": 20,
     "metadata": {},
     "output_type": "execute_result"
    }
   ],
   "source": [
    "test_dfs[test_index].head(5)"
   ]
  },
  {
   "cell_type": "markdown",
   "metadata": {},
   "source": [
    "## Optimal Separation Size For Individual Features\n",
    "Here we will use a constant window size of 7 days, but increase the x and y separation up to 43 days (7 + 43 = 50 day max window)"
   ]
  },
  {
   "cell_type": "code",
   "execution_count": 21,
   "metadata": {
    "scrolled": true
   },
   "outputs": [
    {
     "name": "stdout",
     "output_type": "stream",
     "text": [
      "current separation 0 days 00:00:00\n",
      "Windowizing 2017 data set: 0\n",
      "Segmenting...\n",
      "Extracting feature windows...\n",
      "Extracting target windows...\n",
      "Combining extractions...\n",
      "Segmenting...\n",
      "Extracting feature windows...\n",
      "Extracting target windows...\n",
      "Combining extractions...\n",
      "Windowizing 2018 data set: 0\n",
      "Segmenting...\n",
      "Extracting feature windows...\n",
      "Extracting target windows...\n",
      "Combining extractions...\n",
      "Segmenting...\n",
      "Extracting feature windows...\n",
      "Extracting target windows...\n",
      "Combining extractions...\n",
      "\n",
      "Training model on: pH\n",
      "accuracy 0.7283582089552239\n",
      "recall 0.8170731707317073\n",
      "precision 0.7579185520361991\n",
      "\n",
      "Updating best accuracy and shift size.\n",
      "Training model on: pH (mV)\n",
      "accuracy 0.608955223880597\n",
      "recall 0.9926829268292683\n",
      "precision 0.6111111111111112\n",
      "\n",
      "Updating best accuracy and shift size.\n",
      "Training model on: ODOSat%\n",
      "accuracy 0.6895522388059702\n",
      "recall 0.5365853658536586\n",
      "precision 0.9243697478991597\n",
      "\n",
      "Updating best accuracy and shift size.\n",
      "Training model on: TMAX\n",
      "accuracy 0.564179104477612\n",
      "recall 0.4951219512195122\n",
      "precision 0.7048611111111112\n",
      "\n",
      "Updating best accuracy and shift size.\n",
      "Training model on: rainy\n"
     ]
    },
    {
     "name": "stderr",
     "output_type": "stream",
     "text": [
      "C:\\Users\\mccomackjp\\AppData\\Local\\Continuum\\anaconda3\\lib\\site-packages\\sklearn\\metrics\\classification.py:1143: UndefinedMetricWarning: Precision is ill-defined and being set to 0.0 due to no predicted samples.\n",
      "  'precision', 'predicted', average, warn_for)\n"
     ]
    },
    {
     "name": "stdout",
     "output_type": "stream",
     "text": [
      "accuracy 0.3880597014925373\n",
      "recall 0.0\n",
      "precision 0.0\n",
      "\n",
      "Updating best accuracy and shift size.\n",
      "Training model on: Wind Speed\n",
      "accuracy 0.582089552238806\n",
      "recall 0.4024390243902439\n",
      "precision 0.825\n",
      "\n",
      "Updating best accuracy and shift size.\n",
      "Training model on: TMIN\n",
      "accuracy 0.6746268656716418\n",
      "recall 0.5390243902439025\n",
      "precision 0.884\n",
      "\n",
      "Updating best accuracy and shift size.\n",
      "Training model on: Wind Angle\n",
      "accuracy 0.47313432835820896\n",
      "recall 0.18048780487804877\n",
      "precision 0.8131868131868132\n",
      "\n",
      "Updating best accuracy and shift size.\n",
      "Training model on: PRCP\n"
     ]
    },
    {
     "name": "stderr",
     "output_type": "stream",
     "text": [
      "C:\\Users\\mccomackjp\\AppData\\Local\\Continuum\\anaconda3\\lib\\site-packages\\sklearn\\metrics\\classification.py:1143: UndefinedMetricWarning: Precision is ill-defined and being set to 0.0 due to no predicted samples.\n",
      "  'precision', 'predicted', average, warn_for)\n"
     ]
    },
    {
     "name": "stdout",
     "output_type": "stream",
     "text": [
      "accuracy 0.3880597014925373\n",
      "recall 0.0\n",
      "precision 0.0\n",
      "\n",
      "Updating best accuracy and shift size.\n",
      "Training model on: Turbidity (NTU)\n"
     ]
    },
    {
     "name": "stderr",
     "output_type": "stream",
     "text": [
      "C:\\Users\\mccomackjp\\AppData\\Local\\Continuum\\anaconda3\\lib\\site-packages\\sklearn\\metrics\\classification.py:1143: UndefinedMetricWarning: Precision is ill-defined and being set to 0.0 due to no predicted samples.\n",
      "  'precision', 'predicted', average, warn_for)\n"
     ]
    },
    {
     "name": "stdout",
     "output_type": "stream",
     "text": [
      "accuracy 0.3880597014925373\n",
      "recall 0.0\n",
      "precision 0.0\n",
      "\n",
      "Updating best accuracy and shift size.\n",
      "Training model on: Temp C\n",
      "accuracy 0.6283582089552239\n",
      "recall 0.44634146341463415\n",
      "precision 0.8926829268292683\n",
      "\n",
      "Updating best accuracy and shift size.\n",
      "Training model on: ODO (mg/L)\n",
      "accuracy 0.6686567164179105\n",
      "recall 0.5560975609756098\n",
      "precision 0.8507462686567164\n",
      "\n",
      "Updating best accuracy and shift size.\n",
      "Training model on: Sp Cond (uS/cm)\n",
      "accuracy 0.3641791044776119\n",
      "recall 0.012195121951219513\n",
      "precision 0.19230769230769232\n",
      "\n",
      "Updating best accuracy and shift size.\n",
      "Training model on: SNWD\n"
     ]
    },
    {
     "name": "stderr",
     "output_type": "stream",
     "text": [
      "C:\\Users\\mccomackjp\\AppData\\Local\\Continuum\\anaconda3\\lib\\site-packages\\sklearn\\metrics\\classification.py:1143: UndefinedMetricWarning: Precision is ill-defined and being set to 0.0 due to no predicted samples.\n",
      "  'precision', 'predicted', average, warn_for)\n"
     ]
    },
    {
     "name": "stdout",
     "output_type": "stream",
     "text": [
      "accuracy 0.3880597014925373\n",
      "recall 0.0\n",
      "precision 0.0\n",
      "\n",
      "Updating best accuracy and shift size.\n",
      "Training model on: SNOW\n"
     ]
    },
    {
     "name": "stderr",
     "output_type": "stream",
     "text": [
      "C:\\Users\\mccomackjp\\AppData\\Local\\Continuum\\anaconda3\\lib\\site-packages\\sklearn\\metrics\\classification.py:1143: UndefinedMetricWarning: Precision is ill-defined and being set to 0.0 due to no predicted samples.\n",
      "  'precision', 'predicted', average, warn_for)\n"
     ]
    },
    {
     "name": "stdout",
     "output_type": "stream",
     "text": [
      "accuracy 0.3880597014925373\n",
      "recall 0.0\n",
      "precision 0.0\n",
      "\n",
      "Updating best accuracy and shift size.\n",
      "current separation 1 days 00:00:00\n",
      "Windowizing 2017 data set: 0\n",
      "Segmenting...\n",
      "Extracting feature windows...\n",
      "Extracting target windows...\n",
      "Combining extractions...\n",
      "Segmenting...\n",
      "Extracting feature windows...\n",
      "Extracting target windows...\n",
      "Combining extractions...\n",
      "Windowizing 2018 data set: 0\n",
      "Segmenting...\n",
      "Extracting feature windows...\n",
      "Extracting target windows...\n",
      "Combining extractions...\n",
      "Segmenting...\n",
      "Extracting feature windows...\n",
      "Extracting target windows...\n",
      "Combining extractions...\n",
      "\n",
      "Training model on: pH\n",
      "accuracy 0.7192192192192193\n",
      "recall 0.8145363408521303\n",
      "precision 0.7420091324200914\n",
      "\n",
      "Training model on: pH (mV)\n",
      "accuracy 0.5915915915915916\n",
      "recall 0.9874686716791979\n",
      "precision 0.5960665658093798\n",
      "\n",
      "Training model on: ODOSat%\n",
      "accuracy 0.7042042042042042\n",
      "recall 0.5513784461152882\n",
      "precision 0.9243697478991597\n",
      "\n",
      "Updating best accuracy and shift size.\n",
      "Training model on: TMAX\n",
      "accuracy 0.575075075075075\n",
      "recall 0.506265664160401\n",
      "precision 0.7013888888888888\n",
      "\n",
      "Updating best accuracy and shift size.\n",
      "Training model on: rainy\n"
     ]
    },
    {
     "name": "stderr",
     "output_type": "stream",
     "text": [
      "C:\\Users\\mccomackjp\\AppData\\Local\\Continuum\\anaconda3\\lib\\site-packages\\sklearn\\metrics\\classification.py:1143: UndefinedMetricWarning: Precision is ill-defined and being set to 0.0 due to no predicted samples.\n",
      "  'precision', 'predicted', average, warn_for)\n"
     ]
    },
    {
     "name": "stdout",
     "output_type": "stream",
     "text": [
      "accuracy 0.4009009009009009\n",
      "recall 0.0\n",
      "precision 0.0\n",
      "\n",
      "Updating best accuracy and shift size.\n",
      "Training model on: Wind Speed\n",
      "accuracy 0.5840840840840841\n",
      "recall 0.40100250626566414\n",
      "precision 0.8080808080808081\n",
      "\n",
      "Updating best accuracy and shift size.\n",
      "Training model on: TMIN\n",
      "accuracy 0.6981981981981982\n",
      "recall 0.5614035087719298\n",
      "precision 0.896\n",
      "\n",
      "Updating best accuracy and shift size.\n",
      "Training model on: Wind Angle\n",
      "accuracy 0.46396396396396394\n",
      "recall 0.14536340852130325\n",
      "precision 0.7837837837837838\n",
      "\n",
      "Training model on: PRCP\n"
     ]
    },
    {
     "name": "stderr",
     "output_type": "stream",
     "text": [
      "C:\\Users\\mccomackjp\\AppData\\Local\\Continuum\\anaconda3\\lib\\site-packages\\sklearn\\metrics\\classification.py:1143: UndefinedMetricWarning: Precision is ill-defined and being set to 0.0 due to no predicted samples.\n",
      "  'precision', 'predicted', average, warn_for)\n"
     ]
    },
    {
     "name": "stdout",
     "output_type": "stream",
     "text": [
      "accuracy 0.4009009009009009\n",
      "recall 0.0\n",
      "precision 0.0\n",
      "\n",
      "Updating best accuracy and shift size.\n",
      "Training model on: Turbidity (NTU)\n"
     ]
    },
    {
     "name": "stderr",
     "output_type": "stream",
     "text": [
      "C:\\Users\\mccomackjp\\AppData\\Local\\Continuum\\anaconda3\\lib\\site-packages\\sklearn\\metrics\\classification.py:1143: UndefinedMetricWarning: Precision is ill-defined and being set to 0.0 due to no predicted samples.\n",
      "  'precision', 'predicted', average, warn_for)\n"
     ]
    },
    {
     "name": "stdout",
     "output_type": "stream",
     "text": [
      "accuracy 0.4009009009009009\n",
      "recall 0.0\n",
      "precision 0.0\n",
      "\n",
      "Updating best accuracy and shift size.\n",
      "Training model on: Temp C\n",
      "accuracy 0.6381381381381381\n",
      "recall 0.46365914786967416\n",
      "precision 0.8726415094339622\n",
      "\n",
      "Updating best accuracy and shift size.\n",
      "Training model on: ODO (mg/L)\n",
      "accuracy 0.6816816816816816\n",
      "recall 0.5664160401002506\n",
      "precision 0.8528301886792453\n",
      "\n",
      "Updating best accuracy and shift size.\n",
      "Training model on: Sp Cond (uS/cm)\n",
      "accuracy 0.35435435435435436\n",
      "recall 0.012531328320802004\n",
      "precision 0.12195121951219512\n",
      "\n",
      "Training model on: SNWD\n"
     ]
    },
    {
     "name": "stderr",
     "output_type": "stream",
     "text": [
      "C:\\Users\\mccomackjp\\AppData\\Local\\Continuum\\anaconda3\\lib\\site-packages\\sklearn\\metrics\\classification.py:1143: UndefinedMetricWarning: Precision is ill-defined and being set to 0.0 due to no predicted samples.\n",
      "  'precision', 'predicted', average, warn_for)\n"
     ]
    },
    {
     "name": "stdout",
     "output_type": "stream",
     "text": [
      "accuracy 0.4009009009009009\n",
      "recall 0.0\n",
      "precision 0.0\n",
      "\n",
      "Updating best accuracy and shift size.\n",
      "Training model on: SNOW\n"
     ]
    },
    {
     "name": "stderr",
     "output_type": "stream",
     "text": [
      "C:\\Users\\mccomackjp\\AppData\\Local\\Continuum\\anaconda3\\lib\\site-packages\\sklearn\\metrics\\classification.py:1143: UndefinedMetricWarning: Precision is ill-defined and being set to 0.0 due to no predicted samples.\n",
      "  'precision', 'predicted', average, warn_for)\n"
     ]
    },
    {
     "name": "stdout",
     "output_type": "stream",
     "text": [
      "accuracy 0.4009009009009009\n",
      "recall 0.0\n",
      "precision 0.0\n",
      "\n",
      "Updating best accuracy and shift size.\n",
      "current separation 2 days 00:00:00\n",
      "Windowizing 2017 data set: 0\n",
      "Segmenting...\n",
      "Extracting feature windows...\n",
      "Extracting target windows...\n",
      "Combining extractions...\n",
      "Segmenting...\n",
      "Extracting feature windows...\n",
      "Extracting target windows...\n",
      "Combining extractions...\n",
      "Windowizing 2018 data set: 0\n",
      "Segmenting...\n",
      "Extracting feature windows...\n",
      "Extracting target windows...\n",
      "Combining extractions...\n",
      "Segmenting...\n",
      "Extracting feature windows...\n",
      "Extracting target windows...\n",
      "Combining extractions...\n",
      "\n",
      "Training model on: pH\n",
      "accuracy 0.7054380664652568\n",
      "recall 0.8120300751879699\n",
      "precision 0.7297297297297297\n",
      "\n",
      "Training model on: pH (mV)\n",
      "accuracy 0.5966767371601208\n",
      "recall 0.9899749373433584\n",
      "precision 0.6003039513677811\n",
      "\n",
      "Training model on: ODOSat%\n",
      "accuracy 0.7129909365558912\n",
      "recall 0.5614035087719298\n",
      "precision 0.9372384937238494\n",
      "\n",
      "Updating best accuracy and shift size.\n",
      "Training model on: TMAX\n",
      "accuracy 0.5996978851963746\n",
      "recall 0.5288220551378446\n",
      "precision 0.7326388888888888\n",
      "\n",
      "Updating best accuracy and shift size.\n",
      "Training model on: rainy\n"
     ]
    },
    {
     "name": "stderr",
     "output_type": "stream",
     "text": [
      "C:\\Users\\mccomackjp\\AppData\\Local\\Continuum\\anaconda3\\lib\\site-packages\\sklearn\\metrics\\classification.py:1143: UndefinedMetricWarning: Precision is ill-defined and being set to 0.0 due to no predicted samples.\n",
      "  'precision', 'predicted', average, warn_for)\n"
     ]
    },
    {
     "name": "stdout",
     "output_type": "stream",
     "text": [
      "accuracy 0.3972809667673716\n",
      "recall 0.0\n",
      "precision 0.0\n",
      "\n",
      "Training model on: Wind Speed\n",
      "accuracy 0.5785498489425982\n",
      "recall 0.40852130325814534\n",
      "precision 0.7912621359223301\n",
      "\n",
      "Training model on: TMIN\n",
      "accuracy 0.6993957703927492\n",
      "recall 0.5639097744360902\n",
      "precision 0.9\n",
      "\n",
      "Updating best accuracy and shift size.\n",
      "Training model on: Wind Angle\n",
      "accuracy 0.46676737160120846\n",
      "recall 0.17042606516290726\n",
      "precision 0.7555555555555555\n",
      "\n",
      "Training model on: PRCP\n"
     ]
    },
    {
     "name": "stderr",
     "output_type": "stream",
     "text": [
      "C:\\Users\\mccomackjp\\AppData\\Local\\Continuum\\anaconda3\\lib\\site-packages\\sklearn\\metrics\\classification.py:1143: UndefinedMetricWarning: Precision is ill-defined and being set to 0.0 due to no predicted samples.\n",
      "  'precision', 'predicted', average, warn_for)\n"
     ]
    },
    {
     "name": "stdout",
     "output_type": "stream",
     "text": [
      "accuracy 0.3972809667673716\n",
      "recall 0.0\n",
      "precision 0.0\n",
      "\n",
      "Training model on: Turbidity (NTU)\n",
      "accuracy 0.40634441087613293\n",
      "recall 0.022556390977443608\n",
      "precision 0.75\n",
      "\n",
      "Updating best accuracy and shift size.\n",
      "Training model on: Temp C\n",
      "accuracy 0.649546827794562\n",
      "recall 0.47869674185463656\n",
      "precision 0.8883720930232558\n",
      "\n",
      "Updating best accuracy and shift size.\n",
      "Training model on: ODO (mg/L)\n",
      "accuracy 0.6812688821752266\n",
      "recall 0.5664160401002506\n",
      "precision 0.8560606060606061\n",
      "\n",
      "Training model on: Sp Cond (uS/cm)\n",
      "accuracy 0.3217522658610272\n",
      "recall 0.010025062656641603\n",
      "precision 0.06896551724137931\n",
      "\n",
      "Training model on: SNWD\n"
     ]
    },
    {
     "name": "stderr",
     "output_type": "stream",
     "text": [
      "C:\\Users\\mccomackjp\\AppData\\Local\\Continuum\\anaconda3\\lib\\site-packages\\sklearn\\metrics\\classification.py:1143: UndefinedMetricWarning: Precision is ill-defined and being set to 0.0 due to no predicted samples.\n",
      "  'precision', 'predicted', average, warn_for)\n"
     ]
    },
    {
     "name": "stdout",
     "output_type": "stream",
     "text": [
      "accuracy 0.3972809667673716\n",
      "recall 0.0\n",
      "precision 0.0\n",
      "\n",
      "Training model on: SNOW\n"
     ]
    },
    {
     "name": "stderr",
     "output_type": "stream",
     "text": [
      "C:\\Users\\mccomackjp\\AppData\\Local\\Continuum\\anaconda3\\lib\\site-packages\\sklearn\\metrics\\classification.py:1143: UndefinedMetricWarning: Precision is ill-defined and being set to 0.0 due to no predicted samples.\n",
      "  'precision', 'predicted', average, warn_for)\n"
     ]
    },
    {
     "name": "stdout",
     "output_type": "stream",
     "text": [
      "accuracy 0.3972809667673716\n",
      "recall 0.0\n",
      "precision 0.0\n",
      "\n",
      "current separation 3 days 00:00:00\n",
      "Windowizing 2017 data set: 0\n",
      "Segmenting...\n",
      "Extracting feature windows...\n",
      "Extracting target windows...\n",
      "Combining extractions...\n",
      "Segmenting...\n",
      "Extracting feature windows...\n",
      "Extracting target windows...\n",
      "Combining extractions...\n",
      "Windowizing 2018 data set: 0\n",
      "Segmenting...\n",
      "Extracting feature windows...\n",
      "Extracting target windows...\n",
      "Combining extractions...\n",
      "Segmenting...\n",
      "Extracting feature windows...\n",
      "Extracting target windows...\n",
      "Combining extractions...\n",
      "\n",
      "Training model on: pH\n",
      "accuracy 0.7196969696969697\n",
      "recall 0.8074074074074075\n",
      "precision 0.7534562211981567\n",
      "\n",
      "Training model on: pH (mV)\n",
      "accuracy 0.6075757575757575\n",
      "recall 0.9901234567901235\n",
      "precision 0.6112804878048781\n",
      "\n",
      "Training model on: ODOSat%\n",
      "accuracy 0.703030303030303\n",
      "recall 0.5456790123456791\n",
      "precision 0.9484978540772532\n",
      "\n",
      "Training model on: TMAX\n",
      "accuracy 0.5924242424242424\n",
      "recall 0.5234567901234568\n",
      "precision 0.7361111111111112\n",
      "\n",
      "Training model on: rainy\n"
     ]
    },
    {
     "name": "stderr",
     "output_type": "stream",
     "text": [
      "C:\\Users\\mccomackjp\\AppData\\Local\\Continuum\\anaconda3\\lib\\site-packages\\sklearn\\metrics\\classification.py:1143: UndefinedMetricWarning: Precision is ill-defined and being set to 0.0 due to no predicted samples.\n",
      "  'precision', 'predicted', average, warn_for)\n"
     ]
    },
    {
     "name": "stdout",
     "output_type": "stream",
     "text": [
      "accuracy 0.38636363636363635\n",
      "recall 0.0\n",
      "precision 0.0\n",
      "\n",
      "Training model on: Wind Speed\n",
      "accuracy 0.5636363636363636\n",
      "recall 0.3950617283950617\n",
      "precision 0.7881773399014779\n",
      "\n",
      "Training model on: TMIN\n",
      "accuracy 0.6924242424242424\n",
      "recall 0.5580246913580247\n",
      "precision 0.904\n",
      "\n",
      "Training model on: Wind Angle\n",
      "accuracy 0.4590909090909091\n",
      "recall 0.17037037037037037\n",
      "precision 0.7666666666666667\n",
      "\n",
      "Training model on: PRCP\n"
     ]
    },
    {
     "name": "stderr",
     "output_type": "stream",
     "text": [
      "C:\\Users\\mccomackjp\\AppData\\Local\\Continuum\\anaconda3\\lib\\site-packages\\sklearn\\metrics\\classification.py:1143: UndefinedMetricWarning: Precision is ill-defined and being set to 0.0 due to no predicted samples.\n",
      "  'precision', 'predicted', average, warn_for)\n"
     ]
    },
    {
     "name": "stdout",
     "output_type": "stream",
     "text": [
      "accuracy 0.38636363636363635\n",
      "recall 0.0\n",
      "precision 0.0\n",
      "\n",
      "Training model on: Turbidity (NTU)\n",
      "accuracy 0.39545454545454545\n",
      "recall 0.037037037037037035\n",
      "precision 0.625\n",
      "\n",
      "Training model on: Temp C\n",
      "accuracy 0.6409090909090909\n",
      "recall 0.4691358024691358\n",
      "precision 0.8962264150943396\n",
      "\n",
      "Training model on: ODO (mg/L)\n",
      "accuracy 0.6621212121212121\n",
      "recall 0.5481481481481482\n",
      "precision 0.8473282442748091\n",
      "\n",
      "Training model on: Sp Cond (uS/cm)\n",
      "accuracy 0.3090909090909091\n",
      "recall 0.009876543209876543\n",
      "precision 0.06779661016949153\n",
      "\n",
      "Training model on: SNWD\n"
     ]
    },
    {
     "name": "stderr",
     "output_type": "stream",
     "text": [
      "C:\\Users\\mccomackjp\\AppData\\Local\\Continuum\\anaconda3\\lib\\site-packages\\sklearn\\metrics\\classification.py:1143: UndefinedMetricWarning: Precision is ill-defined and being set to 0.0 due to no predicted samples.\n",
      "  'precision', 'predicted', average, warn_for)\n"
     ]
    },
    {
     "name": "stdout",
     "output_type": "stream",
     "text": [
      "accuracy 0.38636363636363635\n",
      "recall 0.0\n",
      "precision 0.0\n",
      "\n",
      "Training model on: SNOW\n"
     ]
    },
    {
     "name": "stderr",
     "output_type": "stream",
     "text": [
      "C:\\Users\\mccomackjp\\AppData\\Local\\Continuum\\anaconda3\\lib\\site-packages\\sklearn\\metrics\\classification.py:1143: UndefinedMetricWarning: Precision is ill-defined and being set to 0.0 due to no predicted samples.\n",
      "  'precision', 'predicted', average, warn_for)\n"
     ]
    },
    {
     "name": "stdout",
     "output_type": "stream",
     "text": [
      "accuracy 0.38636363636363635\n",
      "recall 0.0\n",
      "precision 0.0\n",
      "\n",
      "current separation 4 days 00:00:00\n",
      "Windowizing 2017 data set: 0\n",
      "Segmenting...\n",
      "Extracting feature windows...\n",
      "Extracting target windows...\n",
      "Combining extractions...\n",
      "Segmenting...\n",
      "Extracting feature windows...\n",
      "Extracting target windows...\n",
      "Combining extractions...\n",
      "Windowizing 2018 data set: 0\n",
      "Segmenting...\n",
      "Extracting feature windows...\n",
      "Extracting target windows...\n",
      "Combining extractions...\n",
      "Segmenting...\n",
      "Extracting feature windows...\n",
      "Extracting target windows...\n",
      "Combining extractions...\n",
      "\n",
      "Training model on: pH\n",
      "accuracy 0.7179878048780488\n",
      "recall 0.8025316455696202\n",
      "precision 0.7476415094339622\n",
      "\n",
      "Training model on: pH (mV)\n",
      "accuracy 0.5960365853658537\n",
      "recall 0.9898734177215189\n",
      "precision 0.5996932515337423\n",
      "\n",
      "Training model on: ODOSat%\n",
      "accuracy 0.7149390243902439\n",
      "recall 0.5518987341772152\n",
      "precision 0.956140350877193\n",
      "\n",
      "Updating best accuracy and shift size.\n",
      "Training model on: TMAX\n",
      "accuracy 0.6082317073170732\n",
      "recall 0.5392405063291139\n",
      "precision 0.7395833333333334\n",
      "\n",
      "Updating best accuracy and shift size.\n",
      "Training model on: rainy\n"
     ]
    },
    {
     "name": "stderr",
     "output_type": "stream",
     "text": [
      "C:\\Users\\mccomackjp\\AppData\\Local\\Continuum\\anaconda3\\lib\\site-packages\\sklearn\\metrics\\classification.py:1143: UndefinedMetricWarning: Precision is ill-defined and being set to 0.0 due to no predicted samples.\n",
      "  'precision', 'predicted', average, warn_for)\n"
     ]
    },
    {
     "name": "stdout",
     "output_type": "stream",
     "text": [
      "accuracy 0.3978658536585366\n",
      "recall 0.0\n",
      "precision 0.0\n",
      "\n",
      "Training model on: Wind Speed\n",
      "accuracy 0.5685975609756098\n",
      "recall 0.39746835443037976\n",
      "precision 0.7772277227722773\n",
      "\n",
      "Training model on: TMIN\n",
      "accuracy 0.711890243902439\n",
      "recall 0.5772151898734177\n",
      "precision 0.912\n",
      "\n",
      "Updating best accuracy and shift size.\n",
      "Training model on: Wind Angle\n",
      "accuracy 0.46189024390243905\n",
      "recall 0.15443037974683543\n",
      "precision 0.7625\n",
      "\n",
      "Training model on: PRCP\n"
     ]
    },
    {
     "name": "stderr",
     "output_type": "stream",
     "text": [
      "C:\\Users\\mccomackjp\\AppData\\Local\\Continuum\\anaconda3\\lib\\site-packages\\sklearn\\metrics\\classification.py:1143: UndefinedMetricWarning: Precision is ill-defined and being set to 0.0 due to no predicted samples.\n",
      "  'precision', 'predicted', average, warn_for)\n"
     ]
    },
    {
     "name": "stdout",
     "output_type": "stream",
     "text": [
      "accuracy 0.3978658536585366\n",
      "recall 0.0\n",
      "precision 0.0\n",
      "\n",
      "Training model on: Turbidity (NTU)\n",
      "accuracy 0.3902439024390244\n",
      "recall 0.04810126582278481\n",
      "precision 0.4418604651162791\n",
      "\n",
      "Training model on: Temp C\n",
      "accuracy 0.6615853658536586\n",
      "recall 0.48860759493670886\n",
      "precision 0.9061032863849765\n",
      "\n",
      "Updating best accuracy and shift size.\n",
      "Training model on: ODO (mg/L)\n",
      "accuracy 0.6737804878048781\n",
      "recall 0.5569620253164557\n",
      "precision 0.8494208494208494\n",
      "\n",
      "Training model on: Sp Cond (uS/cm)\n",
      "accuracy 0.28353658536585363\n",
      "recall 0.017721518987341773\n",
      "precision 0.07865168539325842\n",
      "\n",
      "Training model on: SNWD\n"
     ]
    },
    {
     "name": "stderr",
     "output_type": "stream",
     "text": [
      "C:\\Users\\mccomackjp\\AppData\\Local\\Continuum\\anaconda3\\lib\\site-packages\\sklearn\\metrics\\classification.py:1143: UndefinedMetricWarning: Precision is ill-defined and being set to 0.0 due to no predicted samples.\n",
      "  'precision', 'predicted', average, warn_for)\n"
     ]
    },
    {
     "name": "stdout",
     "output_type": "stream",
     "text": [
      "accuracy 0.3978658536585366\n",
      "recall 0.0\n",
      "precision 0.0\n",
      "\n",
      "Training model on: SNOW\n"
     ]
    },
    {
     "name": "stderr",
     "output_type": "stream",
     "text": [
      "C:\\Users\\mccomackjp\\AppData\\Local\\Continuum\\anaconda3\\lib\\site-packages\\sklearn\\metrics\\classification.py:1143: UndefinedMetricWarning: Precision is ill-defined and being set to 0.0 due to no predicted samples.\n",
      "  'precision', 'predicted', average, warn_for)\n"
     ]
    },
    {
     "name": "stdout",
     "output_type": "stream",
     "text": [
      "accuracy 0.3978658536585366\n",
      "recall 0.0\n",
      "precision 0.0\n",
      "\n",
      "current separation 5 days 00:00:00\n",
      "Windowizing 2017 data set: 0\n",
      "Segmenting...\n",
      "Extracting feature windows...\n",
      "Extracting target windows...\n",
      "Combining extractions...\n",
      "Segmenting...\n",
      "Extracting feature windows...\n",
      "Extracting target windows...\n",
      "Combining extractions...\n",
      "Windowizing 2018 data set: 0\n",
      "Segmenting...\n",
      "Extracting feature windows...\n",
      "Extracting target windows...\n",
      "Combining extractions...\n",
      "Segmenting...\n",
      "Extracting feature windows...\n",
      "Extracting target windows...\n",
      "Combining extractions...\n",
      "\n",
      "Training model on: pH\n",
      "accuracy 0.7101226993865031\n",
      "recall 0.7994858611825193\n",
      "precision 0.7369668246445498\n",
      "\n",
      "Training model on: pH (mV)\n",
      "accuracy 0.588957055214724\n",
      "recall 0.987146529562982\n",
      "precision 0.5935085007727975\n",
      "\n",
      "Training model on: ODOSat%\n",
      "accuracy 0.7085889570552147\n",
      "recall 0.5347043701799485\n",
      "precision 0.9585253456221198\n",
      "\n",
      "Training model on: TMAX\n",
      "accuracy 0.6242331288343558\n",
      "recall 0.5552699228791774\n",
      "precision 0.75\n",
      "\n",
      "Updating best accuracy and shift size.\n",
      "Training model on: rainy\n"
     ]
    },
    {
     "name": "stderr",
     "output_type": "stream",
     "text": [
      "C:\\Users\\mccomackjp\\AppData\\Local\\Continuum\\anaconda3\\lib\\site-packages\\sklearn\\metrics\\classification.py:1143: UndefinedMetricWarning: Precision is ill-defined and being set to 0.0 due to no predicted samples.\n",
      "  'precision', 'predicted', average, warn_for)\n"
     ]
    },
    {
     "name": "stdout",
     "output_type": "stream",
     "text": [
      "accuracy 0.40337423312883436\n",
      "recall 0.0\n",
      "precision 0.0\n",
      "\n",
      "Updating best accuracy and shift size.\n",
      "Training model on: Wind Speed\n",
      "accuracy 0.5705521472392638\n",
      "recall 0.39588688946015427\n",
      "precision 0.7738693467336684\n",
      "\n",
      "Training model on: TMIN\n",
      "accuracy 0.7193251533742331\n",
      "recall 0.5861182519280206\n",
      "precision 0.912\n",
      "\n",
      "Updating best accuracy and shift size.\n",
      "Training model on: Wind Angle\n",
      "accuracy 0.4539877300613497\n",
      "recall 0.13110539845758354\n",
      "precision 0.7391304347826086\n",
      "\n",
      "Training model on: PRCP\n"
     ]
    },
    {
     "name": "stderr",
     "output_type": "stream",
     "text": [
      "C:\\Users\\mccomackjp\\AppData\\Local\\Continuum\\anaconda3\\lib\\site-packages\\sklearn\\metrics\\classification.py:1143: UndefinedMetricWarning: Precision is ill-defined and being set to 0.0 due to no predicted samples.\n",
      "  'precision', 'predicted', average, warn_for)\n"
     ]
    },
    {
     "name": "stdout",
     "output_type": "stream",
     "text": [
      "accuracy 0.40337423312883436\n",
      "recall 0.0\n",
      "precision 0.0\n",
      "\n",
      "Updating best accuracy and shift size.\n",
      "Training model on: Turbidity (NTU)\n",
      "accuracy 0.39263803680981596\n",
      "recall 0.04113110539845758\n",
      "precision 0.41025641025641024\n",
      "\n",
      "Training model on: Temp C\n",
      "accuracy 0.651840490797546\n",
      "recall 0.4781491002570694\n",
      "precision 0.8857142857142857\n",
      "\n",
      "Training model on: ODO (mg/L)\n",
      "accuracy 0.6365030674846626\n",
      "recall 0.5012853470437018\n",
      "precision 0.819327731092437\n",
      "\n",
      "Training model on: Sp Cond (uS/cm)\n",
      "accuracy 0.2822085889570552\n",
      "recall 0.017994858611825194\n",
      "precision 0.07526881720430108\n",
      "\n",
      "Training model on: SNWD\n"
     ]
    },
    {
     "name": "stderr",
     "output_type": "stream",
     "text": [
      "C:\\Users\\mccomackjp\\AppData\\Local\\Continuum\\anaconda3\\lib\\site-packages\\sklearn\\metrics\\classification.py:1143: UndefinedMetricWarning: Precision is ill-defined and being set to 0.0 due to no predicted samples.\n",
      "  'precision', 'predicted', average, warn_for)\n"
     ]
    },
    {
     "name": "stdout",
     "output_type": "stream",
     "text": [
      "accuracy 0.40337423312883436\n",
      "recall 0.0\n",
      "precision 0.0\n",
      "\n",
      "Updating best accuracy and shift size.\n",
      "Training model on: SNOW\n"
     ]
    },
    {
     "name": "stderr",
     "output_type": "stream",
     "text": [
      "C:\\Users\\mccomackjp\\AppData\\Local\\Continuum\\anaconda3\\lib\\site-packages\\sklearn\\metrics\\classification.py:1143: UndefinedMetricWarning: Precision is ill-defined and being set to 0.0 due to no predicted samples.\n",
      "  'precision', 'predicted', average, warn_for)\n"
     ]
    },
    {
     "name": "stdout",
     "output_type": "stream",
     "text": [
      "accuracy 0.40337423312883436\n",
      "recall 0.0\n",
      "precision 0.0\n",
      "\n",
      "Updating best accuracy and shift size.\n",
      "current separation 6 days 00:00:00\n",
      "Windowizing 2017 data set: 0\n",
      "Segmenting...\n",
      "Extracting feature windows...\n",
      "Extracting target windows...\n",
      "Combining extractions...\n",
      "Segmenting...\n",
      "Extracting feature windows...\n",
      "Extracting target windows...\n",
      "Combining extractions...\n",
      "Windowizing 2018 data set: 0\n",
      "Segmenting...\n",
      "Extracting feature windows...\n",
      "Extracting target windows...\n",
      "Combining extractions...\n",
      "Segmenting...\n",
      "Extracting feature windows...\n",
      "Extracting target windows...\n",
      "Combining extractions...\n",
      "\n",
      "Training model on: pH\n",
      "accuracy 0.7103235747303543\n",
      "recall 0.7964376590330788\n",
      "precision 0.7434679334916865\n",
      "\n",
      "Training model on: pH (mV)\n",
      "accuracy 0.5993836671802774\n",
      "recall 0.989821882951654\n",
      "precision 0.6031007751937985\n",
      "\n",
      "Training model on: ODOSat%\n",
      "accuracy 0.7026194144838213\n",
      "recall 0.5292620865139949\n",
      "precision 0.9629629629629629\n",
      "\n",
      "Training model on: TMAX\n",
      "accuracy 0.6317411402157165\n",
      "recall 0.5623409669211196\n",
      "precision 0.7673611111111112\n",
      "\n",
      "Updating best accuracy and shift size.\n",
      "Training model on: rainy\n"
     ]
    },
    {
     "name": "stderr",
     "output_type": "stream",
     "text": [
      "C:\\Users\\mccomackjp\\AppData\\Local\\Continuum\\anaconda3\\lib\\site-packages\\sklearn\\metrics\\classification.py:1143: UndefinedMetricWarning: Precision is ill-defined and being set to 0.0 due to no predicted samples.\n",
      "  'precision', 'predicted', average, warn_for)\n"
     ]
    },
    {
     "name": "stdout",
     "output_type": "stream",
     "text": [
      "accuracy 0.39445300462249616\n",
      "recall 0.0\n",
      "precision 0.0\n",
      "\n",
      "Training model on: Wind Speed\n",
      "accuracy 0.5639445300462249\n",
      "recall 0.3893129770992366\n",
      "precision 0.7806122448979592\n",
      "\n",
      "Training model on: TMIN\n",
      "accuracy 0.7180277349768875\n",
      "recall 0.5852417302798982\n",
      "precision 0.92\n",
      "\n",
      "Training model on: Wind Angle\n",
      "accuracy 0.4437596302003082\n",
      "recall 0.13486005089058525\n",
      "precision 0.7162162162162162\n",
      "\n",
      "Training model on: PRCP\n"
     ]
    },
    {
     "name": "stderr",
     "output_type": "stream",
     "text": [
      "C:\\Users\\mccomackjp\\AppData\\Local\\Continuum\\anaconda3\\lib\\site-packages\\sklearn\\metrics\\classification.py:1143: UndefinedMetricWarning: Precision is ill-defined and being set to 0.0 due to no predicted samples.\n",
      "  'precision', 'predicted', average, warn_for)\n"
     ]
    },
    {
     "name": "stdout",
     "output_type": "stream",
     "text": [
      "accuracy 0.39445300462249616\n",
      "recall 0.0\n",
      "precision 0.0\n",
      "\n",
      "Training model on: Turbidity (NTU)\n",
      "accuracy 0.3852080123266564\n",
      "recall 0.06361323155216285\n",
      "precision 0.44642857142857145\n",
      "\n",
      "Training model on: Temp C\n",
      "accuracy 0.6548536209553159\n",
      "recall 0.4758269720101781\n",
      "precision 0.9121951219512195\n",
      "\n",
      "Training model on: ODO (mg/L)\n",
      "accuracy 0.6209553158705701\n",
      "recall 0.48346055979643765\n",
      "precision 0.8154506437768241\n",
      "\n",
      "Training model on: Sp Cond (uS/cm)\n",
      "accuracy 0.28043143297380585\n",
      "recall 0.010178117048346057\n",
      "precision 0.04878048780487805\n",
      "\n",
      "Training model on: SNWD\n"
     ]
    },
    {
     "name": "stderr",
     "output_type": "stream",
     "text": [
      "C:\\Users\\mccomackjp\\AppData\\Local\\Continuum\\anaconda3\\lib\\site-packages\\sklearn\\metrics\\classification.py:1143: UndefinedMetricWarning: Precision is ill-defined and being set to 0.0 due to no predicted samples.\n",
      "  'precision', 'predicted', average, warn_for)\n"
     ]
    },
    {
     "name": "stdout",
     "output_type": "stream",
     "text": [
      "accuracy 0.39445300462249616\n",
      "recall 0.0\n",
      "precision 0.0\n",
      "\n",
      "Training model on: SNOW\n"
     ]
    },
    {
     "name": "stderr",
     "output_type": "stream",
     "text": [
      "C:\\Users\\mccomackjp\\AppData\\Local\\Continuum\\anaconda3\\lib\\site-packages\\sklearn\\metrics\\classification.py:1143: UndefinedMetricWarning: Precision is ill-defined and being set to 0.0 due to no predicted samples.\n",
      "  'precision', 'predicted', average, warn_for)\n"
     ]
    },
    {
     "name": "stdout",
     "output_type": "stream",
     "text": [
      "accuracy 0.39445300462249616\n",
      "recall 0.0\n",
      "precision 0.0\n",
      "\n",
      "current separation 7 days 00:00:00\n",
      "Windowizing 2017 data set: 0\n",
      "Segmenting...\n",
      "Extracting feature windows...\n",
      "Extracting target windows...\n",
      "Combining extractions...\n",
      "Segmenting...\n",
      "Extracting feature windows...\n",
      "Extracting target windows...\n",
      "Combining extractions...\n",
      "Windowizing 2018 data set: 0\n",
      "Segmenting...\n",
      "Extracting feature windows...\n",
      "Extracting target windows...\n",
      "Combining extractions...\n",
      "Segmenting...\n",
      "Extracting feature windows...\n",
      "Extracting target windows...\n",
      "Combining extractions...\n",
      "\n",
      "Training model on: pH\n",
      "accuracy 0.7074303405572755\n",
      "recall 0.7811704834605598\n",
      "precision 0.748780487804878\n",
      "\n",
      "Training model on: pH (mV)\n",
      "accuracy 0.6006191950464397\n",
      "recall 0.9872773536895675\n",
      "precision 0.6053042121684867\n",
      "\n",
      "Training model on: ODOSat%\n",
      "accuracy 0.6981424148606811\n",
      "recall 0.5216284987277354\n",
      "precision 0.9669811320754716\n",
      "\n",
      "Training model on: TMAX\n",
      "accuracy 0.6393188854489165\n",
      "recall 0.5699745547073791\n",
      "precision 0.7777777777777778\n",
      "\n",
      "Updating best accuracy and shift size.\n",
      "Training model on: rainy\n"
     ]
    },
    {
     "name": "stderr",
     "output_type": "stream",
     "text": [
      "C:\\Users\\mccomackjp\\AppData\\Local\\Continuum\\anaconda3\\lib\\site-packages\\sklearn\\metrics\\classification.py:1143: UndefinedMetricWarning: Precision is ill-defined and being set to 0.0 due to no predicted samples.\n",
      "  'precision', 'predicted', average, warn_for)\n"
     ]
    },
    {
     "name": "stdout",
     "output_type": "stream",
     "text": [
      "accuracy 0.39164086687306504\n",
      "recall 0.0\n",
      "precision 0.0\n",
      "\n",
      "Training model on: Wind Speed\n",
      "accuracy 0.5603715170278638\n",
      "recall 0.38676844783715014\n",
      "precision 0.7794871794871795\n",
      "\n",
      "Training model on: TMIN\n",
      "accuracy 0.7260061919504643\n",
      "recall 0.5928753180661578\n",
      "precision 0.932\n",
      "\n",
      "Updating best accuracy and shift size.\n",
      "Training model on: Wind Angle\n",
      "accuracy 0.4411764705882353\n",
      "recall 0.13231552162849872\n",
      "precision 0.7222222222222222\n",
      "\n",
      "Training model on: PRCP\n"
     ]
    },
    {
     "name": "stderr",
     "output_type": "stream",
     "text": [
      "C:\\Users\\mccomackjp\\AppData\\Local\\Continuum\\anaconda3\\lib\\site-packages\\sklearn\\metrics\\classification.py:1143: UndefinedMetricWarning: Precision is ill-defined and being set to 0.0 due to no predicted samples.\n",
      "  'precision', 'predicted', average, warn_for)\n"
     ]
    },
    {
     "name": "stdout",
     "output_type": "stream",
     "text": [
      "accuracy 0.39164086687306504\n",
      "recall 0.0\n",
      "precision 0.0\n",
      "\n",
      "Training model on: Turbidity (NTU)\n",
      "accuracy 0.413312693498452\n",
      "recall 0.13231552162849872\n",
      "precision 0.5777777777777777\n",
      "\n",
      "Updating best accuracy and shift size.\n",
      "Training model on: Temp C\n",
      "accuracy 0.6640866873065016\n",
      "recall 0.4910941475826972\n",
      "precision 0.919047619047619\n",
      "\n",
      "Updating best accuracy and shift size.\n",
      "Training model on: ODO (mg/L)\n",
      "accuracy 0.6052631578947368\n",
      "recall 0.4681933842239186\n",
      "precision 0.8\n",
      "\n",
      "Training model on: Sp Cond (uS/cm)\n",
      "accuracy 0.26625386996904027\n",
      "recall 0.01272264631043257\n",
      "precision 0.054945054945054944\n",
      "\n",
      "Training model on: SNWD\n"
     ]
    },
    {
     "name": "stderr",
     "output_type": "stream",
     "text": [
      "C:\\Users\\mccomackjp\\AppData\\Local\\Continuum\\anaconda3\\lib\\site-packages\\sklearn\\metrics\\classification.py:1143: UndefinedMetricWarning: Precision is ill-defined and being set to 0.0 due to no predicted samples.\n",
      "  'precision', 'predicted', average, warn_for)\n"
     ]
    },
    {
     "name": "stdout",
     "output_type": "stream",
     "text": [
      "accuracy 0.39164086687306504\n",
      "recall 0.0\n",
      "precision 0.0\n",
      "\n",
      "Training model on: SNOW\n"
     ]
    },
    {
     "name": "stderr",
     "output_type": "stream",
     "text": [
      "C:\\Users\\mccomackjp\\AppData\\Local\\Continuum\\anaconda3\\lib\\site-packages\\sklearn\\metrics\\classification.py:1143: UndefinedMetricWarning: Precision is ill-defined and being set to 0.0 due to no predicted samples.\n",
      "  'precision', 'predicted', average, warn_for)\n"
     ]
    },
    {
     "name": "stdout",
     "output_type": "stream",
     "text": [
      "accuracy 0.39164086687306504\n",
      "recall 0.0\n",
      "precision 0.0\n",
      "\n",
      "current separation 8 days 00:00:00\n",
      "Windowizing 2017 data set: 0\n",
      "Segmenting...\n",
      "Extracting feature windows...\n",
      "Extracting target windows...\n",
      "Combining extractions...\n",
      "Segmenting...\n",
      "Extracting feature windows...\n",
      "Extracting target windows...\n",
      "Combining extractions...\n",
      "Windowizing 2018 data set: 0\n",
      "Segmenting...\n",
      "Extracting feature windows...\n",
      "Extracting target windows...\n",
      "Combining extractions...\n",
      "Segmenting...\n",
      "Extracting feature windows...\n",
      "Extracting target windows...\n",
      "Combining extractions...\n",
      "\n",
      "Training model on: pH\n",
      "accuracy 0.7149532710280374\n",
      "recall 0.7962962962962963\n",
      "precision 0.7395577395577395\n",
      "\n",
      "Training model on: pH (mV)\n",
      "accuracy 0.5763239875389408\n",
      "recall 0.9788359788359788\n",
      "precision 0.583596214511041\n",
      "\n",
      "Training model on: ODOSat%\n",
      "accuracy 0.6962616822429907\n",
      "recall 0.5158730158730159\n",
      "precision 0.9420289855072463\n",
      "\n",
      "Training model on: TMAX\n",
      "accuracy 0.6510903426791277\n",
      "recall 0.5846560846560847\n",
      "precision 0.7673611111111112\n",
      "\n",
      "Updating best accuracy and shift size.\n",
      "Training model on: rainy\n"
     ]
    },
    {
     "name": "stderr",
     "output_type": "stream",
     "text": [
      "C:\\Users\\mccomackjp\\AppData\\Local\\Continuum\\anaconda3\\lib\\site-packages\\sklearn\\metrics\\classification.py:1143: UndefinedMetricWarning: Precision is ill-defined and being set to 0.0 due to no predicted samples.\n",
      "  'precision', 'predicted', average, warn_for)\n"
     ]
    },
    {
     "name": "stdout",
     "output_type": "stream",
     "text": [
      "accuracy 0.411214953271028\n",
      "recall 0.0\n",
      "precision 0.0\n",
      "\n",
      "Updating best accuracy and shift size.\n",
      "Training model on: Wind Speed\n",
      "accuracy 0.5685358255451713\n",
      "recall 0.3862433862433862\n",
      "precision 0.7643979057591623\n",
      "\n",
      "Training model on: TMIN\n",
      "accuracy 0.7383177570093458\n",
      "recall 0.6084656084656085\n",
      "precision 0.92\n",
      "\n",
      "Updating best accuracy and shift size.\n",
      "Training model on: Wind Angle\n",
      "accuracy 0.411214953271028\n",
      "recall 0.005291005291005291\n",
      "precision 0.5\n",
      "\n",
      "Training model on: PRCP\n"
     ]
    },
    {
     "name": "stderr",
     "output_type": "stream",
     "text": [
      "C:\\Users\\mccomackjp\\AppData\\Local\\Continuum\\anaconda3\\lib\\site-packages\\sklearn\\metrics\\classification.py:1143: UndefinedMetricWarning: Precision is ill-defined and being set to 0.0 due to no predicted samples.\n",
      "  'precision', 'predicted', average, warn_for)\n"
     ]
    },
    {
     "name": "stdout",
     "output_type": "stream",
     "text": [
      "accuracy 0.411214953271028\n",
      "recall 0.0\n",
      "precision 0.0\n",
      "\n",
      "Updating best accuracy and shift size.\n",
      "Training model on: Turbidity (NTU)\n",
      "accuracy 0.40654205607476634\n",
      "recall 0.0873015873015873\n",
      "precision 0.4782608695652174\n",
      "\n",
      "Training model on: Temp C\n",
      "accuracy 0.677570093457944\n",
      "recall 0.5\n",
      "precision 0.9130434782608695\n",
      "\n",
      "Updating best accuracy and shift size.\n",
      "Training model on: ODO (mg/L)\n",
      "accuracy 0.5685358255451713\n",
      "recall 0.3968253968253968\n",
      "precision 0.7537688442211056\n",
      "\n",
      "Training model on: Sp Cond (uS/cm)\n",
      "accuracy 0.2834890965732087\n",
      "recall 0.013227513227513227\n",
      "precision 0.05434782608695652\n",
      "\n",
      "Training model on: SNWD\n"
     ]
    },
    {
     "name": "stderr",
     "output_type": "stream",
     "text": [
      "C:\\Users\\mccomackjp\\AppData\\Local\\Continuum\\anaconda3\\lib\\site-packages\\sklearn\\metrics\\classification.py:1143: UndefinedMetricWarning: Precision is ill-defined and being set to 0.0 due to no predicted samples.\n",
      "  'precision', 'predicted', average, warn_for)\n"
     ]
    },
    {
     "name": "stdout",
     "output_type": "stream",
     "text": [
      "accuracy 0.411214953271028\n",
      "recall 0.0\n",
      "precision 0.0\n",
      "\n",
      "Updating best accuracy and shift size.\n",
      "Training model on: SNOW\n"
     ]
    },
    {
     "name": "stderr",
     "output_type": "stream",
     "text": [
      "C:\\Users\\mccomackjp\\AppData\\Local\\Continuum\\anaconda3\\lib\\site-packages\\sklearn\\metrics\\classification.py:1143: UndefinedMetricWarning: Precision is ill-defined and being set to 0.0 due to no predicted samples.\n",
      "  'precision', 'predicted', average, warn_for)\n"
     ]
    },
    {
     "name": "stdout",
     "output_type": "stream",
     "text": [
      "accuracy 0.411214953271028\n",
      "recall 0.0\n",
      "precision 0.0\n",
      "\n",
      "Updating best accuracy and shift size.\n",
      "current separation 9 days 00:00:00\n",
      "Windowizing 2017 data set: 0\n",
      "Segmenting...\n",
      "Extracting feature windows...\n",
      "Extracting target windows...\n",
      "Combining extractions...\n",
      "Segmenting...\n",
      "Extracting feature windows...\n",
      "Extracting target windows...\n",
      "Combining extractions...\n",
      "Windowizing 2018 data set: 0\n",
      "Segmenting...\n",
      "Extracting feature windows...\n",
      "Extracting target windows...\n",
      "Combining extractions...\n",
      "Segmenting...\n",
      "Extracting feature windows...\n",
      "Extracting target windows...\n",
      "Combining extractions...\n",
      "\n",
      "Training model on: pH\n",
      "accuracy 0.7115987460815048\n",
      "recall 0.7936507936507936\n",
      "precision 0.7389162561576355\n",
      "\n",
      "Training model on: pH (mV)\n",
      "accuracy 0.5846394984326019\n",
      "recall 0.9867724867724867\n",
      "precision 0.5892575039494471\n",
      "\n",
      "Training model on: ODOSat%\n",
      "accuracy 0.6943573667711599\n",
      "recall 0.5158730158730159\n",
      "precision 0.9420289855072463\n",
      "\n",
      "Training model on: TMAX\n",
      "accuracy 0.670846394984326\n",
      "recall 0.6031746031746031\n",
      "precision 0.7916666666666666\n",
      "\n",
      "Updating best accuracy and shift size.\n",
      "Training model on: rainy\n",
      "accuracy 0.542319749216301\n",
      "recall 0.5370370370370371\n",
      "precision 0.634375\n",
      "\n",
      "Updating best accuracy and shift size.\n",
      "Training model on: Wind Speed\n",
      "accuracy 0.5642633228840125\n",
      "recall 0.41534391534391535\n",
      "precision 0.7336448598130841\n",
      "\n",
      "Training model on: TMIN\n",
      "accuracy 0.7492163009404389\n",
      "recall 0.6190476190476191\n",
      "precision 0.936\n",
      "\n",
      "Updating best accuracy and shift size.\n",
      "Training model on: Wind Angle\n"
     ]
    },
    {
     "name": "stderr",
     "output_type": "stream",
     "text": [
      "C:\\Users\\mccomackjp\\AppData\\Local\\Continuum\\anaconda3\\lib\\site-packages\\sklearn\\metrics\\classification.py:1143: UndefinedMetricWarning: Precision is ill-defined and being set to 0.0 due to no predicted samples.\n",
      "  'precision', 'predicted', average, warn_for)\n"
     ]
    },
    {
     "name": "stdout",
     "output_type": "stream",
     "text": [
      "accuracy 0.40752351097178685\n",
      "recall 0.0\n",
      "precision 0.0\n",
      "\n",
      "Training model on: PRCP\n"
     ]
    },
    {
     "name": "stderr",
     "output_type": "stream",
     "text": [
      "C:\\Users\\mccomackjp\\AppData\\Local\\Continuum\\anaconda3\\lib\\site-packages\\sklearn\\metrics\\classification.py:1143: UndefinedMetricWarning: Precision is ill-defined and being set to 0.0 due to no predicted samples.\n",
      "  'precision', 'predicted', average, warn_for)\n"
     ]
    },
    {
     "name": "stdout",
     "output_type": "stream",
     "text": [
      "accuracy 0.40752351097178685\n",
      "recall 0.0\n",
      "precision 0.0\n",
      "\n",
      "Training model on: Turbidity (NTU)\n",
      "accuracy 0.4059561128526646\n",
      "recall 0.13756613756613756\n",
      "precision 0.49523809523809526\n",
      "\n",
      "Training model on: Temp C\n",
      "accuracy 0.6927899686520376\n",
      "recall 0.5238095238095238\n",
      "precision 0.9252336448598131\n",
      "\n",
      "Updating best accuracy and shift size.\n",
      "Training model on: ODO (mg/L)\n",
      "accuracy 0.5564263322884012\n",
      "recall 0.38095238095238093\n",
      "precision 0.7461139896373057\n",
      "\n",
      "Training model on: Sp Cond (uS/cm)\n",
      "accuracy 0.2774294670846395\n",
      "recall 0.010582010582010581\n",
      "precision 0.04395604395604396\n",
      "\n",
      "Training model on: SNWD\n"
     ]
    },
    {
     "name": "stderr",
     "output_type": "stream",
     "text": [
      "C:\\Users\\mccomackjp\\AppData\\Local\\Continuum\\anaconda3\\lib\\site-packages\\sklearn\\metrics\\classification.py:1143: UndefinedMetricWarning: Precision is ill-defined and being set to 0.0 due to no predicted samples.\n",
      "  'precision', 'predicted', average, warn_for)\n"
     ]
    },
    {
     "name": "stdout",
     "output_type": "stream",
     "text": [
      "accuracy 0.40752351097178685\n",
      "recall 0.0\n",
      "precision 0.0\n",
      "\n",
      "Training model on: SNOW\n"
     ]
    },
    {
     "name": "stderr",
     "output_type": "stream",
     "text": [
      "C:\\Users\\mccomackjp\\AppData\\Local\\Continuum\\anaconda3\\lib\\site-packages\\sklearn\\metrics\\classification.py:1143: UndefinedMetricWarning: Precision is ill-defined and being set to 0.0 due to no predicted samples.\n",
      "  'precision', 'predicted', average, warn_for)\n"
     ]
    },
    {
     "name": "stdout",
     "output_type": "stream",
     "text": [
      "accuracy 0.40752351097178685\n",
      "recall 0.0\n",
      "precision 0.0\n",
      "\n",
      "current separation 10 days 00:00:00\n",
      "Windowizing 2017 data set: 0\n",
      "Segmenting...\n",
      "Extracting feature windows...\n",
      "Extracting target windows...\n",
      "Combining extractions...\n",
      "Segmenting...\n",
      "Extracting feature windows...\n",
      "Extracting target windows...\n",
      "Combining extractions...\n",
      "Windowizing 2018 data set: 0\n",
      "Segmenting...\n",
      "Extracting feature windows...\n",
      "Extracting target windows...\n",
      "Combining extractions...\n",
      "Segmenting...\n",
      "Extracting feature windows...\n",
      "Extracting target windows...\n",
      "Combining extractions...\n",
      "\n",
      "Training model on: pH\n",
      "accuracy 0.720125786163522\n",
      "recall 0.7844155844155845\n",
      "precision 0.760705289672544\n",
      "\n",
      "Training model on: pH (mV)\n",
      "accuracy 0.6053459119496856\n",
      "recall 0.987012987012987\n",
      "precision 0.6070287539936102\n",
      "\n",
      "Training model on: ODOSat%\n",
      "accuracy 0.6808176100628931\n",
      "recall 0.5012987012987012\n",
      "precision 0.946078431372549\n",
      "\n",
      "Training model on: TMAX\n",
      "accuracy 0.6650943396226415\n",
      "recall 0.5974025974025974\n",
      "precision 0.7986111111111112\n",
      "\n",
      "Training model on: rainy\n"
     ]
    },
    {
     "name": "stderr",
     "output_type": "stream",
     "text": [
      "C:\\Users\\mccomackjp\\AppData\\Local\\Continuum\\anaconda3\\lib\\site-packages\\sklearn\\metrics\\classification.py:1143: UndefinedMetricWarning: Precision is ill-defined and being set to 0.0 due to no predicted samples.\n",
      "  'precision', 'predicted', average, warn_for)\n"
     ]
    },
    {
     "name": "stdout",
     "output_type": "stream",
     "text": [
      "accuracy 0.3946540880503145\n",
      "recall 0.0\n",
      "precision 0.0\n",
      "\n",
      "Training model on: Wind Speed\n",
      "accuracy 0.5566037735849056\n",
      "recall 0.37662337662337664\n",
      "precision 0.7754010695187166\n",
      "\n",
      "Training model on: TMIN\n",
      "accuracy 0.7374213836477987\n",
      "recall 0.6077922077922078\n",
      "precision 0.936\n",
      "\n",
      "Training model on: Wind Angle\n"
     ]
    },
    {
     "name": "stderr",
     "output_type": "stream",
     "text": [
      "C:\\Users\\mccomackjp\\AppData\\Local\\Continuum\\anaconda3\\lib\\site-packages\\sklearn\\metrics\\classification.py:1143: UndefinedMetricWarning: Precision is ill-defined and being set to 0.0 due to no predicted samples.\n",
      "  'precision', 'predicted', average, warn_for)\n"
     ]
    },
    {
     "name": "stdout",
     "output_type": "stream",
     "text": [
      "accuracy 0.3946540880503145\n",
      "recall 0.0\n",
      "precision 0.0\n",
      "\n",
      "Training model on: PRCP\n"
     ]
    },
    {
     "name": "stderr",
     "output_type": "stream",
     "text": [
      "C:\\Users\\mccomackjp\\AppData\\Local\\Continuum\\anaconda3\\lib\\site-packages\\sklearn\\metrics\\classification.py:1143: UndefinedMetricWarning: Precision is ill-defined and being set to 0.0 due to no predicted samples.\n",
      "  'precision', 'predicted', average, warn_for)\n"
     ]
    },
    {
     "name": "stdout",
     "output_type": "stream",
     "text": [
      "accuracy 0.3946540880503145\n",
      "recall 0.0\n",
      "precision 0.0\n",
      "\n",
      "Training model on: Turbidity (NTU)\n",
      "accuracy 0.39937106918238996\n",
      "recall 0.09610389610389611\n",
      "precision 0.5211267605633803\n",
      "\n",
      "Training model on: Temp C\n",
      "accuracy 0.6871069182389937\n",
      "recall 0.5142857142857142\n",
      "precision 0.9428571428571428\n",
      "\n",
      "Training model on: ODO (mg/L)\n",
      "accuracy 0.539308176100629\n",
      "recall 0.3142857142857143\n",
      "precision 0.8066666666666666\n",
      "\n",
      "Training model on: Sp Cond (uS/cm)\n",
      "accuracy 0.2641509433962264\n",
      "recall 0.01038961038961039\n",
      "precision 0.04395604395604396\n",
      "\n",
      "Training model on: SNWD\n"
     ]
    },
    {
     "name": "stderr",
     "output_type": "stream",
     "text": [
      "C:\\Users\\mccomackjp\\AppData\\Local\\Continuum\\anaconda3\\lib\\site-packages\\sklearn\\metrics\\classification.py:1143: UndefinedMetricWarning: Precision is ill-defined and being set to 0.0 due to no predicted samples.\n",
      "  'precision', 'predicted', average, warn_for)\n"
     ]
    },
    {
     "name": "stdout",
     "output_type": "stream",
     "text": [
      "accuracy 0.3946540880503145\n",
      "recall 0.0\n",
      "precision 0.0\n",
      "\n",
      "Training model on: SNOW\n"
     ]
    },
    {
     "name": "stderr",
     "output_type": "stream",
     "text": [
      "C:\\Users\\mccomackjp\\AppData\\Local\\Continuum\\anaconda3\\lib\\site-packages\\sklearn\\metrics\\classification.py:1143: UndefinedMetricWarning: Precision is ill-defined and being set to 0.0 due to no predicted samples.\n",
      "  'precision', 'predicted', average, warn_for)\n"
     ]
    },
    {
     "name": "stdout",
     "output_type": "stream",
     "text": [
      "accuracy 0.3946540880503145\n",
      "recall 0.0\n",
      "precision 0.0\n",
      "\n",
      "current separation 11 days 00:00:00\n",
      "Windowizing 2017 data set: 0\n",
      "Segmenting...\n",
      "Extracting feature windows...\n",
      "Extracting target windows...\n",
      "Combining extractions...\n",
      "Segmenting...\n",
      "Extracting feature windows...\n",
      "Extracting target windows...\n",
      "Combining extractions...\n",
      "Windowizing 2018 data set: 0\n",
      "Segmenting...\n",
      "Extracting feature windows...\n",
      "Extracting target windows...\n",
      "Combining extractions...\n",
      "Segmenting...\n",
      "Extracting feature windows...\n",
      "Extracting target windows...\n",
      "Combining extractions...\n",
      "\n",
      "Training model on: pH\n",
      "accuracy 0.7167721518987342\n",
      "recall 0.7845744680851063\n",
      "precision 0.7506361323155216\n",
      "\n",
      "Training model on: pH (mV)\n",
      "accuracy 0.6044303797468354\n",
      "recall 0.9920212765957447\n",
      "precision 0.6016129032258064\n",
      "\n",
      "Training model on: ODOSat%\n",
      "accuracy 0.6645569620253164\n",
      "recall 0.4601063829787234\n",
      "precision 0.9505494505494505\n",
      "\n",
      "Training model on: TMAX\n",
      "accuracy 0.6835443037974683\n",
      "recall 0.6170212765957447\n",
      "precision 0.8055555555555556\n",
      "\n",
      "Updating best accuracy and shift size.\n",
      "Training model on: rainy\n"
     ]
    },
    {
     "name": "stderr",
     "output_type": "stream",
     "text": [
      "C:\\Users\\mccomackjp\\AppData\\Local\\Continuum\\anaconda3\\lib\\site-packages\\sklearn\\metrics\\classification.py:1143: UndefinedMetricWarning: Precision is ill-defined and being set to 0.0 due to no predicted samples.\n",
      "  'precision', 'predicted', average, warn_for)\n"
     ]
    },
    {
     "name": "stdout",
     "output_type": "stream",
     "text": [
      "accuracy 0.4050632911392405\n",
      "recall 0.0\n",
      "precision 0.0\n",
      "\n",
      "Training model on: Wind Speed\n",
      "accuracy 0.5632911392405063\n",
      "recall 0.3776595744680851\n",
      "precision 0.7717391304347826\n",
      "\n",
      "Training model on: TMIN\n",
      "accuracy 0.7531645569620253\n",
      "recall 0.625\n",
      "precision 0.94\n",
      "\n",
      "Updating best accuracy and shift size.\n",
      "Training model on: Wind Angle\n",
      "accuracy 0.40822784810126583\n",
      "recall 0.013297872340425532\n",
      "precision 0.625\n",
      "\n",
      "Training model on: PRCP\n"
     ]
    },
    {
     "name": "stderr",
     "output_type": "stream",
     "text": [
      "C:\\Users\\mccomackjp\\AppData\\Local\\Continuum\\anaconda3\\lib\\site-packages\\sklearn\\metrics\\classification.py:1143: UndefinedMetricWarning: Precision is ill-defined and being set to 0.0 due to no predicted samples.\n",
      "  'precision', 'predicted', average, warn_for)\n"
     ]
    },
    {
     "name": "stdout",
     "output_type": "stream",
     "text": [
      "accuracy 0.4050632911392405\n",
      "recall 0.0\n",
      "precision 0.0\n",
      "\n",
      "Training model on: Turbidity (NTU)\n",
      "accuracy 0.3924050632911392\n",
      "recall 0.061170212765957445\n",
      "precision 0.42592592592592593\n",
      "\n",
      "Training model on: Temp C\n",
      "accuracy 0.7056962025316456\n",
      "recall 0.5319148936170213\n",
      "precision 0.9523809523809523\n",
      "\n",
      "Updating best accuracy and shift size.\n",
      "Training model on: ODO (mg/L)\n",
      "accuracy 0.5268987341772152\n",
      "recall 0.23670212765957446\n",
      "precision 0.8811881188118812\n",
      "\n",
      "Training model on: Sp Cond (uS/cm)\n",
      "accuracy 0.27531645569620256\n",
      "recall 0.013297872340425532\n",
      "precision 0.05434782608695652\n",
      "\n",
      "Training model on: SNWD\n"
     ]
    },
    {
     "name": "stderr",
     "output_type": "stream",
     "text": [
      "C:\\Users\\mccomackjp\\AppData\\Local\\Continuum\\anaconda3\\lib\\site-packages\\sklearn\\metrics\\classification.py:1143: UndefinedMetricWarning: Precision is ill-defined and being set to 0.0 due to no predicted samples.\n",
      "  'precision', 'predicted', average, warn_for)\n"
     ]
    },
    {
     "name": "stdout",
     "output_type": "stream",
     "text": [
      "accuracy 0.4050632911392405\n",
      "recall 0.0\n",
      "precision 0.0\n",
      "\n",
      "Training model on: SNOW\n"
     ]
    },
    {
     "name": "stderr",
     "output_type": "stream",
     "text": [
      "C:\\Users\\mccomackjp\\AppData\\Local\\Continuum\\anaconda3\\lib\\site-packages\\sklearn\\metrics\\classification.py:1143: UndefinedMetricWarning: Precision is ill-defined and being set to 0.0 due to no predicted samples.\n",
      "  'precision', 'predicted', average, warn_for)\n"
     ]
    },
    {
     "name": "stdout",
     "output_type": "stream",
     "text": [
      "accuracy 0.4050632911392405\n",
      "recall 0.0\n",
      "precision 0.0\n",
      "\n",
      "current separation 12 days 00:00:00\n",
      "Windowizing 2017 data set: 0\n",
      "Segmenting...\n",
      "Extracting feature windows...\n",
      "Extracting target windows...\n",
      "Combining extractions...\n",
      "Segmenting...\n",
      "Extracting feature windows...\n",
      "Extracting target windows...\n",
      "Combining extractions...\n",
      "Windowizing 2018 data set: 0\n",
      "Segmenting...\n",
      "Extracting feature windows...\n",
      "Extracting target windows...\n",
      "Combining extractions...\n",
      "Segmenting...\n",
      "Extracting feature windows...\n",
      "Extracting target windows...\n",
      "Combining extractions...\n",
      "\n",
      "Training model on: pH\n",
      "accuracy 0.7022292993630573\n",
      "recall 0.7588075880758808\n",
      "precision 0.7407407407407407\n",
      "\n",
      "Training model on: pH (mV)\n",
      "accuracy 0.6337579617834395\n",
      "recall 0.994579945799458\n",
      "precision 0.6168067226890757\n",
      "\n",
      "Updating best accuracy and shift size.\n",
      "Training model on: ODOSat%\n",
      "accuracy 0.6337579617834395\n",
      "recall 0.4037940379403794\n",
      "precision 0.9371069182389937\n",
      "\n",
      "Training model on: TMAX\n",
      "accuracy 0.6990445859872612\n",
      "recall 0.6341463414634146\n",
      "precision 0.8125\n",
      "\n",
      "Updating best accuracy and shift size.\n",
      "Training model on: rainy\n"
     ]
    },
    {
     "name": "stderr",
     "output_type": "stream",
     "text": [
      "C:\\Users\\mccomackjp\\AppData\\Local\\Continuum\\anaconda3\\lib\\site-packages\\sklearn\\metrics\\classification.py:1143: UndefinedMetricWarning: Precision is ill-defined and being set to 0.0 due to no predicted samples.\n",
      "  'precision', 'predicted', average, warn_for)\n"
     ]
    },
    {
     "name": "stdout",
     "output_type": "stream",
     "text": [
      "accuracy 0.4124203821656051\n",
      "recall 0.0\n",
      "precision 0.0\n",
      "\n",
      "Training model on: Wind Speed\n",
      "accuracy 0.5764331210191083\n",
      "recall 0.3712737127371274\n",
      "precision 0.8011695906432749\n",
      "\n",
      "Training model on: TMIN\n",
      "accuracy 0.7722929936305732\n",
      "recall 0.6449864498644986\n",
      "precision 0.952\n",
      "\n",
      "Updating best accuracy and shift size.\n",
      "Training model on: Wind Angle\n",
      "accuracy 0.39012738853503187\n",
      "recall 0.07588075880758807\n",
      "precision 0.4\n",
      "\n",
      "Training model on: PRCP\n"
     ]
    },
    {
     "name": "stderr",
     "output_type": "stream",
     "text": [
      "C:\\Users\\mccomackjp\\AppData\\Local\\Continuum\\anaconda3\\lib\\site-packages\\sklearn\\metrics\\classification.py:1143: UndefinedMetricWarning: Precision is ill-defined and being set to 0.0 due to no predicted samples.\n",
      "  'precision', 'predicted', average, warn_for)\n"
     ]
    },
    {
     "name": "stdout",
     "output_type": "stream",
     "text": [
      "accuracy 0.4124203821656051\n",
      "recall 0.0\n",
      "precision 0.0\n",
      "\n",
      "Updating best accuracy and shift size.\n",
      "Training model on: Turbidity (NTU)\n",
      "accuracy 0.4028662420382166\n",
      "recall 0.04878048780487805\n",
      "precision 0.42857142857142855\n",
      "\n",
      "Training model on: Temp C\n",
      "accuracy 0.7165605095541401\n",
      "recall 0.5365853658536586\n",
      "precision 0.9658536585365853\n",
      "\n",
      "Updating best accuracy and shift size.\n",
      "Training model on: ODO (mg/L)\n",
      "accuracy 0.42038216560509556\n",
      "recall 0.016260162601626018\n",
      "precision 0.8571428571428571\n",
      "\n",
      "Training model on: Sp Cond (uS/cm)\n",
      "accuracy 0.2627388535031847\n",
      "recall 0.01084010840108401\n",
      "precision 0.0392156862745098\n",
      "\n",
      "Training model on: SNWD\n"
     ]
    },
    {
     "name": "stderr",
     "output_type": "stream",
     "text": [
      "C:\\Users\\mccomackjp\\AppData\\Local\\Continuum\\anaconda3\\lib\\site-packages\\sklearn\\metrics\\classification.py:1143: UndefinedMetricWarning: Precision is ill-defined and being set to 0.0 due to no predicted samples.\n",
      "  'precision', 'predicted', average, warn_for)\n"
     ]
    },
    {
     "name": "stdout",
     "output_type": "stream",
     "text": [
      "accuracy 0.4124203821656051\n",
      "recall 0.0\n",
      "precision 0.0\n",
      "\n",
      "Updating best accuracy and shift size.\n",
      "Training model on: SNOW\n"
     ]
    },
    {
     "name": "stderr",
     "output_type": "stream",
     "text": [
      "C:\\Users\\mccomackjp\\AppData\\Local\\Continuum\\anaconda3\\lib\\site-packages\\sklearn\\metrics\\classification.py:1143: UndefinedMetricWarning: Precision is ill-defined and being set to 0.0 due to no predicted samples.\n",
      "  'precision', 'predicted', average, warn_for)\n"
     ]
    },
    {
     "name": "stdout",
     "output_type": "stream",
     "text": [
      "accuracy 0.4124203821656051\n",
      "recall 0.0\n",
      "precision 0.0\n",
      "\n",
      "Updating best accuracy and shift size.\n",
      "current separation 13 days 00:00:00\n",
      "Windowizing 2017 data set: 0\n",
      "Segmenting...\n",
      "Extracting feature windows...\n",
      "Extracting target windows...\n",
      "Combining extractions...\n",
      "Segmenting...\n",
      "Extracting feature windows...\n",
      "Extracting target windows...\n",
      "Combining extractions...\n",
      "Windowizing 2018 data set: 0\n",
      "Segmenting...\n",
      "Extracting feature windows...\n",
      "Extracting target windows...\n",
      "Combining extractions...\n",
      "Segmenting...\n",
      "Extracting feature windows...\n",
      "Extracting target windows...\n",
      "Combining extractions...\n",
      "\n",
      "Training model on: pH\n",
      "accuracy 0.7056\n",
      "recall 0.7553191489361702\n",
      "precision 0.7553191489361702\n",
      "\n",
      "Training model on: pH (mV)\n",
      "accuracy 0.6272\n",
      "recall 1.0\n",
      "precision 0.6174055829228243\n",
      "\n",
      "Training model on: ODOSat%\n",
      "accuracy 0.6016\n",
      "recall 0.3670212765957447\n",
      "precision 0.9261744966442953\n",
      "\n",
      "Training model on: TMAX\n",
      "accuracy 0.712\n",
      "recall 0.6436170212765957\n",
      "precision 0.8402777777777778\n",
      "\n",
      "Updating best accuracy and shift size.\n",
      "Training model on: rainy\n"
     ]
    },
    {
     "name": "stderr",
     "output_type": "stream",
     "text": [
      "C:\\Users\\mccomackjp\\AppData\\Local\\Continuum\\anaconda3\\lib\\site-packages\\sklearn\\metrics\\classification.py:1143: UndefinedMetricWarning: Precision is ill-defined and being set to 0.0 due to no predicted samples.\n",
      "  'precision', 'predicted', average, warn_for)\n"
     ]
    },
    {
     "name": "stdout",
     "output_type": "stream",
     "text": [
      "accuracy 0.3984\n",
      "recall 0.0\n",
      "precision 0.0\n",
      "\n",
      "Training model on: Wind Speed\n",
      "accuracy 0.5408\n",
      "recall 0.29521276595744683\n",
      "precision 0.8345864661654135\n",
      "\n",
      "Training model on: TMIN\n",
      "accuracy 0.7664\n",
      "recall 0.6382978723404256\n",
      "precision 0.96\n",
      "\n",
      "Training model on: Wind Angle\n",
      "accuracy 0.4016\n",
      "recall 0.12234042553191489\n",
      "precision 0.5111111111111111\n",
      "\n",
      "Training model on: PRCP\n"
     ]
    },
    {
     "name": "stderr",
     "output_type": "stream",
     "text": [
      "C:\\Users\\mccomackjp\\AppData\\Local\\Continuum\\anaconda3\\lib\\site-packages\\sklearn\\metrics\\classification.py:1143: UndefinedMetricWarning: Precision is ill-defined and being set to 0.0 due to no predicted samples.\n",
      "  'precision', 'predicted', average, warn_for)\n"
     ]
    },
    {
     "name": "stdout",
     "output_type": "stream",
     "text": [
      "accuracy 0.3984\n",
      "recall 0.0\n",
      "precision 0.0\n",
      "\n",
      "Training model on: Turbidity (NTU)\n",
      "accuracy 0.3872\n",
      "recall 0.026595744680851064\n",
      "precision 0.37037037037037035\n",
      "\n",
      "Training model on: Temp C\n",
      "accuracy 0.704\n",
      "recall 0.526595744680851\n",
      "precision 0.9658536585365853\n",
      "\n",
      "Training model on: ODO (mg/L)\n"
     ]
    },
    {
     "name": "stderr",
     "output_type": "stream",
     "text": [
      "C:\\Users\\mccomackjp\\AppData\\Local\\Continuum\\anaconda3\\lib\\site-packages\\sklearn\\metrics\\classification.py:1143: UndefinedMetricWarning: Precision is ill-defined and being set to 0.0 due to no predicted samples.\n",
      "  'precision', 'predicted', average, warn_for)\n"
     ]
    },
    {
     "name": "stdout",
     "output_type": "stream",
     "text": [
      "accuracy 0.3984\n",
      "recall 0.0\n",
      "precision 0.0\n",
      "\n",
      "Training model on: Sp Cond (uS/cm)\n",
      "accuracy 0.264\n",
      "recall 0.010638297872340425\n",
      "precision 0.043478260869565216\n",
      "\n",
      "Training model on: SNWD\n"
     ]
    },
    {
     "name": "stderr",
     "output_type": "stream",
     "text": [
      "C:\\Users\\mccomackjp\\AppData\\Local\\Continuum\\anaconda3\\lib\\site-packages\\sklearn\\metrics\\classification.py:1143: UndefinedMetricWarning: Precision is ill-defined and being set to 0.0 due to no predicted samples.\n",
      "  'precision', 'predicted', average, warn_for)\n"
     ]
    },
    {
     "name": "stdout",
     "output_type": "stream",
     "text": [
      "accuracy 0.3984\n",
      "recall 0.0\n",
      "precision 0.0\n",
      "\n",
      "Training model on: SNOW\n"
     ]
    },
    {
     "name": "stderr",
     "output_type": "stream",
     "text": [
      "C:\\Users\\mccomackjp\\AppData\\Local\\Continuum\\anaconda3\\lib\\site-packages\\sklearn\\metrics\\classification.py:1143: UndefinedMetricWarning: Precision is ill-defined and being set to 0.0 due to no predicted samples.\n",
      "  'precision', 'predicted', average, warn_for)\n"
     ]
    },
    {
     "name": "stdout",
     "output_type": "stream",
     "text": [
      "accuracy 0.3984\n",
      "recall 0.0\n",
      "precision 0.0\n",
      "\n",
      "current separation 14 days 00:00:00\n",
      "Windowizing 2017 data set: 0\n",
      "Segmenting...\n",
      "Extracting feature windows...\n",
      "Extracting target windows...\n",
      "Combining extractions...\n",
      "Segmenting...\n",
      "Extracting feature windows...\n",
      "Extracting target windows...\n",
      "Combining extractions...\n",
      "Windowizing 2018 data set: 0\n",
      "Segmenting...\n",
      "Extracting feature windows...\n",
      "Extracting target windows...\n",
      "Combining extractions...\n",
      "Segmenting...\n",
      "Extracting feature windows...\n",
      "Extracting target windows...\n",
      "Combining extractions...\n",
      "\n",
      "Training model on: pH\n",
      "accuracy 0.6752411575562701\n",
      "recall 0.6976127320954907\n",
      "precision 0.7492877492877493\n",
      "\n",
      "Training model on: pH (mV)\n",
      "accuracy 0.6897106109324759\n",
      "recall 0.9946949602122016\n",
      "precision 0.6625441696113075\n",
      "\n",
      "Updating best accuracy and shift size.\n",
      "Training model on: ODOSat%\n",
      "accuracy 0.5466237942122186\n",
      "recall 0.27320954907161804\n",
      "precision 0.9279279279279279\n",
      "\n",
      "Training model on: TMAX\n",
      "accuracy 0.7154340836012861\n",
      "recall 0.6472148541114059\n",
      "precision 0.8472222222222222\n",
      "\n",
      "Updating best accuracy and shift size.\n",
      "Training model on: rainy\n"
     ]
    },
    {
     "name": "stderr",
     "output_type": "stream",
     "text": [
      "C:\\Users\\mccomackjp\\AppData\\Local\\Continuum\\anaconda3\\lib\\site-packages\\sklearn\\metrics\\classification.py:1143: UndefinedMetricWarning: Precision is ill-defined and being set to 0.0 due to no predicted samples.\n",
      "  'precision', 'predicted', average, warn_for)\n"
     ]
    },
    {
     "name": "stdout",
     "output_type": "stream",
     "text": [
      "accuracy 0.39389067524115756\n",
      "recall 0.0\n",
      "precision 0.0\n",
      "\n",
      "Training model on: Wind Speed\n",
      "accuracy 0.5144694533762058\n",
      "recall 0.23607427055702918\n",
      "precision 0.8640776699029126\n",
      "\n",
      "Training model on: TMIN\n",
      "accuracy 0.7604501607717041\n",
      "recall 0.6339522546419099\n",
      "precision 0.956\n",
      "\n",
      "Training model on: Wind Angle\n",
      "accuracy 0.40192926045016075\n",
      "recall 0.15649867374005305\n",
      "precision 0.5221238938053098\n",
      "\n",
      "Training model on: PRCP\n"
     ]
    },
    {
     "name": "stderr",
     "output_type": "stream",
     "text": [
      "C:\\Users\\mccomackjp\\AppData\\Local\\Continuum\\anaconda3\\lib\\site-packages\\sklearn\\metrics\\classification.py:1143: UndefinedMetricWarning: Precision is ill-defined and being set to 0.0 due to no predicted samples.\n",
      "  'precision', 'predicted', average, warn_for)\n"
     ]
    },
    {
     "name": "stdout",
     "output_type": "stream",
     "text": [
      "accuracy 0.39389067524115756\n",
      "recall 0.0\n",
      "precision 0.0\n",
      "\n",
      "Training model on: Turbidity (NTU)\n",
      "accuracy 0.3954983922829582\n",
      "recall 0.01856763925729443\n",
      "precision 0.5384615384615384\n",
      "\n",
      "Training model on: Temp C\n",
      "accuracy 0.7009646302250804\n",
      "recall 0.5278514588859416\n",
      "precision 0.961352657004831\n",
      "\n",
      "Training model on: ODO (mg/L)\n"
     ]
    },
    {
     "name": "stderr",
     "output_type": "stream",
     "text": [
      "C:\\Users\\mccomackjp\\AppData\\Local\\Continuum\\anaconda3\\lib\\site-packages\\sklearn\\metrics\\classification.py:1143: UndefinedMetricWarning: Precision is ill-defined and being set to 0.0 due to no predicted samples.\n",
      "  'precision', 'predicted', average, warn_for)\n"
     ]
    },
    {
     "name": "stdout",
     "output_type": "stream",
     "text": [
      "accuracy 0.39389067524115756\n",
      "recall 0.0\n",
      "precision 0.0\n",
      "\n",
      "Training model on: Sp Cond (uS/cm)\n",
      "accuracy 0.25241157556270094\n",
      "recall 0.01856763925729443\n",
      "precision 0.06862745098039216\n",
      "\n",
      "Training model on: SNWD\n"
     ]
    },
    {
     "name": "stderr",
     "output_type": "stream",
     "text": [
      "C:\\Users\\mccomackjp\\AppData\\Local\\Continuum\\anaconda3\\lib\\site-packages\\sklearn\\metrics\\classification.py:1143: UndefinedMetricWarning: Precision is ill-defined and being set to 0.0 due to no predicted samples.\n",
      "  'precision', 'predicted', average, warn_for)\n"
     ]
    },
    {
     "name": "stdout",
     "output_type": "stream",
     "text": [
      "accuracy 0.39389067524115756\n",
      "recall 0.0\n",
      "precision 0.0\n",
      "\n",
      "Training model on: SNOW\n"
     ]
    },
    {
     "name": "stderr",
     "output_type": "stream",
     "text": [
      "C:\\Users\\mccomackjp\\AppData\\Local\\Continuum\\anaconda3\\lib\\site-packages\\sklearn\\metrics\\classification.py:1143: UndefinedMetricWarning: Precision is ill-defined and being set to 0.0 due to no predicted samples.\n",
      "  'precision', 'predicted', average, warn_for)\n"
     ]
    },
    {
     "name": "stdout",
     "output_type": "stream",
     "text": [
      "accuracy 0.39389067524115756\n",
      "recall 0.0\n",
      "precision 0.0\n",
      "\n",
      "current separation 15 days 00:00:00\n",
      "Windowizing 2017 data set: 0\n",
      "Segmenting...\n",
      "Extracting feature windows...\n",
      "Extracting target windows...\n",
      "Combining extractions...\n",
      "Segmenting...\n",
      "Extracting feature windows...\n",
      "Extracting target windows...\n",
      "Combining extractions...\n",
      "Windowizing 2018 data set: 0\n",
      "Segmenting...\n",
      "Extracting feature windows...\n",
      "Extracting target windows...\n",
      "Combining extractions...\n",
      "Segmenting...\n",
      "Extracting feature windows...\n",
      "Extracting target windows...\n",
      "Combining extractions...\n",
      "\n",
      "Training model on: pH\n",
      "accuracy 0.6828478964401294\n",
      "recall 0.6730245231607629\n",
      "precision 0.7647058823529411\n",
      "\n",
      "Training model on: pH (mV)\n",
      "accuracy 0.7200647249190939\n",
      "recall 0.997275204359673\n",
      "precision 0.6802973977695167\n",
      "\n",
      "Updating best accuracy and shift size.\n",
      "Training model on: ODOSat%\n",
      "accuracy 0.517799352750809\n",
      "recall 0.2016348773841962\n",
      "precision 0.9367088607594937\n",
      "\n",
      "Training model on: TMAX\n",
      "accuracy 0.7330097087378641\n",
      "recall 0.667574931880109\n",
      "precision 0.8506944444444444\n",
      "\n",
      "Updating best accuracy and shift size.\n",
      "Training model on: rainy\n"
     ]
    },
    {
     "name": "stderr",
     "output_type": "stream",
     "text": [
      "C:\\Users\\mccomackjp\\AppData\\Local\\Continuum\\anaconda3\\lib\\site-packages\\sklearn\\metrics\\classification.py:1143: UndefinedMetricWarning: Precision is ill-defined and being set to 0.0 due to no predicted samples.\n",
      "  'precision', 'predicted', average, warn_for)\n"
     ]
    },
    {
     "name": "stdout",
     "output_type": "stream",
     "text": [
      "accuracy 0.40614886731391586\n",
      "recall 0.0\n",
      "precision 0.0\n",
      "\n",
      "Training model on: Wind Speed\n",
      "accuracy 0.5016181229773463\n",
      "recall 0.19618528610354224\n",
      "precision 0.8470588235294118\n",
      "\n",
      "Training model on: TMIN\n",
      "accuracy 0.7653721682847896\n",
      "recall 0.6430517711171662\n",
      "precision 0.944\n",
      "\n",
      "Training model on: Wind Angle\n",
      "accuracy 0.41423948220064727\n",
      "recall 0.14986376021798364\n",
      "precision 0.5238095238095238\n",
      "\n",
      "Training model on: PRCP\n"
     ]
    },
    {
     "name": "stderr",
     "output_type": "stream",
     "text": [
      "C:\\Users\\mccomackjp\\AppData\\Local\\Continuum\\anaconda3\\lib\\site-packages\\sklearn\\metrics\\classification.py:1143: UndefinedMetricWarning: Precision is ill-defined and being set to 0.0 due to no predicted samples.\n",
      "  'precision', 'predicted', average, warn_for)\n"
     ]
    },
    {
     "name": "stdout",
     "output_type": "stream",
     "text": [
      "accuracy 0.40614886731391586\n",
      "recall 0.0\n",
      "precision 0.0\n",
      "\n",
      "Training model on: Turbidity (NTU)\n",
      "accuracy 0.4045307443365696\n",
      "recall 0.010899182561307902\n",
      "precision 0.4444444444444444\n",
      "\n",
      "Training model on: Temp C\n",
      "accuracy 0.7119741100323624\n",
      "recall 0.5367847411444142\n",
      "precision 0.9609756097560975\n",
      "\n",
      "Training model on: ODO (mg/L)\n"
     ]
    },
    {
     "name": "stderr",
     "output_type": "stream",
     "text": [
      "C:\\Users\\mccomackjp\\AppData\\Local\\Continuum\\anaconda3\\lib\\site-packages\\sklearn\\metrics\\classification.py:1143: UndefinedMetricWarning: Precision is ill-defined and being set to 0.0 due to no predicted samples.\n",
      "  'precision', 'predicted', average, warn_for)\n"
     ]
    },
    {
     "name": "stdout",
     "output_type": "stream",
     "text": [
      "accuracy 0.40614886731391586\n",
      "recall 0.0\n",
      "precision 0.0\n",
      "\n",
      "Training model on: Sp Cond (uS/cm)\n",
      "accuracy 0.23786407766990292\n",
      "recall 0.02452316076294278\n",
      "precision 0.07377049180327869\n",
      "\n",
      "Training model on: SNWD\n"
     ]
    },
    {
     "name": "stderr",
     "output_type": "stream",
     "text": [
      "C:\\Users\\mccomackjp\\AppData\\Local\\Continuum\\anaconda3\\lib\\site-packages\\sklearn\\metrics\\classification.py:1143: UndefinedMetricWarning: Precision is ill-defined and being set to 0.0 due to no predicted samples.\n",
      "  'precision', 'predicted', average, warn_for)\n"
     ]
    },
    {
     "name": "stdout",
     "output_type": "stream",
     "text": [
      "accuracy 0.40614886731391586\n",
      "recall 0.0\n",
      "precision 0.0\n",
      "\n",
      "Training model on: SNOW\n"
     ]
    },
    {
     "name": "stderr",
     "output_type": "stream",
     "text": [
      "C:\\Users\\mccomackjp\\AppData\\Local\\Continuum\\anaconda3\\lib\\site-packages\\sklearn\\metrics\\classification.py:1143: UndefinedMetricWarning: Precision is ill-defined and being set to 0.0 due to no predicted samples.\n",
      "  'precision', 'predicted', average, warn_for)\n"
     ]
    },
    {
     "name": "stdout",
     "output_type": "stream",
     "text": [
      "accuracy 0.40614886731391586\n",
      "recall 0.0\n",
      "precision 0.0\n",
      "\n",
      "current separation 16 days 00:00:00\n",
      "Windowizing 2017 data set: 0\n",
      "Segmenting...\n",
      "Extracting feature windows...\n",
      "Extracting target windows...\n",
      "Combining extractions...\n",
      "Segmenting...\n",
      "Extracting feature windows...\n",
      "Extracting target windows...\n",
      "Combining extractions...\n",
      "Windowizing 2018 data set: 0\n",
      "Segmenting...\n",
      "Extracting feature windows...\n",
      "Extracting target windows...\n",
      "Combining extractions...\n",
      "Segmenting...\n",
      "Extracting feature windows...\n",
      "Extracting target windows...\n",
      "Combining extractions...\n",
      "\n",
      "Training model on: pH\n",
      "accuracy 0.6840390879478827\n",
      "recall 0.6747967479674797\n",
      "precision 0.7708978328173375\n",
      "\n",
      "Training model on: pH (mV)\n",
      "accuracy 0.6889250814332247\n",
      "recall 0.994579945799458\n",
      "precision 0.6600719424460432\n",
      "\n",
      "Training model on: ODOSat%\n",
      "accuracy 0.4837133550488599\n",
      "recall 0.15176151761517614\n",
      "precision 0.9333333333333333\n",
      "\n",
      "Training model on: TMAX\n",
      "accuracy 0.750814332247557\n",
      "recall 0.6829268292682927\n",
      "precision 0.875\n",
      "\n",
      "Updating best accuracy and shift size.\n",
      "Training model on: rainy\n"
     ]
    },
    {
     "name": "stderr",
     "output_type": "stream",
     "text": [
      "C:\\Users\\mccomackjp\\AppData\\Local\\Continuum\\anaconda3\\lib\\site-packages\\sklearn\\metrics\\classification.py:1143: UndefinedMetricWarning: Precision is ill-defined and being set to 0.0 due to no predicted samples.\n",
      "  'precision', 'predicted', average, warn_for)\n"
     ]
    },
    {
     "name": "stdout",
     "output_type": "stream",
     "text": [
      "accuracy 0.3990228013029316\n",
      "recall 0.0\n",
      "precision 0.0\n",
      "\n",
      "Training model on: Wind Speed\n",
      "accuracy 0.48534201954397393\n",
      "recall 0.16531165311653118\n",
      "precision 0.8840579710144928\n",
      "\n",
      "Training model on: TMIN\n",
      "accuracy 0.7736156351791531\n",
      "recall 0.6504065040650406\n",
      "precision 0.96\n",
      "\n",
      "Updating best accuracy and shift size.\n",
      "Training model on: Wind Angle\n",
      "accuracy 0.3990228013029316\n",
      "recall 0.15718157181571815\n",
      "precision 0.5\n",
      "\n",
      "Training model on: PRCP\n"
     ]
    },
    {
     "name": "stderr",
     "output_type": "stream",
     "text": [
      "C:\\Users\\mccomackjp\\AppData\\Local\\Continuum\\anaconda3\\lib\\site-packages\\sklearn\\metrics\\classification.py:1143: UndefinedMetricWarning: Precision is ill-defined and being set to 0.0 due to no predicted samples.\n",
      "  'precision', 'predicted', average, warn_for)\n"
     ]
    },
    {
     "name": "stdout",
     "output_type": "stream",
     "text": [
      "accuracy 0.3990228013029316\n",
      "recall 0.0\n",
      "precision 0.0\n",
      "\n",
      "Training model on: Turbidity (NTU)\n"
     ]
    },
    {
     "name": "stderr",
     "output_type": "stream",
     "text": [
      "C:\\Users\\mccomackjp\\AppData\\Local\\Continuum\\anaconda3\\lib\\site-packages\\sklearn\\metrics\\classification.py:1143: UndefinedMetricWarning: Precision is ill-defined and being set to 0.0 due to no predicted samples.\n",
      "  'precision', 'predicted', average, warn_for)\n"
     ]
    },
    {
     "name": "stdout",
     "output_type": "stream",
     "text": [
      "accuracy 0.3990228013029316\n",
      "recall 0.0\n",
      "precision 0.0\n",
      "\n",
      "Training model on: Temp C\n",
      "accuracy 0.7166123778501629\n",
      "recall 0.5555555555555556\n",
      "precision 0.9534883720930233\n",
      "\n",
      "Updating best accuracy and shift size.\n",
      "Training model on: ODO (mg/L)\n",
      "accuracy 0.40879478827361565\n",
      "recall 0.02710027100271003\n",
      "precision 0.7142857142857143\n",
      "\n",
      "Training model on: Sp Cond (uS/cm)\n",
      "accuracy 0.22312703583061888\n",
      "recall 0.024390243902439025\n",
      "precision 0.07142857142857142\n",
      "\n",
      "Training model on: SNWD\n"
     ]
    },
    {
     "name": "stderr",
     "output_type": "stream",
     "text": [
      "C:\\Users\\mccomackjp\\AppData\\Local\\Continuum\\anaconda3\\lib\\site-packages\\sklearn\\metrics\\classification.py:1143: UndefinedMetricWarning: Precision is ill-defined and being set to 0.0 due to no predicted samples.\n",
      "  'precision', 'predicted', average, warn_for)\n"
     ]
    },
    {
     "name": "stdout",
     "output_type": "stream",
     "text": [
      "accuracy 0.3990228013029316\n",
      "recall 0.0\n",
      "precision 0.0\n",
      "\n",
      "Training model on: SNOW\n"
     ]
    },
    {
     "name": "stderr",
     "output_type": "stream",
     "text": [
      "C:\\Users\\mccomackjp\\AppData\\Local\\Continuum\\anaconda3\\lib\\site-packages\\sklearn\\metrics\\classification.py:1143: UndefinedMetricWarning: Precision is ill-defined and being set to 0.0 due to no predicted samples.\n",
      "  'precision', 'predicted', average, warn_for)\n"
     ]
    },
    {
     "name": "stdout",
     "output_type": "stream",
     "text": [
      "accuracy 0.3990228013029316\n",
      "recall 0.0\n",
      "precision 0.0\n",
      "\n",
      "current separation 17 days 00:00:00\n",
      "Windowizing 2017 data set: 0\n",
      "Segmenting...\n",
      "Extracting feature windows...\n",
      "Extracting target windows...\n",
      "Combining extractions...\n",
      "Segmenting...\n",
      "Extracting feature windows...\n",
      "Extracting target windows...\n",
      "Combining extractions...\n",
      "Windowizing 2018 data set: 0\n",
      "Segmenting...\n",
      "Extracting feature windows...\n",
      "Extracting target windows...\n",
      "Combining extractions...\n",
      "Segmenting...\n",
      "Extracting feature windows...\n",
      "Extracting target windows...\n",
      "Combining extractions...\n",
      "\n",
      "Training model on: pH\n",
      "accuracy 0.6797385620915033\n",
      "recall 0.5925925925925926\n",
      "precision 0.8421052631578947\n",
      "\n",
      "Training model on: pH (mV)\n",
      "accuracy 0.738562091503268\n",
      "recall 0.9867724867724867\n",
      "precision 0.7064393939393939\n",
      "\n",
      "Updating best accuracy and shift size.\n",
      "Training model on: ODOSat%\n",
      "accuracy 0.3839869281045752\n",
      "recall 0.0026455026455026454\n",
      "precision 1.0\n",
      "\n",
      "Training model on: TMAX\n",
      "accuracy 0.7418300653594772\n",
      "recall 0.671957671957672\n",
      "precision 0.8819444444444444\n",
      "\n",
      "Training model on: rainy\n"
     ]
    },
    {
     "name": "stderr",
     "output_type": "stream",
     "text": [
      "C:\\Users\\mccomackjp\\AppData\\Local\\Continuum\\anaconda3\\lib\\site-packages\\sklearn\\metrics\\classification.py:1143: UndefinedMetricWarning: Precision is ill-defined and being set to 0.0 due to no predicted samples.\n",
      "  'precision', 'predicted', average, warn_for)\n"
     ]
    },
    {
     "name": "stdout",
     "output_type": "stream",
     "text": [
      "accuracy 0.38235294117647056\n",
      "recall 0.0\n",
      "precision 0.0\n",
      "\n",
      "Training model on: Wind Speed\n",
      "accuracy 0.43300653594771243\n",
      "recall 0.082010582010582\n",
      "precision 1.0\n",
      "\n",
      "Training model on: TMIN\n",
      "accuracy 0.7549019607843137\n",
      "recall 0.6322751322751323\n",
      "precision 0.956\n",
      "\n",
      "Training model on: Wind Angle\n",
      "accuracy 0.39052287581699346\n",
      "recall 0.1111111111111111\n",
      "precision 0.5316455696202531\n",
      "\n",
      "Training model on: PRCP\n"
     ]
    },
    {
     "name": "stderr",
     "output_type": "stream",
     "text": [
      "C:\\Users\\mccomackjp\\AppData\\Local\\Continuum\\anaconda3\\lib\\site-packages\\sklearn\\metrics\\classification.py:1143: UndefinedMetricWarning: Precision is ill-defined and being set to 0.0 due to no predicted samples.\n",
      "  'precision', 'predicted', average, warn_for)\n"
     ]
    },
    {
     "name": "stdout",
     "output_type": "stream",
     "text": [
      "accuracy 0.38235294117647056\n",
      "recall 0.0\n",
      "precision 0.0\n",
      "\n",
      "Training model on: Turbidity (NTU)\n"
     ]
    },
    {
     "name": "stderr",
     "output_type": "stream",
     "text": [
      "C:\\Users\\mccomackjp\\AppData\\Local\\Continuum\\anaconda3\\lib\\site-packages\\sklearn\\metrics\\classification.py:1143: UndefinedMetricWarning: Precision is ill-defined and being set to 0.0 due to no predicted samples.\n",
      "  'precision', 'predicted', average, warn_for)\n"
     ]
    },
    {
     "name": "stdout",
     "output_type": "stream",
     "text": [
      "accuracy 0.38235294117647056\n",
      "recall 0.0\n",
      "precision 0.0\n",
      "\n",
      "Training model on: Temp C\n",
      "accuracy 0.6911764705882353\n",
      "recall 0.5238095238095238\n",
      "precision 0.9565217391304348\n",
      "\n",
      "Training model on: ODO (mg/L)\n",
      "accuracy 0.3872549019607843\n",
      "recall 0.05026455026455026\n",
      "precision 0.5428571428571428\n",
      "\n",
      "Training model on: Sp Cond (uS/cm)\n",
      "accuracy 0.2042483660130719\n",
      "recall 0.021164021164021163\n",
      "precision 0.064\n",
      "\n",
      "Training model on: SNWD\n"
     ]
    },
    {
     "name": "stderr",
     "output_type": "stream",
     "text": [
      "C:\\Users\\mccomackjp\\AppData\\Local\\Continuum\\anaconda3\\lib\\site-packages\\sklearn\\metrics\\classification.py:1143: UndefinedMetricWarning: Precision is ill-defined and being set to 0.0 due to no predicted samples.\n",
      "  'precision', 'predicted', average, warn_for)\n"
     ]
    },
    {
     "name": "stdout",
     "output_type": "stream",
     "text": [
      "accuracy 0.38235294117647056\n",
      "recall 0.0\n",
      "precision 0.0\n",
      "\n",
      "Training model on: SNOW\n"
     ]
    },
    {
     "name": "stderr",
     "output_type": "stream",
     "text": [
      "C:\\Users\\mccomackjp\\AppData\\Local\\Continuum\\anaconda3\\lib\\site-packages\\sklearn\\metrics\\classification.py:1143: UndefinedMetricWarning: Precision is ill-defined and being set to 0.0 due to no predicted samples.\n",
      "  'precision', 'predicted', average, warn_for)\n"
     ]
    },
    {
     "name": "stdout",
     "output_type": "stream",
     "text": [
      "accuracy 0.38235294117647056\n",
      "recall 0.0\n",
      "precision 0.0\n",
      "\n",
      "current separation 18 days 00:00:00\n",
      "Windowizing 2017 data set: 0\n",
      "Segmenting...\n",
      "Extracting feature windows...\n",
      "Extracting target windows...\n",
      "Combining extractions...\n",
      "Segmenting...\n",
      "Extracting feature windows...\n",
      "Extracting target windows...\n",
      "Combining extractions...\n",
      "Windowizing 2018 data set: 0\n",
      "Segmenting...\n",
      "Extracting feature windows...\n",
      "Extracting target windows...\n",
      "Combining extractions...\n",
      "Segmenting...\n",
      "Extracting feature windows...\n",
      "Extracting target windows...\n",
      "Combining extractions...\n",
      "\n",
      "Training model on: pH\n",
      "accuracy 0.4934210526315789\n",
      "recall 0.18598382749326145\n",
      "precision 0.92\n",
      "\n",
      "Training model on: pH (mV)\n",
      "accuracy 0.6101973684210527\n",
      "recall 0.7574123989218329\n",
      "precision 0.6565420560747663\n",
      "\n",
      "Training model on: ODOSat%\n"
     ]
    },
    {
     "name": "stderr",
     "output_type": "stream",
     "text": [
      "C:\\Users\\mccomackjp\\AppData\\Local\\Continuum\\anaconda3\\lib\\site-packages\\sklearn\\metrics\\classification.py:1143: UndefinedMetricWarning: Precision is ill-defined and being set to 0.0 due to no predicted samples.\n",
      "  'precision', 'predicted', average, warn_for)\n"
     ]
    },
    {
     "name": "stdout",
     "output_type": "stream",
     "text": [
      "accuracy 0.38980263157894735\n",
      "recall 0.0\n",
      "precision 0.0\n",
      "\n",
      "Training model on: TMAX\n",
      "accuracy 0.7417763157894737\n",
      "recall 0.6765498652291105\n",
      "precision 0.8715277777777778\n",
      "\n",
      "Training model on: rainy\n"
     ]
    },
    {
     "name": "stderr",
     "output_type": "stream",
     "text": [
      "C:\\Users\\mccomackjp\\AppData\\Local\\Continuum\\anaconda3\\lib\\site-packages\\sklearn\\metrics\\classification.py:1143: UndefinedMetricWarning: Precision is ill-defined and being set to 0.0 due to no predicted samples.\n",
      "  'precision', 'predicted', average, warn_for)\n"
     ]
    },
    {
     "name": "stdout",
     "output_type": "stream",
     "text": [
      "accuracy 0.38980263157894735\n",
      "recall 0.0\n",
      "precision 0.0\n",
      "\n",
      "Training model on: Wind Speed\n",
      "accuracy 0.4128289473684211\n",
      "recall 0.03773584905660377\n",
      "precision 1.0\n",
      "\n",
      "Training model on: TMIN\n",
      "accuracy 0.7615131578947368\n",
      "recall 0.6415094339622641\n",
      "precision 0.952\n",
      "\n",
      "Training model on: Wind Angle\n",
      "accuracy 0.37006578947368424\n",
      "recall 0.05929919137466307\n",
      "precision 0.39285714285714285\n",
      "\n",
      "Training model on: PRCP\n"
     ]
    },
    {
     "name": "stderr",
     "output_type": "stream",
     "text": [
      "C:\\Users\\mccomackjp\\AppData\\Local\\Continuum\\anaconda3\\lib\\site-packages\\sklearn\\metrics\\classification.py:1143: UndefinedMetricWarning: Precision is ill-defined and being set to 0.0 due to no predicted samples.\n",
      "  'precision', 'predicted', average, warn_for)\n"
     ]
    },
    {
     "name": "stdout",
     "output_type": "stream",
     "text": [
      "accuracy 0.38980263157894735\n",
      "recall 0.0\n",
      "precision 0.0\n",
      "\n",
      "Training model on: Turbidity (NTU)\n"
     ]
    },
    {
     "name": "stderr",
     "output_type": "stream",
     "text": [
      "C:\\Users\\mccomackjp\\AppData\\Local\\Continuum\\anaconda3\\lib\\site-packages\\sklearn\\metrics\\classification.py:1143: UndefinedMetricWarning: Precision is ill-defined and being set to 0.0 due to no predicted samples.\n",
      "  'precision', 'predicted', average, warn_for)\n"
     ]
    },
    {
     "name": "stdout",
     "output_type": "stream",
     "text": [
      "accuracy 0.38980263157894735\n",
      "recall 0.0\n",
      "precision 0.0\n",
      "\n",
      "Training model on: Temp C\n",
      "accuracy 0.7088815789473685\n",
      "recall 0.5471698113207547\n",
      "precision 0.9575471698113207\n",
      "\n",
      "Training model on: ODO (mg/L)\n",
      "accuracy 0.3503289473684211\n",
      "recall 0.14285714285714285\n",
      "precision 0.4076923076923077\n",
      "\n",
      "Training model on: Sp Cond (uS/cm)\n",
      "accuracy 0.19078947368421054\n",
      "recall 0.02425876010781671\n",
      "precision 0.06474820143884892\n",
      "\n",
      "Training model on: SNWD\n"
     ]
    },
    {
     "name": "stderr",
     "output_type": "stream",
     "text": [
      "C:\\Users\\mccomackjp\\AppData\\Local\\Continuum\\anaconda3\\lib\\site-packages\\sklearn\\metrics\\classification.py:1143: UndefinedMetricWarning: Precision is ill-defined and being set to 0.0 due to no predicted samples.\n",
      "  'precision', 'predicted', average, warn_for)\n"
     ]
    },
    {
     "name": "stdout",
     "output_type": "stream",
     "text": [
      "accuracy 0.38980263157894735\n",
      "recall 0.0\n",
      "precision 0.0\n",
      "\n",
      "Training model on: SNOW\n"
     ]
    },
    {
     "name": "stderr",
     "output_type": "stream",
     "text": [
      "C:\\Users\\mccomackjp\\AppData\\Local\\Continuum\\anaconda3\\lib\\site-packages\\sklearn\\metrics\\classification.py:1143: UndefinedMetricWarning: Precision is ill-defined and being set to 0.0 due to no predicted samples.\n",
      "  'precision', 'predicted', average, warn_for)\n"
     ]
    },
    {
     "name": "stdout",
     "output_type": "stream",
     "text": [
      "accuracy 0.38980263157894735\n",
      "recall 0.0\n",
      "precision 0.0\n",
      "\n",
      "current separation 19 days 00:00:00\n",
      "Windowizing 2017 data set: 0\n",
      "Segmenting...\n",
      "Extracting feature windows...\n",
      "Extracting target windows...\n",
      "Combining extractions...\n",
      "Segmenting...\n",
      "Extracting feature windows...\n",
      "Extracting target windows...\n",
      "Combining extractions...\n",
      "Windowizing 2018 data set: 0\n",
      "Segmenting...\n",
      "Extracting feature windows...\n",
      "Extracting target windows...\n",
      "Combining extractions...\n",
      "Segmenting...\n",
      "Extracting feature windows...\n",
      "Extracting target windows...\n",
      "Combining extractions...\n",
      "\n",
      "Training model on: pH\n"
     ]
    },
    {
     "name": "stderr",
     "output_type": "stream",
     "text": [
      "C:\\Users\\mccomackjp\\AppData\\Local\\Continuum\\anaconda3\\lib\\site-packages\\sklearn\\metrics\\classification.py:1143: UndefinedMetricWarning: Precision is ill-defined and being set to 0.0 due to no predicted samples.\n",
      "  'precision', 'predicted', average, warn_for)\n"
     ]
    },
    {
     "name": "stdout",
     "output_type": "stream",
     "text": [
      "accuracy 0.39072847682119205\n",
      "recall 0.0\n",
      "precision 0.0\n",
      "\n",
      "Training model on: pH (mV)\n",
      "accuracy 0.5927152317880795\n",
      "recall 0.4592391304347826\n",
      "precision 0.7824074074074074\n",
      "\n",
      "Training model on: ODOSat%\n"
     ]
    },
    {
     "name": "stderr",
     "output_type": "stream",
     "text": [
      "C:\\Users\\mccomackjp\\AppData\\Local\\Continuum\\anaconda3\\lib\\site-packages\\sklearn\\metrics\\classification.py:1143: UndefinedMetricWarning: Precision is ill-defined and being set to 0.0 due to no predicted samples.\n",
      "  'precision', 'predicted', average, warn_for)\n"
     ]
    },
    {
     "name": "stdout",
     "output_type": "stream",
     "text": [
      "accuracy 0.39072847682119205\n",
      "recall 0.0\n",
      "precision 0.0\n",
      "\n",
      "Training model on: TMAX\n",
      "accuracy 0.7483443708609272\n",
      "recall 0.6847826086956522\n",
      "precision 0.875\n",
      "\n",
      "Training model on: rainy\n"
     ]
    },
    {
     "name": "stderr",
     "output_type": "stream",
     "text": [
      "C:\\Users\\mccomackjp\\AppData\\Local\\Continuum\\anaconda3\\lib\\site-packages\\sklearn\\metrics\\classification.py:1143: UndefinedMetricWarning: Precision is ill-defined and being set to 0.0 due to no predicted samples.\n",
      "  'precision', 'predicted', average, warn_for)\n"
     ]
    },
    {
     "name": "stdout",
     "output_type": "stream",
     "text": [
      "accuracy 0.39072847682119205\n",
      "recall 0.0\n",
      "precision 0.0\n",
      "\n",
      "Training model on: Wind Speed\n",
      "accuracy 0.4735099337748344\n",
      "recall 0.14130434782608695\n",
      "precision 0.9629629629629629\n",
      "\n",
      "Training model on: TMIN\n",
      "accuracy 0.7682119205298014\n",
      "recall 0.6494565217391305\n",
      "precision 0.956\n",
      "\n",
      "Training model on: Wind Angle\n",
      "accuracy 0.38741721854304634\n",
      "recall 0.0\n",
      "precision 0.0\n",
      "\n",
      "Training model on: PRCP\n"
     ]
    },
    {
     "name": "stderr",
     "output_type": "stream",
     "text": [
      "C:\\Users\\mccomackjp\\AppData\\Local\\Continuum\\anaconda3\\lib\\site-packages\\sklearn\\metrics\\classification.py:1143: UndefinedMetricWarning: Precision is ill-defined and being set to 0.0 due to no predicted samples.\n",
      "  'precision', 'predicted', average, warn_for)\n"
     ]
    },
    {
     "name": "stdout",
     "output_type": "stream",
     "text": [
      "accuracy 0.39072847682119205\n",
      "recall 0.0\n",
      "precision 0.0\n",
      "\n",
      "Training model on: Turbidity (NTU)\n"
     ]
    },
    {
     "name": "stderr",
     "output_type": "stream",
     "text": [
      "C:\\Users\\mccomackjp\\AppData\\Local\\Continuum\\anaconda3\\lib\\site-packages\\sklearn\\metrics\\classification.py:1143: UndefinedMetricWarning: Precision is ill-defined and being set to 0.0 due to no predicted samples.\n",
      "  'precision', 'predicted', average, warn_for)\n"
     ]
    },
    {
     "name": "stdout",
     "output_type": "stream",
     "text": [
      "accuracy 0.39072847682119205\n",
      "recall 0.0\n",
      "precision 0.0\n",
      "\n",
      "Training model on: Temp C\n",
      "accuracy 0.7003311258278145\n",
      "recall 0.532608695652174\n",
      "precision 0.9560975609756097\n",
      "\n",
      "Training model on: ODO (mg/L)\n",
      "accuracy 0.3526490066225166\n",
      "recall 0.16847826086956522\n",
      "precision 0.4217687074829932\n",
      "\n",
      "Training model on: Sp Cond (uS/cm)\n",
      "accuracy 0.1870860927152318\n",
      "recall 0.021739130434782608\n",
      "precision 0.05755395683453238\n",
      "\n",
      "Training model on: SNWD\n"
     ]
    },
    {
     "name": "stderr",
     "output_type": "stream",
     "text": [
      "C:\\Users\\mccomackjp\\AppData\\Local\\Continuum\\anaconda3\\lib\\site-packages\\sklearn\\metrics\\classification.py:1143: UndefinedMetricWarning: Precision is ill-defined and being set to 0.0 due to no predicted samples.\n",
      "  'precision', 'predicted', average, warn_for)\n"
     ]
    },
    {
     "name": "stdout",
     "output_type": "stream",
     "text": [
      "accuracy 0.39072847682119205\n",
      "recall 0.0\n",
      "precision 0.0\n",
      "\n",
      "Training model on: SNOW\n"
     ]
    },
    {
     "name": "stderr",
     "output_type": "stream",
     "text": [
      "C:\\Users\\mccomackjp\\AppData\\Local\\Continuum\\anaconda3\\lib\\site-packages\\sklearn\\metrics\\classification.py:1143: UndefinedMetricWarning: Precision is ill-defined and being set to 0.0 due to no predicted samples.\n",
      "  'precision', 'predicted', average, warn_for)\n"
     ]
    },
    {
     "name": "stdout",
     "output_type": "stream",
     "text": [
      "accuracy 0.39072847682119205\n",
      "recall 0.0\n",
      "precision 0.0\n",
      "\n",
      "current separation 20 days 00:00:00\n",
      "Windowizing 2017 data set: 0\n",
      "Segmenting...\n",
      "Extracting feature windows...\n",
      "Extracting target windows...\n",
      "Combining extractions...\n",
      "Segmenting...\n",
      "Extracting feature windows...\n",
      "Extracting target windows...\n",
      "Combining extractions...\n",
      "Windowizing 2018 data set: 0\n",
      "Segmenting...\n",
      "Extracting feature windows...\n",
      "Extracting target windows...\n",
      "Combining extractions...\n",
      "Segmenting...\n",
      "Extracting feature windows...\n",
      "Extracting target windows...\n",
      "Combining extractions...\n",
      "\n",
      "Training model on: pH\n"
     ]
    },
    {
     "name": "stderr",
     "output_type": "stream",
     "text": [
      "C:\\Users\\mccomackjp\\AppData\\Local\\Continuum\\anaconda3\\lib\\site-packages\\sklearn\\metrics\\classification.py:1143: UndefinedMetricWarning: Precision is ill-defined and being set to 0.0 due to no predicted samples.\n",
      "  'precision', 'predicted', average, warn_for)\n"
     ]
    },
    {
     "name": "stdout",
     "output_type": "stream",
     "text": [
      "accuracy 0.37437603993344426\n",
      "recall 0.0\n",
      "precision 0.0\n",
      "\n",
      "Training model on: pH (mV)\n",
      "accuracy 0.6023294509151415\n",
      "recall 0.6648936170212766\n",
      "precision 0.6887052341597796\n",
      "\n",
      "Training model on: ODOSat%\n"
     ]
    },
    {
     "name": "stderr",
     "output_type": "stream",
     "text": [
      "C:\\Users\\mccomackjp\\AppData\\Local\\Continuum\\anaconda3\\lib\\site-packages\\sklearn\\metrics\\classification.py:1143: UndefinedMetricWarning: Precision is ill-defined and being set to 0.0 due to no predicted samples.\n",
      "  'precision', 'predicted', average, warn_for)\n"
     ]
    },
    {
     "name": "stdout",
     "output_type": "stream",
     "text": [
      "accuracy 0.37437603993344426\n",
      "recall 0.0\n",
      "precision 0.0\n",
      "\n",
      "Training model on: TMAX\n",
      "accuracy 0.7537437603993344\n",
      "recall 0.6861702127659575\n",
      "precision 0.8958333333333334\n",
      "\n",
      "Updating best accuracy and shift size.\n",
      "Training model on: rainy\n"
     ]
    },
    {
     "name": "stderr",
     "output_type": "stream",
     "text": [
      "C:\\Users\\mccomackjp\\AppData\\Local\\Continuum\\anaconda3\\lib\\site-packages\\sklearn\\metrics\\classification.py:1143: UndefinedMetricWarning: Precision is ill-defined and being set to 0.0 due to no predicted samples.\n",
      "  'precision', 'predicted', average, warn_for)\n"
     ]
    },
    {
     "name": "stdout",
     "output_type": "stream",
     "text": [
      "accuracy 0.37437603993344426\n",
      "recall 0.0\n",
      "precision 0.0\n",
      "\n",
      "Training model on: Wind Speed\n",
      "accuracy 0.39434276206322794\n",
      "recall 0.031914893617021274\n",
      "precision 1.0\n",
      "\n",
      "Training model on: TMIN\n",
      "accuracy 0.7603993344425957\n",
      "recall 0.6409574468085106\n",
      "precision 0.964\n",
      "\n",
      "Training model on: Wind Angle\n",
      "accuracy 0.37104825291181365\n",
      "recall 0.0\n",
      "precision 0.0\n",
      "\n",
      "Training model on: PRCP\n"
     ]
    },
    {
     "name": "stderr",
     "output_type": "stream",
     "text": [
      "C:\\Users\\mccomackjp\\AppData\\Local\\Continuum\\anaconda3\\lib\\site-packages\\sklearn\\metrics\\classification.py:1143: UndefinedMetricWarning: Precision is ill-defined and being set to 0.0 due to no predicted samples.\n",
      "  'precision', 'predicted', average, warn_for)\n"
     ]
    },
    {
     "name": "stdout",
     "output_type": "stream",
     "text": [
      "accuracy 0.37437603993344426\n",
      "recall 0.0\n",
      "precision 0.0\n",
      "\n",
      "Training model on: Turbidity (NTU)\n"
     ]
    },
    {
     "name": "stderr",
     "output_type": "stream",
     "text": [
      "C:\\Users\\mccomackjp\\AppData\\Local\\Continuum\\anaconda3\\lib\\site-packages\\sklearn\\metrics\\classification.py:1143: UndefinedMetricWarning: Precision is ill-defined and being set to 0.0 due to no predicted samples.\n",
      "  'precision', 'predicted', average, warn_for)\n"
     ]
    },
    {
     "name": "stdout",
     "output_type": "stream",
     "text": [
      "accuracy 0.37437603993344426\n",
      "recall 0.0\n",
      "precision 0.0\n",
      "\n",
      "Training model on: Temp C\n",
      "accuracy 0.6955074875207987\n",
      "recall 0.5186170212765957\n",
      "precision 0.9898477157360406\n",
      "\n",
      "Training model on: ODO (mg/L)\n",
      "accuracy 0.35108153078202997\n",
      "recall 0.1702127659574468\n",
      "precision 0.4507042253521127\n",
      "\n",
      "Training model on: Sp Cond (uS/cm)\n",
      "accuracy 0.17970049916805325\n",
      "recall 0.026595744680851064\n",
      "precision 0.072992700729927\n",
      "\n",
      "Training model on: SNWD\n"
     ]
    },
    {
     "name": "stderr",
     "output_type": "stream",
     "text": [
      "C:\\Users\\mccomackjp\\AppData\\Local\\Continuum\\anaconda3\\lib\\site-packages\\sklearn\\metrics\\classification.py:1143: UndefinedMetricWarning: Precision is ill-defined and being set to 0.0 due to no predicted samples.\n",
      "  'precision', 'predicted', average, warn_for)\n"
     ]
    },
    {
     "name": "stdout",
     "output_type": "stream",
     "text": [
      "accuracy 0.37437603993344426\n",
      "recall 0.0\n",
      "precision 0.0\n",
      "\n",
      "Training model on: SNOW\n"
     ]
    },
    {
     "name": "stderr",
     "output_type": "stream",
     "text": [
      "C:\\Users\\mccomackjp\\AppData\\Local\\Continuum\\anaconda3\\lib\\site-packages\\sklearn\\metrics\\classification.py:1143: UndefinedMetricWarning: Precision is ill-defined and being set to 0.0 due to no predicted samples.\n",
      "  'precision', 'predicted', average, warn_for)\n"
     ]
    },
    {
     "name": "stdout",
     "output_type": "stream",
     "text": [
      "accuracy 0.37437603993344426\n",
      "recall 0.0\n",
      "precision 0.0\n",
      "\n",
      "current separation 21 days 00:00:00\n",
      "Windowizing 2017 data set: 0\n",
      "Segmenting...\n",
      "Extracting feature windows...\n",
      "Extracting target windows...\n",
      "Combining extractions...\n",
      "Segmenting...\n",
      "Extracting feature windows...\n",
      "Extracting target windows...\n",
      "Combining extractions...\n",
      "Windowizing 2018 data set: 0\n",
      "Segmenting...\n",
      "Extracting feature windows...\n",
      "Extracting target windows...\n",
      "Combining extractions...\n",
      "Segmenting...\n",
      "Extracting feature windows...\n",
      "Extracting target windows...\n",
      "Combining extractions...\n",
      "\n",
      "Training model on: pH\n"
     ]
    },
    {
     "name": "stderr",
     "output_type": "stream",
     "text": [
      "C:\\Users\\mccomackjp\\AppData\\Local\\Continuum\\anaconda3\\lib\\site-packages\\sklearn\\metrics\\classification.py:1143: UndefinedMetricWarning: Precision is ill-defined and being set to 0.0 due to no predicted samples.\n",
      "  'precision', 'predicted', average, warn_for)\n"
     ]
    },
    {
     "name": "stdout",
     "output_type": "stream",
     "text": [
      "accuracy 0.3695652173913043\n",
      "recall 0.0\n",
      "precision 0.0\n",
      "\n",
      "Training model on: pH (mV)\n"
     ]
    },
    {
     "name": "stderr",
     "output_type": "stream",
     "text": [
      "C:\\Users\\mccomackjp\\AppData\\Local\\Continuum\\anaconda3\\lib\\site-packages\\sklearn\\metrics\\classification.py:1143: UndefinedMetricWarning: Precision is ill-defined and being set to 0.0 due to no predicted samples.\n",
      "  'precision', 'predicted', average, warn_for)\n"
     ]
    },
    {
     "name": "stdout",
     "output_type": "stream",
     "text": [
      "accuracy 0.3695652173913043\n",
      "recall 0.0\n",
      "precision 0.0\n",
      "\n",
      "Training model on: ODOSat%\n"
     ]
    },
    {
     "name": "stderr",
     "output_type": "stream",
     "text": [
      "C:\\Users\\mccomackjp\\AppData\\Local\\Continuum\\anaconda3\\lib\\site-packages\\sklearn\\metrics\\classification.py:1143: UndefinedMetricWarning: Precision is ill-defined and being set to 0.0 due to no predicted samples.\n",
      "  'precision', 'predicted', average, warn_for)\n"
     ]
    },
    {
     "name": "stdout",
     "output_type": "stream",
     "text": [
      "accuracy 0.3695652173913043\n",
      "recall 0.0\n",
      "precision 0.0\n",
      "\n",
      "Training model on: TMAX\n",
      "accuracy 0.7474916387959866\n",
      "recall 0.6816976127320955\n",
      "precision 0.8923611111111112\n",
      "\n",
      "Training model on: rainy\n"
     ]
    },
    {
     "name": "stderr",
     "output_type": "stream",
     "text": [
      "C:\\Users\\mccomackjp\\AppData\\Local\\Continuum\\anaconda3\\lib\\site-packages\\sklearn\\metrics\\classification.py:1143: UndefinedMetricWarning: Precision is ill-defined and being set to 0.0 due to no predicted samples.\n",
      "  'precision', 'predicted', average, warn_for)\n"
     ]
    },
    {
     "name": "stdout",
     "output_type": "stream",
     "text": [
      "accuracy 0.3695652173913043\n",
      "recall 0.0\n",
      "precision 0.0\n",
      "\n",
      "Training model on: Wind Speed\n",
      "accuracy 0.38127090301003347\n",
      "recall 0.01856763925729443\n",
      "precision 1.0\n",
      "\n",
      "Training model on: TMIN\n",
      "accuracy 0.7608695652173914\n",
      "recall 0.6419098143236074\n",
      "precision 0.968\n",
      "\n",
      "Training model on: Wind Angle\n"
     ]
    },
    {
     "name": "stderr",
     "output_type": "stream",
     "text": [
      "C:\\Users\\mccomackjp\\AppData\\Local\\Continuum\\anaconda3\\lib\\site-packages\\sklearn\\metrics\\classification.py:1143: UndefinedMetricWarning: Precision is ill-defined and being set to 0.0 due to no predicted samples.\n",
      "  'precision', 'predicted', average, warn_for)\n"
     ]
    },
    {
     "name": "stdout",
     "output_type": "stream",
     "text": [
      "accuracy 0.3695652173913043\n",
      "recall 0.0\n",
      "precision 0.0\n",
      "\n",
      "Training model on: PRCP\n"
     ]
    },
    {
     "name": "stderr",
     "output_type": "stream",
     "text": [
      "C:\\Users\\mccomackjp\\AppData\\Local\\Continuum\\anaconda3\\lib\\site-packages\\sklearn\\metrics\\classification.py:1143: UndefinedMetricWarning: Precision is ill-defined and being set to 0.0 due to no predicted samples.\n",
      "  'precision', 'predicted', average, warn_for)\n"
     ]
    },
    {
     "name": "stdout",
     "output_type": "stream",
     "text": [
      "accuracy 0.3695652173913043\n",
      "recall 0.0\n",
      "precision 0.0\n",
      "\n",
      "Training model on: Turbidity (NTU)\n"
     ]
    },
    {
     "name": "stderr",
     "output_type": "stream",
     "text": [
      "C:\\Users\\mccomackjp\\AppData\\Local\\Continuum\\anaconda3\\lib\\site-packages\\sklearn\\metrics\\classification.py:1143: UndefinedMetricWarning: Precision is ill-defined and being set to 0.0 due to no predicted samples.\n",
      "  'precision', 'predicted', average, warn_for)\n"
     ]
    },
    {
     "name": "stdout",
     "output_type": "stream",
     "text": [
      "accuracy 0.3695652173913043\n",
      "recall 0.0\n",
      "precision 0.0\n",
      "\n",
      "Training model on: Temp C\n",
      "accuracy 0.7107023411371237\n",
      "recall 0.5490716180371353\n",
      "precision 0.9857142857142858\n",
      "\n",
      "Training model on: ODO (mg/L)\n",
      "accuracy 0.3494983277591973\n",
      "recall 0.16976127320954906\n",
      "precision 0.45714285714285713\n",
      "\n",
      "Training model on: Sp Cond (uS/cm)\n",
      "accuracy 0.1705685618729097\n",
      "recall 0.034482758620689655\n",
      "precision 0.0896551724137931\n",
      "\n",
      "Training model on: SNWD\n"
     ]
    },
    {
     "name": "stderr",
     "output_type": "stream",
     "text": [
      "C:\\Users\\mccomackjp\\AppData\\Local\\Continuum\\anaconda3\\lib\\site-packages\\sklearn\\metrics\\classification.py:1143: UndefinedMetricWarning: Precision is ill-defined and being set to 0.0 due to no predicted samples.\n",
      "  'precision', 'predicted', average, warn_for)\n"
     ]
    },
    {
     "name": "stdout",
     "output_type": "stream",
     "text": [
      "accuracy 0.3695652173913043\n",
      "recall 0.0\n",
      "precision 0.0\n",
      "\n",
      "Training model on: SNOW\n"
     ]
    },
    {
     "name": "stderr",
     "output_type": "stream",
     "text": [
      "C:\\Users\\mccomackjp\\AppData\\Local\\Continuum\\anaconda3\\lib\\site-packages\\sklearn\\metrics\\classification.py:1143: UndefinedMetricWarning: Precision is ill-defined and being set to 0.0 due to no predicted samples.\n",
      "  'precision', 'predicted', average, warn_for)\n"
     ]
    },
    {
     "name": "stdout",
     "output_type": "stream",
     "text": [
      "accuracy 0.3695652173913043\n",
      "recall 0.0\n",
      "precision 0.0\n",
      "\n",
      "current separation 22 days 00:00:00\n",
      "Windowizing 2017 data set: 0\n",
      "Segmenting...\n",
      "Extracting feature windows...\n",
      "Extracting target windows...\n",
      "Combining extractions...\n",
      "Segmenting...\n",
      "Extracting feature windows...\n",
      "Extracting target windows...\n",
      "Combining extractions...\n",
      "Windowizing 2018 data set: 0\n",
      "Segmenting...\n",
      "Extracting feature windows...\n",
      "Extracting target windows...\n",
      "Combining extractions...\n",
      "Segmenting...\n",
      "Extracting feature windows...\n",
      "Extracting target windows...\n",
      "Combining extractions...\n",
      "\n",
      "Training model on: pH\n"
     ]
    },
    {
     "name": "stderr",
     "output_type": "stream",
     "text": [
      "C:\\Users\\mccomackjp\\AppData\\Local\\Continuum\\anaconda3\\lib\\site-packages\\sklearn\\metrics\\classification.py:1143: UndefinedMetricWarning: Precision is ill-defined and being set to 0.0 due to no predicted samples.\n",
      "  'precision', 'predicted', average, warn_for)\n"
     ]
    },
    {
     "name": "stdout",
     "output_type": "stream",
     "text": [
      "accuracy 0.38215488215488214\n",
      "recall 0.0\n",
      "precision 0.0\n",
      "\n",
      "Training model on: pH (mV)\n"
     ]
    },
    {
     "name": "stderr",
     "output_type": "stream",
     "text": [
      "C:\\Users\\mccomackjp\\AppData\\Local\\Continuum\\anaconda3\\lib\\site-packages\\sklearn\\metrics\\classification.py:1143: UndefinedMetricWarning: Precision is ill-defined and being set to 0.0 due to no predicted samples.\n",
      "  'precision', 'predicted', average, warn_for)\n"
     ]
    },
    {
     "name": "stdout",
     "output_type": "stream",
     "text": [
      "accuracy 0.38215488215488214\n",
      "recall 0.0\n",
      "precision 0.0\n",
      "\n",
      "Training model on: ODOSat%\n"
     ]
    },
    {
     "name": "stderr",
     "output_type": "stream",
     "text": [
      "C:\\Users\\mccomackjp\\AppData\\Local\\Continuum\\anaconda3\\lib\\site-packages\\sklearn\\metrics\\classification.py:1143: UndefinedMetricWarning: Precision is ill-defined and being set to 0.0 due to no predicted samples.\n",
      "  'precision', 'predicted', average, warn_for)\n"
     ]
    },
    {
     "name": "stdout",
     "output_type": "stream",
     "text": [
      "accuracy 0.38215488215488214\n",
      "recall 0.0\n",
      "precision 0.0\n",
      "\n",
      "Training model on: TMAX\n",
      "accuracy 0.7592592592592593\n",
      "recall 0.6975476839237057\n",
      "precision 0.8888888888888888\n",
      "\n",
      "Updating best accuracy and shift size.\n",
      "Training model on: rainy\n",
      "accuracy 0.5033670033670034\n",
      "recall 0.5177111716621253\n",
      "precision 0.6168831168831169\n",
      "\n",
      "Training model on: Wind Speed\n"
     ]
    },
    {
     "name": "stderr",
     "output_type": "stream",
     "text": [
      "C:\\Users\\mccomackjp\\AppData\\Local\\Continuum\\anaconda3\\lib\\site-packages\\sklearn\\metrics\\classification.py:1143: UndefinedMetricWarning: Precision is ill-defined and being set to 0.0 due to no predicted samples.\n",
      "  'precision', 'predicted', average, warn_for)\n"
     ]
    },
    {
     "name": "stdout",
     "output_type": "stream",
     "text": [
      "accuracy 0.38215488215488214\n",
      "recall 0.0\n",
      "precision 0.0\n",
      "\n",
      "Training model on: TMIN\n",
      "accuracy 0.7727272727272727\n",
      "recall 0.6566757493188011\n",
      "precision 0.964\n",
      "\n",
      "Training model on: Wind Angle\n",
      "accuracy 0.398989898989899\n",
      "recall 0.04904632152588556\n",
      "precision 0.6923076923076923\n",
      "\n",
      "Training model on: PRCP\n"
     ]
    },
    {
     "name": "stderr",
     "output_type": "stream",
     "text": [
      "C:\\Users\\mccomackjp\\AppData\\Local\\Continuum\\anaconda3\\lib\\site-packages\\sklearn\\metrics\\classification.py:1143: UndefinedMetricWarning: Precision is ill-defined and being set to 0.0 due to no predicted samples.\n",
      "  'precision', 'predicted', average, warn_for)\n"
     ]
    },
    {
     "name": "stdout",
     "output_type": "stream",
     "text": [
      "accuracy 0.38215488215488214\n",
      "recall 0.0\n",
      "precision 0.0\n",
      "\n",
      "Training model on: Turbidity (NTU)\n"
     ]
    },
    {
     "name": "stderr",
     "output_type": "stream",
     "text": [
      "C:\\Users\\mccomackjp\\AppData\\Local\\Continuum\\anaconda3\\lib\\site-packages\\sklearn\\metrics\\classification.py:1143: UndefinedMetricWarning: Precision is ill-defined and being set to 0.0 due to no predicted samples.\n",
      "  'precision', 'predicted', average, warn_for)\n"
     ]
    },
    {
     "name": "stdout",
     "output_type": "stream",
     "text": [
      "accuracy 0.38215488215488214\n",
      "recall 0.0\n",
      "precision 0.0\n",
      "\n",
      "Training model on: Temp C\n",
      "accuracy 0.7205387205387206\n",
      "recall 0.553133514986376\n",
      "precision 0.9902439024390244\n",
      "\n",
      "Updating best accuracy and shift size.\n",
      "Training model on: ODO (mg/L)\n",
      "accuracy 0.36363636363636365\n",
      "recall 0.2098092643051771\n",
      "precision 0.4666666666666667\n",
      "\n",
      "Training model on: Sp Cond (uS/cm)\n",
      "accuracy 0.18518518518518517\n",
      "recall 0.03814713896457766\n",
      "precision 0.09655172413793103\n",
      "\n",
      "Training model on: SNWD\n"
     ]
    },
    {
     "name": "stderr",
     "output_type": "stream",
     "text": [
      "C:\\Users\\mccomackjp\\AppData\\Local\\Continuum\\anaconda3\\lib\\site-packages\\sklearn\\metrics\\classification.py:1143: UndefinedMetricWarning: Precision is ill-defined and being set to 0.0 due to no predicted samples.\n",
      "  'precision', 'predicted', average, warn_for)\n"
     ]
    },
    {
     "name": "stdout",
     "output_type": "stream",
     "text": [
      "accuracy 0.38215488215488214\n",
      "recall 0.0\n",
      "precision 0.0\n",
      "\n",
      "Training model on: SNOW\n"
     ]
    },
    {
     "name": "stderr",
     "output_type": "stream",
     "text": [
      "C:\\Users\\mccomackjp\\AppData\\Local\\Continuum\\anaconda3\\lib\\site-packages\\sklearn\\metrics\\classification.py:1143: UndefinedMetricWarning: Precision is ill-defined and being set to 0.0 due to no predicted samples.\n",
      "  'precision', 'predicted', average, warn_for)\n"
     ]
    },
    {
     "name": "stdout",
     "output_type": "stream",
     "text": [
      "accuracy 0.38215488215488214\n",
      "recall 0.0\n",
      "precision 0.0\n",
      "\n",
      "current separation 23 days 00:00:00\n",
      "Windowizing 2017 data set: 0\n",
      "Segmenting...\n",
      "Extracting feature windows...\n",
      "Extracting target windows...\n",
      "Combining extractions...\n",
      "Segmenting...\n",
      "Extracting feature windows...\n",
      "Extracting target windows...\n",
      "Combining extractions...\n",
      "Windowizing 2018 data set: 0\n",
      "Segmenting...\n",
      "Extracting feature windows...\n",
      "Extracting target windows...\n",
      "Combining extractions...\n",
      "Segmenting...\n",
      "Extracting feature windows...\n",
      "Extracting target windows...\n",
      "Combining extractions...\n",
      "\n",
      "Training model on: pH\n",
      "accuracy 0.36271186440677966\n",
      "recall 0.0\n",
      "precision 0.0\n",
      "\n",
      "Training model on: pH (mV)\n"
     ]
    },
    {
     "name": "stderr",
     "output_type": "stream",
     "text": [
      "C:\\Users\\mccomackjp\\AppData\\Local\\Continuum\\anaconda3\\lib\\site-packages\\sklearn\\metrics\\classification.py:1143: UndefinedMetricWarning: Precision is ill-defined and being set to 0.0 due to no predicted samples.\n",
      "  'precision', 'predicted', average, warn_for)\n"
     ]
    },
    {
     "name": "stdout",
     "output_type": "stream",
     "text": [
      "accuracy 0.37457627118644066\n",
      "recall 0.0\n",
      "precision 0.0\n",
      "\n",
      "Training model on: ODOSat%\n"
     ]
    },
    {
     "name": "stderr",
     "output_type": "stream",
     "text": [
      "C:\\Users\\mccomackjp\\AppData\\Local\\Continuum\\anaconda3\\lib\\site-packages\\sklearn\\metrics\\classification.py:1143: UndefinedMetricWarning: Precision is ill-defined and being set to 0.0 due to no predicted samples.\n",
      "  'precision', 'predicted', average, warn_for)\n"
     ]
    },
    {
     "name": "stdout",
     "output_type": "stream",
     "text": [
      "accuracy 0.37457627118644066\n",
      "recall 0.0\n",
      "precision 0.0\n",
      "\n",
      "Training model on: TMAX\n",
      "accuracy 0.7711864406779662\n",
      "recall 0.7073170731707317\n",
      "precision 0.90625\n",
      "\n",
      "Updating best accuracy and shift size.\n",
      "Training model on: rainy\n",
      "accuracy 0.5033898305084745\n",
      "recall 0.5203252032520326\n",
      "precision 0.6233766233766234\n",
      "\n",
      "Training model on: Wind Speed\n"
     ]
    },
    {
     "name": "stderr",
     "output_type": "stream",
     "text": [
      "C:\\Users\\mccomackjp\\AppData\\Local\\Continuum\\anaconda3\\lib\\site-packages\\sklearn\\metrics\\classification.py:1143: UndefinedMetricWarning: Precision is ill-defined and being set to 0.0 due to no predicted samples.\n",
      "  'precision', 'predicted', average, warn_for)\n"
     ]
    },
    {
     "name": "stdout",
     "output_type": "stream",
     "text": [
      "accuracy 0.37457627118644066\n",
      "recall 0.0\n",
      "precision 0.0\n",
      "\n",
      "Training model on: TMIN\n",
      "accuracy 0.8186440677966101\n",
      "recall 0.7940379403794038\n",
      "precision 0.904320987654321\n",
      "\n",
      "Updating best accuracy and shift size.\n",
      "Training model on: Wind Angle\n",
      "accuracy 0.43559322033898307\n",
      "recall 0.17886178861788618\n",
      "precision 0.6875\n",
      "\n",
      "Training model on: PRCP\n",
      "accuracy 0.6016949152542372\n",
      "recall 0.7560975609756098\n",
      "precision 0.6580188679245284\n",
      "\n",
      "Updating best accuracy and shift size.\n",
      "Training model on: Turbidity (NTU)\n"
     ]
    },
    {
     "name": "stderr",
     "output_type": "stream",
     "text": [
      "C:\\Users\\mccomackjp\\AppData\\Local\\Continuum\\anaconda3\\lib\\site-packages\\sklearn\\metrics\\classification.py:1143: UndefinedMetricWarning: Precision is ill-defined and being set to 0.0 due to no predicted samples.\n",
      "  'precision', 'predicted', average, warn_for)\n"
     ]
    },
    {
     "name": "stdout",
     "output_type": "stream",
     "text": [
      "accuracy 0.37457627118644066\n",
      "recall 0.0\n",
      "precision 0.0\n",
      "\n",
      "Training model on: Temp C\n",
      "accuracy 0.7372881355932204\n",
      "recall 0.5880758807588076\n",
      "precision 0.9863636363636363\n",
      "\n",
      "Updating best accuracy and shift size.\n",
      "Training model on: ODO (mg/L)\n",
      "accuracy 0.3813559322033898\n",
      "recall 0.25203252032520324\n",
      "precision 0.510989010989011\n",
      "\n",
      "Training model on: Sp Cond (uS/cm)\n",
      "accuracy 0.188135593220339\n",
      "recall 0.07859078590785908\n",
      "precision 0.17261904761904762\n",
      "\n",
      "Training model on: SNWD\n"
     ]
    },
    {
     "name": "stderr",
     "output_type": "stream",
     "text": [
      "C:\\Users\\mccomackjp\\AppData\\Local\\Continuum\\anaconda3\\lib\\site-packages\\sklearn\\metrics\\classification.py:1143: UndefinedMetricWarning: Precision is ill-defined and being set to 0.0 due to no predicted samples.\n",
      "  'precision', 'predicted', average, warn_for)\n"
     ]
    },
    {
     "name": "stdout",
     "output_type": "stream",
     "text": [
      "accuracy 0.37457627118644066\n",
      "recall 0.0\n",
      "precision 0.0\n",
      "\n",
      "Training model on: SNOW\n"
     ]
    },
    {
     "name": "stderr",
     "output_type": "stream",
     "text": [
      "C:\\Users\\mccomackjp\\AppData\\Local\\Continuum\\anaconda3\\lib\\site-packages\\sklearn\\metrics\\classification.py:1143: UndefinedMetricWarning: Precision is ill-defined and being set to 0.0 due to no predicted samples.\n",
      "  'precision', 'predicted', average, warn_for)\n"
     ]
    },
    {
     "name": "stdout",
     "output_type": "stream",
     "text": [
      "accuracy 0.37457627118644066\n",
      "recall 0.0\n",
      "precision 0.0\n",
      "\n",
      "current separation 24 days 00:00:00\n",
      "Windowizing 2017 data set: 0\n",
      "Segmenting...\n",
      "Extracting feature windows...\n",
      "Extracting target windows...\n",
      "Combining extractions...\n",
      "Segmenting...\n",
      "Extracting feature windows...\n",
      "Extracting target windows...\n",
      "Combining extractions...\n",
      "Windowizing 2018 data set: 0\n",
      "Segmenting...\n",
      "Extracting feature windows...\n",
      "Extracting target windows...\n",
      "Combining extractions...\n",
      "Segmenting...\n",
      "Extracting feature windows...\n",
      "Extracting target windows...\n",
      "Combining extractions...\n",
      "\n",
      "Training model on: pH\n",
      "accuracy 0.3435374149659864\n",
      "recall 0.0\n",
      "precision 0.0\n",
      "\n",
      "Training model on: pH (mV)\n"
     ]
    },
    {
     "name": "stderr",
     "output_type": "stream",
     "text": [
      "C:\\Users\\mccomackjp\\AppData\\Local\\Continuum\\anaconda3\\lib\\site-packages\\sklearn\\metrics\\classification.py:1143: UndefinedMetricWarning: Precision is ill-defined and being set to 0.0 due to no predicted samples.\n",
      "  'precision', 'predicted', average, warn_for)\n"
     ]
    },
    {
     "name": "stdout",
     "output_type": "stream",
     "text": [
      "accuracy 0.35714285714285715\n",
      "recall 0.0\n",
      "precision 0.0\n",
      "\n",
      "Training model on: ODOSat%\n"
     ]
    },
    {
     "name": "stderr",
     "output_type": "stream",
     "text": [
      "C:\\Users\\mccomackjp\\AppData\\Local\\Continuum\\anaconda3\\lib\\site-packages\\sklearn\\metrics\\classification.py:1143: UndefinedMetricWarning: Precision is ill-defined and being set to 0.0 due to no predicted samples.\n",
      "  'precision', 'predicted', average, warn_for)\n"
     ]
    },
    {
     "name": "stdout",
     "output_type": "stream",
     "text": [
      "accuracy 0.35714285714285715\n",
      "recall 0.0\n",
      "precision 0.0\n",
      "\n",
      "Training model on: TMAX\n",
      "accuracy 0.7755102040816326\n",
      "recall 0.7063492063492064\n",
      "precision 0.9270833333333334\n",
      "\n",
      "Training model on: rainy\n"
     ]
    },
    {
     "name": "stderr",
     "output_type": "stream",
     "text": [
      "C:\\Users\\mccomackjp\\AppData\\Local\\Continuum\\anaconda3\\lib\\site-packages\\sklearn\\metrics\\classification.py:1143: UndefinedMetricWarning: Precision is ill-defined and being set to 0.0 due to no predicted samples.\n",
      "  'precision', 'predicted', average, warn_for)\n"
     ]
    },
    {
     "name": "stdout",
     "output_type": "stream",
     "text": [
      "accuracy 0.35714285714285715\n",
      "recall 0.0\n",
      "precision 0.0\n",
      "\n",
      "Training model on: Wind Speed\n"
     ]
    },
    {
     "name": "stderr",
     "output_type": "stream",
     "text": [
      "C:\\Users\\mccomackjp\\AppData\\Local\\Continuum\\anaconda3\\lib\\site-packages\\sklearn\\metrics\\classification.py:1143: UndefinedMetricWarning: Precision is ill-defined and being set to 0.0 due to no predicted samples.\n",
      "  'precision', 'predicted', average, warn_for)\n"
     ]
    },
    {
     "name": "stdout",
     "output_type": "stream",
     "text": [
      "accuracy 0.35714285714285715\n",
      "recall 0.0\n",
      "precision 0.0\n",
      "\n",
      "Training model on: TMIN\n",
      "accuracy 0.7619047619047619\n",
      "recall 0.6455026455026455\n",
      "precision 0.976\n",
      "\n",
      "Training model on: Wind Angle\n",
      "accuracy 0.42346938775510207\n",
      "recall 0.20634920634920634\n",
      "precision 0.6666666666666666\n",
      "\n",
      "Training model on: PRCP\n",
      "accuracy 0.6156462585034014\n",
      "recall 0.7619047619047619\n",
      "precision 0.6792452830188679\n",
      "\n",
      "Training model on: Turbidity (NTU)\n"
     ]
    },
    {
     "name": "stderr",
     "output_type": "stream",
     "text": [
      "C:\\Users\\mccomackjp\\AppData\\Local\\Continuum\\anaconda3\\lib\\site-packages\\sklearn\\metrics\\classification.py:1143: UndefinedMetricWarning: Precision is ill-defined and being set to 0.0 due to no predicted samples.\n",
      "  'precision', 'predicted', average, warn_for)\n"
     ]
    },
    {
     "name": "stdout",
     "output_type": "stream",
     "text": [
      "accuracy 0.35714285714285715\n",
      "recall 0.0\n",
      "precision 0.0\n",
      "\n",
      "Training model on: Temp C\n",
      "accuracy 0.7091836734693877\n",
      "recall 0.5555555555555556\n",
      "precision 0.9859154929577465\n",
      "\n",
      "Training model on: ODO (mg/L)\n",
      "accuracy 0.34523809523809523\n",
      "recall 0.1746031746031746\n",
      "precision 0.4748201438848921\n",
      "\n",
      "Training model on: Sp Cond (uS/cm)\n",
      "accuracy 0.15816326530612246\n",
      "recall 0.05026455026455026\n",
      "precision 0.12258064516129032\n",
      "\n",
      "Training model on: SNWD\n"
     ]
    },
    {
     "name": "stderr",
     "output_type": "stream",
     "text": [
      "C:\\Users\\mccomackjp\\AppData\\Local\\Continuum\\anaconda3\\lib\\site-packages\\sklearn\\metrics\\classification.py:1143: UndefinedMetricWarning: Precision is ill-defined and being set to 0.0 due to no predicted samples.\n",
      "  'precision', 'predicted', average, warn_for)\n"
     ]
    },
    {
     "name": "stdout",
     "output_type": "stream",
     "text": [
      "accuracy 0.35714285714285715\n",
      "recall 0.0\n",
      "precision 0.0\n",
      "\n",
      "Training model on: SNOW\n"
     ]
    },
    {
     "name": "stderr",
     "output_type": "stream",
     "text": [
      "C:\\Users\\mccomackjp\\AppData\\Local\\Continuum\\anaconda3\\lib\\site-packages\\sklearn\\metrics\\classification.py:1143: UndefinedMetricWarning: Precision is ill-defined and being set to 0.0 due to no predicted samples.\n",
      "  'precision', 'predicted', average, warn_for)\n"
     ]
    },
    {
     "name": "stdout",
     "output_type": "stream",
     "text": [
      "accuracy 0.35714285714285715\n",
      "recall 0.0\n",
      "precision 0.0\n",
      "\n",
      "current separation 25 days 00:00:00\n",
      "Windowizing 2017 data set: 0\n",
      "Segmenting...\n",
      "Extracting feature windows...\n",
      "Extracting target windows...\n",
      "Combining extractions...\n",
      "Segmenting...\n",
      "Extracting feature windows...\n",
      "Extracting target windows...\n",
      "Combining extractions...\n",
      "Windowizing 2018 data set: 0\n",
      "Segmenting...\n",
      "Extracting feature windows...\n",
      "Extracting target windows...\n",
      "Combining extractions...\n",
      "Segmenting...\n",
      "Extracting feature windows...\n",
      "Extracting target windows...\n",
      "Combining extractions...\n",
      "\n",
      "Training model on: pH\n",
      "accuracy 0.3424657534246575\n",
      "recall 0.0\n",
      "precision 0.0\n",
      "\n",
      "Training model on: pH (mV)\n"
     ]
    },
    {
     "name": "stderr",
     "output_type": "stream",
     "text": [
      "C:\\Users\\mccomackjp\\AppData\\Local\\Continuum\\anaconda3\\lib\\site-packages\\sklearn\\metrics\\classification.py:1143: UndefinedMetricWarning: Precision is ill-defined and being set to 0.0 due to no predicted samples.\n",
      "  'precision', 'predicted', average, warn_for)\n"
     ]
    },
    {
     "name": "stdout",
     "output_type": "stream",
     "text": [
      "accuracy 0.3647260273972603\n",
      "recall 0.0\n",
      "precision 0.0\n",
      "\n",
      "Training model on: ODOSat%\n"
     ]
    },
    {
     "name": "stderr",
     "output_type": "stream",
     "text": [
      "C:\\Users\\mccomackjp\\AppData\\Local\\Continuum\\anaconda3\\lib\\site-packages\\sklearn\\metrics\\classification.py:1143: UndefinedMetricWarning: Precision is ill-defined and being set to 0.0 due to no predicted samples.\n",
      "  'precision', 'predicted', average, warn_for)\n"
     ]
    },
    {
     "name": "stdout",
     "output_type": "stream",
     "text": [
      "accuracy 0.3647260273972603\n",
      "recall 0.0\n",
      "precision 0.0\n",
      "\n",
      "Training model on: TMAX\n",
      "accuracy 0.785958904109589\n",
      "recall 0.7196765498652291\n",
      "precision 0.9270833333333334\n",
      "\n",
      "Training model on: rainy\n",
      "accuracy 0.4982876712328767\n",
      "recall 0.5202156334231806\n",
      "precision 0.6266233766233766\n",
      "\n",
      "Training model on: Wind Speed\n"
     ]
    },
    {
     "name": "stderr",
     "output_type": "stream",
     "text": [
      "C:\\Users\\mccomackjp\\AppData\\Local\\Continuum\\anaconda3\\lib\\site-packages\\sklearn\\metrics\\classification.py:1143: UndefinedMetricWarning: Precision is ill-defined and being set to 0.0 due to no predicted samples.\n",
      "  'precision', 'predicted', average, warn_for)\n"
     ]
    },
    {
     "name": "stdout",
     "output_type": "stream",
     "text": [
      "accuracy 0.3647260273972603\n",
      "recall 0.0\n",
      "precision 0.0\n",
      "\n",
      "Training model on: TMIN\n",
      "accuracy 0.7585616438356164\n",
      "recall 0.6469002695417789\n",
      "precision 0.96\n",
      "\n",
      "Training model on: Wind Angle\n",
      "accuracy 0.4246575342465753\n",
      "recall 0.2183288409703504\n",
      "precision 0.6377952755905512\n",
      "\n",
      "Training model on: PRCP\n",
      "accuracy 0.6113013698630136\n",
      "recall 0.7654986522911051\n",
      "precision 0.6698113207547169\n",
      "\n",
      "Training model on: Turbidity (NTU)\n"
     ]
    },
    {
     "name": "stderr",
     "output_type": "stream",
     "text": [
      "C:\\Users\\mccomackjp\\AppData\\Local\\Continuum\\anaconda3\\lib\\site-packages\\sklearn\\metrics\\classification.py:1143: UndefinedMetricWarning: Precision is ill-defined and being set to 0.0 due to no predicted samples.\n",
      "  'precision', 'predicted', average, warn_for)\n"
     ]
    },
    {
     "name": "stdout",
     "output_type": "stream",
     "text": [
      "accuracy 0.3647260273972603\n",
      "recall 0.0\n",
      "precision 0.0\n",
      "\n",
      "Training model on: Temp C\n",
      "accuracy 0.714041095890411\n",
      "recall 0.5633423180592992\n",
      "precision 0.9766355140186916\n",
      "\n",
      "Training model on: ODO (mg/L)\n",
      "accuracy 0.3544520547945205\n",
      "recall 0.18598382749326145\n",
      "precision 0.4791666666666667\n",
      "\n",
      "Training model on: Sp Cond (uS/cm)\n",
      "accuracy 0.17465753424657535\n",
      "recall 0.0673854447439353\n",
      "precision 0.15527950310559005\n",
      "\n",
      "Training model on: SNWD\n"
     ]
    },
    {
     "name": "stderr",
     "output_type": "stream",
     "text": [
      "C:\\Users\\mccomackjp\\AppData\\Local\\Continuum\\anaconda3\\lib\\site-packages\\sklearn\\metrics\\classification.py:1143: UndefinedMetricWarning: Precision is ill-defined and being set to 0.0 due to no predicted samples.\n",
      "  'precision', 'predicted', average, warn_for)\n"
     ]
    },
    {
     "name": "stdout",
     "output_type": "stream",
     "text": [
      "accuracy 0.3647260273972603\n",
      "recall 0.0\n",
      "precision 0.0\n",
      "\n",
      "Training model on: SNOW\n"
     ]
    },
    {
     "name": "stderr",
     "output_type": "stream",
     "text": [
      "C:\\Users\\mccomackjp\\AppData\\Local\\Continuum\\anaconda3\\lib\\site-packages\\sklearn\\metrics\\classification.py:1143: UndefinedMetricWarning: Precision is ill-defined and being set to 0.0 due to no predicted samples.\n",
      "  'precision', 'predicted', average, warn_for)\n"
     ]
    },
    {
     "name": "stdout",
     "output_type": "stream",
     "text": [
      "accuracy 0.3647260273972603\n",
      "recall 0.0\n",
      "precision 0.0\n",
      "\n",
      "current separation 26 days 00:00:00\n",
      "Windowizing 2017 data set: 0\n",
      "Segmenting...\n",
      "Extracting feature windows...\n",
      "Extracting target windows...\n",
      "Combining extractions...\n",
      "Segmenting...\n",
      "Extracting feature windows...\n",
      "Extracting target windows...\n",
      "Combining extractions...\n",
      "Windowizing 2018 data set: 0\n",
      "Segmenting...\n",
      "Extracting feature windows...\n",
      "Extracting target windows...\n",
      "Combining extractions...\n",
      "Segmenting...\n",
      "Extracting feature windows...\n",
      "Extracting target windows...\n",
      "Combining extractions...\n",
      "\n",
      "Training model on: pH\n",
      "accuracy 0.3293103448275862\n",
      "recall 0.010869565217391304\n",
      "precision 0.13793103448275862\n",
      "\n",
      "Training model on: pH (mV)\n"
     ]
    },
    {
     "name": "stderr",
     "output_type": "stream",
     "text": [
      "C:\\Users\\mccomackjp\\AppData\\Local\\Continuum\\anaconda3\\lib\\site-packages\\sklearn\\metrics\\classification.py:1143: UndefinedMetricWarning: Precision is ill-defined and being set to 0.0 due to no predicted samples.\n",
      "  'precision', 'predicted', average, warn_for)\n"
     ]
    },
    {
     "name": "stdout",
     "output_type": "stream",
     "text": [
      "accuracy 0.36551724137931035\n",
      "recall 0.0\n",
      "precision 0.0\n",
      "\n",
      "Training model on: ODOSat%\n"
     ]
    },
    {
     "name": "stderr",
     "output_type": "stream",
     "text": [
      "C:\\Users\\mccomackjp\\AppData\\Local\\Continuum\\anaconda3\\lib\\site-packages\\sklearn\\metrics\\classification.py:1143: UndefinedMetricWarning: Precision is ill-defined and being set to 0.0 due to no predicted samples.\n",
      "  'precision', 'predicted', average, warn_for)\n"
     ]
    },
    {
     "name": "stdout",
     "output_type": "stream",
     "text": [
      "accuracy 0.36551724137931035\n",
      "recall 0.0\n",
      "precision 0.0\n",
      "\n",
      "Training model on: TMAX\n",
      "accuracy 0.7862068965517242\n",
      "recall 0.7228260869565217\n",
      "precision 0.9236111111111112\n",
      "\n",
      "Training model on: rainy\n",
      "accuracy 0.506896551724138\n",
      "recall 0.529891304347826\n",
      "precision 0.6331168831168831\n",
      "\n",
      "Training model on: Wind Speed\n"
     ]
    },
    {
     "name": "stderr",
     "output_type": "stream",
     "text": [
      "C:\\Users\\mccomackjp\\AppData\\Local\\Continuum\\anaconda3\\lib\\site-packages\\sklearn\\metrics\\classification.py:1143: UndefinedMetricWarning: Precision is ill-defined and being set to 0.0 due to no predicted samples.\n",
      "  'precision', 'predicted', average, warn_for)\n"
     ]
    },
    {
     "name": "stdout",
     "output_type": "stream",
     "text": [
      "accuracy 0.36551724137931035\n",
      "recall 0.0\n",
      "precision 0.0\n",
      "\n",
      "Training model on: TMIN\n",
      "accuracy 0.7517241379310344\n",
      "recall 0.6440217391304348\n",
      "precision 0.948\n",
      "\n",
      "Training model on: Wind Angle\n",
      "accuracy 0.453448275862069\n",
      "recall 0.37228260869565216\n",
      "precision 0.6143497757847534\n",
      "\n",
      "Training model on: PRCP\n",
      "accuracy 0.6172413793103448\n",
      "recall 0.782608695652174\n",
      "precision 0.6697674418604651\n",
      "\n",
      "Training model on: Turbidity (NTU)\n"
     ]
    },
    {
     "name": "stderr",
     "output_type": "stream",
     "text": [
      "C:\\Users\\mccomackjp\\AppData\\Local\\Continuum\\anaconda3\\lib\\site-packages\\sklearn\\metrics\\classification.py:1143: UndefinedMetricWarning: Precision is ill-defined and being set to 0.0 due to no predicted samples.\n",
      "  'precision', 'predicted', average, warn_for)\n"
     ]
    },
    {
     "name": "stdout",
     "output_type": "stream",
     "text": [
      "accuracy 0.36551724137931035\n",
      "recall 0.0\n",
      "precision 0.0\n",
      "\n",
      "Training model on: Temp C\n",
      "accuracy 0.7224137931034482\n",
      "recall 0.5706521739130435\n",
      "precision 0.9859154929577465\n",
      "\n",
      "Training model on: ODO (mg/L)\n",
      "accuracy 0.41206896551724137\n",
      "recall 0.27717391304347827\n",
      "precision 0.576271186440678\n",
      "\n",
      "Training model on: Sp Cond (uS/cm)\n",
      "accuracy 0.19137931034482758\n",
      "recall 0.09239130434782608\n",
      "precision 0.20118343195266272\n",
      "\n",
      "Training model on: SNWD\n"
     ]
    },
    {
     "name": "stderr",
     "output_type": "stream",
     "text": [
      "C:\\Users\\mccomackjp\\AppData\\Local\\Continuum\\anaconda3\\lib\\site-packages\\sklearn\\metrics\\classification.py:1143: UndefinedMetricWarning: Precision is ill-defined and being set to 0.0 due to no predicted samples.\n",
      "  'precision', 'predicted', average, warn_for)\n"
     ]
    },
    {
     "name": "stdout",
     "output_type": "stream",
     "text": [
      "accuracy 0.36551724137931035\n",
      "recall 0.0\n",
      "precision 0.0\n",
      "\n",
      "Training model on: SNOW\n"
     ]
    },
    {
     "name": "stderr",
     "output_type": "stream",
     "text": [
      "C:\\Users\\mccomackjp\\AppData\\Local\\Continuum\\anaconda3\\lib\\site-packages\\sklearn\\metrics\\classification.py:1143: UndefinedMetricWarning: Precision is ill-defined and being set to 0.0 due to no predicted samples.\n",
      "  'precision', 'predicted', average, warn_for)\n"
     ]
    },
    {
     "name": "stdout",
     "output_type": "stream",
     "text": [
      "accuracy 0.36551724137931035\n",
      "recall 0.0\n",
      "precision 0.0\n",
      "\n",
      "current separation 27 days 00:00:00\n",
      "Windowizing 2017 data set: 0\n",
      "Segmenting...\n",
      "Extracting feature windows...\n",
      "Extracting target windows...\n",
      "Combining extractions...\n",
      "Segmenting...\n",
      "Extracting feature windows...\n",
      "Extracting target windows...\n",
      "Combining extractions...\n",
      "Windowizing 2018 data set: 0\n",
      "Segmenting...\n",
      "Extracting feature windows...\n",
      "Extracting target windows...\n",
      "Combining extractions...\n",
      "Segmenting...\n",
      "Extracting feature windows...\n",
      "Extracting target windows...\n",
      "Combining extractions...\n",
      "\n",
      "Training model on: pH\n",
      "accuracy 0.31022530329289427\n",
      "recall 0.02127659574468085\n",
      "precision 0.21052631578947367\n",
      "\n",
      "Training model on: pH (mV)\n"
     ]
    },
    {
     "name": "stderr",
     "output_type": "stream",
     "text": [
      "C:\\Users\\mccomackjp\\AppData\\Local\\Continuum\\anaconda3\\lib\\site-packages\\sklearn\\metrics\\classification.py:1143: UndefinedMetricWarning: Precision is ill-defined and being set to 0.0 due to no predicted samples.\n",
      "  'precision', 'predicted', average, warn_for)\n"
     ]
    },
    {
     "name": "stdout",
     "output_type": "stream",
     "text": [
      "accuracy 0.3483535528596187\n",
      "recall 0.0\n",
      "precision 0.0\n",
      "\n",
      "Training model on: ODOSat%\n"
     ]
    },
    {
     "name": "stderr",
     "output_type": "stream",
     "text": [
      "C:\\Users\\mccomackjp\\AppData\\Local\\Continuum\\anaconda3\\lib\\site-packages\\sklearn\\metrics\\classification.py:1143: UndefinedMetricWarning: Precision is ill-defined and being set to 0.0 due to no predicted samples.\n",
      "  'precision', 'predicted', average, warn_for)\n"
     ]
    },
    {
     "name": "stdout",
     "output_type": "stream",
     "text": [
      "accuracy 0.3483535528596187\n",
      "recall 0.0\n",
      "precision 0.0\n",
      "\n",
      "Training model on: TMAX\n",
      "accuracy 0.7746967071057193\n",
      "recall 0.7101063829787234\n",
      "precision 0.9270833333333334\n",
      "\n",
      "Training model on: rainy\n",
      "accuracy 0.5285961871750433\n",
      "recall 0.5478723404255319\n",
      "precision 0.6688311688311688\n",
      "\n",
      "Training model on: Wind Speed\n"
     ]
    },
    {
     "name": "stderr",
     "output_type": "stream",
     "text": [
      "C:\\Users\\mccomackjp\\AppData\\Local\\Continuum\\anaconda3\\lib\\site-packages\\sklearn\\metrics\\classification.py:1143: UndefinedMetricWarning: Precision is ill-defined and being set to 0.0 due to no predicted samples.\n",
      "  'precision', 'predicted', average, warn_for)\n"
     ]
    },
    {
     "name": "stdout",
     "output_type": "stream",
     "text": [
      "accuracy 0.3483535528596187\n",
      "recall 0.0\n",
      "precision 0.0\n",
      "\n",
      "Training model on: TMIN\n",
      "accuracy 0.7365684575389948\n",
      "recall 0.6303191489361702\n",
      "precision 0.948\n",
      "\n",
      "Training model on: Wind Angle\n",
      "accuracy 0.44714038128249567\n",
      "recall 0.3882978723404255\n",
      "precision 0.6212765957446809\n",
      "\n",
      "Training model on: PRCP\n",
      "accuracy 0.6464471403812825\n",
      "recall 0.8031914893617021\n",
      "precision 0.6990740740740741\n",
      "\n",
      "Training model on: Turbidity (NTU)\n"
     ]
    },
    {
     "name": "stderr",
     "output_type": "stream",
     "text": [
      "C:\\Users\\mccomackjp\\AppData\\Local\\Continuum\\anaconda3\\lib\\site-packages\\sklearn\\metrics\\classification.py:1143: UndefinedMetricWarning: Precision is ill-defined and being set to 0.0 due to no predicted samples.\n",
      "  'precision', 'predicted', average, warn_for)\n"
     ]
    },
    {
     "name": "stdout",
     "output_type": "stream",
     "text": [
      "accuracy 0.3483535528596187\n",
      "recall 0.0\n",
      "precision 0.0\n",
      "\n",
      "Training model on: Temp C\n",
      "accuracy 0.6932409012131716\n",
      "recall 0.5398936170212766\n",
      "precision 0.9806763285024155\n",
      "\n",
      "Training model on: ODO (mg/L)\n",
      "accuracy 0.4124783362218371\n",
      "recall 0.27925531914893614\n",
      "precision 0.6069364161849711\n",
      "\n",
      "Training model on: Sp Cond (uS/cm)\n",
      "accuracy 0.18024263431542462\n",
      "recall 0.09574468085106383\n",
      "precision 0.21301775147928995\n",
      "\n",
      "Training model on: SNWD\n"
     ]
    },
    {
     "name": "stderr",
     "output_type": "stream",
     "text": [
      "C:\\Users\\mccomackjp\\AppData\\Local\\Continuum\\anaconda3\\lib\\site-packages\\sklearn\\metrics\\classification.py:1143: UndefinedMetricWarning: Precision is ill-defined and being set to 0.0 due to no predicted samples.\n",
      "  'precision', 'predicted', average, warn_for)\n"
     ]
    },
    {
     "name": "stdout",
     "output_type": "stream",
     "text": [
      "accuracy 0.3483535528596187\n",
      "recall 0.0\n",
      "precision 0.0\n",
      "\n",
      "Training model on: SNOW\n"
     ]
    },
    {
     "name": "stderr",
     "output_type": "stream",
     "text": [
      "C:\\Users\\mccomackjp\\AppData\\Local\\Continuum\\anaconda3\\lib\\site-packages\\sklearn\\metrics\\classification.py:1143: UndefinedMetricWarning: Precision is ill-defined and being set to 0.0 due to no predicted samples.\n",
      "  'precision', 'predicted', average, warn_for)\n"
     ]
    },
    {
     "name": "stdout",
     "output_type": "stream",
     "text": [
      "accuracy 0.3483535528596187\n",
      "recall 0.0\n",
      "precision 0.0\n",
      "\n",
      "current separation 28 days 00:00:00\n",
      "Windowizing 2017 data set: 0\n",
      "Segmenting...\n",
      "Extracting feature windows...\n",
      "Extracting target windows...\n",
      "Combining extractions...\n",
      "Segmenting...\n",
      "Extracting feature windows...\n",
      "Extracting target windows...\n",
      "Combining extractions...\n",
      "Windowizing 2018 data set: 0\n",
      "Segmenting...\n",
      "Extracting feature windows...\n",
      "Extracting target windows...\n",
      "Combining extractions...\n",
      "Segmenting...\n",
      "Extracting feature windows...\n",
      "Extracting target windows...\n",
      "Combining extractions...\n",
      "\n",
      "Training model on: pH\n",
      "accuracy 0.2682926829268293\n",
      "recall 0.042440318302387266\n",
      "precision 0.21333333333333335\n",
      "\n",
      "Training model on: pH (mV)\n"
     ]
    },
    {
     "name": "stderr",
     "output_type": "stream",
     "text": [
      "C:\\Users\\mccomackjp\\AppData\\Local\\Continuum\\anaconda3\\lib\\site-packages\\sklearn\\metrics\\classification.py:1143: UndefinedMetricWarning: Precision is ill-defined and being set to 0.0 due to no predicted samples.\n",
      "  'precision', 'predicted', average, warn_for)\n"
     ]
    },
    {
     "name": "stdout",
     "output_type": "stream",
     "text": [
      "accuracy 0.343205574912892\n",
      "recall 0.0\n",
      "precision 0.0\n",
      "\n",
      "Training model on: ODOSat%\n"
     ]
    },
    {
     "name": "stderr",
     "output_type": "stream",
     "text": [
      "C:\\Users\\mccomackjp\\AppData\\Local\\Continuum\\anaconda3\\lib\\site-packages\\sklearn\\metrics\\classification.py:1143: UndefinedMetricWarning: Precision is ill-defined and being set to 0.0 due to no predicted samples.\n",
      "  'precision', 'predicted', average, warn_for)\n"
     ]
    },
    {
     "name": "stdout",
     "output_type": "stream",
     "text": [
      "accuracy 0.343205574912892\n",
      "recall 0.0\n",
      "precision 0.0\n",
      "\n",
      "Training model on: TMAX\n",
      "accuracy 0.7752613240418118\n",
      "recall 0.7108753315649867\n",
      "precision 0.9305555555555556\n",
      "\n",
      "Training model on: rainy\n",
      "accuracy 0.5278745644599303\n",
      "recall 0.5464190981432361\n",
      "precision 0.673202614379085\n",
      "\n",
      "Training model on: Wind Speed\n"
     ]
    },
    {
     "name": "stderr",
     "output_type": "stream",
     "text": [
      "C:\\Users\\mccomackjp\\AppData\\Local\\Continuum\\anaconda3\\lib\\site-packages\\sklearn\\metrics\\classification.py:1143: UndefinedMetricWarning: Precision is ill-defined and being set to 0.0 due to no predicted samples.\n",
      "  'precision', 'predicted', average, warn_for)\n"
     ]
    },
    {
     "name": "stdout",
     "output_type": "stream",
     "text": [
      "accuracy 0.343205574912892\n",
      "recall 0.0\n",
      "precision 0.0\n",
      "\n",
      "Training model on: TMIN\n",
      "accuracy 0.7299651567944251\n",
      "recall 0.6259946949602122\n",
      "precision 0.944\n",
      "\n",
      "Training model on: Wind Angle\n",
      "accuracy 0.45121951219512196\n",
      "recall 0.4244031830238727\n",
      "precision 0.6201550387596899\n",
      "\n",
      "Training model on: PRCP\n",
      "accuracy 0.6498257839721254\n",
      "recall 0.8037135278514589\n",
      "precision 0.7046511627906977\n",
      "\n",
      "Training model on: Turbidity (NTU)\n",
      "accuracy 0.33797909407665505\n",
      "recall 0.0\n",
      "precision 0.0\n",
      "\n",
      "Training model on: Temp C\n",
      "accuracy 0.7038327526132404\n",
      "recall 0.5570291777188329\n",
      "precision 0.9859154929577465\n",
      "\n",
      "Training model on: ODO (mg/L)\n",
      "accuracy 0.41289198606271776\n",
      "recall 0.28116710875331563\n",
      "precision 0.6162790697674418\n",
      "\n",
      "Training model on: Sp Cond (uS/cm)\n",
      "accuracy 0.1916376306620209\n",
      "recall 0.11671087533156499\n",
      "precision 0.25142857142857145\n",
      "\n",
      "Training model on: SNWD\n"
     ]
    },
    {
     "name": "stderr",
     "output_type": "stream",
     "text": [
      "C:\\Users\\mccomackjp\\AppData\\Local\\Continuum\\anaconda3\\lib\\site-packages\\sklearn\\metrics\\classification.py:1143: UndefinedMetricWarning: Precision is ill-defined and being set to 0.0 due to no predicted samples.\n",
      "  'precision', 'predicted', average, warn_for)\n"
     ]
    },
    {
     "name": "stdout",
     "output_type": "stream",
     "text": [
      "accuracy 0.343205574912892\n",
      "recall 0.0\n",
      "precision 0.0\n",
      "\n",
      "Training model on: SNOW\n"
     ]
    },
    {
     "name": "stderr",
     "output_type": "stream",
     "text": [
      "C:\\Users\\mccomackjp\\AppData\\Local\\Continuum\\anaconda3\\lib\\site-packages\\sklearn\\metrics\\classification.py:1143: UndefinedMetricWarning: Precision is ill-defined and being set to 0.0 due to no predicted samples.\n",
      "  'precision', 'predicted', average, warn_for)\n"
     ]
    },
    {
     "name": "stdout",
     "output_type": "stream",
     "text": [
      "accuracy 0.343205574912892\n",
      "recall 0.0\n",
      "precision 0.0\n",
      "\n",
      "current separation 29 days 00:00:00\n",
      "Windowizing 2017 data set: 0\n",
      "Segmenting...\n",
      "Extracting feature windows...\n",
      "Extracting target windows...\n",
      "Combining extractions...\n",
      "Segmenting...\n",
      "Extracting feature windows...\n",
      "Extracting target windows...\n",
      "Combining extractions...\n",
      "Windowizing 2018 data set: 0\n",
      "Segmenting...\n",
      "Extracting feature windows...\n",
      "Extracting target windows...\n",
      "Combining extractions...\n",
      "Segmenting...\n",
      "Extracting feature windows...\n",
      "Extracting target windows...\n",
      "Combining extractions...\n",
      "\n",
      "Training model on: pH\n",
      "accuracy 0.2807017543859649\n",
      "recall 0.09536784741144415\n",
      "precision 0.30973451327433627\n",
      "\n",
      "Training model on: pH (mV)\n"
     ]
    },
    {
     "name": "stderr",
     "output_type": "stream",
     "text": [
      "C:\\Users\\mccomackjp\\AppData\\Local\\Continuum\\anaconda3\\lib\\site-packages\\sklearn\\metrics\\classification.py:1143: UndefinedMetricWarning: Precision is ill-defined and being set to 0.0 due to no predicted samples.\n",
      "  'precision', 'predicted', average, warn_for)\n"
     ]
    },
    {
     "name": "stdout",
     "output_type": "stream",
     "text": [
      "accuracy 0.356140350877193\n",
      "recall 0.0\n",
      "precision 0.0\n",
      "\n",
      "Training model on: ODOSat%\n"
     ]
    },
    {
     "name": "stderr",
     "output_type": "stream",
     "text": [
      "C:\\Users\\mccomackjp\\AppData\\Local\\Continuum\\anaconda3\\lib\\site-packages\\sklearn\\metrics\\classification.py:1143: UndefinedMetricWarning: Precision is ill-defined and being set to 0.0 due to no predicted samples.\n",
      "  'precision', 'predicted', average, warn_for)\n"
     ]
    },
    {
     "name": "stdout",
     "output_type": "stream",
     "text": [
      "accuracy 0.356140350877193\n",
      "recall 0.0\n",
      "precision 0.0\n",
      "\n",
      "Training model on: TMAX\n",
      "accuracy 0.7771929824561403\n",
      "recall 0.7193460490463215\n",
      "precision 0.9166666666666666\n",
      "\n",
      "Training model on: rainy\n",
      "accuracy 0.5350877192982456\n",
      "recall 0.5504087193460491\n",
      "precision 0.6688741721854304\n",
      "\n",
      "Training model on: Wind Speed\n",
      "accuracy 0.32105263157894737\n",
      "recall 0.0\n",
      "precision 0.0\n",
      "\n",
      "Training model on: TMIN\n",
      "accuracy 0.7315789473684211\n",
      "recall 0.6321525885558583\n",
      "precision 0.928\n",
      "\n",
      "Training model on: Wind Angle\n",
      "accuracy 0.4473684210526316\n",
      "recall 0.41689373297002724\n",
      "precision 0.6023622047244095\n",
      "\n",
      "Training model on: PRCP\n",
      "accuracy 0.6543859649122807\n",
      "recall 0.8119891008174387\n",
      "precision 0.6995305164319249\n",
      "\n",
      "Training model on: Turbidity (NTU)\n",
      "accuracy 0.3508771929824561\n",
      "recall 0.008174386920980926\n",
      "precision 0.3333333333333333\n",
      "\n",
      "Training model on: Temp C\n",
      "accuracy 0.7157894736842105\n",
      "recall 0.5694822888283378\n",
      "precision 0.9812206572769953\n",
      "\n",
      "Training model on: ODO (mg/L)\n",
      "accuracy 0.42105263157894735\n",
      "recall 0.3215258855585831\n",
      "precision 0.592964824120603\n",
      "\n",
      "Training model on: Sp Cond (uS/cm)\n",
      "accuracy 0.20350877192982456\n",
      "recall 0.12534059945504086\n",
      "precision 0.2569832402234637\n",
      "\n",
      "Training model on: SNWD\n"
     ]
    },
    {
     "name": "stderr",
     "output_type": "stream",
     "text": [
      "C:\\Users\\mccomackjp\\AppData\\Local\\Continuum\\anaconda3\\lib\\site-packages\\sklearn\\metrics\\classification.py:1143: UndefinedMetricWarning: Precision is ill-defined and being set to 0.0 due to no predicted samples.\n",
      "  'precision', 'predicted', average, warn_for)\n"
     ]
    },
    {
     "name": "stdout",
     "output_type": "stream",
     "text": [
      "accuracy 0.356140350877193\n",
      "recall 0.0\n",
      "precision 0.0\n",
      "\n",
      "Training model on: SNOW\n"
     ]
    },
    {
     "name": "stderr",
     "output_type": "stream",
     "text": [
      "C:\\Users\\mccomackjp\\AppData\\Local\\Continuum\\anaconda3\\lib\\site-packages\\sklearn\\metrics\\classification.py:1143: UndefinedMetricWarning: Precision is ill-defined and being set to 0.0 due to no predicted samples.\n",
      "  'precision', 'predicted', average, warn_for)\n"
     ]
    },
    {
     "name": "stdout",
     "output_type": "stream",
     "text": [
      "accuracy 0.356140350877193\n",
      "recall 0.0\n",
      "precision 0.0\n",
      "\n",
      "current separation 30 days 00:00:00\n",
      "Windowizing 2017 data set: 0\n",
      "Segmenting...\n",
      "Extracting feature windows...\n",
      "Extracting target windows...\n",
      "Combining extractions...\n",
      "Segmenting...\n",
      "Extracting feature windows...\n",
      "Extracting target windows...\n",
      "Combining extractions...\n",
      "Windowizing 2018 data set: 0\n",
      "Segmenting...\n",
      "Extracting feature windows...\n",
      "Extracting target windows...\n",
      "Combining extractions...\n",
      "Segmenting...\n",
      "Extracting feature windows...\n",
      "Extracting target windows...\n",
      "Combining extractions...\n",
      "\n",
      "Training model on: pH\n",
      "accuracy 0.2826855123674912\n",
      "recall 0.12195121951219512\n",
      "precision 0.3543307086614173\n",
      "\n",
      "Training model on: pH (mV)\n"
     ]
    },
    {
     "name": "stderr",
     "output_type": "stream",
     "text": [
      "C:\\Users\\mccomackjp\\AppData\\Local\\Continuum\\anaconda3\\lib\\site-packages\\sklearn\\metrics\\classification.py:1143: UndefinedMetricWarning: Precision is ill-defined and being set to 0.0 due to no predicted samples.\n",
      "  'precision', 'predicted', average, warn_for)\n"
     ]
    },
    {
     "name": "stdout",
     "output_type": "stream",
     "text": [
      "accuracy 0.3480565371024735\n",
      "recall 0.0\n",
      "precision 0.0\n",
      "\n",
      "Training model on: ODOSat%\n",
      "accuracy 0.31625441696113077\n",
      "recall 0.17615176151761516\n",
      "precision 0.4391891891891892\n",
      "\n",
      "Training model on: TMAX\n",
      "accuracy 0.8215547703180212\n",
      "recall 0.8075880758807588\n",
      "precision 0.9085365853658537\n",
      "\n",
      "Training model on: rainy\n",
      "accuracy 0.5353356890459364\n",
      "recall 0.5474254742547425\n",
      "precision 0.6778523489932886\n",
      "\n",
      "Training model on: Wind Speed\n",
      "accuracy 0.3127208480565371\n",
      "recall 0.0\n",
      "precision 0.0\n",
      "\n",
      "Training model on: TMIN\n",
      "accuracy 0.7508833922261484\n",
      "recall 0.7479674796747967\n",
      "precision 0.8518518518518519\n",
      "\n",
      "Training model on: Wind Angle\n",
      "accuracy 0.4734982332155477\n",
      "recall 0.4444444444444444\n",
      "precision 0.6381322957198443\n",
      "\n",
      "Training model on: PRCP\n",
      "accuracy 0.6625441696113075\n",
      "recall 0.8130081300813008\n",
      "precision 0.7109004739336493\n",
      "\n",
      "Training model on: Turbidity (NTU)\n",
      "accuracy 0.38515901060070673\n",
      "recall 0.18157181571815717\n",
      "precision 0.5929203539823009\n",
      "\n",
      "Training model on: Temp C\n",
      "accuracy 0.7067137809187279\n",
      "recall 0.5880758807588076\n",
      "precision 0.9393939393939394\n",
      "\n",
      "Training model on: ODO (mg/L)\n",
      "accuracy 0.4452296819787986\n",
      "recall 0.3821138211382114\n",
      "precision 0.6211453744493393\n",
      "\n",
      "Training model on: Sp Cond (uS/cm)\n",
      "accuracy 0.2667844522968198\n",
      "recall 0.21951219512195122\n",
      "precision 0.3894230769230769\n",
      "\n",
      "Training model on: SNWD\n"
     ]
    },
    {
     "name": "stderr",
     "output_type": "stream",
     "text": [
      "C:\\Users\\mccomackjp\\AppData\\Local\\Continuum\\anaconda3\\lib\\site-packages\\sklearn\\metrics\\classification.py:1143: UndefinedMetricWarning: Precision is ill-defined and being set to 0.0 due to no predicted samples.\n",
      "  'precision', 'predicted', average, warn_for)\n"
     ]
    },
    {
     "name": "stdout",
     "output_type": "stream",
     "text": [
      "accuracy 0.3480565371024735\n",
      "recall 0.0\n",
      "precision 0.0\n",
      "\n",
      "Training model on: SNOW\n"
     ]
    },
    {
     "name": "stderr",
     "output_type": "stream",
     "text": [
      "C:\\Users\\mccomackjp\\AppData\\Local\\Continuum\\anaconda3\\lib\\site-packages\\sklearn\\metrics\\classification.py:1143: UndefinedMetricWarning: Precision is ill-defined and being set to 0.0 due to no predicted samples.\n",
      "  'precision', 'predicted', average, warn_for)\n"
     ]
    },
    {
     "name": "stdout",
     "output_type": "stream",
     "text": [
      "accuracy 0.3480565371024735\n",
      "recall 0.0\n",
      "precision 0.0\n",
      "\n",
      "current separation 31 days 00:00:00\n",
      "Windowizing 2017 data set: 0\n",
      "Segmenting...\n",
      "Extracting feature windows...\n",
      "Extracting target windows...\n",
      "Combining extractions...\n",
      "Segmenting...\n",
      "Extracting feature windows...\n",
      "Extracting target windows...\n",
      "Combining extractions...\n",
      "Windowizing 2018 data set: 0\n",
      "Segmenting...\n",
      "Extracting feature windows...\n",
      "Extracting target windows...\n",
      "Combining extractions...\n",
      "Segmenting...\n",
      "Extracting feature windows...\n",
      "Extracting target windows...\n",
      "Combining extractions...\n",
      "\n",
      "Training model on: pH\n",
      "accuracy 0.26773049645390073\n",
      "recall 0.12169312169312169\n",
      "precision 0.36220472440944884\n",
      "\n",
      "Training model on: pH (mV)\n"
     ]
    },
    {
     "name": "stderr",
     "output_type": "stream",
     "text": [
      "C:\\Users\\mccomackjp\\AppData\\Local\\Continuum\\anaconda3\\lib\\site-packages\\sklearn\\metrics\\classification.py:1143: UndefinedMetricWarning: Precision is ill-defined and being set to 0.0 due to no predicted samples.\n",
      "  'precision', 'predicted', average, warn_for)\n"
     ]
    },
    {
     "name": "stdout",
     "output_type": "stream",
     "text": [
      "accuracy 0.32978723404255317\n",
      "recall 0.0\n",
      "precision 0.0\n",
      "\n",
      "Training model on: ODOSat%\n",
      "accuracy 0.3173758865248227\n",
      "recall 0.15608465608465608\n",
      "precision 0.472\n",
      "\n",
      "Training model on: TMAX\n",
      "accuracy 0.7588652482269503\n",
      "recall 0.701058201058201\n",
      "precision 0.9201388888888888\n",
      "\n",
      "Training model on: rainy\n",
      "accuracy 0.5390070921985816\n",
      "recall 0.5476190476190477\n",
      "precision 0.6993243243243243\n",
      "\n",
      "Training model on: Wind Speed\n",
      "accuracy 0.29432624113475175\n",
      "recall 0.0\n",
      "precision 0.0\n",
      "\n",
      "Training model on: TMIN\n",
      "accuracy 0.7588652482269503\n",
      "recall 0.7486772486772487\n",
      "precision 0.8734567901234568\n",
      "\n",
      "Training model on: Wind Angle\n",
      "accuracy 0.49822695035460995\n",
      "recall 0.46296296296296297\n",
      "precision 0.6862745098039216\n",
      "\n",
      "Training model on: PRCP\n",
      "accuracy 0.6702127659574468\n",
      "recall 0.8095238095238095\n",
      "precision 0.7285714285714285\n",
      "\n",
      "Training model on: Turbidity (NTU)\n",
      "accuracy 0.38120567375886527\n",
      "recall 0.19576719576719576\n",
      "precision 0.6218487394957983\n",
      "\n",
      "Training model on: Temp C\n",
      "accuracy 0.6985815602836879\n",
      "recall 0.5582010582010583\n",
      "precision 0.985981308411215\n",
      "\n",
      "Training model on: ODO (mg/L)\n",
      "accuracy 0.42730496453900707\n",
      "recall 0.35978835978835977\n",
      "precision 0.6267281105990783\n",
      "\n",
      "Training model on: Sp Cond (uS/cm)\n",
      "accuracy 0.21808510638297873\n",
      "recall 0.1693121693121693\n",
      "precision 0.33507853403141363\n",
      "\n",
      "Training model on: SNWD\n"
     ]
    },
    {
     "name": "stderr",
     "output_type": "stream",
     "text": [
      "C:\\Users\\mccomackjp\\AppData\\Local\\Continuum\\anaconda3\\lib\\site-packages\\sklearn\\metrics\\classification.py:1143: UndefinedMetricWarning: Precision is ill-defined and being set to 0.0 due to no predicted samples.\n",
      "  'precision', 'predicted', average, warn_for)\n"
     ]
    },
    {
     "name": "stdout",
     "output_type": "stream",
     "text": [
      "accuracy 0.32978723404255317\n",
      "recall 0.0\n",
      "precision 0.0\n",
      "\n",
      "Training model on: SNOW\n"
     ]
    },
    {
     "name": "stderr",
     "output_type": "stream",
     "text": [
      "C:\\Users\\mccomackjp\\AppData\\Local\\Continuum\\anaconda3\\lib\\site-packages\\sklearn\\metrics\\classification.py:1143: UndefinedMetricWarning: Precision is ill-defined and being set to 0.0 due to no predicted samples.\n",
      "  'precision', 'predicted', average, warn_for)\n"
     ]
    },
    {
     "name": "stdout",
     "output_type": "stream",
     "text": [
      "accuracy 0.32978723404255317\n",
      "recall 0.0\n",
      "precision 0.0\n",
      "\n",
      "current separation 32 days 00:00:00\n",
      "Windowizing 2017 data set: 0\n",
      "Segmenting...\n",
      "Extracting feature windows...\n",
      "Extracting target windows...\n",
      "Combining extractions...\n",
      "Segmenting...\n",
      "Extracting feature windows...\n",
      "Extracting target windows...\n",
      "Combining extractions...\n",
      "Windowizing 2018 data set: 0\n",
      "Segmenting...\n",
      "Extracting feature windows...\n",
      "Extracting target windows...\n",
      "Combining extractions...\n",
      "Segmenting...\n",
      "Extracting feature windows...\n",
      "Extracting target windows...\n",
      "Combining extractions...\n",
      "\n",
      "Training model on: pH\n",
      "accuracy 0.28214285714285714\n",
      "recall 0.1293800539083558\n",
      "precision 0.3779527559055118\n",
      "\n",
      "Training model on: pH (mV)\n"
     ]
    },
    {
     "name": "stderr",
     "output_type": "stream",
     "text": [
      "C:\\Users\\mccomackjp\\AppData\\Local\\Continuum\\anaconda3\\lib\\site-packages\\sklearn\\metrics\\classification.py:1143: UndefinedMetricWarning: Precision is ill-defined and being set to 0.0 due to no predicted samples.\n",
      "  'precision', 'predicted', average, warn_for)\n"
     ]
    },
    {
     "name": "stdout",
     "output_type": "stream",
     "text": [
      "accuracy 0.3375\n",
      "recall 0.0\n",
      "precision 0.0\n",
      "\n",
      "Training model on: ODOSat%\n",
      "accuracy 0.3107142857142857\n",
      "recall 0.1752021563342318\n",
      "precision 0.4482758620689655\n",
      "\n",
      "Training model on: TMAX\n",
      "accuracy 0.7589285714285714\n",
      "recall 0.706199460916442\n",
      "precision 0.9097222222222222\n",
      "\n",
      "Training model on: rainy\n",
      "accuracy 0.5339285714285714\n",
      "recall 0.5417789757412399\n",
      "precision 0.6883561643835616\n",
      "\n",
      "Training model on: Wind Speed\n",
      "accuracy 0.30178571428571427\n",
      "recall 0.0\n",
      "precision 0.0\n",
      "\n",
      "Training model on: TMIN\n",
      "accuracy 0.7232142857142857\n",
      "recall 0.628032345013477\n",
      "precision 0.932\n",
      "\n",
      "Training model on: Wind Angle\n",
      "accuracy 0.4714285714285714\n",
      "recall 0.4393530997304582\n",
      "precision 0.649402390438247\n",
      "\n",
      "Training model on: PRCP\n",
      "accuracy 0.6732142857142858\n",
      "recall 0.8140161725067385\n",
      "precision 0.7259615384615384\n",
      "\n",
      "Training model on: Turbidity (NTU)\n",
      "accuracy 0.37142857142857144\n",
      "recall 0.12668463611859837\n",
      "precision 0.6266666666666667\n",
      "\n",
      "Training model on: Temp C\n",
      "accuracy 0.7\n",
      "recall 0.5606469002695418\n",
      "precision 0.9765258215962441\n",
      "\n",
      "Training model on: ODO (mg/L)\n",
      "accuracy 0.44107142857142856\n",
      "recall 0.3746630727762803\n",
      "precision 0.6318181818181818\n",
      "\n",
      "Training model on: Sp Cond (uS/cm)\n",
      "accuracy 0.23214285714285715\n",
      "recall 0.1778975741239892\n",
      "precision 0.34554973821989526\n",
      "\n",
      "Training model on: SNWD\n"
     ]
    },
    {
     "name": "stderr",
     "output_type": "stream",
     "text": [
      "C:\\Users\\mccomackjp\\AppData\\Local\\Continuum\\anaconda3\\lib\\site-packages\\sklearn\\metrics\\classification.py:1143: UndefinedMetricWarning: Precision is ill-defined and being set to 0.0 due to no predicted samples.\n",
      "  'precision', 'predicted', average, warn_for)\n"
     ]
    },
    {
     "name": "stdout",
     "output_type": "stream",
     "text": [
      "accuracy 0.3375\n",
      "recall 0.0\n",
      "precision 0.0\n",
      "\n",
      "Training model on: SNOW\n"
     ]
    },
    {
     "name": "stderr",
     "output_type": "stream",
     "text": [
      "C:\\Users\\mccomackjp\\AppData\\Local\\Continuum\\anaconda3\\lib\\site-packages\\sklearn\\metrics\\classification.py:1143: UndefinedMetricWarning: Precision is ill-defined and being set to 0.0 due to no predicted samples.\n",
      "  'precision', 'predicted', average, warn_for)\n"
     ]
    },
    {
     "name": "stdout",
     "output_type": "stream",
     "text": [
      "accuracy 0.3375\n",
      "recall 0.0\n",
      "precision 0.0\n",
      "\n",
      "current separation 33 days 00:00:00\n",
      "Windowizing 2017 data set: 0\n",
      "Segmenting...\n",
      "Extracting feature windows...\n",
      "Extracting target windows...\n",
      "Combining extractions...\n",
      "Segmenting...\n",
      "Extracting feature windows...\n",
      "Extracting target windows...\n",
      "Combining extractions...\n",
      "Windowizing 2018 data set: 0\n",
      "Segmenting...\n",
      "Extracting feature windows...\n",
      "Extracting target windows...\n",
      "Combining extractions...\n",
      "Segmenting...\n",
      "Extracting feature windows...\n",
      "Extracting target windows...\n",
      "Combining extractions...\n",
      "\n",
      "Training model on: pH\n",
      "accuracy 0.2823741007194245\n",
      "recall 0.1331521739130435\n",
      "precision 0.3798449612403101\n",
      "\n",
      "Training model on: pH (mV)\n"
     ]
    },
    {
     "name": "stderr",
     "output_type": "stream",
     "text": [
      "C:\\Users\\mccomackjp\\AppData\\Local\\Continuum\\anaconda3\\lib\\site-packages\\sklearn\\metrics\\classification.py:1143: UndefinedMetricWarning: Precision is ill-defined and being set to 0.0 due to no predicted samples.\n",
      "  'precision', 'predicted', average, warn_for)\n"
     ]
    },
    {
     "name": "stdout",
     "output_type": "stream",
     "text": [
      "accuracy 0.3381294964028777\n",
      "recall 0.0\n",
      "precision 0.0\n",
      "\n",
      "Training model on: ODOSat%\n",
      "accuracy 0.3183453237410072\n",
      "recall 0.1793478260869565\n",
      "precision 0.46153846153846156\n",
      "\n",
      "Training model on: TMAX\n",
      "accuracy 0.762589928057554\n",
      "recall 0.7119565217391305\n",
      "precision 0.9097222222222222\n",
      "\n",
      "Training model on: rainy\n",
      "accuracy 0.5287769784172662\n",
      "recall 0.5353260869565217\n",
      "precision 0.6840277777777778\n",
      "\n",
      "Training model on: Wind Speed\n",
      "accuracy 0.2787769784172662\n",
      "recall 0.035326086956521736\n",
      "precision 0.22033898305084745\n",
      "\n",
      "Training model on: TMIN\n",
      "accuracy 0.7158273381294964\n",
      "recall 0.625\n",
      "precision 0.92\n",
      "\n",
      "Training model on: Wind Angle\n",
      "accuracy 0.48381294964028776\n",
      "recall 0.4483695652173913\n",
      "precision 0.6626506024096386\n",
      "\n",
      "Training model on: PRCP\n",
      "accuracy 0.6762589928057554\n",
      "recall 0.8152173913043478\n",
      "precision 0.7281553398058253\n",
      "\n",
      "Training model on: Turbidity (NTU)\n",
      "accuracy 0.35251798561151076\n",
      "recall 0.07336956521739131\n",
      "precision 0.5869565217391305\n",
      "\n",
      "Training model on: Temp C\n",
      "accuracy 0.6888489208633094\n",
      "recall 0.5434782608695652\n",
      "precision 0.975609756097561\n",
      "\n",
      "Training model on: ODO (mg/L)\n",
      "accuracy 0.45323741007194246\n",
      "recall 0.37771739130434784\n",
      "precision 0.6495327102803738\n",
      "\n",
      "Training model on: Sp Cond (uS/cm)\n",
      "accuracy 0.2356115107913669\n",
      "recall 0.18478260869565216\n",
      "precision 0.35233160621761656\n",
      "\n",
      "Training model on: SNWD\n"
     ]
    },
    {
     "name": "stderr",
     "output_type": "stream",
     "text": [
      "C:\\Users\\mccomackjp\\AppData\\Local\\Continuum\\anaconda3\\lib\\site-packages\\sklearn\\metrics\\classification.py:1143: UndefinedMetricWarning: Precision is ill-defined and being set to 0.0 due to no predicted samples.\n",
      "  'precision', 'predicted', average, warn_for)\n"
     ]
    },
    {
     "name": "stdout",
     "output_type": "stream",
     "text": [
      "accuracy 0.3381294964028777\n",
      "recall 0.0\n",
      "precision 0.0\n",
      "\n",
      "Training model on: SNOW\n"
     ]
    },
    {
     "name": "stderr",
     "output_type": "stream",
     "text": [
      "C:\\Users\\mccomackjp\\AppData\\Local\\Continuum\\anaconda3\\lib\\site-packages\\sklearn\\metrics\\classification.py:1143: UndefinedMetricWarning: Precision is ill-defined and being set to 0.0 due to no predicted samples.\n",
      "  'precision', 'predicted', average, warn_for)\n"
     ]
    },
    {
     "name": "stdout",
     "output_type": "stream",
     "text": [
      "accuracy 0.3381294964028777\n",
      "recall 0.0\n",
      "precision 0.0\n",
      "\n",
      "current separation 34 days 00:00:00\n",
      "Windowizing 2017 data set: 0\n",
      "Segmenting...\n",
      "Extracting feature windows...\n",
      "Extracting target windows...\n",
      "Combining extractions...\n",
      "Segmenting...\n",
      "Extracting feature windows...\n",
      "Extracting target windows...\n",
      "Combining extractions...\n",
      "Windowizing 2018 data set: 0\n",
      "Segmenting...\n",
      "Extracting feature windows...\n",
      "Extracting target windows...\n",
      "Combining extractions...\n",
      "Segmenting...\n",
      "Extracting feature windows...\n",
      "Extracting target windows...\n",
      "Combining extractions...\n",
      "\n",
      "Training model on: pH\n",
      "accuracy 0.2766726943942134\n",
      "recall 0.14095744680851063\n",
      "precision 0.4076923076923077\n",
      "\n",
      "Training model on: pH (mV)\n"
     ]
    },
    {
     "name": "stderr",
     "output_type": "stream",
     "text": [
      "C:\\Users\\mccomackjp\\AppData\\Local\\Continuum\\anaconda3\\lib\\site-packages\\sklearn\\metrics\\classification.py:1143: UndefinedMetricWarning: Precision is ill-defined and being set to 0.0 due to no predicted samples.\n",
      "  'precision', 'predicted', average, warn_for)\n"
     ]
    },
    {
     "name": "stdout",
     "output_type": "stream",
     "text": [
      "accuracy 0.32007233273056057\n",
      "recall 0.0\n",
      "precision 0.0\n",
      "\n",
      "Training model on: ODOSat%\n",
      "accuracy 0.3309222423146474\n",
      "recall 0.23404255319148937\n",
      "precision 0.5176470588235295\n",
      "\n",
      "Training model on: TMAX\n",
      "accuracy 0.7576853526220615\n",
      "recall 0.7047872340425532\n",
      "precision 0.9201388888888888\n",
      "\n",
      "Training model on: rainy\n",
      "accuracy 0.5244122965641953\n",
      "recall 0.5292553191489362\n",
      "precision 0.6982456140350877\n",
      "\n",
      "Training model on: Wind Speed\n",
      "accuracy 0.32730560578661844\n",
      "recall 0.13031914893617022\n",
      "precision 0.5212765957446809\n",
      "\n",
      "Training model on: TMIN\n",
      "accuracy 0.7034358047016275\n",
      "recall 0.6143617021276596\n",
      "precision 0.924\n",
      "\n",
      "Training model on: Wind Angle\n",
      "accuracy 0.49547920433996384\n",
      "recall 0.4601063829787234\n",
      "precision 0.6947791164658634\n",
      "\n",
      "Training model on: PRCP\n",
      "accuracy 0.6799276672694394\n",
      "recall 0.8085106382978723\n",
      "precision 0.7432762836185819\n",
      "\n",
      "Training model on: Turbidity (NTU)\n",
      "accuracy 0.37251356238698013\n",
      "recall 0.1622340425531915\n",
      "precision 0.6559139784946236\n",
      "\n",
      "Training model on: Temp C\n",
      "accuracy 0.6582278481012658\n",
      "recall 0.5106382978723404\n",
      "precision 0.9746192893401016\n",
      "\n",
      "Training model on: ODO (mg/L)\n",
      "accuracy 0.47920433996383366\n",
      "recall 0.4095744680851064\n",
      "precision 0.7\n",
      "\n",
      "Training model on: Sp Cond (uS/cm)\n",
      "accuracy 0.22423146473779385\n",
      "recall 0.18351063829787234\n",
      "precision 0.3612565445026178\n",
      "\n",
      "Training model on: SNWD\n"
     ]
    },
    {
     "name": "stderr",
     "output_type": "stream",
     "text": [
      "C:\\Users\\mccomackjp\\AppData\\Local\\Continuum\\anaconda3\\lib\\site-packages\\sklearn\\metrics\\classification.py:1143: UndefinedMetricWarning: Precision is ill-defined and being set to 0.0 due to no predicted samples.\n",
      "  'precision', 'predicted', average, warn_for)\n"
     ]
    },
    {
     "name": "stdout",
     "output_type": "stream",
     "text": [
      "accuracy 0.32007233273056057\n",
      "recall 0.0\n",
      "precision 0.0\n",
      "\n",
      "Training model on: SNOW\n"
     ]
    },
    {
     "name": "stderr",
     "output_type": "stream",
     "text": [
      "C:\\Users\\mccomackjp\\AppData\\Local\\Continuum\\anaconda3\\lib\\site-packages\\sklearn\\metrics\\classification.py:1143: UndefinedMetricWarning: Precision is ill-defined and being set to 0.0 due to no predicted samples.\n",
      "  'precision', 'predicted', average, warn_for)\n"
     ]
    },
    {
     "name": "stdout",
     "output_type": "stream",
     "text": [
      "accuracy 0.32007233273056057\n",
      "recall 0.0\n",
      "precision 0.0\n",
      "\n",
      "current separation 35 days 00:00:00\n",
      "Windowizing 2017 data set: 0\n",
      "Segmenting...\n",
      "Extracting feature windows...\n",
      "Extracting target windows...\n",
      "Combining extractions...\n",
      "Segmenting...\n",
      "Extracting feature windows...\n",
      "Extracting target windows...\n",
      "Combining extractions...\n",
      "Windowizing 2018 data set: 0\n",
      "Segmenting...\n",
      "Extracting feature windows...\n",
      "Extracting target windows...\n",
      "Combining extractions...\n",
      "Segmenting...\n",
      "Extracting feature windows...\n",
      "Extracting target windows...\n",
      "Combining extractions...\n",
      "\n",
      "Training model on: pH\n",
      "accuracy 0.2781818181818182\n",
      "recall 0.14588859416445624\n",
      "precision 0.4230769230769231\n",
      "\n",
      "Training model on: pH (mV)\n"
     ]
    },
    {
     "name": "stderr",
     "output_type": "stream",
     "text": [
      "C:\\Users\\mccomackjp\\AppData\\Local\\Continuum\\anaconda3\\lib\\site-packages\\sklearn\\metrics\\classification.py:1143: UndefinedMetricWarning: Precision is ill-defined and being set to 0.0 due to no predicted samples.\n",
      "  'precision', 'predicted', average, warn_for)\n"
     ]
    },
    {
     "name": "stdout",
     "output_type": "stream",
     "text": [
      "accuracy 0.3145454545454546\n",
      "recall 0.0\n",
      "precision 0.0\n",
      "\n",
      "Training model on: ODOSat%\n",
      "accuracy 0.3290909090909091\n",
      "recall 0.246684350132626\n",
      "precision 0.5224719101123596\n",
      "\n",
      "Training model on: TMAX\n",
      "accuracy 0.7654545454545455\n",
      "recall 0.7108753315649867\n",
      "precision 0.9305555555555556\n",
      "\n",
      "Training model on: rainy\n",
      "accuracy 0.5327272727272727\n",
      "recall 0.53315649867374\n",
      "precision 0.7127659574468085\n",
      "\n",
      "Training model on: Wind Speed\n",
      "accuracy 0.32181818181818184\n",
      "recall 0.129973474801061\n",
      "precision 0.5212765957446809\n",
      "\n",
      "Training model on: TMIN\n",
      "accuracy 0.6927272727272727\n",
      "recall 0.6074270557029178\n",
      "precision 0.916\n",
      "\n",
      "Training model on: Wind Angle\n",
      "accuracy 0.4909090909090909\n",
      "recall 0.4562334217506631\n",
      "precision 0.6963562753036437\n",
      "\n",
      "Training model on: PRCP\n",
      "accuracy 0.6890909090909091\n",
      "recall 0.8116710875331565\n",
      "precision 0.7536945812807881\n",
      "\n",
      "Training model on: Turbidity (NTU)\n",
      "accuracy 0.38181818181818183\n",
      "recall 0.2413793103448276\n",
      "precision 0.6275862068965518\n",
      "\n",
      "Training model on: Temp C\n",
      "accuracy 0.6509090909090909\n",
      "recall 0.506631299734748\n",
      "precision 0.9695431472081218\n",
      "\n",
      "Training model on: ODO (mg/L)\n",
      "accuracy 0.5018181818181818\n",
      "recall 0.4323607427055703\n",
      "precision 0.7309417040358744\n",
      "\n",
      "Training model on: Sp Cond (uS/cm)\n",
      "accuracy 0.2672727272727273\n",
      "recall 0.2413793103448276\n",
      "precision 0.4375\n",
      "\n",
      "Training model on: SNWD\n"
     ]
    },
    {
     "name": "stderr",
     "output_type": "stream",
     "text": [
      "C:\\Users\\mccomackjp\\AppData\\Local\\Continuum\\anaconda3\\lib\\site-packages\\sklearn\\metrics\\classification.py:1143: UndefinedMetricWarning: Precision is ill-defined and being set to 0.0 due to no predicted samples.\n",
      "  'precision', 'predicted', average, warn_for)\n"
     ]
    },
    {
     "name": "stdout",
     "output_type": "stream",
     "text": [
      "accuracy 0.3145454545454546\n",
      "recall 0.0\n",
      "precision 0.0\n",
      "\n",
      "Training model on: SNOW\n"
     ]
    },
    {
     "name": "stderr",
     "output_type": "stream",
     "text": [
      "C:\\Users\\mccomackjp\\AppData\\Local\\Continuum\\anaconda3\\lib\\site-packages\\sklearn\\metrics\\classification.py:1143: UndefinedMetricWarning: Precision is ill-defined and being set to 0.0 due to no predicted samples.\n",
      "  'precision', 'predicted', average, warn_for)\n"
     ]
    },
    {
     "name": "stdout",
     "output_type": "stream",
     "text": [
      "accuracy 0.3145454545454546\n",
      "recall 0.0\n",
      "precision 0.0\n",
      "\n",
      "current separation 36 days 00:00:00\n",
      "Windowizing 2017 data set: 0\n",
      "Segmenting...\n",
      "Extracting feature windows...\n",
      "Extracting target windows...\n",
      "Combining extractions...\n",
      "Segmenting...\n",
      "Extracting feature windows...\n",
      "Extracting target windows...\n",
      "Combining extractions...\n",
      "Windowizing 2018 data set: 0\n",
      "Segmenting...\n",
      "Extracting feature windows...\n",
      "Extracting target windows...\n",
      "Combining extractions...\n",
      "Segmenting...\n",
      "Extracting feature windows...\n",
      "Extracting target windows...\n",
      "Combining extractions...\n",
      "\n",
      "Training model on: pH\n",
      "accuracy 0.2857142857142857\n",
      "recall 0.16893732970027248\n",
      "precision 0.4217687074829932\n",
      "\n",
      "Training model on: pH (mV)\n"
     ]
    },
    {
     "name": "stderr",
     "output_type": "stream",
     "text": [
      "C:\\Users\\mccomackjp\\AppData\\Local\\Continuum\\anaconda3\\lib\\site-packages\\sklearn\\metrics\\classification.py:1143: UndefinedMetricWarning: Precision is ill-defined and being set to 0.0 due to no predicted samples.\n",
      "  'precision', 'predicted', average, warn_for)\n"
     ]
    },
    {
     "name": "stdout",
     "output_type": "stream",
     "text": [
      "accuracy 0.32783882783882784\n",
      "recall 0.0\n",
      "precision 0.0\n",
      "\n",
      "Training model on: ODOSat%\n",
      "accuracy 0.3516483516483517\n",
      "recall 0.2779291553133515\n",
      "precision 0.5340314136125655\n",
      "\n",
      "Training model on: TMAX\n",
      "accuracy 0.7087912087912088\n",
      "recall 0.5803814713896458\n",
      "precision 0.9770642201834863\n",
      "\n",
      "Training model on: rainy\n",
      "accuracy 0.5256410256410257\n",
      "recall 0.5258855585831063\n",
      "precision 0.6942446043165468\n",
      "\n",
      "Training model on: Wind Speed\n",
      "accuracy 0.3553113553113553\n",
      "recall 0.17438692098092642\n",
      "precision 0.5663716814159292\n",
      "\n",
      "Training model on: TMIN\n",
      "accuracy 0.6978021978021978\n",
      "recall 0.6158038147138964\n",
      "precision 0.904\n",
      "\n",
      "Training model on: Wind Angle\n",
      "accuracy 0.47985347985347987\n",
      "recall 0.444141689373297\n",
      "precision 0.6707818930041153\n",
      "\n",
      "Training model on: PRCP\n",
      "accuracy 0.6721611721611722\n",
      "recall 0.8038147138964578\n",
      "precision 0.7338308457711443\n",
      "\n",
      "Training model on: Turbidity (NTU)\n",
      "accuracy 0.4084249084249084\n",
      "recall 0.2888283378746594\n",
      "precision 0.6309523809523809\n",
      "\n",
      "Training model on: Temp C\n",
      "accuracy 0.663003663003663\n",
      "recall 0.5177111716621253\n",
      "precision 0.9644670050761421\n",
      "\n",
      "Training model on: ODO (mg/L)\n",
      "accuracy 0.5256410256410257\n",
      "recall 0.45231607629427795\n",
      "precision 0.7410714285714286\n",
      "\n",
      "Training model on: Sp Cond (uS/cm)\n",
      "accuracy 0.2802197802197802\n",
      "recall 0.24795640326975477\n",
      "precision 0.4375\n",
      "\n",
      "Training model on: SNWD\n"
     ]
    },
    {
     "name": "stderr",
     "output_type": "stream",
     "text": [
      "C:\\Users\\mccomackjp\\AppData\\Local\\Continuum\\anaconda3\\lib\\site-packages\\sklearn\\metrics\\classification.py:1143: UndefinedMetricWarning: Precision is ill-defined and being set to 0.0 due to no predicted samples.\n",
      "  'precision', 'predicted', average, warn_for)\n"
     ]
    },
    {
     "name": "stdout",
     "output_type": "stream",
     "text": [
      "accuracy 0.32783882783882784\n",
      "recall 0.0\n",
      "precision 0.0\n",
      "\n",
      "Training model on: SNOW\n"
     ]
    },
    {
     "name": "stderr",
     "output_type": "stream",
     "text": [
      "C:\\Users\\mccomackjp\\AppData\\Local\\Continuum\\anaconda3\\lib\\site-packages\\sklearn\\metrics\\classification.py:1143: UndefinedMetricWarning: Precision is ill-defined and being set to 0.0 due to no predicted samples.\n",
      "  'precision', 'predicted', average, warn_for)\n"
     ]
    },
    {
     "name": "stdout",
     "output_type": "stream",
     "text": [
      "accuracy 0.32783882783882784\n",
      "recall 0.0\n",
      "precision 0.0\n",
      "\n",
      "current separation 37 days 00:00:00\n",
      "Windowizing 2017 data set: 0\n",
      "Segmenting...\n",
      "Extracting feature windows...\n",
      "Extracting target windows...\n",
      "Combining extractions...\n",
      "Segmenting...\n",
      "Extracting feature windows...\n",
      "Extracting target windows...\n",
      "Combining extractions...\n",
      "Windowizing 2018 data set: 0\n",
      "Segmenting...\n",
      "Extracting feature windows...\n",
      "Extracting target windows...\n",
      "Combining extractions...\n",
      "Segmenting...\n",
      "Extracting feature windows...\n",
      "Extracting target windows...\n",
      "Combining extractions...\n",
      "\n",
      "Training model on: pH\n",
      "accuracy 0.3210332103321033\n",
      "recall 0.22493224932249323\n",
      "precision 0.503030303030303\n",
      "\n",
      "Training model on: pH (mV)\n"
     ]
    },
    {
     "name": "stderr",
     "output_type": "stream",
     "text": [
      "C:\\Users\\mccomackjp\\AppData\\Local\\Continuum\\anaconda3\\lib\\site-packages\\sklearn\\metrics\\classification.py:1143: UndefinedMetricWarning: Precision is ill-defined and being set to 0.0 due to no predicted samples.\n",
      "  'precision', 'predicted', average, warn_for)\n"
     ]
    },
    {
     "name": "stdout",
     "output_type": "stream",
     "text": [
      "accuracy 0.3191881918819188\n",
      "recall 0.0\n",
      "precision 0.0\n",
      "\n",
      "Training model on: ODOSat%\n",
      "accuracy 0.4077490774907749\n",
      "recall 0.46612466124661245\n",
      "precision 0.581081081081081\n",
      "\n",
      "Training model on: TMAX\n",
      "accuracy 0.7878228782287823\n",
      "recall 0.7886178861788617\n",
      "precision 0.8871951219512195\n",
      "\n",
      "Training model on: rainy\n",
      "accuracy 0.514760147601476\n",
      "recall 0.5149051490514905\n",
      "precision 0.6934306569343066\n",
      "\n",
      "Training model on: Wind Speed\n",
      "accuracy 0.45202952029520294\n",
      "recall 0.38482384823848237\n",
      "precision 0.6698113207547169\n",
      "\n",
      "Training model on: TMIN\n",
      "accuracy 0.7398523985239852\n",
      "recall 0.7452574525745257\n",
      "precision 0.8540372670807453\n",
      "\n",
      "Training model on: Wind Angle\n",
      "accuracy 0.5369003690036901\n",
      "recall 0.5555555555555556\n",
      "precision 0.702054794520548\n",
      "\n",
      "Training model on: PRCP\n",
      "accuracy 0.6992619926199262\n",
      "recall 0.8401084010840109\n",
      "precision 0.748792270531401\n",
      "\n",
      "Training model on: Turbidity (NTU)\n",
      "accuracy 0.4870848708487085\n",
      "recall 0.4254742547425474\n",
      "precision 0.7040358744394619\n",
      "\n",
      "Training model on: Temp C\n",
      "accuracy 0.6881918819188192\n",
      "recall 0.5962059620596206\n",
      "precision 0.9166666666666666\n",
      "\n",
      "Training model on: ODO (mg/L)\n",
      "accuracy 0.525830258302583\n",
      "recall 0.5040650406504065\n",
      "precision 0.7153846153846154\n",
      "\n",
      "Training model on: Sp Cond (uS/cm)\n",
      "accuracy 0.3007380073800738\n",
      "recall 0.27100271002710025\n",
      "precision 0.47619047619047616\n",
      "\n",
      "Training model on: SNWD\n"
     ]
    },
    {
     "name": "stderr",
     "output_type": "stream",
     "text": [
      "C:\\Users\\mccomackjp\\AppData\\Local\\Continuum\\anaconda3\\lib\\site-packages\\sklearn\\metrics\\classification.py:1143: UndefinedMetricWarning: Precision is ill-defined and being set to 0.0 due to no predicted samples.\n",
      "  'precision', 'predicted', average, warn_for)\n"
     ]
    },
    {
     "name": "stdout",
     "output_type": "stream",
     "text": [
      "accuracy 0.3191881918819188\n",
      "recall 0.0\n",
      "precision 0.0\n",
      "\n",
      "Training model on: SNOW\n"
     ]
    },
    {
     "name": "stderr",
     "output_type": "stream",
     "text": [
      "C:\\Users\\mccomackjp\\AppData\\Local\\Continuum\\anaconda3\\lib\\site-packages\\sklearn\\metrics\\classification.py:1143: UndefinedMetricWarning: Precision is ill-defined and being set to 0.0 due to no predicted samples.\n",
      "  'precision', 'predicted', average, warn_for)\n"
     ]
    },
    {
     "name": "stdout",
     "output_type": "stream",
     "text": [
      "accuracy 0.3191881918819188\n",
      "recall 0.0\n",
      "precision 0.0\n",
      "\n",
      "current separation 38 days 00:00:00\n",
      "Windowizing 2017 data set: 0\n",
      "Segmenting...\n",
      "Extracting feature windows...\n",
      "Extracting target windows...\n",
      "Combining extractions...\n",
      "Segmenting...\n",
      "Extracting feature windows...\n",
      "Extracting target windows...\n",
      "Combining extractions...\n",
      "Windowizing 2018 data set: 0\n",
      "Segmenting...\n",
      "Extracting feature windows...\n",
      "Extracting target windows...\n",
      "Combining extractions...\n",
      "Segmenting...\n",
      "Extracting feature windows...\n",
      "Extracting target windows...\n",
      "Combining extractions...\n",
      "\n",
      "Training model on: pH\n",
      "accuracy 0.2814814814814815\n",
      "recall 0.19047619047619047\n",
      "precision 0.4675324675324675\n",
      "\n",
      "Training model on: pH (mV)\n"
     ]
    },
    {
     "name": "stderr",
     "output_type": "stream",
     "text": [
      "C:\\Users\\mccomackjp\\AppData\\Local\\Continuum\\anaconda3\\lib\\site-packages\\sklearn\\metrics\\classification.py:1143: UndefinedMetricWarning: Precision is ill-defined and being set to 0.0 due to no predicted samples.\n",
      "  'precision', 'predicted', average, warn_for)\n"
     ]
    },
    {
     "name": "stdout",
     "output_type": "stream",
     "text": [
      "accuracy 0.3\n",
      "recall 0.0\n",
      "precision 0.0\n",
      "\n",
      "Training model on: ODOSat%\n",
      "accuracy 0.40555555555555556\n",
      "recall 0.41005291005291006\n",
      "precision 0.6126482213438735\n",
      "\n",
      "Training model on: TMAX\n",
      "accuracy 0.7592592592592593\n",
      "recall 0.708994708994709\n",
      "precision 0.9305555555555556\n",
      "\n",
      "Training model on: rainy\n",
      "accuracy 0.5185185185185185\n",
      "recall 0.5158730158730159\n",
      "precision 0.7169117647058824\n",
      "\n",
      "Training model on: Wind Speed\n",
      "accuracy 0.39814814814814814\n",
      "recall 0.291005291005291\n",
      "precision 0.6586826347305389\n",
      "\n",
      "Training model on: TMIN\n",
      "accuracy 0.674074074074074\n",
      "recall 0.5978835978835979\n",
      "precision 0.904\n",
      "\n",
      "Training model on: Wind Angle\n",
      "accuracy 0.4759259259259259\n",
      "recall 0.43915343915343913\n",
      "precision 0.70042194092827\n",
      "\n",
      "Training model on: PRCP\n",
      "accuracy 0.6925925925925925\n",
      "recall 0.8042328042328042\n",
      "precision 0.7676767676767676\n",
      "\n",
      "Training model on: Turbidity (NTU)\n",
      "accuracy 0.40555555555555556\n",
      "recall 0.31216931216931215\n",
      "precision 0.659217877094972\n",
      "\n",
      "Training model on: Temp C\n",
      "accuracy 0.662962962962963\n",
      "recall 0.5396825396825397\n",
      "precision 0.9622641509433962\n",
      "\n",
      "Training model on: ODO (mg/L)\n",
      "accuracy 0.5166666666666667\n",
      "recall 0.48412698412698413\n",
      "precision 0.7349397590361446\n",
      "\n",
      "Training model on: Sp Cond (uS/cm)\n",
      "accuracy 0.2814814814814815\n",
      "recall 0.2619047619047619\n",
      "precision 0.47596153846153844\n",
      "\n",
      "Training model on: SNWD\n"
     ]
    },
    {
     "name": "stderr",
     "output_type": "stream",
     "text": [
      "C:\\Users\\mccomackjp\\AppData\\Local\\Continuum\\anaconda3\\lib\\site-packages\\sklearn\\metrics\\classification.py:1143: UndefinedMetricWarning: Precision is ill-defined and being set to 0.0 due to no predicted samples.\n",
      "  'precision', 'predicted', average, warn_for)\n"
     ]
    },
    {
     "name": "stdout",
     "output_type": "stream",
     "text": [
      "accuracy 0.3\n",
      "recall 0.0\n",
      "precision 0.0\n",
      "\n",
      "Training model on: SNOW\n"
     ]
    },
    {
     "name": "stderr",
     "output_type": "stream",
     "text": [
      "C:\\Users\\mccomackjp\\AppData\\Local\\Continuum\\anaconda3\\lib\\site-packages\\sklearn\\metrics\\classification.py:1143: UndefinedMetricWarning: Precision is ill-defined and being set to 0.0 due to no predicted samples.\n",
      "  'precision', 'predicted', average, warn_for)\n"
     ]
    },
    {
     "name": "stdout",
     "output_type": "stream",
     "text": [
      "accuracy 0.3\n",
      "recall 0.0\n",
      "precision 0.0\n",
      "\n",
      "current separation 39 days 00:00:00\n",
      "Windowizing 2017 data set: 0\n",
      "Segmenting...\n",
      "Extracting feature windows...\n",
      "Extracting target windows...\n",
      "Combining extractions...\n",
      "Segmenting...\n",
      "Extracting feature windows...\n",
      "Extracting target windows...\n",
      "Combining extractions...\n",
      "Windowizing 2018 data set: 0\n",
      "Segmenting...\n",
      "Extracting feature windows...\n",
      "Extracting target windows...\n",
      "Combining extractions...\n",
      "Segmenting...\n",
      "Extracting feature windows...\n",
      "Extracting target windows...\n",
      "Combining extractions...\n",
      "\n",
      "Training model on: pH\n",
      "accuracy 0.30597014925373134\n",
      "recall 0.2210242587601078\n",
      "precision 0.49696969696969695\n",
      "\n",
      "Training model on: pH (mV)\n"
     ]
    },
    {
     "name": "stderr",
     "output_type": "stream",
     "text": [
      "C:\\Users\\mccomackjp\\AppData\\Local\\Continuum\\anaconda3\\lib\\site-packages\\sklearn\\metrics\\classification.py:1143: UndefinedMetricWarning: Precision is ill-defined and being set to 0.0 due to no predicted samples.\n",
      "  'precision', 'predicted', average, warn_for)\n"
     ]
    },
    {
     "name": "stdout",
     "output_type": "stream",
     "text": [
      "accuracy 0.30783582089552236\n",
      "recall 0.0\n",
      "precision 0.0\n",
      "\n",
      "Training model on: ODOSat%\n",
      "accuracy 0.416044776119403\n",
      "recall 0.444743935309973\n",
      "precision 0.6066176470588235\n",
      "\n",
      "Training model on: TMAX\n",
      "accuracy 0.7630597014925373\n",
      "recall 0.7169811320754716\n",
      "precision 0.9236111111111112\n",
      "\n",
      "Training model on: rainy\n",
      "accuracy 0.5093283582089553\n",
      "recall 0.5067385444743935\n",
      "precision 0.7014925373134329\n",
      "\n",
      "Training model on: Wind Speed\n",
      "accuracy 0.44216417910447764\n",
      "recall 0.3504043126684636\n",
      "precision 0.6914893617021277\n",
      "\n",
      "Training model on: TMIN\n",
      "accuracy 0.6623134328358209\n",
      "recall 0.5929919137466307\n",
      "precision 0.88\n",
      "\n",
      "Training model on: Wind Angle\n",
      "accuracy 0.4664179104477612\n",
      "recall 0.42857142857142855\n",
      "precision 0.6824034334763949\n",
      "\n",
      "Training model on: PRCP\n",
      "accuracy 0.7033582089552238\n",
      "recall 0.8355795148247979\n",
      "precision 0.7598039215686274\n",
      "\n",
      "Training model on: Turbidity (NTU)\n",
      "accuracy 0.43470149253731344\n",
      "recall 0.3557951482479784\n",
      "precision 0.673469387755102\n",
      "\n",
      "Training model on: Temp C\n",
      "accuracy 0.667910447761194\n",
      "recall 0.5525606469002695\n",
      "precision 0.9447004608294931\n",
      "\n",
      "Training model on: ODO (mg/L)\n",
      "accuracy 0.5373134328358209\n",
      "recall 0.5094339622641509\n",
      "precision 0.7411764705882353\n",
      "\n",
      "Training model on: Sp Cond (uS/cm)\n",
      "accuracy 0.2966417910447761\n",
      "recall 0.2722371967654987\n",
      "precision 0.4855769230769231\n",
      "\n",
      "Training model on: SNWD\n"
     ]
    },
    {
     "name": "stderr",
     "output_type": "stream",
     "text": [
      "C:\\Users\\mccomackjp\\AppData\\Local\\Continuum\\anaconda3\\lib\\site-packages\\sklearn\\metrics\\classification.py:1143: UndefinedMetricWarning: Precision is ill-defined and being set to 0.0 due to no predicted samples.\n",
      "  'precision', 'predicted', average, warn_for)\n"
     ]
    },
    {
     "name": "stdout",
     "output_type": "stream",
     "text": [
      "accuracy 0.30783582089552236\n",
      "recall 0.0\n",
      "precision 0.0\n",
      "\n",
      "Training model on: SNOW\n"
     ]
    },
    {
     "name": "stderr",
     "output_type": "stream",
     "text": [
      "C:\\Users\\mccomackjp\\AppData\\Local\\Continuum\\anaconda3\\lib\\site-packages\\sklearn\\metrics\\classification.py:1143: UndefinedMetricWarning: Precision is ill-defined and being set to 0.0 due to no predicted samples.\n",
      "  'precision', 'predicted', average, warn_for)\n"
     ]
    },
    {
     "name": "stdout",
     "output_type": "stream",
     "text": [
      "accuracy 0.30783582089552236\n",
      "recall 0.0\n",
      "precision 0.0\n",
      "\n",
      "current separation 40 days 00:00:00\n",
      "Windowizing 2017 data set: 0\n",
      "Segmenting...\n",
      "Extracting feature windows...\n",
      "Extracting target windows...\n",
      "Combining extractions...\n",
      "Segmenting...\n",
      "Extracting feature windows...\n",
      "Extracting target windows...\n",
      "Combining extractions...\n",
      "Windowizing 2018 data set: 0\n",
      "Segmenting...\n",
      "Extracting feature windows...\n",
      "Extracting target windows...\n",
      "Combining extractions...\n",
      "Segmenting...\n",
      "Extracting feature windows...\n",
      "Extracting target windows...\n",
      "Combining extractions...\n",
      "\n",
      "Training model on: pH\n",
      "accuracy 0.3101503759398496\n",
      "recall 0.22554347826086957\n",
      "precision 0.503030303030303\n",
      "\n",
      "Training model on: pH (mV)\n"
     ]
    },
    {
     "name": "stderr",
     "output_type": "stream",
     "text": [
      "C:\\Users\\mccomackjp\\AppData\\Local\\Continuum\\anaconda3\\lib\\site-packages\\sklearn\\metrics\\classification.py:1143: UndefinedMetricWarning: Precision is ill-defined and being set to 0.0 due to no predicted samples.\n",
      "  'precision', 'predicted', average, warn_for)\n"
     ]
    },
    {
     "name": "stdout",
     "output_type": "stream",
     "text": [
      "accuracy 0.3082706766917293\n",
      "recall 0.0\n",
      "precision 0.0\n",
      "\n",
      "Training model on: ODOSat%\n",
      "accuracy 0.4323308270676692\n",
      "recall 0.4375\n",
      "precision 0.62890625\n",
      "\n",
      "Training model on: TMAX\n",
      "accuracy 0.7593984962406015\n",
      "recall 0.717391304347826\n",
      "precision 0.9166666666666666\n",
      "\n",
      "Training model on: rainy\n",
      "accuracy 0.4924812030075188\n",
      "recall 0.49184782608695654\n",
      "precision 0.6856060606060606\n",
      "\n",
      "Training model on: Wind Speed\n",
      "accuracy 0.40789473684210525\n",
      "recall 0.30978260869565216\n",
      "precision 0.6514285714285715\n",
      "\n",
      "Training model on: TMIN\n",
      "accuracy 0.6466165413533834\n",
      "recall 0.5842391304347826\n",
      "precision 0.86\n",
      "\n",
      "Training model on: Wind Angle\n",
      "accuracy 0.4830827067669173\n",
      "recall 0.4375\n",
      "precision 0.7030567685589519\n",
      "\n",
      "Training model on: PRCP\n",
      "accuracy 0.6766917293233082\n",
      "recall 0.7934782608695652\n",
      "precision 0.7525773195876289\n",
      "\n",
      "Training model on: Turbidity (NTU)\n",
      "accuracy 0.4680451127819549\n",
      "recall 0.38315217391304346\n",
      "precision 0.7157360406091371\n",
      "\n",
      "Training model on: Temp C\n",
      "accuracy 0.6578947368421053\n",
      "recall 0.5461956521739131\n",
      "precision 0.9305555555555556\n",
      "\n",
      "Training model on: ODO (mg/L)\n",
      "accuracy 0.5469924812030075\n",
      "recall 0.5108695652173914\n",
      "precision 0.7550200803212851\n",
      "\n",
      "Training model on: Sp Cond (uS/cm)\n",
      "accuracy 0.3082706766917293\n",
      "recall 0.2826086956521739\n",
      "precision 0.5\n",
      "\n",
      "Training model on: SNWD\n"
     ]
    },
    {
     "name": "stderr",
     "output_type": "stream",
     "text": [
      "C:\\Users\\mccomackjp\\AppData\\Local\\Continuum\\anaconda3\\lib\\site-packages\\sklearn\\metrics\\classification.py:1143: UndefinedMetricWarning: Precision is ill-defined and being set to 0.0 due to no predicted samples.\n",
      "  'precision', 'predicted', average, warn_for)\n"
     ]
    },
    {
     "name": "stdout",
     "output_type": "stream",
     "text": [
      "accuracy 0.3082706766917293\n",
      "recall 0.0\n",
      "precision 0.0\n",
      "\n",
      "Training model on: SNOW\n"
     ]
    },
    {
     "name": "stderr",
     "output_type": "stream",
     "text": [
      "C:\\Users\\mccomackjp\\AppData\\Local\\Continuum\\anaconda3\\lib\\site-packages\\sklearn\\metrics\\classification.py:1143: UndefinedMetricWarning: Precision is ill-defined and being set to 0.0 due to no predicted samples.\n",
      "  'precision', 'predicted', average, warn_for)\n"
     ]
    },
    {
     "name": "stdout",
     "output_type": "stream",
     "text": [
      "accuracy 0.3082706766917293\n",
      "recall 0.0\n",
      "precision 0.0\n",
      "\n",
      "current separation 41 days 00:00:00\n",
      "Windowizing 2017 data set: 0\n",
      "Segmenting...\n",
      "Extracting feature windows...\n",
      "Extracting target windows...\n",
      "Combining extractions...\n",
      "Segmenting...\n",
      "Extracting feature windows...\n",
      "Extracting target windows...\n",
      "Combining extractions...\n",
      "Windowizing 2018 data set: 0\n",
      "Segmenting...\n",
      "Extracting feature windows...\n",
      "Extracting target windows...\n",
      "Combining extractions...\n",
      "Segmenting...\n",
      "Extracting feature windows...\n",
      "Extracting target windows...\n",
      "Combining extractions...\n",
      "\n",
      "Training model on: pH\n",
      "accuracy 0.30434782608695654\n",
      "recall 0.22933333333333333\n",
      "precision 0.5212121212121212\n",
      "\n",
      "Training model on: pH (mV)\n"
     ]
    },
    {
     "name": "stderr",
     "output_type": "stream",
     "text": [
      "C:\\Users\\mccomackjp\\AppData\\Local\\Continuum\\anaconda3\\lib\\site-packages\\sklearn\\metrics\\classification.py:1143: UndefinedMetricWarning: Precision is ill-defined and being set to 0.0 due to no predicted samples.\n",
      "  'precision', 'predicted', average, warn_for)\n"
     ]
    },
    {
     "name": "stdout",
     "output_type": "stream",
     "text": [
      "accuracy 0.29111531190926276\n",
      "recall 0.0\n",
      "precision 0.0\n",
      "\n",
      "Training model on: ODOSat%\n",
      "accuracy 0.43289224952741023\n",
      "recall 0.4746666666666667\n",
      "precision 0.6334519572953736\n",
      "\n",
      "Training model on: TMAX\n",
      "accuracy 0.7561436672967864\n",
      "recall 0.712\n",
      "precision 0.9270833333333334\n",
      "\n",
      "Training model on: rainy\n",
      "accuracy 0.500945179584121\n",
      "recall 0.496\n",
      "precision 0.7126436781609196\n",
      "\n",
      "Training model on: Wind Speed\n",
      "accuracy 0.4120982986767486\n",
      "recall 0.34933333333333333\n",
      "precision 0.6616161616161617\n",
      "\n",
      "Training model on: TMIN\n",
      "accuracy 0.6275992438563327\n",
      "recall 0.5706666666666667\n",
      "precision 0.856\n",
      "\n",
      "Training model on: Wind Angle\n",
      "accuracy 0.5066162570888468\n",
      "recall 0.4533333333333333\n",
      "precision 0.7522123893805309\n",
      "\n",
      "Training model on: PRCP\n",
      "accuracy 0.7277882797731569\n",
      "recall 0.8426666666666667\n",
      "precision 0.7880299251870324\n",
      "\n",
      "Training model on: Turbidity (NTU)\n",
      "accuracy 0.4933837429111531\n",
      "recall 0.4106666666666667\n",
      "precision 0.7661691542288557\n",
      "\n",
      "Training model on: Temp C\n",
      "accuracy 0.6559546313799622\n",
      "recall 0.5466666666666666\n",
      "precision 0.9447004608294931\n",
      "\n",
      "Training model on: ODO (mg/L)\n",
      "accuracy 0.5614366729678639\n",
      "recall 0.5226666666666666\n",
      "precision 0.7871485943775101\n",
      "\n",
      "Training model on: Sp Cond (uS/cm)\n",
      "accuracy 0.30245746691871456\n",
      "recall 0.2853333333333333\n",
      "precision 0.5144230769230769\n",
      "\n",
      "Training model on: SNWD\n"
     ]
    },
    {
     "name": "stderr",
     "output_type": "stream",
     "text": [
      "C:\\Users\\mccomackjp\\AppData\\Local\\Continuum\\anaconda3\\lib\\site-packages\\sklearn\\metrics\\classification.py:1143: UndefinedMetricWarning: Precision is ill-defined and being set to 0.0 due to no predicted samples.\n",
      "  'precision', 'predicted', average, warn_for)\n"
     ]
    },
    {
     "name": "stdout",
     "output_type": "stream",
     "text": [
      "accuracy 0.29111531190926276\n",
      "recall 0.0\n",
      "precision 0.0\n",
      "\n",
      "Training model on: SNOW\n"
     ]
    },
    {
     "name": "stderr",
     "output_type": "stream",
     "text": [
      "C:\\Users\\mccomackjp\\AppData\\Local\\Continuum\\anaconda3\\lib\\site-packages\\sklearn\\metrics\\classification.py:1143: UndefinedMetricWarning: Precision is ill-defined and being set to 0.0 due to no predicted samples.\n",
      "  'precision', 'predicted', average, warn_for)\n"
     ]
    },
    {
     "name": "stdout",
     "output_type": "stream",
     "text": [
      "accuracy 0.29111531190926276\n",
      "recall 0.0\n",
      "precision 0.0\n",
      "\n",
      "current separation 42 days 00:00:00\n",
      "Windowizing 2017 data set: 0\n",
      "Segmenting...\n",
      "Extracting feature windows...\n",
      "Extracting target windows...\n",
      "Combining extractions...\n",
      "Segmenting...\n",
      "Extracting feature windows...\n",
      "Extracting target windows...\n",
      "Combining extractions...\n",
      "Windowizing 2018 data set: 0\n",
      "Segmenting...\n",
      "Extracting feature windows...\n",
      "Extracting target windows...\n",
      "Combining extractions...\n",
      "Segmenting...\n",
      "Extracting feature windows...\n",
      "Extracting target windows...\n",
      "Combining extractions...\n",
      "\n",
      "Training model on: pH\n",
      "accuracy 0.3060836501901141\n",
      "recall 0.23529411764705882\n",
      "precision 0.5269461077844312\n",
      "\n",
      "Training model on: pH (mV)\n"
     ]
    },
    {
     "name": "stderr",
     "output_type": "stream",
     "text": [
      "C:\\Users\\mccomackjp\\AppData\\Local\\Continuum\\anaconda3\\lib\\site-packages\\sklearn\\metrics\\classification.py:1143: UndefinedMetricWarning: Precision is ill-defined and being set to 0.0 due to no predicted samples.\n",
      "  'precision', 'predicted', average, warn_for)\n"
     ]
    },
    {
     "name": "stdout",
     "output_type": "stream",
     "text": [
      "accuracy 0.2889733840304182\n",
      "recall 0.0\n",
      "precision 0.0\n",
      "\n",
      "Training model on: ODOSat%\n",
      "accuracy 0.42395437262357416\n",
      "recall 0.5053475935828877\n",
      "precision 0.6156351791530945\n",
      "\n",
      "Training model on: TMAX\n",
      "accuracy 0.7870722433460076\n",
      "recall 0.7887700534759359\n",
      "precision 0.899390243902439\n",
      "\n",
      "Training model on: rainy\n",
      "accuracy 0.49809885931558934\n",
      "recall 0.4919786096256685\n",
      "precision 0.7131782945736435\n",
      "\n",
      "Training model on: Wind Speed\n",
      "accuracy 0.49429657794676807\n",
      "recall 0.5106951871657754\n",
      "precision 0.6970802919708029\n",
      "\n",
      "Training model on: TMIN\n",
      "accuracy 0.6996197718631179\n",
      "recall 0.6978609625668449\n",
      "precision 0.8529411764705882\n",
      "\n",
      "Training model on: Wind Angle\n",
      "accuracy 0.5627376425855514\n",
      "recall 0.5614973262032086\n",
      "precision 0.7608695652173914\n",
      "\n",
      "Training model on: PRCP\n",
      "accuracy 0.7186311787072244\n",
      "recall 0.8342245989304813\n",
      "precision 0.7839195979899497\n",
      "\n",
      "Training model on: Turbidity (NTU)\n",
      "accuracy 0.526615969581749\n",
      "recall 0.4732620320855615\n",
      "precision 0.7729257641921398\n",
      "\n",
      "Training model on: Temp C\n",
      "accuracy 0.6825095057034221\n",
      "recall 0.5989304812834224\n",
      "precision 0.9294605809128631\n",
      "\n",
      "Training model on: ODO (mg/L)\n",
      "accuracy 0.564638783269962\n",
      "recall 0.553475935828877\n",
      "precision 0.7695167286245354\n",
      "\n",
      "Training model on: Sp Cond (uS/cm)\n",
      "accuracy 0.3041825095057034\n",
      "recall 0.2887700534759358\n",
      "precision 0.5192307692307693\n",
      "\n",
      "Training model on: SNWD\n",
      "accuracy 0.7110266159695817\n",
      "recall 1.0\n",
      "precision 0.7110266159695817\n",
      "\n",
      "Training model on: SNOW\n",
      "accuracy 0.7110266159695817\n",
      "recall 1.0\n",
      "precision 0.7110266159695817\n",
      "\n",
      "current separation 43 days 00:00:00\n",
      "Windowizing 2017 data set: 0\n",
      "Segmenting...\n",
      "Extracting feature windows...\n",
      "Extracting target windows...\n",
      "Combining extractions...\n",
      "Segmenting...\n",
      "Extracting feature windows...\n",
      "Extracting target windows...\n",
      "Combining extractions...\n",
      "Windowizing 2018 data set: 0\n",
      "Segmenting...\n",
      "Extracting feature windows...\n",
      "Extracting target windows...\n",
      "Combining extractions...\n",
      "Segmenting...\n",
      "Extracting feature windows...\n",
      "Extracting target windows...\n",
      "Combining extractions...\n",
      "\n",
      "Training model on: pH\n",
      "accuracy 0.32375478927203066\n",
      "recall 0.2445054945054945\n",
      "precision 0.5329341317365269\n",
      "\n",
      "Training model on: pH (mV)\n"
     ]
    },
    {
     "name": "stderr",
     "output_type": "stream",
     "text": [
      "C:\\Users\\mccomackjp\\AppData\\Local\\Continuum\\anaconda3\\lib\\site-packages\\sklearn\\metrics\\classification.py:1143: UndefinedMetricWarning: Precision is ill-defined and being set to 0.0 due to no predicted samples.\n",
      "  'precision', 'predicted', average, warn_for)\n"
     ]
    },
    {
     "name": "stdout",
     "output_type": "stream",
     "text": [
      "accuracy 0.30268199233716475\n",
      "recall 0.0\n",
      "precision 0.0\n",
      "\n",
      "Training model on: ODOSat%\n",
      "accuracy 0.5019157088122606\n",
      "recall 0.6291208791208791\n",
      "precision 0.6468926553672316\n",
      "\n",
      "Training model on: TMAX\n",
      "accuracy 0.6973180076628352\n",
      "recall 1.0\n",
      "precision 0.6973180076628352\n",
      "\n",
      "Training model on: rainy\n",
      "accuracy 0.49808429118773945\n",
      "recall 0.489010989010989\n",
      "precision 0.7007874015748031\n",
      "\n",
      "Training model on: Wind Speed\n",
      "accuracy 0.5555555555555556\n",
      "recall 0.6785714285714286\n",
      "precision 0.6823204419889503\n",
      "\n",
      "Training model on: TMIN\n",
      "accuracy 0.38697318007662834\n",
      "recall 0.4423076923076923\n",
      "precision 0.579136690647482\n",
      "\n",
      "Training model on: Wind Angle\n",
      "accuracy 0.578544061302682\n",
      "recall 0.5714285714285714\n",
      "precision 0.7647058823529411\n",
      "\n",
      "Training model on: PRCP\n",
      "accuracy 0.6973180076628352\n",
      "recall 0.8241758241758241\n",
      "precision 0.7614213197969543\n",
      "\n",
      "Training model on: Turbidity (NTU)\n",
      "accuracy 0.5383141762452107\n",
      "recall 0.4835164835164835\n",
      "precision 0.7685589519650655\n",
      "\n",
      "Training model on: Temp C\n",
      "accuracy 0.6973180076628352\n",
      "recall 1.0\n",
      "precision 0.6973180076628352\n",
      "\n",
      "Training model on: ODO (mg/L)\n",
      "accuracy 0.5747126436781609\n",
      "recall 0.5906593406593407\n",
      "precision 0.7465277777777778\n",
      "\n",
      "Training model on: Sp Cond (uS/cm)\n",
      "accuracy 0.3103448275862069\n",
      "recall 0.29120879120879123\n",
      "precision 0.5096153846153846\n",
      "\n",
      "Training model on: SNWD\n",
      "accuracy 0.6973180076628352\n",
      "recall 1.0\n",
      "precision 0.6973180076628352\n",
      "\n",
      "Training model on: SNOW\n",
      "accuracy 0.6973180076628352\n",
      "recall 1.0\n",
      "precision 0.6973180076628352\n",
      "\n"
     ]
    }
   ],
   "source": [
    "# add the weather columns to our x_columns\n",
    "x_columns = list(set(x_columns + \n",
    "                     ['PRCP', 'SNOW', 'SNWD', 'TMAX', 'TMIN', \n",
    "                      'rainy', 'Wind Speed', 'Wind Angle']))\n",
    "\n",
    "iteration_delta = pd.Timedelta(1, unit='d')\n",
    "max_x_window = pd.Timedelta(50, unit='d') \n",
    "current_y_window = pd.Timedelta(1, unit='d')\n",
    "current_separation = pd.Timedelta(0)\n",
    "best_accuracy = 0\n",
    "best_recall = 0\n",
    "best_precision = 0\n",
    "best_x_window = iteration_delta\n",
    "best_y_window = current_y_window\n",
    "accuracies = dict()\n",
    "best_accuracies = dict()\n",
    "separations = []\n",
    "\n",
    "max_x_window_size_for_use = pd.Timedelta(30, unit='d')\n",
    "best_sep = dict()\n",
    "\n",
    "max_iter = 25000\n",
    "loss = \"log\"\n",
    "\n",
    "current_x_window = pd.Timedelta('7 days') # This remains constant for this test\n",
    "while current_x_window + current_separation <= max_x_window:\n",
    "    \n",
    "    # Windowize\n",
    "    print(\"current separation\", current_separation)\n",
    "    print(\"Windowizing 2017 data set:\", train_index)\n",
    "    train = hf.windowize(\n",
    "        train_dfs[0], 'datetime', target_column, \n",
    "        x_win_size=current_x_window, y_win_size=current_y_window, \n",
    "        separation=current_separation)\n",
    "    train = train.append(hf.windowize(\n",
    "        train_dfs[1], 'datetime', target_column, \n",
    "        x_win_size=current_x_window, y_win_size=current_y_window, \n",
    "        separation=current_separation))\n",
    "    print(\"Windowizing 2018 data set:\", test_index)\n",
    "    test = hf.windowize(\n",
    "        test_dfs[0], 'datetime', target_column,\n",
    "        x_win_size=current_x_window, y_win_size=current_y_window,\n",
    "        separation=current_separation)\n",
    "    test = test.append(hf.windowize(\n",
    "        test_dfs[1], 'datetime', target_column,\n",
    "        x_win_size=current_x_window, y_win_size=current_y_window,\n",
    "        separation=current_separation))\n",
    "    print()\n",
    "\n",
    "    #Add rainy column\n",
    "    for df in [test, train]:\n",
    "        df['rainy'] = df['PRCP'].apply(\n",
    "            lambda x: 1 if x > 0 else 0).astype('category')\n",
    "\n",
    "    #Add target columns\n",
    "    lrf.add_target_column([train, test], threshold=RFU_THRESHOLD)\n",
    "    separations.append(current_separation)\n",
    "    \n",
    "    for col in x_columns:\n",
    "        # Create model\n",
    "        print(\"Training model on:\", col)\n",
    "        model = SGDClassifier(max_iter=max_iter, loss=loss)\n",
    "        accuracy, recall, precision, cm, predictions, _, _ = lrf.train_model(\n",
    "            model, train, test, [col],'bloom')\n",
    "        print(\"accuracy\", accuracy)\n",
    "        print(\"recall\", recall)\n",
    "        print(\"precision\", precision)\n",
    "        print()\n",
    "        if col not in accuracies:\n",
    "            accuracies[col] = []\n",
    "        if col not in best_accuracies or best_accuracies[col] < accuracy:\n",
    "            if current_x_window + current_separation <= max_x_window_size_for_use:\n",
    "                print(\"Updating best accuracy and shift size.\")\n",
    "                best_accuracies[col] = accuracy\n",
    "                best_sep[col] = current_separation\n",
    "        accuracies[col].append(accuracy)\n",
    "    current_separation += iteration_delta"
   ]
  },
  {
   "cell_type": "code",
   "execution_count": 22,
   "metadata": {
    "scrolled": false
   },
   "outputs": [
    {
     "data": {
      "image/png": "[encoded data removed]",
      "text/plain": [
       "<Figure size 432x288 with 1 Axes>"
      ]
     },
     "metadata": {},
     "output_type": "display_data"
    },
    {
     "data": {
      "image/png": "[encoded data removed]",
      "text/plain": [
       "<Figure size 432x288 with 1 Axes>"
      ]
     },
     "metadata": {},
     "output_type": "display_data"
    },
    {
     "data": {
      "image/png": "[encoded data removed]",
      "text/plain": [
       "<Figure size 432x288 with 1 Axes>"
      ]
     },
     "metadata": {},
     "output_type": "display_data"
    },
    {
     "data": {
      "image/png": "[encoded data removed]",
      "text/plain": [
       "<Figure size 432x288 with 1 Axes>"
      ]
     },
     "metadata": {},
     "output_type": "display_data"
    },
    {
     "data": {
      "image/png": "[encoded data removed]",
      "text/plain": [
       "<Figure size 432x288 with 1 Axes>"
      ]
     },
     "metadata": {},
     "output_type": "display_data"
    },
    {
     "data": {
      "image/png": "[encoded data removed]",
      "text/plain": [
       "<Figure size 432x288 with 1 Axes>"
      ]
     },
     "metadata": {},
     "output_type": "display_data"
    },
    {
     "data": {
      "image/png": "[encoded data removed]",
      "text/plain": [
       "<Figure size 432x288 with 1 Axes>"
      ]
     },
     "metadata": {},
     "output_type": "display_data"
    },
    {
     "data": {
      "image/png": "[encoded data removed]",
      "text/plain": [
       "<Figure size 432x288 with 1 Axes>"
      ]
     },
     "metadata": {},
     "output_type": "display_data"
    },
    {
     "data": {
      "image/png": "[encoded data removed]",
      "text/plain": [
       "<Figure size 432x288 with 1 Axes>"
      ]
     },
     "metadata": {},
     "output_type": "display_data"
    },
    {
     "data": {
      "image/png": "[encoded data removed]",
      "text/plain": [
       "<Figure size 432x288 with 1 Axes>"
      ]
     },
     "metadata": {},
     "output_type": "display_data"
    },
    {
     "data": {
      "image/png": "[encoded data removed]",
      "text/plain": [
       "<Figure size 432x288 with 1 Axes>"
      ]
     },
     "metadata": {},
     "output_type": "display_data"
    },
    {
     "data": {
      "image/png": "[encoded data removed]",
      "text/plain": [
       "<Figure size 432x288 with 1 Axes>"
      ]
     },
     "metadata": {},
     "output_type": "display_data"
    },
    {
     "data": {
      "image/png": "[encoded data removed]",
      "text/plain": [
       "<Figure size 432x288 with 1 Axes>"
      ]
     },
     "metadata": {},
     "output_type": "display_data"
    },
    {
     "data": {
      "image/png": "[encoded data removed]",
      "text/plain": [
       "<Figure size 432x288 with 1 Axes>"
      ]
     },
     "metadata": {},
     "output_type": "display_data"
    },
    {
     "data": {
      "image/png": "[encoded data removed]",
      "text/plain": [
       "<Figure size 432x288 with 1 Axes>"
      ]
     },
     "metadata": {},
     "output_type": "display_data"
    }
   ],
   "source": [
    "# Plot the accuracies vs separation size for each column\n",
    "seps = [x.days for x in separations]\n",
    "for col in x_columns:\n",
    "    df = pd.DataFrame({col + \" accuracy\": accuracies[col], \n",
    "                           \"separation\": seps})\n",
    "    df.plot(kind=\"scatter\", y=col + \" accuracy\", x=\"separation\")"
   ]
  },
  {
   "cell_type": "markdown",
   "metadata": {},
   "source": [
    "## Greedy Custom Separation Size\n",
    "Create a greedy model using the best custom separation sizes found above."
   ]
  },
  {
   "cell_type": "code",
   "execution_count": 23,
   "metadata": {
    "scrolled": true
   },
   "outputs": [
    {
     "name": "stdout",
     "output_type": "stream",
     "text": [
      "pH 0 days 00:00:00\n",
      "pH (mV) 17 days 00:00:00\n",
      "ODOSat% 4 days 00:00:00\n",
      "TMAX 23 days 00:00:00\n",
      "rainy 9 days 00:00:00\n",
      "Wind Speed 1 days 00:00:00\n",
      "TMIN 23 days 00:00:00\n",
      "Wind Angle 0 days 00:00:00\n",
      "PRCP 23 days 00:00:00\n",
      "Turbidity (NTU) 7 days 00:00:00\n",
      "Temp C 23 days 00:00:00\n",
      "ODO (mg/L) 1 days 00:00:00\n",
      "Sp Cond (uS/cm) 0 days 00:00:00\n",
      "SNWD 12 days 00:00:00\n",
      "SNOW 12 days 00:00:00\n",
      "Windowizing 2017 data set: 0\n",
      "Segmenting...\n",
      "Extracting feature windows...\n",
      "Extracting target windows...\n",
      "Combining extractions...\n",
      "Segmenting...\n",
      "Extracting feature windows...\n",
      "Extracting target windows...\n",
      "Combining extractions...\n",
      "Windowizing 2018 data set: 0\n",
      "Segmenting...\n",
      "Extracting feature windows...\n",
      "Extracting target windows...\n",
      "Combining extractions...\n",
      "Segmenting...\n",
      "Extracting feature windows...\n",
      "Extracting target windows...\n",
      "Combining extractions...\n",
      "\n",
      "Training model with: pH\n",
      "Accuracy 0.7406779661016949\n",
      "Recall: 0.8943089430894309\n",
      "Precision 0.7432432432432432\n",
      "Confusion Matrix:\n",
      " [[107 114]\n",
      " [ 39 330]]\n",
      "\n",
      "Training model with: pH (mV)\n",
      "Accuracy 0.5389830508474577\n",
      "Recall: 0.5582655826558266\n",
      "Precision 0.653968253968254\n",
      "Confusion Matrix:\n",
      " [[112 109]\n",
      " [163 206]]\n",
      "\n",
      "Training model with: ODOSat%\n",
      "Accuracy 0.7457627118644068\n",
      "Recall: 0.6178861788617886\n",
      "Precision 0.9620253164556962\n",
      "Confusion Matrix:\n",
      " [[212   9]\n",
      " [141 228]]\n",
      "\n",
      "Training model with: TMAX\n",
      "Accuracy 0.7711864406779662\n",
      "Recall: 0.7073170731707317\n",
      "Precision 0.90625\n",
      "Confusion Matrix:\n",
      " [[194  27]\n",
      " [108 261]]\n",
      "\n",
      "Training model with: Wind Speed\n",
      "Accuracy 0.6033898305084746\n",
      "Recall: 0.4742547425474255\n",
      "Precision 0.813953488372093\n",
      "Confusion Matrix:\n",
      " [[181  40]\n",
      " [194 175]]\n",
      "\n",
      "Training model with: SNWD\n"
     ]
    },
    {
     "name": "stderr",
     "output_type": "stream",
     "text": [
      "C:\\Users\\mccomackjp\\AppData\\Local\\Continuum\\anaconda3\\lib\\site-packages\\sklearn\\metrics\\classification.py:1143: UndefinedMetricWarning: Precision is ill-defined and being set to 0.0 due to no predicted samples.\n",
      "  'precision', 'predicted', average, warn_for)\n"
     ]
    },
    {
     "name": "stdout",
     "output_type": "stream",
     "text": [
      "Accuracy 0.37457627118644066\n",
      "Recall: 0.0\n",
      "Precision 0.0\n",
      "Confusion Matrix:\n",
      " [[221   0]\n",
      " [369   0]]\n",
      "\n",
      "Training model with: Wind Angle\n",
      "Accuracy 0.45084745762711864\n",
      "Recall: 0.23306233062330622\n",
      "Precision 0.6771653543307087\n",
      "Confusion Matrix:\n",
      " [[180  41]\n",
      " [283  86]]\n",
      "\n",
      "Training model with: PRCP\n",
      "Accuracy 0.6016949152542372\n",
      "Recall: 0.7560975609756098\n",
      "Precision 0.6580188679245284\n",
      "Confusion Matrix:\n",
      " [[ 76 145]\n",
      " [ 90 279]]\n",
      "\n",
      "Training model with: Turbidity (NTU)\n",
      "Accuracy 0.4406779661016949\n",
      "Recall: 0.3956639566395664\n",
      "Precision 0.5770750988142292\n",
      "Confusion Matrix:\n",
      " [[114 107]\n",
      " [223 146]]\n",
      "\n",
      "Training model with: Temp C\n",
      "Accuracy 0.7372881355932204\n",
      "Recall: 0.5880758807588076\n",
      "Precision 0.9863636363636363\n",
      "Confusion Matrix:\n",
      " [[218   3]\n",
      " [152 217]]\n",
      "\n",
      "Training model with: ODO (mg/L)\n",
      "Accuracy 0.688135593220339\n",
      "Recall: 0.5474254742547425\n",
      "Precision 0.9223744292237442\n",
      "Confusion Matrix:\n",
      " [[204  17]\n",
      " [167 202]]\n",
      "\n",
      "Training model with: SNOW\n"
     ]
    },
    {
     "name": "stderr",
     "output_type": "stream",
     "text": [
      "C:\\Users\\mccomackjp\\AppData\\Local\\Continuum\\anaconda3\\lib\\site-packages\\sklearn\\metrics\\classification.py:1143: UndefinedMetricWarning: Precision is ill-defined and being set to 0.0 due to no predicted samples.\n",
      "  'precision', 'predicted', average, warn_for)\n"
     ]
    },
    {
     "name": "stdout",
     "output_type": "stream",
     "text": [
      "Accuracy 0.37457627118644066\n",
      "Recall: 0.0\n",
      "Precision 0.0\n",
      "Confusion Matrix:\n",
      " [[221   0]\n",
      " [369   0]]\n",
      "\n",
      "Training model with: Sp Cond (uS/cm)\n",
      "Accuracy 0.2423728813559322\n",
      "Recall: 0.07046070460704607\n",
      "Precision 0.2\n",
      "Confusion Matrix:\n",
      " [[117 104]\n",
      " [343  26]]\n",
      "\n",
      "Training model with: TMIN\n",
      "Accuracy 0.8186440677966101\n",
      "Recall: 0.7940379403794038\n",
      "Precision 0.904320987654321\n",
      "Confusion Matrix:\n",
      " [[190  31]\n",
      " [ 76 293]]\n",
      "\n",
      "Training model with: rainy\n",
      "Accuracy 0.5033898305084745\n",
      "Recall: 0.5203252032520326\n",
      "Precision 0.6233766233766234\n",
      "Confusion Matrix:\n",
      " [[105 116]\n",
      " [177 192]]\n",
      "\n",
      "TMIN metric value: 0.8186440677966101\n",
      "TMAX metric value: 0.7711864406779662\n",
      "ODOSat% metric value: 0.7457627118644068\n",
      "pH metric value: 0.7406779661016949\n",
      "Temp C metric value: 0.7372881355932204\n",
      "ODO (mg/L) metric value: 0.688135593220339\n",
      "Wind Speed metric value: 0.6033898305084746\n",
      "PRCP metric value: 0.6016949152542372\n",
      "pH (mV) metric value: 0.5389830508474577\n",
      "rainy metric value: 0.5033898305084745\n",
      "Wind Angle metric value: 0.45084745762711864\n",
      "Turbidity (NTU) metric value: 0.4406779661016949\n",
      "SNWD metric value: 0.37457627118644066\n",
      "SNOW metric value: 0.37457627118644066\n",
      "Sp Cond (uS/cm) metric value: 0.2423728813559322\n"
     ]
    },
    {
     "name": "stderr",
     "output_type": "stream",
     "text": [
      "C:\\Users\\mccomackjp\\AppData\\Local\\Continuum\\anaconda3\\lib\\site-packages\\sklearn\\metrics\\classification.py:1143: UndefinedMetricWarning: Precision is ill-defined and being set to 0.0 due to no predicted samples.\n",
      "  'precision', 'predicted', average, warn_for)\n"
     ]
    },
    {
     "name": "stdout",
     "output_type": "stream",
     "text": [
      "base_columns: []\n",
      "sorted_columns: ['TMIN', 'TMAX', 'ODOSat%', 'pH', 'Temp C', 'ODO (mg/L)', 'Wind Speed', 'PRCP', 'pH (mV)', 'rainy', 'Wind Angle', 'Turbidity (NTU)', 'SNWD', 'SNOW', 'Sp Cond (uS/cm)']\n",
      "adjusted sorted_columns: ['TMIN', 'TMAX', 'ODOSat%', 'pH', 'Temp C', 'ODO (mg/L)', 'Wind Speed', 'PRCP', 'pH (mV)', 'rainy', 'Wind Angle', 'Turbidity (NTU)', 'SNWD', 'SNOW', 'Sp Cond (uS/cm)']\n",
      "Training model with: ['TMIN']\n",
      "Test model accuracy: 0.8186440677966101\n",
      "Test model recall: 0.7940379403794038\n",
      "Test model precision: 0.904320987654321\n",
      "\n",
      "Updating greedy model\n",
      "\n",
      "Training model with: ['TMIN', 'TMAX']\n",
      "Test model accuracy: 0.8084745762711865\n",
      "Test model recall: 0.7317073170731707\n",
      "Test model precision: 0.9507042253521126\n",
      "\n",
      "Training model with: ['TMIN', 'ODOSat%']\n",
      "Test model accuracy: 0.7677966101694915\n",
      "Test model recall: 0.6558265582655827\n",
      "Test model precision: 0.9603174603174603\n",
      "\n",
      "Training model with: ['TMIN', 'pH']\n",
      "Test model accuracy: 0.7542372881355932\n",
      "Test model recall: 0.8997289972899729\n",
      "Test model precision: 0.7545454545454545\n",
      "\n",
      "Training model with: ['TMIN', 'Temp C']\n",
      "Test model accuracy: 0.8152542372881356\n",
      "Test model recall: 0.7398373983739838\n",
      "Test model precision: 0.9545454545454546\n",
      "\n",
      "Training model with: ['TMIN', 'ODO (mg/L)']\n",
      "Test model accuracy: 0.7711864406779662\n",
      "Test model recall: 0.6720867208672087\n",
      "Test model precision: 0.9465648854961832\n",
      "\n",
      "Training model with: ['TMIN', 'Wind Speed']\n",
      "Test model accuracy: 0.7576271186440678\n",
      "Test model recall: 0.6964769647696477\n",
      "Test model precision: 0.8923611111111112\n",
      "\n",
      "Training model with: ['TMIN', 'PRCP']\n",
      "Test model accuracy: 0.7677966101694915\n",
      "Test model recall: 0.7344173441734417\n",
      "Test model precision: 0.8741935483870967\n",
      "\n",
      "Training model with: ['TMIN', 'pH (mV)']\n",
      "Test model accuracy: 0.7084745762711865\n",
      "Test model recall: 0.5392953929539296\n",
      "Test model precision: 0.9900497512437811\n",
      "\n",
      "Training model with: ['TMIN', 'rainy']\n",
      "Test model accuracy: 0.7983050847457627\n",
      "Test model recall: 0.7859078590785907\n",
      "Test model precision: 0.8787878787878788\n",
      "\n",
      "Training model with: ['TMIN', 'Wind Angle']\n",
      "Test model accuracy: 0.7762711864406779\n",
      "Test model recall: 0.6747967479674797\n",
      "Test model precision: 0.9540229885057471\n",
      "\n",
      "Training model with: ['TMIN', 'Turbidity (NTU)']\n",
      "Test model accuracy: 0.6983050847457627\n",
      "Test model recall: 0.6233062330623306\n",
      "Test model precision: 0.8550185873605948\n",
      "\n",
      "Training model with: ['TMIN', 'SNWD']\n",
      "Test model accuracy: 0.8186440677966101\n",
      "Test model recall: 0.7940379403794038\n",
      "Test model precision: 0.904320987654321\n",
      "\n",
      "Training model with: ['TMIN', 'SNOW']\n",
      "Test model accuracy: 0.8186440677966101\n",
      "Test model recall: 0.7940379403794038\n",
      "Test model precision: 0.904320987654321\n",
      "\n",
      "Training model with: ['TMIN', 'Sp Cond (uS/cm)']\n",
      "Test model accuracy: 0.6033898305084746\n",
      "Test model recall: 0.37669376693766937\n",
      "Test model precision: 0.972027972027972\n",
      "\n",
      "Final greedy columns: ['TMIN']\n",
      "Final greedy accuracy 0.8186440677966101\n",
      "Final greedy recall: 0.7940379403794038\n",
      "Final greedy precision: 0.904320987654321\n",
      "Final greedy confusion matrix:\n",
      " [[190  31]\n",
      " [ 76 293]]\n",
      "accuracy 0.8186440677966101\n",
      "recall 0.7940379403794038\n",
      "precision 0.904320987654321\n",
      "\n"
     ]
    }
   ],
   "source": [
    "# add the weather columns to our x_columns\n",
    "x_columns = list(set(x_columns + \n",
    "                     ['PRCP', 'SNOW', 'SNWD', 'TMAX', 'TMIN', \n",
    "                      'rainy', 'Wind Speed', 'Wind Angle']))\n",
    "\n",
    "max_iter = 25000\n",
    "loss = \"log\"\n",
    "\n",
    "parameters = dict()\n",
    "for col, sep in best_sep.items():\n",
    "    print(col, sep)\n",
    "    parameters[col] = {'separation':sep, 'x_win_size':pd.Timedelta('7 days')}\n",
    "\n",
    "# Windowize\n",
    "print(\"Windowizing 2017 data set:\", train_index)\n",
    "train = hf.windowize(train_dfs[0], 'datetime', \n",
    "                     target_column, custom_parameters=parameters)\n",
    "train = train.append(hf.windowize(train_dfs[1], 'datetime', \n",
    "                     target_column, custom_parameters=parameters))\n",
    "print(\"Windowizing 2018 data set:\", test_index)\n",
    "test = hf.windowize(test_dfs[0], 'datetime', \n",
    "                    target_column, custom_parameters=parameters)\n",
    "test = test.append(hf.windowize(test_dfs[1], 'datetime', \n",
    "                    target_column, custom_parameters=parameters))\n",
    "print()\n",
    "\n",
    "#Add rainy column\n",
    "for df in [test, train]:\n",
    "    df['rainy'] = df['PRCP'].apply(\n",
    "        lambda x: 1 if x > 0 else 0).astype('category')\n",
    "\n",
    "#Add target columns\n",
    "lrf.add_target_column([train, test], threshold=RFU_THRESHOLD)\n",
    "\n",
    "# Sort columns by accuracy\n",
    "model = SGDClassifier(max_iter=max_iter, loss=loss)\n",
    "sorted_columns = lrf.sort_columns_by_metric(model, train, \n",
    "                                            test,\n",
    "                                            x_columns,\n",
    "                                            'bloom')\n",
    "# Create greedy model\n",
    "model = SGDClassifier(max_iter=max_iter, loss=loss)\n",
    "accuracy, recall, precision, cm, predictions, _, _ = lrf.greedy_model(\n",
    "    model, train, test, x_columns,'bloom', sorted_columns)\n",
    "print(\"accuracy\", accuracy)\n",
    "print(\"recall\", recall)\n",
    "print(\"precision\", precision)\n",
    "print()"
   ]
  },
  {
   "cell_type": "code",
   "execution_count": 26,
   "metadata": {},
   "outputs": [
    {
     "name": "stdout",
     "output_type": "stream",
     "text": [
      "accuracy 0.6539855072463768\n",
      "recall 0.896414342629482\n",
      "precision 0.5769230769230769\n",
      "\n"
     ]
    }
   ],
   "source": [
    "# Cross validate\n",
    "base_columns = ['TMIN']\n",
    "model = SGDClassifier(max_iter=max_iter, loss=loss)\n",
    "accuracy, recall, precision, cm, predictions, _, _ = lrf.train_model(\n",
    "    model, test, train, base_columns,'bloom')\n",
    "print(\"accuracy\", accuracy)\n",
    "print(\"recall\", recall)\n",
    "print(\"precision\", precision)\n",
    "print()"
   ]
  },
  {
   "cell_type": "code",
   "execution_count": null,
   "metadata": {},
   "outputs": [],
   "source": []
  }
 ],
 "metadata": {
  "kernelspec": {
   "display_name": "Python 3",
   "language": "python",
   "name": "python3"
  },
  "language_info": {
   "codemirror_mode": {
    "name": "ipython",
    "version": 3
   },
   "file_extension": ".py",
   "mimetype": "text/x-python",
   "name": "python",
   "nbconvert_exporter": "python",
   "pygments_lexer": "ipython3",
   "version": "3.6.4"
  }
 },
 "nbformat": 4,
 "nbformat_minor": 2
}

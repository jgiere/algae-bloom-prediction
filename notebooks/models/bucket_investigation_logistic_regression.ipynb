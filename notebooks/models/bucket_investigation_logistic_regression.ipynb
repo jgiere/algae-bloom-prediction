{
 "cells": [
  {
   "cell_type": "markdown",
   "metadata": {},
   "source": [
    "# Logistic Regression Model"
   ]
  },
  {
   "cell_type": "markdown",
   "metadata": {},
   "source": [
    "## Data Import And Cleaning"
   ]
  },
  {
   "cell_type": "code",
   "execution_count": 1,
   "metadata": {},
   "outputs": [
    {
     "name": "stderr",
     "output_type": "stream",
     "text": [
      "C:\\Users\\mccomackjp\\AppData\\Local\\Continuum\\anaconda3\\lib\\site-packages\\h5py\\__init__.py:36: FutureWarning: Conversion of the second argument of issubdtype from `float` to `np.floating` is deprecated. In future, it will be treated as `np.float64 == np.dtype(float).type`.\n",
      "  from ._conv import register_converters as _register_converters\n",
      "Using TensorFlow backend.\n"
     ]
    }
   ],
   "source": [
    "import pandas as pd\n",
    "import seaborn as sns\n",
    "import matplotlib.pyplot as plt\n",
    "import numpy as np\n",
    "from sklearn.impute import SimpleImputer\n",
    "from sklearn.preprocessing import StandardScaler\n",
    "from sklearn.preprocessing import LabelEncoder\n",
    "from sklearn.linear_model import SGDClassifier\n",
    "from sklearn.ensemble import RandomForestClassifier\n",
    "from sklearn.metrics import recall_score, precision_score, confusion_matrix\n",
    "from sklearn.metrics import roc_curve, auc\n",
    "import scripts.logistic_regression_functions as lrf\n",
    "import scripts.helper_functions as hf\n",
    "from sklearn.preprocessing import StandardScaler"
   ]
  },
  {
   "cell_type": "code",
   "execution_count": 2,
   "metadata": {},
   "outputs": [],
   "source": [
    "train_files = ['../../data/cleaned/utah_2017_vineyard.csv', \n",
    "               '../../data/cleaned/utah_2017_marina.csv']\n",
    "\n",
    "test_files = ['../../data/cleaned/utah_2018_marina.csv',\n",
    "               '../../data/cleaned/utah_2018_bird.csv']\n",
    "\n",
    "drop_columns = ['Chlorophyll ug/L', 'Chlorophyll RFU', 'Wiper Pos V',\n",
    "                'Cable Pwr V', 'Battery V', 'Chlorophyll (ug/L)', 'FDOM RFU']\n",
    "x_columns = ['Temp C', 'Sp Cond (uS/cm)', 'pH (mV)', 'pH', 'Turbidity (NTU)',\n",
    "            'ODOSat%', 'ODO (mg/L)']\n",
    "\n",
    "target_column = 'BGA-Phycocyanin RFU'\n",
    "\n",
    "# TODO Create average off of minor bloom\n",
    "RFU_THRESHOLD = 1.2\n",
    "train_index = 0\n",
    "test_index = 0"
   ]
  },
  {
   "cell_type": "code",
   "execution_count": 3,
   "metadata": {},
   "outputs": [
    {
     "data": {
      "text/html": [
       "<div>\n",
       "<style scoped>\n",
       "    .dataframe tbody tr th:only-of-type {\n",
       "        vertical-align: middle;\n",
       "    }\n",
       "\n",
       "    .dataframe tbody tr th {\n",
       "        vertical-align: top;\n",
       "    }\n",
       "\n",
       "    .dataframe thead th {\n",
       "        text-align: right;\n",
       "    }\n",
       "</style>\n",
       "<table border=\"1\" class=\"dataframe\">\n",
       "  <thead>\n",
       "    <tr style=\"text-align: right;\">\n",
       "      <th></th>\n",
       "      <th>Date (mm.dd.yyyy)</th>\n",
       "      <th>Time 24hr</th>\n",
       "      <th>Temp C</th>\n",
       "      <th>Sp Cond (uS/cm)</th>\n",
       "      <th>pH (mV)</th>\n",
       "      <th>pH</th>\n",
       "      <th>Turbidity (NTU)</th>\n",
       "      <th>ODOSat%</th>\n",
       "      <th>ODO (mg/L)</th>\n",
       "      <th>BGA-Phycocyanin RFU</th>\n",
       "    </tr>\n",
       "  </thead>\n",
       "  <tbody>\n",
       "    <tr>\n",
       "      <th>0</th>\n",
       "      <td>5/5/2017</td>\n",
       "      <td>0:00</td>\n",
       "      <td>15.02</td>\n",
       "      <td>1848</td>\n",
       "      <td>-100.1</td>\n",
       "      <td>8.36</td>\n",
       "      <td>16.84</td>\n",
       "      <td>90.2</td>\n",
       "      <td>9.04</td>\n",
       "      <td>0.4</td>\n",
       "    </tr>\n",
       "    <tr>\n",
       "      <th>1</th>\n",
       "      <td>5/5/2017</td>\n",
       "      <td>0:15</td>\n",
       "      <td>14.99</td>\n",
       "      <td>1847</td>\n",
       "      <td>-100.1</td>\n",
       "      <td>8.36</td>\n",
       "      <td>16.76</td>\n",
       "      <td>90.2</td>\n",
       "      <td>9.04</td>\n",
       "      <td>0.4</td>\n",
       "    </tr>\n",
       "    <tr>\n",
       "      <th>2</th>\n",
       "      <td>5/5/2017</td>\n",
       "      <td>0:30</td>\n",
       "      <td>14.96</td>\n",
       "      <td>1847</td>\n",
       "      <td>-100.1</td>\n",
       "      <td>8.36</td>\n",
       "      <td>16.82</td>\n",
       "      <td>90.1</td>\n",
       "      <td>9.04</td>\n",
       "      <td>0.4</td>\n",
       "    </tr>\n",
       "    <tr>\n",
       "      <th>3</th>\n",
       "      <td>5/5/2017</td>\n",
       "      <td>0:45</td>\n",
       "      <td>14.95</td>\n",
       "      <td>1848</td>\n",
       "      <td>-100.1</td>\n",
       "      <td>8.36</td>\n",
       "      <td>17.19</td>\n",
       "      <td>90.0</td>\n",
       "      <td>9.03</td>\n",
       "      <td>0.4</td>\n",
       "    </tr>\n",
       "    <tr>\n",
       "      <th>4</th>\n",
       "      <td>5/5/2017</td>\n",
       "      <td>1:00</td>\n",
       "      <td>14.92</td>\n",
       "      <td>1848</td>\n",
       "      <td>-100.0</td>\n",
       "      <td>8.36</td>\n",
       "      <td>16.85</td>\n",
       "      <td>89.8</td>\n",
       "      <td>9.02</td>\n",
       "      <td>0.4</td>\n",
       "    </tr>\n",
       "  </tbody>\n",
       "</table>\n",
       "</div>"
      ],
      "text/plain": [
       "  Date (mm.dd.yyyy) Time 24hr  Temp C  Sp Cond (uS/cm)  pH (mV)    pH  \\\n",
       "0          5/5/2017      0:00   15.02             1848   -100.1  8.36   \n",
       "1          5/5/2017      0:15   14.99             1847   -100.1  8.36   \n",
       "2          5/5/2017      0:30   14.96             1847   -100.1  8.36   \n",
       "3          5/5/2017      0:45   14.95             1848   -100.1  8.36   \n",
       "4          5/5/2017      1:00   14.92             1848   -100.0  8.36   \n",
       "\n",
       "   Turbidity (NTU)  ODOSat%  ODO (mg/L)  BGA-Phycocyanin RFU  \n",
       "0            16.84     90.2        9.04                  0.4  \n",
       "1            16.76     90.2        9.04                  0.4  \n",
       "2            16.82     90.1        9.04                  0.4  \n",
       "3            17.19     90.0        9.03                  0.4  \n",
       "4            16.85     89.8        9.02                  0.4  "
      ]
     },
     "execution_count": 3,
     "metadata": {},
     "output_type": "execute_result"
    }
   ],
   "source": [
    "# Load the data\n",
    "train_dfs = lrf.import_df_data(train_files, drop_columns)\n",
    "test_dfs = lrf.import_df_data(test_files, drop_columns)\n",
    "\n",
    "train_dfs[train_index].head()"
   ]
  },
  {
   "cell_type": "code",
   "execution_count": 4,
   "metadata": {},
   "outputs": [
    {
     "data": {
      "text/html": [
       "<div>\n",
       "<style scoped>\n",
       "    .dataframe tbody tr th:only-of-type {\n",
       "        vertical-align: middle;\n",
       "    }\n",
       "\n",
       "    .dataframe tbody tr th {\n",
       "        vertical-align: top;\n",
       "    }\n",
       "\n",
       "    .dataframe thead th {\n",
       "        text-align: right;\n",
       "    }\n",
       "</style>\n",
       "<table border=\"1\" class=\"dataframe\">\n",
       "  <thead>\n",
       "    <tr style=\"text-align: right;\">\n",
       "      <th></th>\n",
       "      <th>Time America/Boise UTC-06:00</th>\n",
       "      <th>Temp C</th>\n",
       "      <th>Sp Cond (uS/cm)</th>\n",
       "      <th>pH (mV)</th>\n",
       "      <th>pH</th>\n",
       "      <th>Turbidity (NTU)</th>\n",
       "      <th>ODOSat%</th>\n",
       "      <th>ODO (mg/L)</th>\n",
       "      <th>BGA-Phycocyanin RFU</th>\n",
       "    </tr>\n",
       "  </thead>\n",
       "  <tbody>\n",
       "    <tr>\n",
       "      <th>0</th>\n",
       "      <td>4/11/2018 10:30</td>\n",
       "      <td>11.88</td>\n",
       "      <td>1782</td>\n",
       "      <td>-146.1</td>\n",
       "      <td>8.20</td>\n",
       "      <td>42.49</td>\n",
       "      <td>89.1</td>\n",
       "      <td>9.58</td>\n",
       "      <td>0.6</td>\n",
       "    </tr>\n",
       "    <tr>\n",
       "      <th>1</th>\n",
       "      <td>4/11/2018 10:45</td>\n",
       "      <td>11.78</td>\n",
       "      <td>1783</td>\n",
       "      <td>-143.7</td>\n",
       "      <td>8.15</td>\n",
       "      <td>42.89</td>\n",
       "      <td>87.4</td>\n",
       "      <td>9.42</td>\n",
       "      <td>0.6</td>\n",
       "    </tr>\n",
       "    <tr>\n",
       "      <th>2</th>\n",
       "      <td>4/11/2018 11:00</td>\n",
       "      <td>11.79</td>\n",
       "      <td>1784</td>\n",
       "      <td>-144.3</td>\n",
       "      <td>8.17</td>\n",
       "      <td>41.24</td>\n",
       "      <td>89.0</td>\n",
       "      <td>9.58</td>\n",
       "      <td>0.7</td>\n",
       "    </tr>\n",
       "    <tr>\n",
       "      <th>3</th>\n",
       "      <td>4/11/2018 11:15</td>\n",
       "      <td>11.66</td>\n",
       "      <td>1783</td>\n",
       "      <td>-143.1</td>\n",
       "      <td>8.14</td>\n",
       "      <td>42.65</td>\n",
       "      <td>87.1</td>\n",
       "      <td>9.41</td>\n",
       "      <td>0.7</td>\n",
       "    </tr>\n",
       "    <tr>\n",
       "      <th>4</th>\n",
       "      <td>4/11/2018 11:30</td>\n",
       "      <td>11.68</td>\n",
       "      <td>1784</td>\n",
       "      <td>-143.5</td>\n",
       "      <td>8.15</td>\n",
       "      <td>42.06</td>\n",
       "      <td>87.5</td>\n",
       "      <td>9.45</td>\n",
       "      <td>0.7</td>\n",
       "    </tr>\n",
       "  </tbody>\n",
       "</table>\n",
       "</div>"
      ],
      "text/plain": [
       "  Time America/Boise UTC-06:00  Temp C  Sp Cond (uS/cm)  pH (mV)    pH  \\\n",
       "0              4/11/2018 10:30   11.88             1782   -146.1  8.20   \n",
       "1              4/11/2018 10:45   11.78             1783   -143.7  8.15   \n",
       "2              4/11/2018 11:00   11.79             1784   -144.3  8.17   \n",
       "3              4/11/2018 11:15   11.66             1783   -143.1  8.14   \n",
       "4              4/11/2018 11:30   11.68             1784   -143.5  8.15   \n",
       "\n",
       "   Turbidity (NTU)  ODOSat%  ODO (mg/L)  BGA-Phycocyanin RFU  \n",
       "0            42.49     89.1        9.58                  0.6  \n",
       "1            42.89     87.4        9.42                  0.6  \n",
       "2            41.24     89.0        9.58                  0.7  \n",
       "3            42.65     87.1        9.41                  0.7  \n",
       "4            42.06     87.5        9.45                  0.7  "
      ]
     },
     "execution_count": 4,
     "metadata": {},
     "output_type": "execute_result"
    }
   ],
   "source": [
    "test_dfs[test_index].head()"
   ]
  },
  {
   "cell_type": "code",
   "execution_count": 5,
   "metadata": {},
   "outputs": [
    {
     "data": {
      "text/html": [
       "<div>\n",
       "<style scoped>\n",
       "    .dataframe tbody tr th:only-of-type {\n",
       "        vertical-align: middle;\n",
       "    }\n",
       "\n",
       "    .dataframe tbody tr th {\n",
       "        vertical-align: top;\n",
       "    }\n",
       "\n",
       "    .dataframe thead th {\n",
       "        text-align: right;\n",
       "    }\n",
       "</style>\n",
       "<table border=\"1\" class=\"dataframe\">\n",
       "  <thead>\n",
       "    <tr style=\"text-align: right;\">\n",
       "      <th></th>\n",
       "      <th>Temp C</th>\n",
       "      <th>Sp Cond (uS/cm)</th>\n",
       "      <th>pH (mV)</th>\n",
       "      <th>pH</th>\n",
       "      <th>Turbidity (NTU)</th>\n",
       "      <th>ODOSat%</th>\n",
       "      <th>ODO (mg/L)</th>\n",
       "      <th>BGA-Phycocyanin RFU</th>\n",
       "    </tr>\n",
       "  </thead>\n",
       "  <tbody>\n",
       "    <tr>\n",
       "      <th>count</th>\n",
       "      <td>18947.000000</td>\n",
       "      <td>18947.000000</td>\n",
       "      <td>18947.000000</td>\n",
       "      <td>18947.000000</td>\n",
       "      <td>18947.000000</td>\n",
       "      <td>18947.000000</td>\n",
       "      <td>18947.000000</td>\n",
       "      <td>18947.000000</td>\n",
       "    </tr>\n",
       "    <tr>\n",
       "      <th>mean</th>\n",
       "      <td>18.488235</td>\n",
       "      <td>1933.564575</td>\n",
       "      <td>-116.806951</td>\n",
       "      <td>8.633415</td>\n",
       "      <td>58.129348</td>\n",
       "      <td>87.056980</td>\n",
       "      <td>8.179008</td>\n",
       "      <td>0.979511</td>\n",
       "    </tr>\n",
       "    <tr>\n",
       "      <th>std</th>\n",
       "      <td>6.134464</td>\n",
       "      <td>151.800551</td>\n",
       "      <td>8.973830</td>\n",
       "      <td>0.147231</td>\n",
       "      <td>54.622278</td>\n",
       "      <td>13.793755</td>\n",
       "      <td>1.278416</td>\n",
       "      <td>0.731423</td>\n",
       "    </tr>\n",
       "    <tr>\n",
       "      <th>min</th>\n",
       "      <td>5.630000</td>\n",
       "      <td>3.000000</td>\n",
       "      <td>-153.700000</td>\n",
       "      <td>7.930000</td>\n",
       "      <td>0.660000</td>\n",
       "      <td>62.800000</td>\n",
       "      <td>5.170000</td>\n",
       "      <td>0.000000</td>\n",
       "    </tr>\n",
       "    <tr>\n",
       "      <th>25%</th>\n",
       "      <td>12.700000</td>\n",
       "      <td>1848.000000</td>\n",
       "      <td>-120.800000</td>\n",
       "      <td>8.530000</td>\n",
       "      <td>29.850000</td>\n",
       "      <td>80.000000</td>\n",
       "      <td>7.260000</td>\n",
       "      <td>0.500000</td>\n",
       "    </tr>\n",
       "    <tr>\n",
       "      <th>50%</th>\n",
       "      <td>20.320000</td>\n",
       "      <td>1939.000000</td>\n",
       "      <td>-115.700000</td>\n",
       "      <td>8.650000</td>\n",
       "      <td>42.140000</td>\n",
       "      <td>83.200000</td>\n",
       "      <td>8.080000</td>\n",
       "      <td>0.900000</td>\n",
       "    </tr>\n",
       "    <tr>\n",
       "      <th>75%</th>\n",
       "      <td>23.630000</td>\n",
       "      <td>2070.000000</td>\n",
       "      <td>-112.100000</td>\n",
       "      <td>8.700000</td>\n",
       "      <td>65.795000</td>\n",
       "      <td>88.900000</td>\n",
       "      <td>9.250000</td>\n",
       "      <td>1.200000</td>\n",
       "    </tr>\n",
       "    <tr>\n",
       "      <th>max</th>\n",
       "      <td>28.570000</td>\n",
       "      <td>2164.000000</td>\n",
       "      <td>-76.500000</td>\n",
       "      <td>9.230000</td>\n",
       "      <td>636.700000</td>\n",
       "      <td>209.700000</td>\n",
       "      <td>16.170000</td>\n",
       "      <td>16.100000</td>\n",
       "    </tr>\n",
       "  </tbody>\n",
       "</table>\n",
       "</div>"
      ],
      "text/plain": [
       "             Temp C  Sp Cond (uS/cm)       pH (mV)            pH  \\\n",
       "count  18947.000000     18947.000000  18947.000000  18947.000000   \n",
       "mean      18.488235      1933.564575   -116.806951      8.633415   \n",
       "std        6.134464       151.800551      8.973830      0.147231   \n",
       "min        5.630000         3.000000   -153.700000      7.930000   \n",
       "25%       12.700000      1848.000000   -120.800000      8.530000   \n",
       "50%       20.320000      1939.000000   -115.700000      8.650000   \n",
       "75%       23.630000      2070.000000   -112.100000      8.700000   \n",
       "max       28.570000      2164.000000    -76.500000      9.230000   \n",
       "\n",
       "       Turbidity (NTU)       ODOSat%    ODO (mg/L)  BGA-Phycocyanin RFU  \n",
       "count     18947.000000  18947.000000  18947.000000         18947.000000  \n",
       "mean         58.129348     87.056980      8.179008             0.979511  \n",
       "std          54.622278     13.793755      1.278416             0.731423  \n",
       "min           0.660000     62.800000      5.170000             0.000000  \n",
       "25%          29.850000     80.000000      7.260000             0.500000  \n",
       "50%          42.140000     83.200000      8.080000             0.900000  \n",
       "75%          65.795000     88.900000      9.250000             1.200000  \n",
       "max         636.700000    209.700000     16.170000            16.100000  "
      ]
     },
     "execution_count": 5,
     "metadata": {},
     "output_type": "execute_result"
    }
   ],
   "source": [
    "train_dfs[train_index].describe()"
   ]
  },
  {
   "cell_type": "code",
   "execution_count": 6,
   "metadata": {},
   "outputs": [
    {
     "data": {
      "text/html": [
       "<div>\n",
       "<style scoped>\n",
       "    .dataframe tbody tr th:only-of-type {\n",
       "        vertical-align: middle;\n",
       "    }\n",
       "\n",
       "    .dataframe tbody tr th {\n",
       "        vertical-align: top;\n",
       "    }\n",
       "\n",
       "    .dataframe thead th {\n",
       "        text-align: right;\n",
       "    }\n",
       "</style>\n",
       "<table border=\"1\" class=\"dataframe\">\n",
       "  <thead>\n",
       "    <tr style=\"text-align: right;\">\n",
       "      <th></th>\n",
       "      <th>Temp C</th>\n",
       "      <th>Sp Cond (uS/cm)</th>\n",
       "      <th>pH (mV)</th>\n",
       "      <th>pH</th>\n",
       "      <th>Turbidity (NTU)</th>\n",
       "      <th>ODOSat%</th>\n",
       "      <th>ODO (mg/L)</th>\n",
       "      <th>BGA-Phycocyanin RFU</th>\n",
       "    </tr>\n",
       "  </thead>\n",
       "  <tbody>\n",
       "    <tr>\n",
       "      <th>count</th>\n",
       "      <td>19487.000000</td>\n",
       "      <td>19487.000000</td>\n",
       "      <td>19487.000000</td>\n",
       "      <td>19487.000000</td>\n",
       "      <td>19487.000000</td>\n",
       "      <td>19487.000000</td>\n",
       "      <td>19487.000000</td>\n",
       "      <td>19487.000000</td>\n",
       "    </tr>\n",
       "    <tr>\n",
       "      <th>mean</th>\n",
       "      <td>19.131184</td>\n",
       "      <td>1990.294607</td>\n",
       "      <td>-196.624329</td>\n",
       "      <td>8.922357</td>\n",
       "      <td>63.929067</td>\n",
       "      <td>90.057202</td>\n",
       "      <td>8.309566</td>\n",
       "      <td>1.459773</td>\n",
       "    </tr>\n",
       "    <tr>\n",
       "      <th>std</th>\n",
       "      <td>5.045367</td>\n",
       "      <td>230.743946</td>\n",
       "      <td>27.769024</td>\n",
       "      <td>0.357733</td>\n",
       "      <td>70.885989</td>\n",
       "      <td>17.627283</td>\n",
       "      <td>1.486747</td>\n",
       "      <td>1.311960</td>\n",
       "    </tr>\n",
       "    <tr>\n",
       "      <th>min</th>\n",
       "      <td>0.000000</td>\n",
       "      <td>0.000000</td>\n",
       "      <td>-284.000000</td>\n",
       "      <td>0.000000</td>\n",
       "      <td>-0.880000</td>\n",
       "      <td>0.000000</td>\n",
       "      <td>0.000000</td>\n",
       "      <td>-0.400000</td>\n",
       "    </tr>\n",
       "    <tr>\n",
       "      <th>25%</th>\n",
       "      <td>15.480000</td>\n",
       "      <td>1869.000000</td>\n",
       "      <td>-216.950000</td>\n",
       "      <td>8.730000</td>\n",
       "      <td>33.750000</td>\n",
       "      <td>79.100000</td>\n",
       "      <td>7.280000</td>\n",
       "      <td>0.600000</td>\n",
       "    </tr>\n",
       "    <tr>\n",
       "      <th>50%</th>\n",
       "      <td>20.190000</td>\n",
       "      <td>1958.000000</td>\n",
       "      <td>-192.000000</td>\n",
       "      <td>8.920000</td>\n",
       "      <td>48.380000</td>\n",
       "      <td>85.300000</td>\n",
       "      <td>8.010000</td>\n",
       "      <td>1.000000</td>\n",
       "    </tr>\n",
       "    <tr>\n",
       "      <th>75%</th>\n",
       "      <td>23.070000</td>\n",
       "      <td>2149.000000</td>\n",
       "      <td>-179.500000</td>\n",
       "      <td>9.100000</td>\n",
       "      <td>68.275000</td>\n",
       "      <td>95.300000</td>\n",
       "      <td>9.240000</td>\n",
       "      <td>1.700000</td>\n",
       "    </tr>\n",
       "    <tr>\n",
       "      <th>max</th>\n",
       "      <td>28.600000</td>\n",
       "      <td>2417.000000</td>\n",
       "      <td>0.000000</td>\n",
       "      <td>10.100000</td>\n",
       "      <td>1248.920000</td>\n",
       "      <td>245.500000</td>\n",
       "      <td>19.590000</td>\n",
       "      <td>21.100000</td>\n",
       "    </tr>\n",
       "  </tbody>\n",
       "</table>\n",
       "</div>"
      ],
      "text/plain": [
       "             Temp C  Sp Cond (uS/cm)       pH (mV)            pH  \\\n",
       "count  19487.000000     19487.000000  19487.000000  19487.000000   \n",
       "mean      19.131184      1990.294607   -196.624329      8.922357   \n",
       "std        5.045367       230.743946     27.769024      0.357733   \n",
       "min        0.000000         0.000000   -284.000000      0.000000   \n",
       "25%       15.480000      1869.000000   -216.950000      8.730000   \n",
       "50%       20.190000      1958.000000   -192.000000      8.920000   \n",
       "75%       23.070000      2149.000000   -179.500000      9.100000   \n",
       "max       28.600000      2417.000000      0.000000     10.100000   \n",
       "\n",
       "       Turbidity (NTU)       ODOSat%    ODO (mg/L)  BGA-Phycocyanin RFU  \n",
       "count     19487.000000  19487.000000  19487.000000         19487.000000  \n",
       "mean         63.929067     90.057202      8.309566             1.459773  \n",
       "std          70.885989     17.627283      1.486747             1.311960  \n",
       "min          -0.880000      0.000000      0.000000            -0.400000  \n",
       "25%          33.750000     79.100000      7.280000             0.600000  \n",
       "50%          48.380000     85.300000      8.010000             1.000000  \n",
       "75%          68.275000     95.300000      9.240000             1.700000  \n",
       "max        1248.920000    245.500000     19.590000            21.100000  "
      ]
     },
     "execution_count": 6,
     "metadata": {},
     "output_type": "execute_result"
    }
   ],
   "source": [
    "test_dfs[test_index].describe()"
   ]
  },
  {
   "cell_type": "markdown",
   "metadata": {},
   "source": [
    "## Use Datetime Index"
   ]
  },
  {
   "cell_type": "code",
   "execution_count": 7,
   "metadata": {},
   "outputs": [
    {
     "name": "stdout",
     "output_type": "stream",
     "text": [
      "Time America/Boise UTC-06:00     object\n",
      "Temp C                          float64\n",
      "Sp Cond (uS/cm)                   int64\n",
      "pH (mV)                         float64\n",
      "pH                              float64\n",
      "Turbidity (NTU)                 float64\n",
      "ODOSat%                         float64\n",
      "ODO (mg/L)                      float64\n",
      "BGA-Phycocyanin RFU             float64\n",
      "dtype: object\n",
      "Date (mm.dd.yyyy)       object\n",
      "Time 24hr               object\n",
      "Temp C                 float64\n",
      "Sp Cond (uS/cm)          int64\n",
      "pH (mV)                float64\n",
      "pH                     float64\n",
      "Turbidity (NTU)        float64\n",
      "ODOSat%                float64\n",
      "ODO (mg/L)             float64\n",
      "BGA-Phycocyanin RFU    float64\n",
      "dtype: object\n"
     ]
    }
   ],
   "source": [
    "print(test_dfs[test_index].dtypes)\n",
    "print(train_dfs[train_index].dtypes)"
   ]
  },
  {
   "cell_type": "code",
   "execution_count": 8,
   "metadata": {},
   "outputs": [
    {
     "data": {
      "text/html": [
       "<div>\n",
       "<style scoped>\n",
       "    .dataframe tbody tr th:only-of-type {\n",
       "        vertical-align: middle;\n",
       "    }\n",
       "\n",
       "    .dataframe tbody tr th {\n",
       "        vertical-align: top;\n",
       "    }\n",
       "\n",
       "    .dataframe thead th {\n",
       "        text-align: right;\n",
       "    }\n",
       "</style>\n",
       "<table border=\"1\" class=\"dataframe\">\n",
       "  <thead>\n",
       "    <tr style=\"text-align: right;\">\n",
       "      <th></th>\n",
       "      <th>Temp C</th>\n",
       "      <th>Sp Cond (uS/cm)</th>\n",
       "      <th>pH (mV)</th>\n",
       "      <th>pH</th>\n",
       "      <th>Turbidity (NTU)</th>\n",
       "      <th>ODOSat%</th>\n",
       "      <th>ODO (mg/L)</th>\n",
       "      <th>BGA-Phycocyanin RFU</th>\n",
       "      <th>datetime</th>\n",
       "    </tr>\n",
       "    <tr>\n",
       "      <th>timestamp</th>\n",
       "      <th></th>\n",
       "      <th></th>\n",
       "      <th></th>\n",
       "      <th></th>\n",
       "      <th></th>\n",
       "      <th></th>\n",
       "      <th></th>\n",
       "      <th></th>\n",
       "      <th></th>\n",
       "    </tr>\n",
       "  </thead>\n",
       "  <tbody>\n",
       "    <tr>\n",
       "      <th>2017-05-05 00:00:00</th>\n",
       "      <td>15.02</td>\n",
       "      <td>1848</td>\n",
       "      <td>-100.1</td>\n",
       "      <td>8.36</td>\n",
       "      <td>16.84</td>\n",
       "      <td>90.2</td>\n",
       "      <td>9.04</td>\n",
       "      <td>0.4</td>\n",
       "      <td>2017-05-05 00:00:00</td>\n",
       "    </tr>\n",
       "    <tr>\n",
       "      <th>2017-05-05 00:15:00</th>\n",
       "      <td>14.99</td>\n",
       "      <td>1847</td>\n",
       "      <td>-100.1</td>\n",
       "      <td>8.36</td>\n",
       "      <td>16.76</td>\n",
       "      <td>90.2</td>\n",
       "      <td>9.04</td>\n",
       "      <td>0.4</td>\n",
       "      <td>2017-05-05 00:15:00</td>\n",
       "    </tr>\n",
       "    <tr>\n",
       "      <th>2017-05-05 00:30:00</th>\n",
       "      <td>14.96</td>\n",
       "      <td>1847</td>\n",
       "      <td>-100.1</td>\n",
       "      <td>8.36</td>\n",
       "      <td>16.82</td>\n",
       "      <td>90.1</td>\n",
       "      <td>9.04</td>\n",
       "      <td>0.4</td>\n",
       "      <td>2017-05-05 00:30:00</td>\n",
       "    </tr>\n",
       "    <tr>\n",
       "      <th>2017-05-05 00:45:00</th>\n",
       "      <td>14.95</td>\n",
       "      <td>1848</td>\n",
       "      <td>-100.1</td>\n",
       "      <td>8.36</td>\n",
       "      <td>17.19</td>\n",
       "      <td>90.0</td>\n",
       "      <td>9.03</td>\n",
       "      <td>0.4</td>\n",
       "      <td>2017-05-05 00:45:00</td>\n",
       "    </tr>\n",
       "    <tr>\n",
       "      <th>2017-05-05 01:00:00</th>\n",
       "      <td>14.92</td>\n",
       "      <td>1848</td>\n",
       "      <td>-100.0</td>\n",
       "      <td>8.36</td>\n",
       "      <td>16.85</td>\n",
       "      <td>89.8</td>\n",
       "      <td>9.02</td>\n",
       "      <td>0.4</td>\n",
       "      <td>2017-05-05 01:00:00</td>\n",
       "    </tr>\n",
       "  </tbody>\n",
       "</table>\n",
       "</div>"
      ],
      "text/plain": [
       "                     Temp C  Sp Cond (uS/cm)  pH (mV)    pH  Turbidity (NTU)  \\\n",
       "timestamp                                                                      \n",
       "2017-05-05 00:00:00   15.02             1848   -100.1  8.36            16.84   \n",
       "2017-05-05 00:15:00   14.99             1847   -100.1  8.36            16.76   \n",
       "2017-05-05 00:30:00   14.96             1847   -100.1  8.36            16.82   \n",
       "2017-05-05 00:45:00   14.95             1848   -100.1  8.36            17.19   \n",
       "2017-05-05 01:00:00   14.92             1848   -100.0  8.36            16.85   \n",
       "\n",
       "                     ODOSat%  ODO (mg/L)  BGA-Phycocyanin RFU  \\\n",
       "timestamp                                                       \n",
       "2017-05-05 00:00:00     90.2        9.04                  0.4   \n",
       "2017-05-05 00:15:00     90.2        9.04                  0.4   \n",
       "2017-05-05 00:30:00     90.1        9.04                  0.4   \n",
       "2017-05-05 00:45:00     90.0        9.03                  0.4   \n",
       "2017-05-05 01:00:00     89.8        9.02                  0.4   \n",
       "\n",
       "                               datetime  \n",
       "timestamp                                \n",
       "2017-05-05 00:00:00 2017-05-05 00:00:00  \n",
       "2017-05-05 00:15:00 2017-05-05 00:15:00  \n",
       "2017-05-05 00:30:00 2017-05-05 00:30:00  \n",
       "2017-05-05 00:45:00 2017-05-05 00:45:00  \n",
       "2017-05-05 01:00:00 2017-05-05 01:00:00  "
      ]
     },
     "execution_count": 8,
     "metadata": {},
     "output_type": "execute_result"
    }
   ],
   "source": [
    "# We will need to engineer a datetime column for our 2017 data\n",
    "\n",
    "# Create a single datetime column from the strings provided in our csv's\n",
    "for i in range(0, len(train_dfs)):\n",
    "    timestamp = train_dfs[i]['Date (mm.dd.yyyy)'] + ' '+ train_dfs[i]['Time 24hr']\n",
    "    timestamp = pd.to_datetime(timestamp)\n",
    "    train_dfs[i]['timestamp'] = timestamp\n",
    "    train_dfs[i]['datetime'] = timestamp\n",
    "    train_dfs[i] = train_dfs[i].set_index('timestamp')\n",
    "    train_dfs[i] = train_dfs[i].drop(columns=['Date (mm.dd.yyyy)', 'Time 24hr'])\n",
    "train_dfs[train_index].head()"
   ]
  },
  {
   "cell_type": "code",
   "execution_count": 9,
   "metadata": {},
   "outputs": [
    {
     "data": {
      "text/html": [
       "<div>\n",
       "<style scoped>\n",
       "    .dataframe tbody tr th:only-of-type {\n",
       "        vertical-align: middle;\n",
       "    }\n",
       "\n",
       "    .dataframe tbody tr th {\n",
       "        vertical-align: top;\n",
       "    }\n",
       "\n",
       "    .dataframe thead th {\n",
       "        text-align: right;\n",
       "    }\n",
       "</style>\n",
       "<table border=\"1\" class=\"dataframe\">\n",
       "  <thead>\n",
       "    <tr style=\"text-align: right;\">\n",
       "      <th></th>\n",
       "      <th>Temp C</th>\n",
       "      <th>Sp Cond (uS/cm)</th>\n",
       "      <th>pH (mV)</th>\n",
       "      <th>pH</th>\n",
       "      <th>Turbidity (NTU)</th>\n",
       "      <th>ODOSat%</th>\n",
       "      <th>ODO (mg/L)</th>\n",
       "      <th>BGA-Phycocyanin RFU</th>\n",
       "      <th>datetime</th>\n",
       "    </tr>\n",
       "    <tr>\n",
       "      <th>timestamp</th>\n",
       "      <th></th>\n",
       "      <th></th>\n",
       "      <th></th>\n",
       "      <th></th>\n",
       "      <th></th>\n",
       "      <th></th>\n",
       "      <th></th>\n",
       "      <th></th>\n",
       "      <th></th>\n",
       "    </tr>\n",
       "  </thead>\n",
       "  <tbody>\n",
       "    <tr>\n",
       "      <th>2018-04-11 10:30:00</th>\n",
       "      <td>11.88</td>\n",
       "      <td>1782</td>\n",
       "      <td>-146.1</td>\n",
       "      <td>8.20</td>\n",
       "      <td>42.49</td>\n",
       "      <td>89.1</td>\n",
       "      <td>9.58</td>\n",
       "      <td>0.6</td>\n",
       "      <td>2018-04-11 10:30:00</td>\n",
       "    </tr>\n",
       "    <tr>\n",
       "      <th>2018-04-11 10:45:00</th>\n",
       "      <td>11.78</td>\n",
       "      <td>1783</td>\n",
       "      <td>-143.7</td>\n",
       "      <td>8.15</td>\n",
       "      <td>42.89</td>\n",
       "      <td>87.4</td>\n",
       "      <td>9.42</td>\n",
       "      <td>0.6</td>\n",
       "      <td>2018-04-11 10:45:00</td>\n",
       "    </tr>\n",
       "    <tr>\n",
       "      <th>2018-04-11 11:00:00</th>\n",
       "      <td>11.79</td>\n",
       "      <td>1784</td>\n",
       "      <td>-144.3</td>\n",
       "      <td>8.17</td>\n",
       "      <td>41.24</td>\n",
       "      <td>89.0</td>\n",
       "      <td>9.58</td>\n",
       "      <td>0.7</td>\n",
       "      <td>2018-04-11 11:00:00</td>\n",
       "    </tr>\n",
       "    <tr>\n",
       "      <th>2018-04-11 11:15:00</th>\n",
       "      <td>11.66</td>\n",
       "      <td>1783</td>\n",
       "      <td>-143.1</td>\n",
       "      <td>8.14</td>\n",
       "      <td>42.65</td>\n",
       "      <td>87.1</td>\n",
       "      <td>9.41</td>\n",
       "      <td>0.7</td>\n",
       "      <td>2018-04-11 11:15:00</td>\n",
       "    </tr>\n",
       "    <tr>\n",
       "      <th>2018-04-11 11:30:00</th>\n",
       "      <td>11.68</td>\n",
       "      <td>1784</td>\n",
       "      <td>-143.5</td>\n",
       "      <td>8.15</td>\n",
       "      <td>42.06</td>\n",
       "      <td>87.5</td>\n",
       "      <td>9.45</td>\n",
       "      <td>0.7</td>\n",
       "      <td>2018-04-11 11:30:00</td>\n",
       "    </tr>\n",
       "  </tbody>\n",
       "</table>\n",
       "</div>"
      ],
      "text/plain": [
       "                     Temp C  Sp Cond (uS/cm)  pH (mV)    pH  Turbidity (NTU)  \\\n",
       "timestamp                                                                      \n",
       "2018-04-11 10:30:00   11.88             1782   -146.1  8.20            42.49   \n",
       "2018-04-11 10:45:00   11.78             1783   -143.7  8.15            42.89   \n",
       "2018-04-11 11:00:00   11.79             1784   -144.3  8.17            41.24   \n",
       "2018-04-11 11:15:00   11.66             1783   -143.1  8.14            42.65   \n",
       "2018-04-11 11:30:00   11.68             1784   -143.5  8.15            42.06   \n",
       "\n",
       "                     ODOSat%  ODO (mg/L)  BGA-Phycocyanin RFU  \\\n",
       "timestamp                                                       \n",
       "2018-04-11 10:30:00     89.1        9.58                  0.6   \n",
       "2018-04-11 10:45:00     87.4        9.42                  0.6   \n",
       "2018-04-11 11:00:00     89.0        9.58                  0.7   \n",
       "2018-04-11 11:15:00     87.1        9.41                  0.7   \n",
       "2018-04-11 11:30:00     87.5        9.45                  0.7   \n",
       "\n",
       "                               datetime  \n",
       "timestamp                                \n",
       "2018-04-11 10:30:00 2018-04-11 10:30:00  \n",
       "2018-04-11 10:45:00 2018-04-11 10:45:00  \n",
       "2018-04-11 11:00:00 2018-04-11 11:00:00  \n",
       "2018-04-11 11:15:00 2018-04-11 11:15:00  \n",
       "2018-04-11 11:30:00 2018-04-11 11:30:00  "
      ]
     },
     "execution_count": 9,
     "metadata": {},
     "output_type": "execute_result"
    }
   ],
   "source": [
    "# Now to datetime index our 2018 data\n",
    "for i in range(0, len(test_dfs)):\n",
    "    timestamp = pd.to_datetime(test_dfs[i]['Time America/Boise UTC-06:00'])\n",
    "    test_dfs[i]['timestamp'] = timestamp\n",
    "    test_dfs[i]['datetime'] = timestamp\n",
    "    test_dfs[i] = test_dfs[i].set_index('timestamp')\n",
    "    test_dfs[i] = test_dfs[i].drop(columns=['Time America/Boise UTC-06:00'])\n",
    "test_dfs[test_index].head()"
   ]
  },
  {
   "cell_type": "markdown",
   "metadata": {},
   "source": [
    "## Fill missing values"
   ]
  },
  {
   "cell_type": "code",
   "execution_count": 10,
   "metadata": {},
   "outputs": [
    {
     "name": "stdout",
     "output_type": "stream",
     "text": [
      "Temp C percent null: 0.0%\n",
      "Sp Cond (uS/cm) percent null: 0.0%\n",
      "pH (mV) percent null: 0.0%\n",
      "pH percent null: 0.0%\n",
      "Turbidity (NTU) percent null: 0.0%\n",
      "ODOSat% percent null: 0.0%\n",
      "ODO (mg/L) percent null: 0.0%\n",
      "BGA-Phycocyanin RFU percent null: 0.0%\n",
      "datetime percent null: 0.0%\n",
      "Temp C percent null: 0.0%\n",
      "Sp Cond (uS/cm) percent null: 0.0%\n",
      "pH (mV) percent null: 0.0%\n",
      "pH percent null: 0.0%\n",
      "Turbidity (NTU) percent null: 0.0%\n",
      "ODOSat% percent null: 0.0%\n",
      "ODO (mg/L) percent null: 0.0%\n",
      "BGA-Phycocyanin RFU percent null: 0.0%\n",
      "datetime percent null: 0.0%\n",
      "Temp C percent null: 0.0%\n",
      "Sp Cond (uS/cm) percent null: 0.0%\n",
      "pH (mV) percent null: 0.0%\n",
      "pH percent null: 0.0%\n",
      "Turbidity (NTU) percent null: 0.0%\n",
      "ODOSat% percent null: 0.0%\n",
      "ODO (mg/L) percent null: 0.0%\n",
      "BGA-Phycocyanin RFU percent null: 0.0%\n",
      "datetime percent null: 0.0%\n",
      "Temp C percent null: 0.0%\n",
      "Sp Cond (uS/cm) percent null: 0.0%\n",
      "pH (mV) percent null: 0.0%\n",
      "pH percent null: 0.0%\n",
      "Turbidity (NTU) percent null: 3.2%\n",
      "Filling Turbidity (NTU) with mean: 64.96250665432234\n",
      "\n",
      "ODOSat% percent null: 0.0%\n",
      "ODO (mg/L) percent null: 0.0%\n",
      "BGA-Phycocyanin RFU percent null: 0.0%\n",
      "datetime percent null: 0.0%\n"
     ]
    }
   ],
   "source": [
    "# Fill all missing values with the mean\n",
    "for df in test_dfs + train_dfs:\n",
    "    for column in df.columns:\n",
    "        number_null = np.sum(df[column].isnull())\n",
    "        column_length = len(df[column])\n",
    "        print('{} percent null: {:.1f}%'.format(\n",
    "            column, (number_null / column_length) * 100))\n",
    "        if number_null > 0:\n",
    "            print(\"Filling {} with mean: {}\\n\".format(column, df[column].mean()))\n",
    "            df[column] = df[column].fillna(df[column].mean()) "
   ]
  },
  {
   "cell_type": "markdown",
   "metadata": {},
   "source": [
    "## Extract Windows"
   ]
  },
  {
   "cell_type": "code",
   "execution_count": 11,
   "metadata": {},
   "outputs": [],
   "source": [
    "presegmented_plot = pd.DataFrame(\n",
    "    {'BGA RFU': train_dfs[train_index][target_column], \n",
    "     'Bloom Threshold': np.full(train_dfs[train_index].count()[0], RFU_THRESHOLD)})"
   ]
  },
  {
   "cell_type": "code",
   "execution_count": 12,
   "metadata": {},
   "outputs": [
    {
     "name": "stdout",
     "output_type": "stream",
     "text": [
      "Windowizing 2017 data set: 0\n",
      "Segmenting...\n",
      "Extracting feature windows...\n",
      "Extracting target windows...\n",
      "Combining extractions...\n",
      "Windowizing 2018 data set: 0\n",
      "Segmenting...\n",
      "Extracting feature windows...\n",
      "Extracting target windows...\n",
      "Combining extractions...\n",
      "\n",
      "Windowizing 2017 data set: 1\n",
      "Segmenting...\n",
      "Extracting feature windows...\n",
      "Extracting target windows...\n",
      "Combining extractions...\n",
      "Windowizing 2018 data set: 1\n",
      "Segmenting...\n",
      "Extracting feature windows...\n",
      "Extracting target windows...\n",
      "Combining extractions...\n",
      "\n"
     ]
    }
   ],
   "source": [
    "# Segment each data frame\n",
    "for i in range(0, len(train_dfs)):\n",
    "    print(\"Windowizing 2017 data set:\", i)\n",
    "    train_dfs[i] = hf.data_window_reduction(\n",
    "        train_dfs[i], 'datetime', target_column)\n",
    "    print(\"Windowizing 2018 data set:\", i)\n",
    "    test_dfs[i] = hf.data_window_reduction(\n",
    "        test_dfs[i], 'datetime', target_column)\n",
    "    print()"
   ]
  },
  {
   "cell_type": "markdown",
   "metadata": {},
   "source": [
    "## Bucket/Bin Features"
   ]
  },
  {
   "cell_type": "markdown",
   "metadata": {},
   "source": [
    "### Bin all numerical data"
   ]
  },
  {
   "cell_type": "code",
   "execution_count": 13,
   "metadata": {},
   "outputs": [
    {
     "data": {
      "text/plain": [
       "BGA-Phycocyanin RFU              float64\n",
       "ODO (mg/L)                       float64\n",
       "ODOSat%                          float64\n",
       "Sp Cond (uS/cm)                  float64\n",
       "Temp C                           float64\n",
       "Turbidity (NTU)                  float64\n",
       "datetime                  datetime64[ns]\n",
       "pH                               float64\n",
       "pH (mV)                          float64\n",
       "Temp C_4_bins                   category\n",
       "Sp Cond (uS/cm)_4_bins          category\n",
       "pH (mV)_4_bins                  category\n",
       "pH_4_bins                       category\n",
       "Turbidity (NTU)_4_bins          category\n",
       "ODOSat%_4_bins                  category\n",
       "ODO (mg/L)_4_bins               category\n",
       "dtype: object"
      ]
     },
     "execution_count": 13,
     "metadata": {},
     "output_type": "execute_result"
    }
   ],
   "source": [
    "# add binned categories\n",
    "bins = 4\n",
    "drop_columns = []\n",
    "new_columns = []\n",
    "quantile_binning = False\n",
    "for i in range(0, len(train_dfs)):\n",
    "    train_dfs[i]\n",
    "    temp = train_dfs[i][x_columns].drop(columns=drop_columns)\n",
    "    binned, b_cols = hf.bin_df(temp, bins, quantile_binning)\n",
    "    new_columns += b_cols\n",
    "    train_dfs[i] = pd.concat([train_dfs[i], binned], axis='columns')\n",
    "    \n",
    "# add binned categories for testing sets\n",
    "for i in range(0, len(test_dfs)):\n",
    "    test_dfs[i]\n",
    "    temp = test_dfs[i][x_columns].drop(columns=drop_columns)\n",
    "    binned, b_cols = hf.bin_df(temp, bins, quantile_binning)\n",
    "    new_columns += b_cols\n",
    "    test_dfs[i] = pd.concat([test_dfs[i], binned], axis='columns')\n",
    "test_dfs[test_index].dtypes"
   ]
  },
  {
   "cell_type": "code",
   "execution_count": 14,
   "metadata": {},
   "outputs": [
    {
     "name": "stdout",
     "output_type": "stream",
     "text": [
      "['pH (mV)_4_bins', 'Sp Cond (uS/cm)_4_bins', 'ODO (mg/L)_4_bins', 'pH_4_bins', 'Temp C', 'Turbidity (NTU)', 'pH', 'ODOSat%', 'pH (mV)', 'Turbidity (NTU)_4_bins', 'Temp C_4_bins', 'ODOSat%_4_bins', 'ODO (mg/L)', 'Sp Cond (uS/cm)']\n"
     ]
    }
   ],
   "source": [
    "# Add the new columns to x columns\n",
    "x_columns = list(set(x_columns + new_columns))\n",
    "print(x_columns)"
   ]
  },
  {
   "cell_type": "markdown",
   "metadata": {},
   "source": [
    "## BGA RFU Levels"
   ]
  },
  {
   "cell_type": "code",
   "execution_count": 15,
   "metadata": {},
   "outputs": [
    {
     "data": {
      "text/plain": [
       "<matplotlib.axes._subplots.AxesSubplot at 0x1a00ae2dd30>"
      ]
     },
     "execution_count": 15,
     "metadata": {},
     "output_type": "execute_result"
    },
    {
     "data": {
      "image/png": "[encoded data removed]",
      "text/plain": [
       "<Figure size 432x288 with 1 Axes>"
      ]
     },
     "metadata": {},
     "output_type": "display_data"
    }
   ],
   "source": [
    "presegmented_plot.plot.line()"
   ]
  },
  {
   "cell_type": "code",
   "execution_count": 16,
   "metadata": {},
   "outputs": [
    {
     "data": {
      "text/plain": [
       "<matplotlib.axes._subplots.AxesSubplot at 0x1a00cee8c18>"
      ]
     },
     "execution_count": 16,
     "metadata": {},
     "output_type": "execute_result"
    },
    {
     "data": {
      "image/png": "[encoded data removed]",
      "text/plain": [
       "<Figure size 432x288 with 1 Axes>"
      ]
     },
     "metadata": {},
     "output_type": "display_data"
    }
   ],
   "source": [
    "pd.DataFrame({'BGA RFU': train_dfs[train_index][target_column], \n",
    "            'Bloom Threshold': np.full(\n",
    "                train_dfs[train_index].count()[0], RFU_THRESHOLD)}).plot.line()"
   ]
  },
  {
   "cell_type": "code",
   "execution_count": 17,
   "metadata": {},
   "outputs": [],
   "source": [
    "lrf.add_target_column([train_dfs[train_index], test_dfs[test_index]], \n",
    "                      threshold=RFU_THRESHOLD)"
   ]
  },
  {
   "cell_type": "code",
   "execution_count": 18,
   "metadata": {},
   "outputs": [
    {
     "data": {
      "text/plain": [
       "<matplotlib.axes._subplots.AxesSubplot at 0x1a00b229e80>"
      ]
     },
     "execution_count": 18,
     "metadata": {},
     "output_type": "execute_result"
    },
    {
     "data": {
      "image/png": "[encoded data removed]",
      "text/plain": [
       "<Figure size 432x288 with 1 Axes>"
      ]
     },
     "metadata": {},
     "output_type": "display_data"
    }
   ],
   "source": [
    "sns.lineplot(data=train_dfs[train_index][[target_column, 'bloom']], hue='bloom')"
   ]
  },
  {
   "cell_type": "markdown",
   "metadata": {},
   "source": [
    "## Logistic Regression Model"
   ]
  },
  {
   "cell_type": "markdown",
   "metadata": {},
   "source": [
    "### Null Model"
   ]
  },
  {
   "cell_type": "code",
   "execution_count": 19,
   "metadata": {},
   "outputs": [
    {
     "name": "stdout",
     "output_type": "stream",
     "text": [
      "Accuracy 0.4197042282857738\n",
      "Recall: 0.0\n",
      "Precision 0.0\n",
      "Confusion Matrix:\n",
      " [[2015    0]\n",
      " [2786    0]]\n",
      "columns: Index(['BGA-Phycocyanin RFU', 'ODO (mg/L)', 'ODOSat%', 'Sp Cond (uS/cm)',\n",
      "       'Temp C', 'Turbidity (NTU)', 'datetime', 'pH', 'pH (mV)',\n",
      "       'Temp C_4_bins', 'Sp Cond (uS/cm)_4_bins', 'pH (mV)_4_bins',\n",
      "       'pH_4_bins', 'Turbidity (NTU)_4_bins', 'ODOSat%_4_bins',\n",
      "       'ODO (mg/L)_4_bins', 'bloom'],\n",
      "      dtype='object')\n"
     ]
    },
    {
     "name": "stderr",
     "output_type": "stream",
     "text": [
      "C:\\Users\\mccomackjp\\AppData\\Local\\Continuum\\anaconda3\\lib\\site-packages\\sklearn\\metrics\\classification.py:1143: UndefinedMetricWarning: Precision is ill-defined and being set to 0.0 due to no predicted samples.\n",
      "  'precision', 'predicted', average, warn_for)\n"
     ]
    }
   ],
   "source": [
    "# The null model's performance\n",
    "max_iter = 25000\n",
    "loss = \"log\"\n",
    "model = SGDClassifier(max_iter=max_iter, loss=loss)\n",
    "accuracy, recall, precision, cm, _, _, _ = lrf.train_model(\n",
    "    model, train_dfs[train_index], test_dfs[test_index], x_columns, 'bloom', True)\n",
    "print(\"Accuracy\", accuracy)\n",
    "print(\"Recall:\", recall)\n",
    "print(\"Precision\", precision)\n",
    "print(\"Confusion Matrix:\\n\", cm)\n",
    "print(\"columns:\", train_dfs[train_index].columns)"
   ]
  },
  {
   "cell_type": "markdown",
   "metadata": {},
   "source": [
    "### All variables model"
   ]
  },
  {
   "cell_type": "code",
   "execution_count": 20,
   "metadata": {},
   "outputs": [
    {
     "name": "stdout",
     "output_type": "stream",
     "text": [
      "Accuracy 0.5932097479691731\n",
      "Recall: 0.9748743718592965\n",
      "Precision 0.5905631659056316\n",
      "Confusion Matrix:\n",
      " [[ 132 1883]\n",
      " [  70 2716]]\n",
      "columns: ['pH (mV)_4_bins', 'Sp Cond (uS/cm)_4_bins', 'ODO (mg/L)_4_bins', 'pH_4_bins', 'Temp C', 'Turbidity (NTU)', 'pH', 'ODOSat%', 'pH (mV)', 'Turbidity (NTU)_4_bins', 'Temp C_4_bins', 'ODOSat%_4_bins', 'ODO (mg/L)', 'Sp Cond (uS/cm)']\n"
     ]
    }
   ],
   "source": [
    "# All variables model performance\n",
    "max_iter = 25000\n",
    "loss = \"log\"\n",
    "model = SGDClassifier(max_iter=max_iter, loss=loss)\n",
    "accuracy, recall, precision, cm, _, _, _ = lrf.train_model(\n",
    "    model, train_dfs[train_index], test_dfs[test_index], x_columns, 'bloom')\n",
    "print(\"Accuracy\", accuracy)\n",
    "print(\"Recall:\", recall)\n",
    "print(\"Precision\", precision)\n",
    "print(\"Confusion Matrix:\\n\", cm)\n",
    "print(\"columns:\", x_columns)"
   ]
  },
  {
   "cell_type": "markdown",
   "metadata": {},
   "source": [
    "### Best model to date"
   ]
  },
  {
   "cell_type": "code",
   "execution_count": 21,
   "metadata": {},
   "outputs": [
    {
     "name": "stdout",
     "output_type": "stream",
     "text": [
      "Accuracy 0.7865028119141846\n",
      "Recall: 0.8851399856424982\n",
      "Precision 0.7776726584673604\n",
      "Confusion Matrix:\n",
      " [[1310  705]\n",
      " [ 320 2466]]\n",
      "columns: ['ODOSat%', 'ODO (mg/L)', 'pH', 'Temp C', 'Sp Cond (uS/cm)']\n"
     ]
    }
   ],
   "source": [
    "max_iter = 25000\n",
    "loss = \"log\"\n",
    "base_columns = ['ODOSat%', 'ODO (mg/L)', 'pH', 'Temp C', 'Sp Cond (uS/cm)']\n",
    "model = SGDClassifier(max_iter=max_iter, loss=loss)\n",
    "accuracy, recall, precision, cm, _, _, _ = lrf.train_model(\n",
    "    model, train_dfs[train_index], test_dfs[test_index], base_columns, 'bloom')\n",
    "print(\"Accuracy\", accuracy)\n",
    "print(\"Recall:\", recall)\n",
    "print(\"Precision\", precision)\n",
    "print(\"Confusion Matrix:\\n\", cm)\n",
    "print(\"columns:\", base_columns)"
   ]
  },
  {
   "cell_type": "markdown",
   "metadata": {},
   "source": [
    "### Greedy Model"
   ]
  },
  {
   "cell_type": "code",
   "execution_count": 22,
   "metadata": {},
   "outputs": [
    {
     "name": "stdout",
     "output_type": "stream",
     "text": [
      "Training model with: pH (mV)_4_bins\n",
      "Accuracy 0.6434076234117893\n",
      "Recall: 0.45908111988514\n",
      "Precision 0.8618598382749326\n",
      "Confusion Matrix:\n",
      " [[1810  205]\n",
      " [1507 1279]]\n",
      "\n",
      "Training model with: Sp Cond (uS/cm)_4_bins\n"
     ]
    },
    {
     "name": "stderr",
     "output_type": "stream",
     "text": [
      "C:\\Users\\mccomackjp\\AppData\\Local\\Continuum\\anaconda3\\lib\\site-packages\\sklearn\\metrics\\classification.py:1143: UndefinedMetricWarning: Precision is ill-defined and being set to 0.0 due to no predicted samples.\n",
      "  'precision', 'predicted', average, warn_for)\n"
     ]
    },
    {
     "name": "stdout",
     "output_type": "stream",
     "text": [
      "Accuracy 0.4197042282857738\n",
      "Recall: 0.0\n",
      "Precision 0.0\n",
      "Confusion Matrix:\n",
      " [[2015    0]\n",
      " [2786    0]]\n",
      "\n",
      "Training model with: ODO (mg/L)_4_bins\n",
      "Accuracy 0.6192459904186628\n",
      "Recall: 0.38190954773869346\n",
      "Precision 0.9094017094017094\n",
      "Confusion Matrix:\n",
      " [[1909  106]\n",
      " [1722 1064]]\n",
      "\n",
      "Training model with: pH_4_bins\n",
      "Accuracy 0.757550510310352\n",
      "Recall: 0.7616654702081838\n",
      "Precision 0.8093058733790999\n",
      "Confusion Matrix:\n",
      " [[1515  500]\n",
      " [ 664 2122]]\n",
      "\n",
      "Training model with: Temp C\n",
      "Accuracy 0.60612372422412\n",
      "Recall: 0.416367552045944\n",
      "Precision 0.8140350877192982\n",
      "Confusion Matrix:\n",
      " [[1750  265]\n",
      " [1626 1160]]\n",
      "\n",
      "Training model with: Turbidity (NTU)\n"
     ]
    },
    {
     "name": "stderr",
     "output_type": "stream",
     "text": [
      "C:\\Users\\mccomackjp\\AppData\\Local\\Continuum\\anaconda3\\lib\\site-packages\\sklearn\\metrics\\classification.py:1143: UndefinedMetricWarning: Precision is ill-defined and being set to 0.0 due to no predicted samples.\n",
      "  'precision', 'predicted', average, warn_for)\n"
     ]
    },
    {
     "name": "stdout",
     "output_type": "stream",
     "text": [
      "Accuracy 0.4197042282857738\n",
      "Recall: 0.0\n",
      "Precision 0.0\n",
      "Confusion Matrix:\n",
      " [[2015    0]\n",
      " [2786    0]]\n",
      "\n",
      "Training model with: pH\n",
      "Accuracy 0.6854821912101645\n",
      "Recall: 0.9178033022254127\n",
      "Precision 0.6662324127149557\n",
      "Confusion Matrix:\n",
      " [[ 734 1281]\n",
      " [ 229 2557]]\n",
      "\n",
      "Training model with: ODOSat%\n",
      "Accuracy 0.7167256821495521\n",
      "Recall: 0.6920315865039484\n",
      "Precision 0.7934156378600823\n",
      "Confusion Matrix:\n",
      " [[1513  502]\n",
      " [ 858 1928]]\n",
      "\n",
      "Training model with: pH (mV)\n",
      "Accuracy 0.5802957717142262\n",
      "Recall: 1.0\n",
      "Precision 0.5802957717142262\n",
      "Confusion Matrix:\n",
      " [[   0 2015]\n",
      " [   0 2786]]\n",
      "\n",
      "Training model with: Turbidity (NTU)_4_bins\n"
     ]
    },
    {
     "name": "stderr",
     "output_type": "stream",
     "text": [
      "C:\\Users\\mccomackjp\\AppData\\Local\\Continuum\\anaconda3\\lib\\site-packages\\sklearn\\metrics\\classification.py:1143: UndefinedMetricWarning: Precision is ill-defined and being set to 0.0 due to no predicted samples.\n",
      "  'precision', 'predicted', average, warn_for)\n"
     ]
    },
    {
     "name": "stdout",
     "output_type": "stream",
     "text": [
      "Accuracy 0.4197042282857738\n",
      "Recall: 0.0\n",
      "Precision 0.0\n",
      "Confusion Matrix:\n",
      " [[2015    0]\n",
      " [2786    0]]\n",
      "\n",
      "Training model with: Temp C_4_bins\n",
      "Accuracy 0.6034159550093731\n",
      "Recall: 0.4335965541995693\n",
      "Precision 0.78748370273794\n",
      "Confusion Matrix:\n",
      " [[1689  326]\n",
      " [1578 1208]]\n",
      "\n",
      "Training model with: ODOSat%_4_bins\n",
      "Accuracy 0.7156842324515726\n",
      "Recall: 0.7135678391959799\n",
      "Precision 0.7780821917808219\n",
      "Confusion Matrix:\n",
      " [[1448  567]\n",
      " [ 798 1988]]\n",
      "\n",
      "Training model with: ODO (mg/L)\n",
      "Accuracy 0.7042282857737971\n",
      "Recall: 0.6826992103374013\n",
      "Precision 0.7801476620180475\n",
      "Confusion Matrix:\n",
      " [[1479  536]\n",
      " [ 884 1902]]\n",
      "\n",
      "Training model with: Sp Cond (uS/cm)\n",
      "Accuracy 0.4197042282857738\n",
      "Recall: 0.0\n",
      "Precision 0.0\n",
      "Confusion Matrix:\n",
      " [[2015    0]\n",
      " [2786    0]]\n",
      "\n",
      "pH_4_bins metric value: 0.757550510310352\n",
      "ODOSat% metric value: 0.7167256821495521\n",
      "ODOSat%_4_bins metric value: 0.7156842324515726\n",
      "ODO (mg/L) metric value: 0.7042282857737971\n",
      "pH metric value: 0.6854821912101645\n",
      "pH (mV)_4_bins metric value: 0.6434076234117893\n",
      "ODO (mg/L)_4_bins metric value: 0.6192459904186628\n",
      "Temp C metric value: 0.60612372422412\n",
      "Temp C_4_bins metric value: 0.6034159550093731\n",
      "pH (mV) metric value: 0.5802957717142262\n",
      "Sp Cond (uS/cm)_4_bins metric value: 0.4197042282857738\n",
      "Turbidity (NTU) metric value: 0.4197042282857738\n",
      "Turbidity (NTU)_4_bins metric value: 0.4197042282857738\n",
      "Sp Cond (uS/cm) metric value: 0.4197042282857738\n"
     ]
    },
    {
     "name": "stderr",
     "output_type": "stream",
     "text": [
      "C:\\Users\\mccomackjp\\AppData\\Local\\Continuum\\anaconda3\\lib\\site-packages\\sklearn\\metrics\\classification.py:1143: UndefinedMetricWarning: Precision is ill-defined and being set to 0.0 due to no predicted samples.\n",
      "  'precision', 'predicted', average, warn_for)\n"
     ]
    }
   ],
   "source": [
    "max_iter = 25000\n",
    "loss = \"log\"\n",
    "model = SGDClassifier(max_iter=max_iter, loss=loss)\n",
    "# Sort columns by accuracy\n",
    "sorted_columns = lrf.sort_columns_by_metric(model, train_dfs[train_index], \n",
    "                                            test_dfs[test_index],\n",
    "                                            x_columns,\n",
    "                                            'bloom')"
   ]
  },
  {
   "cell_type": "code",
   "execution_count": 23,
   "metadata": {},
   "outputs": [
    {
     "name": "stderr",
     "output_type": "stream",
     "text": [
      "C:\\Users\\mccomackjp\\AppData\\Local\\Continuum\\anaconda3\\lib\\site-packages\\sklearn\\metrics\\classification.py:1143: UndefinedMetricWarning: Precision is ill-defined and being set to 0.0 due to no predicted samples.\n",
      "  'precision', 'predicted', average, warn_for)\n"
     ]
    },
    {
     "name": "stdout",
     "output_type": "stream",
     "text": [
      "greedy_columns: []\n",
      "sorted_columns: ['pH_4_bins', 'ODOSat%', 'ODOSat%_4_bins', 'ODO (mg/L)', 'pH', 'pH (mV)_4_bins', 'ODO (mg/L)_4_bins', 'Temp C', 'Temp C_4_bins', 'pH (mV)', 'Sp Cond (uS/cm)_4_bins', 'Turbidity (NTU)', 'Turbidity (NTU)_4_bins', 'Sp Cond (uS/cm)']\n",
      "adjusted sorted_columns: ['pH_4_bins', 'ODOSat%', 'ODOSat%_4_bins', 'ODO (mg/L)', 'pH', 'pH (mV)_4_bins', 'ODO (mg/L)_4_bins', 'Temp C', 'Temp C_4_bins', 'pH (mV)', 'Sp Cond (uS/cm)_4_bins', 'Turbidity (NTU)', 'Turbidity (NTU)_4_bins', 'Sp Cond (uS/cm)']\n",
      "Training model with: ['pH_4_bins']\n",
      "Test model accuracy: 0.757550510310352\n",
      "Test model recall: 0.7616654702081838\n",
      "Test model precision: 0.8093058733790999\n",
      "\n",
      "Updating greedy model\n",
      "\n",
      "Training model with: ['pH_4_bins', 'ODOSat%']\n",
      "Test model accuracy: 0.7363049364715685\n",
      "Test model recall: 0.7214644651830582\n",
      "Test model precision: 0.804\n",
      "\n",
      "Training model with: ['pH_4_bins', 'ODOSat%_4_bins']\n",
      "Test model accuracy: 0.7242241199750052\n",
      "Test model recall: 0.6486001435750179\n",
      "Test model precision: 0.8396840148698885\n",
      "\n",
      "Training model with: ['pH_4_bins', 'ODO (mg/L)']\n",
      "Test model accuracy: 0.7554676109143929\n",
      "Test model recall: 0.7562814070351759\n",
      "Test model precision: 0.809761721752498\n",
      "\n",
      "Training model with: ['pH_4_bins', 'pH']\n",
      "Test model accuracy: 0.6858987710893564\n",
      "Test model recall: 0.9178033022254127\n",
      "Test model precision: 0.6665797705943691\n",
      "\n",
      "Training model with: ['pH_4_bins', 'pH (mV)_4_bins']\n",
      "Test model accuracy: 0.757550510310352\n",
      "Test model recall: 0.7616654702081838\n",
      "Test model precision: 0.8093058733790999\n",
      "\n",
      "Training model with: ['pH_4_bins', 'ODO (mg/L)_4_bins']\n",
      "Test model accuracy: 0.7554676109143929\n",
      "Test model recall: 0.7684852835606605\n",
      "Test model precision: 0.80187265917603\n",
      "\n",
      "Training model with: ['pH_4_bins', 'Temp C']\n",
      "Test model accuracy: 0.757550510310352\n",
      "Test model recall: 0.7616654702081838\n",
      "Test model precision: 0.8093058733790999\n",
      "\n",
      "Training model with: ['pH_4_bins', 'Temp C_4_bins']\n",
      "Test model accuracy: 0.757550510310352\n",
      "Test model recall: 0.7616654702081838\n",
      "Test model precision: 0.8093058733790999\n",
      "\n",
      "Training model with: ['pH_4_bins', 'pH (mV)']\n",
      "Test model accuracy: 0.6494480316600708\n",
      "Test model recall: 0.5358937544867193\n",
      "Test model precision: 0.7928836962294211\n",
      "\n",
      "Training model with: ['pH_4_bins', 'Sp Cond (uS/cm)_4_bins']\n",
      "Test model accuracy: 0.7704644865652989\n",
      "Test model recall: 0.7598707824838478\n",
      "Test model precision: 0.8301960784313726\n",
      "\n",
      "Updating greedy model\n",
      "\n",
      "Training model with: ['pH_4_bins', 'Sp Cond (uS/cm)_4_bins', 'Turbidity (NTU)']\n",
      "Test model accuracy: 0.7704644865652989\n",
      "Test model recall: 0.7598707824838478\n",
      "Test model precision: 0.8301960784313726\n",
      "\n",
      "Training model with: ['pH_4_bins', 'Sp Cond (uS/cm)_4_bins', 'Turbidity (NTU)_4_bins']\n",
      "Test model accuracy: 0.7758800249947928\n",
      "Test model recall: 0.7745872218234028\n",
      "Test model precision: 0.8280890253261703\n",
      "\n",
      "Updating greedy model\n",
      "\n",
      "Training model with: ['pH_4_bins', 'Sp Cond (uS/cm)_4_bins', 'Turbidity (NTU)_4_bins', 'Sp Cond (uS/cm)']\n",
      "Test model accuracy: 0.772755675900854\n",
      "Test model recall: 0.802943287867911\n",
      "Test model precision: 0.8049658150413818\n",
      "\n",
      "Final greedy columns: ['pH_4_bins', 'Sp Cond (uS/cm)_4_bins', 'Turbidity (NTU)_4_bins']\n",
      "Final greedy accuracy 0.7758800249947928\n",
      "Final greedy recall: 0.7745872218234028\n",
      "Final greedy precision: 0.8280890253261703\n",
      "Final greedy confusion matrix:\n",
      " [[1567  448]\n",
      " [ 628 2158]]\n"
     ]
    }
   ],
   "source": [
    "#create greedy model\n",
    "model = SGDClassifier(max_iter=max_iter, loss=loss)\n",
    "\n",
    "accuracy, recall, precision, cm, predictions, predictions_prob, model = lrf.greedy_model(\n",
    "    model, train_dfs[train_index], test_dfs[test_index], x_columns, \n",
    "                                            'bloom', sorted_columns)\n"
   ]
  },
  {
   "cell_type": "code",
   "execution_count": 24,
   "metadata": {},
   "outputs": [
    {
     "name": "stdout",
     "output_type": "stream",
     "text": [
      "Model AUC: 0.7513\n"
     ]
    },
    {
     "data": {
      "image/png": "[encoded data removed]",
      "text/plain": [
       "<Figure size 432x288 with 1 Axes>"
      ]
     },
     "metadata": {},
     "output_type": "display_data"
    }
   ],
   "source": [
    "# Print the ROC curve.\n",
    "predictions = [x[1] for x in predictions_prob]\n",
    "lrf.roc_plot(test_dfs[test_index][['bloom']].values, predictions)"
   ]
  },
  {
   "cell_type": "markdown",
   "metadata": {},
   "source": [
    "### Greedy Model With Base Columns"
   ]
  },
  {
   "cell_type": "code",
   "execution_count": 25,
   "metadata": {},
   "outputs": [
    {
     "name": "stdout",
     "output_type": "stream",
     "text": [
      "greedy_columns: ['ODOSat%', 'ODO (mg/L)', 'pH', 'Temp C', 'Sp Cond (uS/cm)']\n",
      "sorted_columns: ['pH_4_bins', 'ODOSat%', 'ODOSat%_4_bins', 'ODO (mg/L)', 'pH', 'pH (mV)_4_bins', 'ODO (mg/L)_4_bins', 'Temp C', 'Temp C_4_bins', 'pH (mV)', 'Sp Cond (uS/cm)_4_bins', 'Turbidity (NTU)', 'Turbidity (NTU)_4_bins', 'Sp Cond (uS/cm)']\n",
      "adjusted sorted_columns: ['pH_4_bins', 'ODOSat%_4_bins', 'pH (mV)_4_bins', 'ODO (mg/L)_4_bins', 'Temp C_4_bins', 'pH (mV)', 'Sp Cond (uS/cm)_4_bins', 'Turbidity (NTU)', 'Turbidity (NTU)_4_bins']\n",
      "Training model with: ['ODOSat%', 'ODO (mg/L)', 'pH', 'Temp C', 'Sp Cond (uS/cm)', 'pH_4_bins']\n",
      "Test model accuracy: 0.7860862320349927\n",
      "Test model recall: 0.8916008614501076\n",
      "Test model precision: 0.7740729199127454\n",
      "\n",
      "Training model with: ['ODOSat%', 'ODO (mg/L)', 'pH', 'Temp C', 'Sp Cond (uS/cm)', 'ODOSat%_4_bins']\n",
      "Test model accuracy: 0.7758800249947928\n",
      "Test model recall: 0.8797559224694903\n",
      "Test model precision: 0.7678571428571429\n",
      "\n",
      "Training model with: ['ODOSat%', 'ODO (mg/L)', 'pH', 'Temp C', 'Sp Cond (uS/cm)', 'pH (mV)_4_bins']\n",
      "Test model accuracy: 0.785461362216205\n",
      "Test model recall: 0.8819095477386935\n",
      "Test model precision: 0.7780240658644711\n",
      "\n",
      "Training model with: ['ODOSat%', 'ODO (mg/L)', 'pH', 'Temp C', 'Sp Cond (uS/cm)', 'ODO (mg/L)_4_bins']\n",
      "Test model accuracy: 0.7769214746927723\n",
      "Test model recall: 0.8926776740847092\n",
      "Test model precision: 0.7631175207118748\n",
      "\n",
      "Training model with: ['ODOSat%', 'ODO (mg/L)', 'pH', 'Temp C', 'Sp Cond (uS/cm)', 'Temp C_4_bins']\n",
      "Test model accuracy: 0.7767131847531764\n",
      "Test model recall: 0.8854989231873654\n",
      "Test model precision: 0.7661490683229814\n",
      "\n",
      "Training model with: ['ODOSat%', 'ODO (mg/L)', 'pH', 'Temp C', 'Sp Cond (uS/cm)', 'pH (mV)']\n",
      "Test model accuracy: 0.6477817121433035\n",
      "Test model recall: 1.0\n",
      "Test model precision: 0.6222917132008041\n",
      "\n",
      "Training model with: ['ODOSat%', 'ODO (mg/L)', 'pH', 'Temp C', 'Sp Cond (uS/cm)', 'Sp Cond (uS/cm)_4_bins']\n",
      "Test model accuracy: 0.8017079775046865\n",
      "Test model recall: 0.8510409188801149\n",
      "Test model precision: 0.8153370013755158\n",
      "\n",
      "Updating greedy model\n",
      "\n",
      "Training model with: ['ODOSat%', 'ODO (mg/L)', 'pH', 'Temp C', 'Sp Cond (uS/cm)', 'Sp Cond (uS/cm)_4_bins', 'Turbidity (NTU)']\n",
      "Test model accuracy: 0.8021245573838783\n",
      "Test model recall: 0.8513998564249821\n",
      "Test model precision: 0.8156808803301238\n",
      "\n",
      "Updating greedy model\n",
      "\n",
      "Training model with: ['ODOSat%', 'ODO (mg/L)', 'pH', 'Temp C', 'Sp Cond (uS/cm)', 'Sp Cond (uS/cm)_4_bins', 'Turbidity (NTU)', 'Turbidity (NTU)_4_bins']\n",
      "Test model accuracy: 0.8031660070818579\n",
      "Test model recall: 0.8496051687006461\n",
      "Test model precision: 0.8181818181818182\n",
      "\n",
      "Updating greedy model\n",
      "\n",
      "Final greedy columns: ['ODOSat%', 'ODO (mg/L)', 'pH', 'Temp C', 'Sp Cond (uS/cm)', 'Sp Cond (uS/cm)_4_bins', 'Turbidity (NTU)', 'Turbidity (NTU)_4_bins']\n",
      "Final greedy accuracy 0.8031660070818579\n",
      "Final greedy recall: 0.8496051687006461\n",
      "Final greedy precision: 0.8181818181818182\n",
      "Final greedy confusion matrix:\n",
      " [[1489  526]\n",
      " [ 419 2367]]\n"
     ]
    }
   ],
   "source": [
    "#create greedy model\n",
    "model = SGDClassifier(max_iter=max_iter, loss=loss)\n",
    "\n",
    "accuracy, recall, precision, cm, predictions, predictions_prob, model = lrf.greedy_model(\n",
    "    model, train_dfs[train_index], test_dfs[test_index], x_columns, \n",
    "                                            'bloom', sorted_columns, base_columns)\n"
   ]
  },
  {
   "cell_type": "code",
   "execution_count": 27,
   "metadata": {},
   "outputs": [
    {
     "data": {
      "text/plain": [
       "<matplotlib.axes._subplots.AxesSubplot at 0x1a00b2716a0>"
      ]
     },
     "execution_count": 27,
     "metadata": {},
     "output_type": "execute_result"
    },
    {
     "data": {
      "image/png": "[encoded data removed]",
      "text/plain": [
       "<Figure size 432x288 with 1 Axes>"
      ]
     },
     "metadata": {},
     "output_type": "display_data"
    }
   ],
   "source": [
    "# Using the base model as a starting point the model seems to have improved.\n",
    "# Charting the bin categories selected:\n",
    "sns.boxplot(data=test_dfs[test_index], \n",
    "            x='Sp Cond (uS/cm)_4_bins',\n",
    "           y=target_column)"
   ]
  },
  {
   "cell_type": "code",
   "execution_count": 28,
   "metadata": {},
   "outputs": [
    {
     "data": {
      "text/plain": [
       "<matplotlib.axes._subplots.AxesSubplot at 0x1a00b644c18>"
      ]
     },
     "execution_count": 28,
     "metadata": {},
     "output_type": "execute_result"
    },
    {
     "data": {
      "image/png": "[encoded data removed]",
      "text/plain": [
       "<Figure size 432x288 with 1 Axes>"
      ]
     },
     "metadata": {},
     "output_type": "display_data"
    }
   ],
   "source": [
    "# Using the base model as a starting point the model seems to have improved.\n",
    "# Charting the bin categories selected:\n",
    "sns.boxplot(data=test_dfs[test_index], \n",
    "            x='Turbidity (NTU)_4_bins',\n",
    "           y=target_column)"
   ]
  },
  {
   "cell_type": "markdown",
   "metadata": {},
   "source": [
    "## Random Forest Model"
   ]
  },
  {
   "cell_type": "code",
   "execution_count": 29,
   "metadata": {},
   "outputs": [
    {
     "name": "stdout",
     "output_type": "stream",
     "text": [
      "Accuracy 0.6888148302436993\n",
      "Recall: 0.8650394831299354\n",
      "Precision 0.6831065759637188\n",
      "Confusion Matrix:\n",
      " [[ 897 1118]\n",
      " [ 376 2410]]\n"
     ]
    }
   ],
   "source": [
    "# All Inputs\n",
    "model = RandomForestClassifier(n_estimators=100)\n",
    "accuracy, recall, precision, cm, predictions, predictions_prob, model = lrf.train_model(\n",
    "    model, train_dfs[train_index], test_dfs[test_index], x_columns, 'bloom')\n",
    "print(\"Accuracy\", accuracy)\n",
    "print(\"Recall:\", recall)\n",
    "print(\"Precision\", precision)\n",
    "print(\"Confusion Matrix:\\n\", cm)"
   ]
  },
  {
   "cell_type": "code",
   "execution_count": null,
   "metadata": {},
   "outputs": [],
   "source": []
  }
 ],
 "metadata": {
  "kernelspec": {
   "display_name": "Python 3",
   "language": "python",
   "name": "python3"
  },
  "language_info": {
   "codemirror_mode": {
    "name": "ipython",
    "version": 3
   },
   "file_extension": ".py",
   "mimetype": "text/x-python",
   "name": "python",
   "nbconvert_exporter": "python",
   "pygments_lexer": "ipython3",
   "version": "3.6.4"
  }
 },
 "nbformat": 4,
 "nbformat_minor": 2
}
